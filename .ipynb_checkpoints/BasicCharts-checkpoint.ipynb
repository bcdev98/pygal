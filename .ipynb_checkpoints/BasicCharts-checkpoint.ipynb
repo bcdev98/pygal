{
 "cells": [
  {
   "cell_type": "code",
   "execution_count": 1,
   "metadata": {},
   "outputs": [],
   "source": [
    "import pygal\n",
    "import pandas as pd"
   ]
  },
  {
   "cell_type": "code",
   "execution_count": 2,
   "metadata": {},
   "outputs": [],
   "source": [
    "# using tab to auto-complete\n",
    "wine_dataframe = pd.read_csv('./datasets/winequality-red.csv', sep=';')"
   ]
  },
  {
   "cell_type": "code",
   "execution_count": 3,
   "metadata": {},
   "outputs": [
    {
     "data": {
      "text/html": [
       "<div>\n",
       "<style scoped>\n",
       "    .dataframe tbody tr th:only-of-type {\n",
       "        vertical-align: middle;\n",
       "    }\n",
       "\n",
       "    .dataframe tbody tr th {\n",
       "        vertical-align: top;\n",
       "    }\n",
       "\n",
       "    .dataframe thead th {\n",
       "        text-align: right;\n",
       "    }\n",
       "</style>\n",
       "<table border=\"1\" class=\"dataframe\">\n",
       "  <thead>\n",
       "    <tr style=\"text-align: right;\">\n",
       "      <th></th>\n",
       "      <th>fixed acidity</th>\n",
       "      <th>volatile acidity</th>\n",
       "      <th>citric acid</th>\n",
       "      <th>residual sugar</th>\n",
       "      <th>chlorides</th>\n",
       "      <th>free sulfur dioxide</th>\n",
       "      <th>total sulfur dioxide</th>\n",
       "      <th>density</th>\n",
       "      <th>pH</th>\n",
       "      <th>sulphates</th>\n",
       "      <th>alcohol</th>\n",
       "      <th>quality</th>\n",
       "    </tr>\n",
       "  </thead>\n",
       "  <tbody>\n",
       "    <tr>\n",
       "      <th>0</th>\n",
       "      <td>7.4</td>\n",
       "      <td>0.70</td>\n",
       "      <td>0.00</td>\n",
       "      <td>1.9</td>\n",
       "      <td>0.076</td>\n",
       "      <td>11.0</td>\n",
       "      <td>34.0</td>\n",
       "      <td>0.9978</td>\n",
       "      <td>3.51</td>\n",
       "      <td>0.56</td>\n",
       "      <td>9.4</td>\n",
       "      <td>5</td>\n",
       "    </tr>\n",
       "    <tr>\n",
       "      <th>1</th>\n",
       "      <td>7.8</td>\n",
       "      <td>0.88</td>\n",
       "      <td>0.00</td>\n",
       "      <td>2.6</td>\n",
       "      <td>0.098</td>\n",
       "      <td>25.0</td>\n",
       "      <td>67.0</td>\n",
       "      <td>0.9968</td>\n",
       "      <td>3.20</td>\n",
       "      <td>0.68</td>\n",
       "      <td>9.8</td>\n",
       "      <td>5</td>\n",
       "    </tr>\n",
       "    <tr>\n",
       "      <th>2</th>\n",
       "      <td>7.8</td>\n",
       "      <td>0.76</td>\n",
       "      <td>0.04</td>\n",
       "      <td>2.3</td>\n",
       "      <td>0.092</td>\n",
       "      <td>15.0</td>\n",
       "      <td>54.0</td>\n",
       "      <td>0.9970</td>\n",
       "      <td>3.26</td>\n",
       "      <td>0.65</td>\n",
       "      <td>9.8</td>\n",
       "      <td>5</td>\n",
       "    </tr>\n",
       "    <tr>\n",
       "      <th>3</th>\n",
       "      <td>11.2</td>\n",
       "      <td>0.28</td>\n",
       "      <td>0.56</td>\n",
       "      <td>1.9</td>\n",
       "      <td>0.075</td>\n",
       "      <td>17.0</td>\n",
       "      <td>60.0</td>\n",
       "      <td>0.9980</td>\n",
       "      <td>3.16</td>\n",
       "      <td>0.58</td>\n",
       "      <td>9.8</td>\n",
       "      <td>6</td>\n",
       "    </tr>\n",
       "    <tr>\n",
       "      <th>4</th>\n",
       "      <td>7.4</td>\n",
       "      <td>0.70</td>\n",
       "      <td>0.00</td>\n",
       "      <td>1.9</td>\n",
       "      <td>0.076</td>\n",
       "      <td>11.0</td>\n",
       "      <td>34.0</td>\n",
       "      <td>0.9978</td>\n",
       "      <td>3.51</td>\n",
       "      <td>0.56</td>\n",
       "      <td>9.4</td>\n",
       "      <td>5</td>\n",
       "    </tr>\n",
       "  </tbody>\n",
       "</table>\n",
       "</div>"
      ],
      "text/plain": [
       "   fixed acidity  volatile acidity  citric acid  residual sugar  chlorides  \\\n",
       "0            7.4              0.70         0.00             1.9      0.076   \n",
       "1            7.8              0.88         0.00             2.6      0.098   \n",
       "2            7.8              0.76         0.04             2.3      0.092   \n",
       "3           11.2              0.28         0.56             1.9      0.075   \n",
       "4            7.4              0.70         0.00             1.9      0.076   \n",
       "\n",
       "   free sulfur dioxide  total sulfur dioxide  density    pH  sulphates  \\\n",
       "0                 11.0                  34.0   0.9978  3.51       0.56   \n",
       "1                 25.0                  67.0   0.9968  3.20       0.68   \n",
       "2                 15.0                  54.0   0.9970  3.26       0.65   \n",
       "3                 17.0                  60.0   0.9980  3.16       0.58   \n",
       "4                 11.0                  34.0   0.9978  3.51       0.56   \n",
       "\n",
       "   alcohol  quality  \n",
       "0      9.4        5  \n",
       "1      9.8        5  \n",
       "2      9.8        5  \n",
       "3      9.8        6  \n",
       "4      9.4        5  "
      ]
     },
     "execution_count": 3,
     "metadata": {},
     "output_type": "execute_result"
    }
   ],
   "source": [
    "wine_dataframe.head()"
   ]
  },
  {
   "cell_type": "code",
   "execution_count": 4,
   "metadata": {},
   "outputs": [
    {
     "data": {
      "text/html": [
       "<div>\n",
       "<style scoped>\n",
       "    .dataframe tbody tr th:only-of-type {\n",
       "        vertical-align: middle;\n",
       "    }\n",
       "\n",
       "    .dataframe tbody tr th {\n",
       "        vertical-align: top;\n",
       "    }\n",
       "\n",
       "    .dataframe thead th {\n",
       "        text-align: right;\n",
       "    }\n",
       "</style>\n",
       "<table border=\"1\" class=\"dataframe\">\n",
       "  <thead>\n",
       "    <tr style=\"text-align: right;\">\n",
       "      <th></th>\n",
       "      <th>fixed acidity</th>\n",
       "      <th>volatile acidity</th>\n",
       "      <th>citric acid</th>\n",
       "      <th>residual sugar</th>\n",
       "      <th>chlorides</th>\n",
       "      <th>free sulfur dioxide</th>\n",
       "      <th>total sulfur dioxide</th>\n",
       "      <th>density</th>\n",
       "      <th>pH</th>\n",
       "      <th>sulphates</th>\n",
       "      <th>alcohol</th>\n",
       "      <th>quality</th>\n",
       "    </tr>\n",
       "  </thead>\n",
       "  <tbody>\n",
       "    <tr>\n",
       "      <th>count</th>\n",
       "      <td>1599.000000</td>\n",
       "      <td>1599.000000</td>\n",
       "      <td>1599.000000</td>\n",
       "      <td>1599.000000</td>\n",
       "      <td>1599.000000</td>\n",
       "      <td>1599.000000</td>\n",
       "      <td>1599.000000</td>\n",
       "      <td>1599.000000</td>\n",
       "      <td>1599.000000</td>\n",
       "      <td>1599.000000</td>\n",
       "      <td>1599.000000</td>\n",
       "      <td>1599.000000</td>\n",
       "    </tr>\n",
       "    <tr>\n",
       "      <th>mean</th>\n",
       "      <td>8.319637</td>\n",
       "      <td>0.527821</td>\n",
       "      <td>0.270976</td>\n",
       "      <td>2.538806</td>\n",
       "      <td>0.087467</td>\n",
       "      <td>15.874922</td>\n",
       "      <td>46.467792</td>\n",
       "      <td>0.996747</td>\n",
       "      <td>3.311113</td>\n",
       "      <td>0.658149</td>\n",
       "      <td>10.422983</td>\n",
       "      <td>5.636023</td>\n",
       "    </tr>\n",
       "    <tr>\n",
       "      <th>std</th>\n",
       "      <td>1.741096</td>\n",
       "      <td>0.179060</td>\n",
       "      <td>0.194801</td>\n",
       "      <td>1.409928</td>\n",
       "      <td>0.047065</td>\n",
       "      <td>10.460157</td>\n",
       "      <td>32.895324</td>\n",
       "      <td>0.001887</td>\n",
       "      <td>0.154386</td>\n",
       "      <td>0.169507</td>\n",
       "      <td>1.065668</td>\n",
       "      <td>0.807569</td>\n",
       "    </tr>\n",
       "    <tr>\n",
       "      <th>min</th>\n",
       "      <td>4.600000</td>\n",
       "      <td>0.120000</td>\n",
       "      <td>0.000000</td>\n",
       "      <td>0.900000</td>\n",
       "      <td>0.012000</td>\n",
       "      <td>1.000000</td>\n",
       "      <td>6.000000</td>\n",
       "      <td>0.990070</td>\n",
       "      <td>2.740000</td>\n",
       "      <td>0.330000</td>\n",
       "      <td>8.400000</td>\n",
       "      <td>3.000000</td>\n",
       "    </tr>\n",
       "    <tr>\n",
       "      <th>25%</th>\n",
       "      <td>7.100000</td>\n",
       "      <td>0.390000</td>\n",
       "      <td>0.090000</td>\n",
       "      <td>1.900000</td>\n",
       "      <td>0.070000</td>\n",
       "      <td>7.000000</td>\n",
       "      <td>22.000000</td>\n",
       "      <td>0.995600</td>\n",
       "      <td>3.210000</td>\n",
       "      <td>0.550000</td>\n",
       "      <td>9.500000</td>\n",
       "      <td>5.000000</td>\n",
       "    </tr>\n",
       "    <tr>\n",
       "      <th>50%</th>\n",
       "      <td>7.900000</td>\n",
       "      <td>0.520000</td>\n",
       "      <td>0.260000</td>\n",
       "      <td>2.200000</td>\n",
       "      <td>0.079000</td>\n",
       "      <td>14.000000</td>\n",
       "      <td>38.000000</td>\n",
       "      <td>0.996750</td>\n",
       "      <td>3.310000</td>\n",
       "      <td>0.620000</td>\n",
       "      <td>10.200000</td>\n",
       "      <td>6.000000</td>\n",
       "    </tr>\n",
       "    <tr>\n",
       "      <th>75%</th>\n",
       "      <td>9.200000</td>\n",
       "      <td>0.640000</td>\n",
       "      <td>0.420000</td>\n",
       "      <td>2.600000</td>\n",
       "      <td>0.090000</td>\n",
       "      <td>21.000000</td>\n",
       "      <td>62.000000</td>\n",
       "      <td>0.997835</td>\n",
       "      <td>3.400000</td>\n",
       "      <td>0.730000</td>\n",
       "      <td>11.100000</td>\n",
       "      <td>6.000000</td>\n",
       "    </tr>\n",
       "    <tr>\n",
       "      <th>max</th>\n",
       "      <td>15.900000</td>\n",
       "      <td>1.580000</td>\n",
       "      <td>1.000000</td>\n",
       "      <td>15.500000</td>\n",
       "      <td>0.611000</td>\n",
       "      <td>72.000000</td>\n",
       "      <td>289.000000</td>\n",
       "      <td>1.003690</td>\n",
       "      <td>4.010000</td>\n",
       "      <td>2.000000</td>\n",
       "      <td>14.900000</td>\n",
       "      <td>8.000000</td>\n",
       "    </tr>\n",
       "  </tbody>\n",
       "</table>\n",
       "</div>"
      ],
      "text/plain": [
       "       fixed acidity  volatile acidity  citric acid  residual sugar  \\\n",
       "count    1599.000000       1599.000000  1599.000000     1599.000000   \n",
       "mean        8.319637          0.527821     0.270976        2.538806   \n",
       "std         1.741096          0.179060     0.194801        1.409928   \n",
       "min         4.600000          0.120000     0.000000        0.900000   \n",
       "25%         7.100000          0.390000     0.090000        1.900000   \n",
       "50%         7.900000          0.520000     0.260000        2.200000   \n",
       "75%         9.200000          0.640000     0.420000        2.600000   \n",
       "max        15.900000          1.580000     1.000000       15.500000   \n",
       "\n",
       "         chlorides  free sulfur dioxide  total sulfur dioxide      density  \\\n",
       "count  1599.000000          1599.000000           1599.000000  1599.000000   \n",
       "mean      0.087467            15.874922             46.467792     0.996747   \n",
       "std       0.047065            10.460157             32.895324     0.001887   \n",
       "min       0.012000             1.000000              6.000000     0.990070   \n",
       "25%       0.070000             7.000000             22.000000     0.995600   \n",
       "50%       0.079000            14.000000             38.000000     0.996750   \n",
       "75%       0.090000            21.000000             62.000000     0.997835   \n",
       "max       0.611000            72.000000            289.000000     1.003690   \n",
       "\n",
       "                pH    sulphates      alcohol      quality  \n",
       "count  1599.000000  1599.000000  1599.000000  1599.000000  \n",
       "mean      3.311113     0.658149    10.422983     5.636023  \n",
       "std       0.154386     0.169507     1.065668     0.807569  \n",
       "min       2.740000     0.330000     8.400000     3.000000  \n",
       "25%       3.210000     0.550000     9.500000     5.000000  \n",
       "50%       3.310000     0.620000    10.200000     6.000000  \n",
       "75%       3.400000     0.730000    11.100000     6.000000  \n",
       "max       4.010000     2.000000    14.900000     8.000000  "
      ]
     },
     "execution_count": 4,
     "metadata": {},
     "output_type": "execute_result"
    }
   ],
   "source": [
    "wine_dataframe.describe()"
   ]
  },
  {
   "cell_type": "code",
   "execution_count": 5,
   "metadata": {},
   "outputs": [],
   "source": [
    "num_wines = len(wine_dataframe)"
   ]
  },
  {
   "cell_type": "code",
   "execution_count": 6,
   "metadata": {},
   "outputs": [
    {
     "data": {
      "text/plain": [
       "1599"
      ]
     },
     "execution_count": 6,
     "metadata": {},
     "output_type": "execute_result"
    }
   ],
   "source": [
    "num_wines"
   ]
  },
  {
   "cell_type": "code",
   "execution_count": 7,
   "metadata": {},
   "outputs": [
    {
     "data": {
      "text/plain": [
       "quality\n",
       "3     10\n",
       "4     53\n",
       "5    681\n",
       "6    638\n",
       "7    199\n",
       "8     18\n",
       "dtype: int64"
      ]
     },
     "execution_count": 7,
     "metadata": {},
     "output_type": "execute_result"
    }
   ],
   "source": [
    "counts_df = wine_dataframe.groupby(['quality']).size()\n",
    "counts_df"
   ]
  },
  {
   "cell_type": "code",
   "execution_count": 8,
   "metadata": {},
   "outputs": [
    {
     "data": {
      "text/plain": [
       "217"
      ]
     },
     "execution_count": 8,
     "metadata": {},
     "output_type": "execute_result"
    }
   ],
   "source": [
    "num_hi_qual = counts_df[7] + counts_df[8]\n",
    "num_hi_qual"
   ]
  },
  {
   "cell_type": "code",
   "execution_count": 9,
   "metadata": {},
   "outputs": [
    {
     "data": {
      "text/plain": [
       "pandas.core.series.Series"
      ]
     },
     "execution_count": 9,
     "metadata": {},
     "output_type": "execute_result"
    }
   ],
   "source": [
    "type(counts_df)"
   ]
  },
  {
   "cell_type": "code",
   "execution_count": 10,
   "metadata": {},
   "outputs": [],
   "source": [
    "num_lo_qual = counts_df[3] + counts_df[4]\n",
    "num_med_qual = counts_df[5] + counts_df[6]"
   ]
  },
  {
   "cell_type": "code",
   "execution_count": 11,
   "metadata": {},
   "outputs": [
    {
     "name": "stdout",
     "output_type": "stream",
     "text": [
      "Total Wines: 1599\n",
      "High Quality Wines: 217\n",
      "Medium Quality Wines: 1319\n",
      "Low Quality Wines: 63\n"
     ]
    }
   ],
   "source": [
    "print(\"Total Wines: {}\".format(num_wines))\n",
    "print('High Quality Wines: {}'.format(num_hi_qual))\n",
    "print('Medium Quality Wines: {}'.format(num_med_qual))\n",
    "print('Low Quality Wines: {}'.format(num_lo_qual))"
   ]
  },
  {
   "cell_type": "code",
   "execution_count": 12,
   "metadata": {},
   "outputs": [],
   "source": [
    "from pygal.style import DarkStyle"
   ]
  },
  {
   "cell_type": "code",
   "execution_count": 13,
   "metadata": {},
   "outputs": [],
   "source": [
    "pie_chart = pygal.Pie(width = 640, height=360, explicit_size=True, style=DarkStyle)"
   ]
  },
  {
   "cell_type": "code",
   "execution_count": 14,
   "metadata": {},
   "outputs": [],
   "source": [
    "pie_chart.title = 'Wines by Quality'"
   ]
  },
  {
   "cell_type": "code",
   "execution_count": 15,
   "metadata": {},
   "outputs": [
    {
     "data": {
      "image/png": "[encoded data removed]",
      "image/svg+xml": [
       "<svg xmlns:xlink=\"http://www.w3.org/1999/xlink\" xmlns=\"http://www.w3.org/2000/svg\" id=\"chart-d361554c-fa4b-42ee-8521-2f7a752e7131\" class=\"pygal-chart\" viewBox=\"0 0 640 360\" width=\"640\" height=\"360\"><!--Generated with pygal 2.4.0 (lxml) ©Kozea 2012-2016 on 2019-06-08--><!--http://pygal.org--><!--http://github.com/Kozea/pygal--><defs><style type=\"text/css\">#chart-d361554c-fa4b-42ee-8521-2f7a752e7131{-webkit-user-select:none;-webkit-font-smoothing:antialiased;font-family:Consolas,\"Liberation Mono\",Menlo,Courier,monospace}#chart-d361554c-fa4b-42ee-8521-2f7a752e7131 .title{font-family:Consolas,\"Liberation Mono\",Menlo,Courier,monospace;font-size:16px}#chart-d361554c-fa4b-42ee-8521-2f7a752e7131 .legends .legend text{font-family:Consolas,\"Liberation Mono\",Menlo,Courier,monospace;font-size:14px}#chart-d361554c-fa4b-42ee-8521-2f7a752e7131 .axis text{font-family:Consolas,\"Liberation Mono\",Menlo,Courier,monospace;font-size:10px}#chart-d361554c-fa4b-42ee-8521-2f7a752e7131 .axis text.major{font-family:Consolas,\"Liberation Mono\",Menlo,Courier,monospace;font-size:10px}#chart-d361554c-fa4b-42ee-8521-2f7a752e7131 .text-overlay text.value{font-family:Consolas,\"Liberation Mono\",Menlo,Courier,monospace;font-size:16px}#chart-d361554c-fa4b-42ee-8521-2f7a752e7131 .text-overlay text.label{font-family:Consolas,\"Liberation Mono\",Menlo,Courier,monospace;font-size:10px}#chart-d361554c-fa4b-42ee-8521-2f7a752e7131 .tooltip{font-family:Consolas,\"Liberation Mono\",Menlo,Courier,monospace;font-size:14px}#chart-d361554c-fa4b-42ee-8521-2f7a752e7131 text.no_data{font-family:Consolas,\"Liberation Mono\",Menlo,Courier,monospace;font-size:64px}\n",
       "#chart-d361554c-fa4b-42ee-8521-2f7a752e7131{background-color:black}#chart-d361554c-fa4b-42ee-8521-2f7a752e7131 path,#chart-d361554c-fa4b-42ee-8521-2f7a752e7131 line,#chart-d361554c-fa4b-42ee-8521-2f7a752e7131 rect,#chart-d361554c-fa4b-42ee-8521-2f7a752e7131 circle{-webkit-transition:250ms;-moz-transition:250ms;transition:250ms}#chart-d361554c-fa4b-42ee-8521-2f7a752e7131 .graph &gt; .background{fill:black}#chart-d361554c-fa4b-42ee-8521-2f7a752e7131 .plot &gt; .background{fill:#111}#chart-d361554c-fa4b-42ee-8521-2f7a752e7131 .graph{fill:#999}#chart-d361554c-fa4b-42ee-8521-2f7a752e7131 text.no_data{fill:#eee}#chart-d361554c-fa4b-42ee-8521-2f7a752e7131 .title{fill:#eee}#chart-d361554c-fa4b-42ee-8521-2f7a752e7131 .legends .legend text{fill:#999}#chart-d361554c-fa4b-42ee-8521-2f7a752e7131 .legends .legend:hover text{fill:#eee}#chart-d361554c-fa4b-42ee-8521-2f7a752e7131 .axis .line{stroke:#eee}#chart-d361554c-fa4b-42ee-8521-2f7a752e7131 .axis .guide.line{stroke:#555}#chart-d361554c-fa4b-42ee-8521-2f7a752e7131 .axis .major.line{stroke:#999}#chart-d361554c-fa4b-42ee-8521-2f7a752e7131 .axis text.major{fill:#eee}#chart-d361554c-fa4b-42ee-8521-2f7a752e7131 .axis.y .guides:hover .guide.line,#chart-d361554c-fa4b-42ee-8521-2f7a752e7131 .line-graph .axis.x .guides:hover .guide.line,#chart-d361554c-fa4b-42ee-8521-2f7a752e7131 .stackedline-graph .axis.x .guides:hover .guide.line,#chart-d361554c-fa4b-42ee-8521-2f7a752e7131 .xy-graph .axis.x .guides:hover .guide.line{stroke:#eee}#chart-d361554c-fa4b-42ee-8521-2f7a752e7131 .axis .guides:hover text{fill:#eee}#chart-d361554c-fa4b-42ee-8521-2f7a752e7131 .reactive{fill-opacity:.8;stroke-opacity:.8}#chart-d361554c-fa4b-42ee-8521-2f7a752e7131 .ci{stroke:#999}#chart-d361554c-fa4b-42ee-8521-2f7a752e7131 .reactive.active,#chart-d361554c-fa4b-42ee-8521-2f7a752e7131 .active .reactive{fill-opacity:.4;stroke-opacity:.9;stroke-width:4}#chart-d361554c-fa4b-42ee-8521-2f7a752e7131 .ci .reactive.active{stroke-width:1.5}#chart-d361554c-fa4b-42ee-8521-2f7a752e7131 .series text{fill:#eee}#chart-d361554c-fa4b-42ee-8521-2f7a752e7131 .tooltip rect{fill:#111;stroke:#eee;-webkit-transition:opacity 250ms;-moz-transition:opacity 250ms;transition:opacity 250ms}#chart-d361554c-fa4b-42ee-8521-2f7a752e7131 .tooltip .label{fill:#999}#chart-d361554c-fa4b-42ee-8521-2f7a752e7131 .tooltip .label{fill:#999}#chart-d361554c-fa4b-42ee-8521-2f7a752e7131 .tooltip .legend{font-size:.8em;fill:#555}#chart-d361554c-fa4b-42ee-8521-2f7a752e7131 .tooltip .x_label{font-size:.6em;fill:#eee}#chart-d361554c-fa4b-42ee-8521-2f7a752e7131 .tooltip .xlink{font-size:.5em;text-decoration:underline}#chart-d361554c-fa4b-42ee-8521-2f7a752e7131 .tooltip .value{font-size:1.5em}#chart-d361554c-fa4b-42ee-8521-2f7a752e7131 .bound{font-size:.5em}#chart-d361554c-fa4b-42ee-8521-2f7a752e7131 .max-value{font-size:.75em;fill:#555}#chart-d361554c-fa4b-42ee-8521-2f7a752e7131 .map-element{fill:#111;stroke:#555 !important}#chart-d361554c-fa4b-42ee-8521-2f7a752e7131 .map-element .reactive{fill-opacity:inherit;stroke-opacity:inherit}#chart-d361554c-fa4b-42ee-8521-2f7a752e7131 .color-0,#chart-d361554c-fa4b-42ee-8521-2f7a752e7131 .color-0 a:visited{stroke:#ff5995;fill:#ff5995}#chart-d361554c-fa4b-42ee-8521-2f7a752e7131 .color-1,#chart-d361554c-fa4b-42ee-8521-2f7a752e7131 .color-1 a:visited{stroke:#b6e354;fill:#b6e354}#chart-d361554c-fa4b-42ee-8521-2f7a752e7131 .color-2,#chart-d361554c-fa4b-42ee-8521-2f7a752e7131 .color-2 a:visited{stroke:#feed6c;fill:#feed6c}#chart-d361554c-fa4b-42ee-8521-2f7a752e7131 .text-overlay .color-0 text{fill:black}#chart-d361554c-fa4b-42ee-8521-2f7a752e7131 .text-overlay .color-1 text{fill:black}#chart-d361554c-fa4b-42ee-8521-2f7a752e7131 .text-overlay .color-2 text{fill:black}\n",
       "#chart-d361554c-fa4b-42ee-8521-2f7a752e7131 text.no_data{text-anchor:middle}#chart-d361554c-fa4b-42ee-8521-2f7a752e7131 .guide.line{fill:none}#chart-d361554c-fa4b-42ee-8521-2f7a752e7131 .centered{text-anchor:middle}#chart-d361554c-fa4b-42ee-8521-2f7a752e7131 .title{text-anchor:middle}#chart-d361554c-fa4b-42ee-8521-2f7a752e7131 .legends .legend text{fill-opacity:1}#chart-d361554c-fa4b-42ee-8521-2f7a752e7131 .axis.x text{text-anchor:middle}#chart-d361554c-fa4b-42ee-8521-2f7a752e7131 .axis.x:not(.web) text[transform]{text-anchor:start}#chart-d361554c-fa4b-42ee-8521-2f7a752e7131 .axis.x:not(.web) text[transform].backwards{text-anchor:end}#chart-d361554c-fa4b-42ee-8521-2f7a752e7131 .axis.y text{text-anchor:end}#chart-d361554c-fa4b-42ee-8521-2f7a752e7131 .axis.y text[transform].backwards{text-anchor:start}#chart-d361554c-fa4b-42ee-8521-2f7a752e7131 .axis.y2 text{text-anchor:start}#chart-d361554c-fa4b-42ee-8521-2f7a752e7131 .axis.y2 text[transform].backwards{text-anchor:end}#chart-d361554c-fa4b-42ee-8521-2f7a752e7131 .axis .guide.line{stroke-dasharray:4,4}#chart-d361554c-fa4b-42ee-8521-2f7a752e7131 .axis .major.guide.line{stroke-dasharray:6,6}#chart-d361554c-fa4b-42ee-8521-2f7a752e7131 .horizontal .axis.y .guide.line,#chart-d361554c-fa4b-42ee-8521-2f7a752e7131 .horizontal .axis.y2 .guide.line,#chart-d361554c-fa4b-42ee-8521-2f7a752e7131 .vertical .axis.x .guide.line{opacity:0}#chart-d361554c-fa4b-42ee-8521-2f7a752e7131 .horizontal .axis.always_show .guide.line,#chart-d361554c-fa4b-42ee-8521-2f7a752e7131 .vertical .axis.always_show .guide.line{opacity:1 !important}#chart-d361554c-fa4b-42ee-8521-2f7a752e7131 .axis.y .guides:hover .guide.line,#chart-d361554c-fa4b-42ee-8521-2f7a752e7131 .axis.y2 .guides:hover .guide.line,#chart-d361554c-fa4b-42ee-8521-2f7a752e7131 .axis.x .guides:hover .guide.line{opacity:1}#chart-d361554c-fa4b-42ee-8521-2f7a752e7131 .axis .guides:hover text{opacity:1}#chart-d361554c-fa4b-42ee-8521-2f7a752e7131 .nofill{fill:none}#chart-d361554c-fa4b-42ee-8521-2f7a752e7131 .subtle-fill{fill-opacity:.2}#chart-d361554c-fa4b-42ee-8521-2f7a752e7131 .dot{stroke-width:1px;fill-opacity:1}#chart-d361554c-fa4b-42ee-8521-2f7a752e7131 .dot.active{stroke-width:5px}#chart-d361554c-fa4b-42ee-8521-2f7a752e7131 .dot.negative{fill:transparent}#chart-d361554c-fa4b-42ee-8521-2f7a752e7131 text,#chart-d361554c-fa4b-42ee-8521-2f7a752e7131 tspan{stroke:none !important}#chart-d361554c-fa4b-42ee-8521-2f7a752e7131 .series text.active{opacity:1}#chart-d361554c-fa4b-42ee-8521-2f7a752e7131 .tooltip rect{fill-opacity:.95;stroke-width:.5}#chart-d361554c-fa4b-42ee-8521-2f7a752e7131 .tooltip text{fill-opacity:1}#chart-d361554c-fa4b-42ee-8521-2f7a752e7131 .showable{visibility:hidden}#chart-d361554c-fa4b-42ee-8521-2f7a752e7131 .showable.shown{visibility:visible}#chart-d361554c-fa4b-42ee-8521-2f7a752e7131 .gauge-background{fill:rgba(229,229,229,1);stroke:none}#chart-d361554c-fa4b-42ee-8521-2f7a752e7131 .bg-lines{stroke:black;stroke-width:2px}</style><script type=\"text/javascript\">window.pygal = window.pygal || {};window.pygal.config = window.pygal.config || {};window.pygal.config['d361554c-fa4b-42ee-8521-2f7a752e7131'] = {\"allow_interruptions\": false, \"box_mode\": \"extremes\", \"classes\": [\"pygal-chart\"], \"css\": [\"file://style.css\", \"file://graph.css\"], \"defs\": [], \"disable_xml_declaration\": true, \"dots_size\": 2.5, \"dynamic_print_values\": false, \"explicit_size\": true, \"fill\": false, \"force_uri_protocol\": \"https\", \"formatter\": null, \"half_pie\": false, \"height\": 360, \"include_x_axis\": false, \"inner_radius\": 0, \"interpolate\": null, \"interpolation_parameters\": {}, \"interpolation_precision\": 250, \"inverse_y_axis\": false, \"js\": [\"//kozea.github.io/pygal.js/2.0.x/pygal-tooltips.min.js\"], \"legend_at_bottom\": false, \"legend_at_bottom_columns\": null, \"legend_box_size\": 12, \"logarithmic\": false, \"margin\": 20, \"margin_bottom\": null, \"margin_left\": null, \"margin_right\": null, \"margin_top\": null, \"max_scale\": 16, \"min_scale\": 4, \"missing_value_fill_truncation\": \"x\", \"no_data_text\": \"No data\", \"no_prefix\": false, \"order_min\": null, \"pretty_print\": false, \"print_labels\": false, \"print_values\": false, \"print_values_position\": \"center\", \"print_zeroes\": true, \"range\": null, \"rounded_bars\": null, \"secondary_range\": null, \"show_dots\": true, \"show_legend\": true, \"show_minor_x_labels\": true, \"show_minor_y_labels\": true, \"show_only_major_dots\": false, \"show_x_guides\": false, \"show_x_labels\": true, \"show_y_guides\": true, \"show_y_labels\": true, \"spacing\": 10, \"stack_from_top\": false, \"strict\": false, \"stroke\": true, \"stroke_style\": null, \"style\": {\"background\": \"black\", \"ci_colors\": [], \"colors\": [\"#ff5995\", \"#b6e354\", \"#feed6c\", \"#8cedff\", \"#9e6ffe\", \"#899ca1\", \"#f8f8f2\", \"#bf4646\", \"#516083\", \"#f92672\", \"#82b414\", \"#fd971f\", \"#56c2d6\", \"#808384\", \"#8c54fe\", \"#465457\"], \"font_family\": \"Consolas, \\\"Liberation Mono\\\", Menlo, Courier, monospace\", \"foreground\": \"#999\", \"foreground_strong\": \"#eee\", \"foreground_subtle\": \"#555\", \"guide_stroke_dasharray\": \"4,4\", \"label_font_family\": \"Consolas, \\\"Liberation Mono\\\", Menlo, Courier, monospace\", \"label_font_size\": 10, \"legend_font_family\": \"Consolas, \\\"Liberation Mono\\\", Menlo, Courier, monospace\", \"legend_font_size\": 14, \"major_guide_stroke_dasharray\": \"6,6\", \"major_label_font_family\": \"Consolas, \\\"Liberation Mono\\\", Menlo, Courier, monospace\", \"major_label_font_size\": 10, \"no_data_font_family\": \"Consolas, \\\"Liberation Mono\\\", Menlo, Courier, monospace\", \"no_data_font_size\": 64, \"opacity\": \".8\", \"opacity_hover\": \".4\", \"plot_background\": \"#111\", \"stroke_opacity\": \".8\", \"stroke_opacity_hover\": \".9\", \"title_font_family\": \"Consolas, \\\"Liberation Mono\\\", Menlo, Courier, monospace\", \"title_font_size\": 16, \"tooltip_font_family\": \"Consolas, \\\"Liberation Mono\\\", Menlo, Courier, monospace\", \"tooltip_font_size\": 14, \"transition\": \"250ms\", \"value_background\": \"rgba(229, 229, 229, 1)\", \"value_colors\": [], \"value_font_family\": \"Consolas, \\\"Liberation Mono\\\", Menlo, Courier, monospace\", \"value_font_size\": 16, \"value_label_font_family\": \"Consolas, \\\"Liberation Mono\\\", Menlo, Courier, monospace\", \"value_label_font_size\": 10}, \"title\": \"Wines by Quality\", \"tooltip_border_radius\": 0, \"tooltip_fancy_mode\": true, \"truncate_label\": null, \"truncate_legend\": null, \"width\": 640, \"x_label_rotation\": 0, \"x_labels\": null, \"x_labels_major\": null, \"x_labels_major_count\": null, \"x_labels_major_every\": null, \"x_title\": null, \"xrange\": null, \"y_label_rotation\": 0, \"y_labels\": null, \"y_labels_major\": null, \"y_labels_major_count\": null, \"y_labels_major_every\": null, \"y_title\": null, \"zero\": 0, \"legends\": [\"High Quality\", \"Medium Quality\", \"Low Quality\"]}</script><script type=\"text/javascript\" xlink:href=\"https://kozea.github.io/pygal.js/2.0.x/pygal-tooltips.min.js\"/></defs><title>Wines by Quality</title><g class=\"graph pie-graph vertical\"><rect class=\"background\" height=\"360\" width=\"640\" x=\"0\" y=\"0\"/><g class=\"plot\" transform=\"translate(159, 46)\"><rect class=\"background\" height=\"294\" width=\"460.4\" x=\"0\" y=\"0\"/><g class=\"series serie-0 color-0\"><g class=\"slices\"><g class=\"slice\"><path class=\"slice reactive tooltip-trigger\" d=\"M230.200000 14.700000 A132.300000 132.300000 0 0 1 329.828912 59.951910 L230.200000 147.000000 A0.000000 0.000000 0 0 0 230.200000 147.000000 z\"/><desc class=\"value\">217</desc><desc class=\"x centered\">257.55604987559275</desc><desc class=\"y centered\">86.77152637494386</desc></g></g></g><g class=\"series serie-1 color-1\"><g class=\"slices\"><g class=\"slice\"><path class=\"slice reactive tooltip-trigger\" d=\"M329.828912 59.951910 A132.300000 132.300000 0 1 1 197.781953 18.733246 L230.200000 147.000000 A0.000000 0.000000 0 1 0 230.200000 147.000000 z\"/><desc class=\"value\">1319</desc><desc class=\"x centered\">210.48915494217687</desc><desc class=\"y centered\">210.14511134764504</desc></g></g></g><g class=\"series serie-2 color-2\"><g class=\"slices\"><g class=\"slice\"><path class=\"slice reactive tooltip-trigger\" d=\"M197.781953 18.733246 A132.300000 132.300000 0 0 1 230.200000 14.700000 L230.200000 147.000000 A0.000000 0.000000 0 0 0 230.200000 147.000000 z\"/><desc class=\"value\">63</desc><desc class=\"x centered\">222.03300523456736</desc><desc class=\"y centered\">81.35609170302703</desc></g></g></g></g><g class=\"titles\"><text class=\"title plot_title\" x=\"320.0\" y=\"26\">Wines by Quality</text></g><g class=\"plot overlay\" transform=\"translate(159, 46)\"><g class=\"series serie-0 color-0\"/><g class=\"series serie-1 color-1\"/><g class=\"series serie-2 color-2\"/></g><g class=\"plot text-overlay\" transform=\"translate(159, 46)\"><g class=\"series serie-0 color-0\"/><g class=\"series serie-1 color-1\"/><g class=\"series serie-2 color-2\"/></g><g class=\"plot tooltip-overlay\" transform=\"translate(159, 46)\"><g class=\"tooltip\" style=\"opacity: 0\" transform=\"translate(0 0)\"><rect class=\"tooltip-box\" height=\"0\" rx=\"0\" ry=\"0\" width=\"0\"/><g class=\"text\"/></g></g><g class=\"legends\" transform=\"translate(10, 56)\"><g class=\"legend reactive activate-serie\" id=\"activate-serie-0\"><rect class=\"color-0 reactive\" height=\"12\" width=\"12\" x=\"0.0\" y=\"1.0\"/><text x=\"17.0\" y=\"11.2\">High Quality</text></g><g class=\"legend reactive activate-serie\" id=\"activate-serie-1\"><rect class=\"color-1 reactive\" height=\"12\" width=\"12\" x=\"0.0\" y=\"22.0\"/><text x=\"17.0\" y=\"32.2\">Medium Quality</text></g><g class=\"legend reactive activate-serie\" id=\"activate-serie-2\"><rect class=\"color-2 reactive\" height=\"12\" width=\"12\" x=\"0.0\" y=\"43.0\"/><text x=\"17.0\" y=\"53.2\">Low Quality</text></g></g><g class=\"legends\" transform=\"translate(630, 56)\"/></g></svg>"
      ],
      "text/plain": [
       "<pygal.graph.pie.Pie at 0x102e1bc50>"
      ]
     },
     "execution_count": 15,
     "metadata": {},
     "output_type": "execute_result"
    }
   ],
   "source": [
    "pie_chart.add('High Quality', num_hi_qual)\n",
    "pie_chart.add('Medium Quality', num_med_qual)\n",
    "pie_chart.add('Low Quality', num_lo_qual)"
   ]
  },
  {
   "cell_type": "code",
   "execution_count": 16,
   "metadata": {},
   "outputs": [],
   "source": [
    "from IPython.display import display, HTML"
   ]
  },
  {
   "cell_type": "code",
   "execution_count": 17,
   "metadata": {},
   "outputs": [],
   "source": [
    "html_skeleton = \"\"\"\n",
    "<!DOCTYPE html>\n",
    "<html>\n",
    "    <head>\n",
    "    <script type=\"text/javascript\"\n",
    "            src=\"http://kozea.github.com/pygal.js/javascripts/svg.jquery.js\">\n",
    "    </script>\n",
    "    <script type=\"text/javascript\"\n",
    "            src=\"https://kozea.github.io/pygal.js/2.0.x/pygal-tooltips.min.js\">\n",
    "    </script>\n",
    "    <head>\n",
    "        <body>\n",
    "            <figure>\n",
    "                {rendered_chart}\n",
    "            </figure>\n",
    "        </body>\n",
    "    </head>\n",
    "</html>\n",
    "\"\"\""
   ]
  },
  {
   "cell_type": "code",
   "execution_count": 19,
   "metadata": {},
   "outputs": [],
   "source": [
    "def display_chart(chart):\n",
    "    rendered_chart = chart.render(is_unicode=True)\n",
    "    plot_html = html_skeleton.format(rendered_chart=rendered_chart)\n",
    "    display(HTML(plot_html))"
   ]
  },
  {
   "cell_type": "code",
   "execution_count": 20,
   "metadata": {},
   "outputs": [
    {
     "data": {
      "text/html": [
       "\n",
       "<!DOCTYPE html>\n",
       "<html>\n",
       "    <head>\n",
       "    <script type=\"text/javascript\"\n",
       "            src=\"http://kozea.github.com/pygal.js/javascripts/svg.jquery.js\">\n",
       "    </script>\n",
       "    <script type=\"text/javascript\"\n",
       "            src=\"https://kozea.github.io/pygal.js/2.0.x/pygal-tooltips.min.js\">\n",
       "    </script>\n",
       "    <head>\n",
       "        <body>\n",
       "            <figure>\n",
       "                <?xml version='1.0' encoding='utf-8'?>\n",
       "<svg xmlns:xlink=\"http://www.w3.org/1999/xlink\" xmlns=\"http://www.w3.org/2000/svg\" id=\"chart-d361554c-fa4b-42ee-8521-2f7a752e7131\" class=\"pygal-chart\" viewBox=\"0 0 640 360\" width=\"640\" height=\"360\"><!--Generated with pygal 2.4.0 (lxml) ©Kozea 2012-2016 on 2019-06-08--><!--http://pygal.org--><!--http://github.com/Kozea/pygal--><defs><style type=\"text/css\">#chart-d361554c-fa4b-42ee-8521-2f7a752e7131{-webkit-user-select:none;-webkit-font-smoothing:antialiased;font-family:Consolas,\"Liberation Mono\",Menlo,Courier,monospace}#chart-d361554c-fa4b-42ee-8521-2f7a752e7131 .title{font-family:Consolas,\"Liberation Mono\",Menlo,Courier,monospace;font-size:16px}#chart-d361554c-fa4b-42ee-8521-2f7a752e7131 .legends .legend text{font-family:Consolas,\"Liberation Mono\",Menlo,Courier,monospace;font-size:14px}#chart-d361554c-fa4b-42ee-8521-2f7a752e7131 .axis text{font-family:Consolas,\"Liberation Mono\",Menlo,Courier,monospace;font-size:10px}#chart-d361554c-fa4b-42ee-8521-2f7a752e7131 .axis text.major{font-family:Consolas,\"Liberation Mono\",Menlo,Courier,monospace;font-size:10px}#chart-d361554c-fa4b-42ee-8521-2f7a752e7131 .text-overlay text.value{font-family:Consolas,\"Liberation Mono\",Menlo,Courier,monospace;font-size:16px}#chart-d361554c-fa4b-42ee-8521-2f7a752e7131 .text-overlay text.label{font-family:Consolas,\"Liberation Mono\",Menlo,Courier,monospace;font-size:10px}#chart-d361554c-fa4b-42ee-8521-2f7a752e7131 .tooltip{font-family:Consolas,\"Liberation Mono\",Menlo,Courier,monospace;font-size:14px}#chart-d361554c-fa4b-42ee-8521-2f7a752e7131 text.no_data{font-family:Consolas,\"Liberation Mono\",Menlo,Courier,monospace;font-size:64px}\n",
       "#chart-d361554c-fa4b-42ee-8521-2f7a752e7131{background-color:black}#chart-d361554c-fa4b-42ee-8521-2f7a752e7131 path,#chart-d361554c-fa4b-42ee-8521-2f7a752e7131 line,#chart-d361554c-fa4b-42ee-8521-2f7a752e7131 rect,#chart-d361554c-fa4b-42ee-8521-2f7a752e7131 circle{-webkit-transition:250ms;-moz-transition:250ms;transition:250ms}#chart-d361554c-fa4b-42ee-8521-2f7a752e7131 .graph &gt; .background{fill:black}#chart-d361554c-fa4b-42ee-8521-2f7a752e7131 .plot &gt; .background{fill:#111}#chart-d361554c-fa4b-42ee-8521-2f7a752e7131 .graph{fill:#999}#chart-d361554c-fa4b-42ee-8521-2f7a752e7131 text.no_data{fill:#eee}#chart-d361554c-fa4b-42ee-8521-2f7a752e7131 .title{fill:#eee}#chart-d361554c-fa4b-42ee-8521-2f7a752e7131 .legends .legend text{fill:#999}#chart-d361554c-fa4b-42ee-8521-2f7a752e7131 .legends .legend:hover text{fill:#eee}#chart-d361554c-fa4b-42ee-8521-2f7a752e7131 .axis .line{stroke:#eee}#chart-d361554c-fa4b-42ee-8521-2f7a752e7131 .axis .guide.line{stroke:#555}#chart-d361554c-fa4b-42ee-8521-2f7a752e7131 .axis .major.line{stroke:#999}#chart-d361554c-fa4b-42ee-8521-2f7a752e7131 .axis text.major{fill:#eee}#chart-d361554c-fa4b-42ee-8521-2f7a752e7131 .axis.y .guides:hover .guide.line,#chart-d361554c-fa4b-42ee-8521-2f7a752e7131 .line-graph .axis.x .guides:hover .guide.line,#chart-d361554c-fa4b-42ee-8521-2f7a752e7131 .stackedline-graph .axis.x .guides:hover .guide.line,#chart-d361554c-fa4b-42ee-8521-2f7a752e7131 .xy-graph .axis.x .guides:hover .guide.line{stroke:#eee}#chart-d361554c-fa4b-42ee-8521-2f7a752e7131 .axis .guides:hover text{fill:#eee}#chart-d361554c-fa4b-42ee-8521-2f7a752e7131 .reactive{fill-opacity:.8;stroke-opacity:.8}#chart-d361554c-fa4b-42ee-8521-2f7a752e7131 .ci{stroke:#999}#chart-d361554c-fa4b-42ee-8521-2f7a752e7131 .reactive.active,#chart-d361554c-fa4b-42ee-8521-2f7a752e7131 .active .reactive{fill-opacity:.4;stroke-opacity:.9;stroke-width:4}#chart-d361554c-fa4b-42ee-8521-2f7a752e7131 .ci .reactive.active{stroke-width:1.5}#chart-d361554c-fa4b-42ee-8521-2f7a752e7131 .series text{fill:#eee}#chart-d361554c-fa4b-42ee-8521-2f7a752e7131 .tooltip rect{fill:#111;stroke:#eee;-webkit-transition:opacity 250ms;-moz-transition:opacity 250ms;transition:opacity 250ms}#chart-d361554c-fa4b-42ee-8521-2f7a752e7131 .tooltip .label{fill:#999}#chart-d361554c-fa4b-42ee-8521-2f7a752e7131 .tooltip .label{fill:#999}#chart-d361554c-fa4b-42ee-8521-2f7a752e7131 .tooltip .legend{font-size:.8em;fill:#555}#chart-d361554c-fa4b-42ee-8521-2f7a752e7131 .tooltip .x_label{font-size:.6em;fill:#eee}#chart-d361554c-fa4b-42ee-8521-2f7a752e7131 .tooltip .xlink{font-size:.5em;text-decoration:underline}#chart-d361554c-fa4b-42ee-8521-2f7a752e7131 .tooltip .value{font-size:1.5em}#chart-d361554c-fa4b-42ee-8521-2f7a752e7131 .bound{font-size:.5em}#chart-d361554c-fa4b-42ee-8521-2f7a752e7131 .max-value{font-size:.75em;fill:#555}#chart-d361554c-fa4b-42ee-8521-2f7a752e7131 .map-element{fill:#111;stroke:#555 !important}#chart-d361554c-fa4b-42ee-8521-2f7a752e7131 .map-element .reactive{fill-opacity:inherit;stroke-opacity:inherit}#chart-d361554c-fa4b-42ee-8521-2f7a752e7131 .color-0,#chart-d361554c-fa4b-42ee-8521-2f7a752e7131 .color-0 a:visited{stroke:#ff5995;fill:#ff5995}#chart-d361554c-fa4b-42ee-8521-2f7a752e7131 .color-1,#chart-d361554c-fa4b-42ee-8521-2f7a752e7131 .color-1 a:visited{stroke:#b6e354;fill:#b6e354}#chart-d361554c-fa4b-42ee-8521-2f7a752e7131 .color-2,#chart-d361554c-fa4b-42ee-8521-2f7a752e7131 .color-2 a:visited{stroke:#feed6c;fill:#feed6c}#chart-d361554c-fa4b-42ee-8521-2f7a752e7131 .text-overlay .color-0 text{fill:black}#chart-d361554c-fa4b-42ee-8521-2f7a752e7131 .text-overlay .color-1 text{fill:black}#chart-d361554c-fa4b-42ee-8521-2f7a752e7131 .text-overlay .color-2 text{fill:black}\n",
       "#chart-d361554c-fa4b-42ee-8521-2f7a752e7131 text.no_data{text-anchor:middle}#chart-d361554c-fa4b-42ee-8521-2f7a752e7131 .guide.line{fill:none}#chart-d361554c-fa4b-42ee-8521-2f7a752e7131 .centered{text-anchor:middle}#chart-d361554c-fa4b-42ee-8521-2f7a752e7131 .title{text-anchor:middle}#chart-d361554c-fa4b-42ee-8521-2f7a752e7131 .legends .legend text{fill-opacity:1}#chart-d361554c-fa4b-42ee-8521-2f7a752e7131 .axis.x text{text-anchor:middle}#chart-d361554c-fa4b-42ee-8521-2f7a752e7131 .axis.x:not(.web) text[transform]{text-anchor:start}#chart-d361554c-fa4b-42ee-8521-2f7a752e7131 .axis.x:not(.web) text[transform].backwards{text-anchor:end}#chart-d361554c-fa4b-42ee-8521-2f7a752e7131 .axis.y text{text-anchor:end}#chart-d361554c-fa4b-42ee-8521-2f7a752e7131 .axis.y text[transform].backwards{text-anchor:start}#chart-d361554c-fa4b-42ee-8521-2f7a752e7131 .axis.y2 text{text-anchor:start}#chart-d361554c-fa4b-42ee-8521-2f7a752e7131 .axis.y2 text[transform].backwards{text-anchor:end}#chart-d361554c-fa4b-42ee-8521-2f7a752e7131 .axis .guide.line{stroke-dasharray:4,4}#chart-d361554c-fa4b-42ee-8521-2f7a752e7131 .axis .major.guide.line{stroke-dasharray:6,6}#chart-d361554c-fa4b-42ee-8521-2f7a752e7131 .horizontal .axis.y .guide.line,#chart-d361554c-fa4b-42ee-8521-2f7a752e7131 .horizontal .axis.y2 .guide.line,#chart-d361554c-fa4b-42ee-8521-2f7a752e7131 .vertical .axis.x .guide.line{opacity:0}#chart-d361554c-fa4b-42ee-8521-2f7a752e7131 .horizontal .axis.always_show .guide.line,#chart-d361554c-fa4b-42ee-8521-2f7a752e7131 .vertical .axis.always_show .guide.line{opacity:1 !important}#chart-d361554c-fa4b-42ee-8521-2f7a752e7131 .axis.y .guides:hover .guide.line,#chart-d361554c-fa4b-42ee-8521-2f7a752e7131 .axis.y2 .guides:hover .guide.line,#chart-d361554c-fa4b-42ee-8521-2f7a752e7131 .axis.x .guides:hover .guide.line{opacity:1}#chart-d361554c-fa4b-42ee-8521-2f7a752e7131 .axis .guides:hover text{opacity:1}#chart-d361554c-fa4b-42ee-8521-2f7a752e7131 .nofill{fill:none}#chart-d361554c-fa4b-42ee-8521-2f7a752e7131 .subtle-fill{fill-opacity:.2}#chart-d361554c-fa4b-42ee-8521-2f7a752e7131 .dot{stroke-width:1px;fill-opacity:1}#chart-d361554c-fa4b-42ee-8521-2f7a752e7131 .dot.active{stroke-width:5px}#chart-d361554c-fa4b-42ee-8521-2f7a752e7131 .dot.negative{fill:transparent}#chart-d361554c-fa4b-42ee-8521-2f7a752e7131 text,#chart-d361554c-fa4b-42ee-8521-2f7a752e7131 tspan{stroke:none !important}#chart-d361554c-fa4b-42ee-8521-2f7a752e7131 .series text.active{opacity:1}#chart-d361554c-fa4b-42ee-8521-2f7a752e7131 .tooltip rect{fill-opacity:.95;stroke-width:.5}#chart-d361554c-fa4b-42ee-8521-2f7a752e7131 .tooltip text{fill-opacity:1}#chart-d361554c-fa4b-42ee-8521-2f7a752e7131 .showable{visibility:hidden}#chart-d361554c-fa4b-42ee-8521-2f7a752e7131 .showable.shown{visibility:visible}#chart-d361554c-fa4b-42ee-8521-2f7a752e7131 .gauge-background{fill:rgba(229,229,229,1);stroke:none}#chart-d361554c-fa4b-42ee-8521-2f7a752e7131 .bg-lines{stroke:black;stroke-width:2px}</style><script type=\"text/javascript\">window.pygal = window.pygal || {};window.pygal.config = window.pygal.config || {};window.pygal.config['d361554c-fa4b-42ee-8521-2f7a752e7131'] = {\"allow_interruptions\": false, \"box_mode\": \"extremes\", \"classes\": [\"pygal-chart\"], \"css\": [\"file://style.css\", \"file://graph.css\"], \"defs\": [], \"disable_xml_declaration\": false, \"dots_size\": 2.5, \"dynamic_print_values\": false, \"explicit_size\": true, \"fill\": false, \"force_uri_protocol\": \"https\", \"formatter\": null, \"half_pie\": false, \"height\": 360, \"include_x_axis\": false, \"inner_radius\": 0, \"interpolate\": null, \"interpolation_parameters\": {}, \"interpolation_precision\": 250, \"inverse_y_axis\": false, \"js\": [\"//kozea.github.io/pygal.js/2.0.x/pygal-tooltips.min.js\"], \"legend_at_bottom\": false, \"legend_at_bottom_columns\": null, \"legend_box_size\": 12, \"logarithmic\": false, \"margin\": 20, \"margin_bottom\": null, \"margin_left\": null, \"margin_right\": null, \"margin_top\": null, \"max_scale\": 16, \"min_scale\": 4, \"missing_value_fill_truncation\": \"x\", \"no_data_text\": \"No data\", \"no_prefix\": false, \"order_min\": null, \"pretty_print\": false, \"print_labels\": false, \"print_values\": false, \"print_values_position\": \"center\", \"print_zeroes\": true, \"range\": null, \"rounded_bars\": null, \"secondary_range\": null, \"show_dots\": true, \"show_legend\": true, \"show_minor_x_labels\": true, \"show_minor_y_labels\": true, \"show_only_major_dots\": false, \"show_x_guides\": false, \"show_x_labels\": true, \"show_y_guides\": true, \"show_y_labels\": true, \"spacing\": 10, \"stack_from_top\": false, \"strict\": false, \"stroke\": true, \"stroke_style\": null, \"style\": {\"background\": \"black\", \"ci_colors\": [], \"colors\": [\"#ff5995\", \"#b6e354\", \"#feed6c\", \"#8cedff\", \"#9e6ffe\", \"#899ca1\", \"#f8f8f2\", \"#bf4646\", \"#516083\", \"#f92672\", \"#82b414\", \"#fd971f\", \"#56c2d6\", \"#808384\", \"#8c54fe\", \"#465457\"], \"font_family\": \"Consolas, \\\"Liberation Mono\\\", Menlo, Courier, monospace\", \"foreground\": \"#999\", \"foreground_strong\": \"#eee\", \"foreground_subtle\": \"#555\", \"guide_stroke_dasharray\": \"4,4\", \"label_font_family\": \"Consolas, \\\"Liberation Mono\\\", Menlo, Courier, monospace\", \"label_font_size\": 10, \"legend_font_family\": \"Consolas, \\\"Liberation Mono\\\", Menlo, Courier, monospace\", \"legend_font_size\": 14, \"major_guide_stroke_dasharray\": \"6,6\", \"major_label_font_family\": \"Consolas, \\\"Liberation Mono\\\", Menlo, Courier, monospace\", \"major_label_font_size\": 10, \"no_data_font_family\": \"Consolas, \\\"Liberation Mono\\\", Menlo, Courier, monospace\", \"no_data_font_size\": 64, \"opacity\": \".8\", \"opacity_hover\": \".4\", \"plot_background\": \"#111\", \"stroke_opacity\": \".8\", \"stroke_opacity_hover\": \".9\", \"title_font_family\": \"Consolas, \\\"Liberation Mono\\\", Menlo, Courier, monospace\", \"title_font_size\": 16, \"tooltip_font_family\": \"Consolas, \\\"Liberation Mono\\\", Menlo, Courier, monospace\", \"tooltip_font_size\": 14, \"transition\": \"250ms\", \"value_background\": \"rgba(229, 229, 229, 1)\", \"value_colors\": [], \"value_font_family\": \"Consolas, \\\"Liberation Mono\\\", Menlo, Courier, monospace\", \"value_font_size\": 16, \"value_label_font_family\": \"Consolas, \\\"Liberation Mono\\\", Menlo, Courier, monospace\", \"value_label_font_size\": 10}, \"title\": \"Wines by Quality\", \"tooltip_border_radius\": 0, \"tooltip_fancy_mode\": true, \"truncate_label\": null, \"truncate_legend\": null, \"width\": 640, \"x_label_rotation\": 0, \"x_labels\": null, \"x_labels_major\": null, \"x_labels_major_count\": null, \"x_labels_major_every\": null, \"x_title\": null, \"xrange\": null, \"y_label_rotation\": 0, \"y_labels\": null, \"y_labels_major\": null, \"y_labels_major_count\": null, \"y_labels_major_every\": null, \"y_title\": null, \"zero\": 0, \"legends\": [\"High Quality\", \"Medium Quality\", \"Low Quality\"]}</script><script type=\"text/javascript\" xlink:href=\"https://kozea.github.io/pygal.js/2.0.x/pygal-tooltips.min.js\"/></defs><title>Wines by Quality</title><g class=\"graph pie-graph vertical\"><rect class=\"background\" height=\"360\" width=\"640\" x=\"0\" y=\"0\"/><g class=\"plot\" transform=\"translate(159, 46)\"><rect class=\"background\" height=\"294\" width=\"460.4\" x=\"0\" y=\"0\"/><g class=\"series serie-0 color-0\"><g class=\"slices\"><g class=\"slice\"><path class=\"slice reactive tooltip-trigger\" d=\"M230.200000 14.700000 A132.300000 132.300000 0 0 1 329.828912 59.951910 L230.200000 147.000000 A0.000000 0.000000 0 0 0 230.200000 147.000000 z\"/><desc class=\"value\">217</desc><desc class=\"x centered\">257.55604987559275</desc><desc class=\"y centered\">86.77152637494386</desc></g></g></g><g class=\"series serie-1 color-1\"><g class=\"slices\"><g class=\"slice\"><path class=\"slice reactive tooltip-trigger\" d=\"M329.828912 59.951910 A132.300000 132.300000 0 1 1 197.781953 18.733246 L230.200000 147.000000 A0.000000 0.000000 0 1 0 230.200000 147.000000 z\"/><desc class=\"value\">1319</desc><desc class=\"x centered\">210.48915494217687</desc><desc class=\"y centered\">210.14511134764504</desc></g></g></g><g class=\"series serie-2 color-2\"><g class=\"slices\"><g class=\"slice\"><path class=\"slice reactive tooltip-trigger\" d=\"M197.781953 18.733246 A132.300000 132.300000 0 0 1 230.200000 14.700000 L230.200000 147.000000 A0.000000 0.000000 0 0 0 230.200000 147.000000 z\"/><desc class=\"value\">63</desc><desc class=\"x centered\">222.03300523456736</desc><desc class=\"y centered\">81.35609170302703</desc></g></g></g></g><g class=\"titles\"><text class=\"title plot_title\" x=\"320.0\" y=\"26\">Wines by Quality</text></g><g class=\"plot overlay\" transform=\"translate(159, 46)\"><g class=\"series serie-0 color-0\"/><g class=\"series serie-1 color-1\"/><g class=\"series serie-2 color-2\"/></g><g class=\"plot text-overlay\" transform=\"translate(159, 46)\"><g class=\"series serie-0 color-0\"/><g class=\"series serie-1 color-1\"/><g class=\"series serie-2 color-2\"/></g><g class=\"plot tooltip-overlay\" transform=\"translate(159, 46)\"><g class=\"tooltip\" style=\"opacity: 0\" transform=\"translate(0 0)\"><rect class=\"tooltip-box\" height=\"0\" rx=\"0\" ry=\"0\" width=\"0\"/><g class=\"text\"/></g></g><g class=\"legends\" transform=\"translate(10, 56)\"><g class=\"legend reactive activate-serie\" id=\"activate-serie-0\"><rect class=\"color-0 reactive\" height=\"12\" width=\"12\" x=\"0.0\" y=\"1.0\"/><text x=\"17.0\" y=\"11.2\">High Quality</text></g><g class=\"legend reactive activate-serie\" id=\"activate-serie-1\"><rect class=\"color-1 reactive\" height=\"12\" width=\"12\" x=\"0.0\" y=\"22.0\"/><text x=\"17.0\" y=\"32.2\">Medium Quality</text></g><g class=\"legend reactive activate-serie\" id=\"activate-serie-2\"><rect class=\"color-2 reactive\" height=\"12\" width=\"12\" x=\"0.0\" y=\"43.0\"/><text x=\"17.0\" y=\"53.2\">Low Quality</text></g></g><g class=\"legends\" transform=\"translate(630, 56)\"/></g></svg>\n",
       "            </figure>\n",
       "        </body>\n",
       "    </head>\n",
       "</html>\n"
      ],
      "text/plain": [
       "<IPython.core.display.HTML object>"
      ]
     },
     "metadata": {},
     "output_type": "display_data"
    }
   ],
   "source": [
    "display_chart(pie_chart)"
   ]
  },
  {
   "cell_type": "code",
   "execution_count": 22,
   "metadata": {},
   "outputs": [],
   "source": [
    "# create a donut chart\n",
    "pie_chart = pygal.Pie(width=640, height=360, explicit_size=True, sytle=DarkStyle, inner_radius = 0.5)"
   ]
  },
  {
   "cell_type": "code",
   "execution_count": 24,
   "metadata": {},
   "outputs": [
    {
     "data": {
      "text/html": [
       "\n",
       "<!DOCTYPE html>\n",
       "<html>\n",
       "    <head>\n",
       "    <script type=\"text/javascript\"\n",
       "            src=\"http://kozea.github.com/pygal.js/javascripts/svg.jquery.js\">\n",
       "    </script>\n",
       "    <script type=\"text/javascript\"\n",
       "            src=\"https://kozea.github.io/pygal.js/2.0.x/pygal-tooltips.min.js\">\n",
       "    </script>\n",
       "    <head>\n",
       "        <body>\n",
       "            <figure>\n",
       "                <?xml version='1.0' encoding='utf-8'?>\n",
       "<svg xmlns:xlink=\"http://www.w3.org/1999/xlink\" xmlns=\"http://www.w3.org/2000/svg\" id=\"chart-6197f0c2-3abc-47b6-9c0d-d8b2e7fbad11\" class=\"pygal-chart\" viewBox=\"0 0 640 360\" width=\"640\" height=\"360\"><!--Generated with pygal 2.4.0 (lxml) ©Kozea 2012-2016 on 2019-06-08--><!--http://pygal.org--><!--http://github.com/Kozea/pygal--><defs><style type=\"text/css\">#chart-6197f0c2-3abc-47b6-9c0d-d8b2e7fbad11{-webkit-user-select:none;-webkit-font-smoothing:antialiased;font-family:Consolas,\"Liberation Mono\",Menlo,Courier,monospace}#chart-6197f0c2-3abc-47b6-9c0d-d8b2e7fbad11 .title{font-family:Consolas,\"Liberation Mono\",Menlo,Courier,monospace;font-size:16px}#chart-6197f0c2-3abc-47b6-9c0d-d8b2e7fbad11 .legends .legend text{font-family:Consolas,\"Liberation Mono\",Menlo,Courier,monospace;font-size:14px}#chart-6197f0c2-3abc-47b6-9c0d-d8b2e7fbad11 .axis text{font-family:Consolas,\"Liberation Mono\",Menlo,Courier,monospace;font-size:10px}#chart-6197f0c2-3abc-47b6-9c0d-d8b2e7fbad11 .axis text.major{font-family:Consolas,\"Liberation Mono\",Menlo,Courier,monospace;font-size:10px}#chart-6197f0c2-3abc-47b6-9c0d-d8b2e7fbad11 .text-overlay text.value{font-family:Consolas,\"Liberation Mono\",Menlo,Courier,monospace;font-size:16px}#chart-6197f0c2-3abc-47b6-9c0d-d8b2e7fbad11 .text-overlay text.label{font-family:Consolas,\"Liberation Mono\",Menlo,Courier,monospace;font-size:10px}#chart-6197f0c2-3abc-47b6-9c0d-d8b2e7fbad11 .tooltip{font-family:Consolas,\"Liberation Mono\",Menlo,Courier,monospace;font-size:14px}#chart-6197f0c2-3abc-47b6-9c0d-d8b2e7fbad11 text.no_data{font-family:Consolas,\"Liberation Mono\",Menlo,Courier,monospace;font-size:64px}\n",
       "#chart-6197f0c2-3abc-47b6-9c0d-d8b2e7fbad11{background-color:rgba(249,249,249,1)}#chart-6197f0c2-3abc-47b6-9c0d-d8b2e7fbad11 path,#chart-6197f0c2-3abc-47b6-9c0d-d8b2e7fbad11 line,#chart-6197f0c2-3abc-47b6-9c0d-d8b2e7fbad11 rect,#chart-6197f0c2-3abc-47b6-9c0d-d8b2e7fbad11 circle{-webkit-transition:150ms;-moz-transition:150ms;transition:150ms}#chart-6197f0c2-3abc-47b6-9c0d-d8b2e7fbad11 .graph &gt; .background{fill:rgba(249,249,249,1)}#chart-6197f0c2-3abc-47b6-9c0d-d8b2e7fbad11 .plot &gt; .background{fill:rgba(255,255,255,1)}#chart-6197f0c2-3abc-47b6-9c0d-d8b2e7fbad11 .graph{fill:rgba(0,0,0,.87)}#chart-6197f0c2-3abc-47b6-9c0d-d8b2e7fbad11 text.no_data{fill:rgba(0,0,0,1)}#chart-6197f0c2-3abc-47b6-9c0d-d8b2e7fbad11 .title{fill:rgba(0,0,0,1)}#chart-6197f0c2-3abc-47b6-9c0d-d8b2e7fbad11 .legends .legend text{fill:rgba(0,0,0,.87)}#chart-6197f0c2-3abc-47b6-9c0d-d8b2e7fbad11 .legends .legend:hover text{fill:rgba(0,0,0,1)}#chart-6197f0c2-3abc-47b6-9c0d-d8b2e7fbad11 .axis .line{stroke:rgba(0,0,0,1)}#chart-6197f0c2-3abc-47b6-9c0d-d8b2e7fbad11 .axis .guide.line{stroke:rgba(0,0,0,.54)}#chart-6197f0c2-3abc-47b6-9c0d-d8b2e7fbad11 .axis .major.line{stroke:rgba(0,0,0,.87)}#chart-6197f0c2-3abc-47b6-9c0d-d8b2e7fbad11 .axis text.major{fill:rgba(0,0,0,1)}#chart-6197f0c2-3abc-47b6-9c0d-d8b2e7fbad11 .axis.y .guides:hover .guide.line,#chart-6197f0c2-3abc-47b6-9c0d-d8b2e7fbad11 .line-graph .axis.x .guides:hover .guide.line,#chart-6197f0c2-3abc-47b6-9c0d-d8b2e7fbad11 .stackedline-graph .axis.x .guides:hover .guide.line,#chart-6197f0c2-3abc-47b6-9c0d-d8b2e7fbad11 .xy-graph .axis.x .guides:hover .guide.line{stroke:rgba(0,0,0,1)}#chart-6197f0c2-3abc-47b6-9c0d-d8b2e7fbad11 .axis .guides:hover text{fill:rgba(0,0,0,1)}#chart-6197f0c2-3abc-47b6-9c0d-d8b2e7fbad11 .reactive{fill-opacity:.7;stroke-opacity:.8}#chart-6197f0c2-3abc-47b6-9c0d-d8b2e7fbad11 .ci{stroke:rgba(0,0,0,.87)}#chart-6197f0c2-3abc-47b6-9c0d-d8b2e7fbad11 .reactive.active,#chart-6197f0c2-3abc-47b6-9c0d-d8b2e7fbad11 .active .reactive{fill-opacity:.8;stroke-opacity:.9;stroke-width:4}#chart-6197f0c2-3abc-47b6-9c0d-d8b2e7fbad11 .ci .reactive.active{stroke-width:1.5}#chart-6197f0c2-3abc-47b6-9c0d-d8b2e7fbad11 .series text{fill:rgba(0,0,0,1)}#chart-6197f0c2-3abc-47b6-9c0d-d8b2e7fbad11 .tooltip rect{fill:rgba(255,255,255,1);stroke:rgba(0,0,0,1);-webkit-transition:opacity 150ms;-moz-transition:opacity 150ms;transition:opacity 150ms}#chart-6197f0c2-3abc-47b6-9c0d-d8b2e7fbad11 .tooltip .label{fill:rgba(0,0,0,.87)}#chart-6197f0c2-3abc-47b6-9c0d-d8b2e7fbad11 .tooltip .label{fill:rgba(0,0,0,.87)}#chart-6197f0c2-3abc-47b6-9c0d-d8b2e7fbad11 .tooltip .legend{font-size:.8em;fill:rgba(0,0,0,.54)}#chart-6197f0c2-3abc-47b6-9c0d-d8b2e7fbad11 .tooltip .x_label{font-size:.6em;fill:rgba(0,0,0,1)}#chart-6197f0c2-3abc-47b6-9c0d-d8b2e7fbad11 .tooltip .xlink{font-size:.5em;text-decoration:underline}#chart-6197f0c2-3abc-47b6-9c0d-d8b2e7fbad11 .tooltip .value{font-size:1.5em}#chart-6197f0c2-3abc-47b6-9c0d-d8b2e7fbad11 .bound{font-size:.5em}#chart-6197f0c2-3abc-47b6-9c0d-d8b2e7fbad11 .max-value{font-size:.75em;fill:rgba(0,0,0,.54)}#chart-6197f0c2-3abc-47b6-9c0d-d8b2e7fbad11 .map-element{fill:rgba(255,255,255,1);stroke:rgba(0,0,0,.54) !important}#chart-6197f0c2-3abc-47b6-9c0d-d8b2e7fbad11 .map-element .reactive{fill-opacity:inherit;stroke-opacity:inherit}#chart-6197f0c2-3abc-47b6-9c0d-d8b2e7fbad11 .color-0,#chart-6197f0c2-3abc-47b6-9c0d-d8b2e7fbad11 .color-0 a:visited{stroke:#F44336;fill:#F44336}#chart-6197f0c2-3abc-47b6-9c0d-d8b2e7fbad11 .color-1,#chart-6197f0c2-3abc-47b6-9c0d-d8b2e7fbad11 .color-1 a:visited{stroke:#3F51B5;fill:#3F51B5}#chart-6197f0c2-3abc-47b6-9c0d-d8b2e7fbad11 .color-2,#chart-6197f0c2-3abc-47b6-9c0d-d8b2e7fbad11 .color-2 a:visited{stroke:#009688;fill:#009688}#chart-6197f0c2-3abc-47b6-9c0d-d8b2e7fbad11 .text-overlay .color-0 text{fill:black}#chart-6197f0c2-3abc-47b6-9c0d-d8b2e7fbad11 .text-overlay .color-1 text{fill:black}#chart-6197f0c2-3abc-47b6-9c0d-d8b2e7fbad11 .text-overlay .color-2 text{fill:black}\n",
       "#chart-6197f0c2-3abc-47b6-9c0d-d8b2e7fbad11 text.no_data{text-anchor:middle}#chart-6197f0c2-3abc-47b6-9c0d-d8b2e7fbad11 .guide.line{fill:none}#chart-6197f0c2-3abc-47b6-9c0d-d8b2e7fbad11 .centered{text-anchor:middle}#chart-6197f0c2-3abc-47b6-9c0d-d8b2e7fbad11 .title{text-anchor:middle}#chart-6197f0c2-3abc-47b6-9c0d-d8b2e7fbad11 .legends .legend text{fill-opacity:1}#chart-6197f0c2-3abc-47b6-9c0d-d8b2e7fbad11 .axis.x text{text-anchor:middle}#chart-6197f0c2-3abc-47b6-9c0d-d8b2e7fbad11 .axis.x:not(.web) text[transform]{text-anchor:start}#chart-6197f0c2-3abc-47b6-9c0d-d8b2e7fbad11 .axis.x:not(.web) text[transform].backwards{text-anchor:end}#chart-6197f0c2-3abc-47b6-9c0d-d8b2e7fbad11 .axis.y text{text-anchor:end}#chart-6197f0c2-3abc-47b6-9c0d-d8b2e7fbad11 .axis.y text[transform].backwards{text-anchor:start}#chart-6197f0c2-3abc-47b6-9c0d-d8b2e7fbad11 .axis.y2 text{text-anchor:start}#chart-6197f0c2-3abc-47b6-9c0d-d8b2e7fbad11 .axis.y2 text[transform].backwards{text-anchor:end}#chart-6197f0c2-3abc-47b6-9c0d-d8b2e7fbad11 .axis .guide.line{stroke-dasharray:4,4}#chart-6197f0c2-3abc-47b6-9c0d-d8b2e7fbad11 .axis .major.guide.line{stroke-dasharray:6,6}#chart-6197f0c2-3abc-47b6-9c0d-d8b2e7fbad11 .horizontal .axis.y .guide.line,#chart-6197f0c2-3abc-47b6-9c0d-d8b2e7fbad11 .horizontal .axis.y2 .guide.line,#chart-6197f0c2-3abc-47b6-9c0d-d8b2e7fbad11 .vertical .axis.x .guide.line{opacity:0}#chart-6197f0c2-3abc-47b6-9c0d-d8b2e7fbad11 .horizontal .axis.always_show .guide.line,#chart-6197f0c2-3abc-47b6-9c0d-d8b2e7fbad11 .vertical .axis.always_show .guide.line{opacity:1 !important}#chart-6197f0c2-3abc-47b6-9c0d-d8b2e7fbad11 .axis.y .guides:hover .guide.line,#chart-6197f0c2-3abc-47b6-9c0d-d8b2e7fbad11 .axis.y2 .guides:hover .guide.line,#chart-6197f0c2-3abc-47b6-9c0d-d8b2e7fbad11 .axis.x .guides:hover .guide.line{opacity:1}#chart-6197f0c2-3abc-47b6-9c0d-d8b2e7fbad11 .axis .guides:hover text{opacity:1}#chart-6197f0c2-3abc-47b6-9c0d-d8b2e7fbad11 .nofill{fill:none}#chart-6197f0c2-3abc-47b6-9c0d-d8b2e7fbad11 .subtle-fill{fill-opacity:.2}#chart-6197f0c2-3abc-47b6-9c0d-d8b2e7fbad11 .dot{stroke-width:1px;fill-opacity:1}#chart-6197f0c2-3abc-47b6-9c0d-d8b2e7fbad11 .dot.active{stroke-width:5px}#chart-6197f0c2-3abc-47b6-9c0d-d8b2e7fbad11 .dot.negative{fill:transparent}#chart-6197f0c2-3abc-47b6-9c0d-d8b2e7fbad11 text,#chart-6197f0c2-3abc-47b6-9c0d-d8b2e7fbad11 tspan{stroke:none !important}#chart-6197f0c2-3abc-47b6-9c0d-d8b2e7fbad11 .series text.active{opacity:1}#chart-6197f0c2-3abc-47b6-9c0d-d8b2e7fbad11 .tooltip rect{fill-opacity:.95;stroke-width:.5}#chart-6197f0c2-3abc-47b6-9c0d-d8b2e7fbad11 .tooltip text{fill-opacity:1}#chart-6197f0c2-3abc-47b6-9c0d-d8b2e7fbad11 .showable{visibility:hidden}#chart-6197f0c2-3abc-47b6-9c0d-d8b2e7fbad11 .showable.shown{visibility:visible}#chart-6197f0c2-3abc-47b6-9c0d-d8b2e7fbad11 .gauge-background{fill:rgba(229,229,229,1);stroke:none}#chart-6197f0c2-3abc-47b6-9c0d-d8b2e7fbad11 .bg-lines{stroke:rgba(249,249,249,1);stroke-width:2px}</style><script type=\"text/javascript\">window.pygal = window.pygal || {};window.pygal.config = window.pygal.config || {};window.pygal.config['6197f0c2-3abc-47b6-9c0d-d8b2e7fbad11'] = {\"allow_interruptions\": false, \"box_mode\": \"extremes\", \"classes\": [\"pygal-chart\"], \"css\": [\"file://style.css\", \"file://graph.css\"], \"defs\": [], \"disable_xml_declaration\": false, \"dots_size\": 2.5, \"dynamic_print_values\": false, \"explicit_size\": true, \"fill\": false, \"force_uri_protocol\": \"https\", \"formatter\": null, \"half_pie\": false, \"height\": 360, \"include_x_axis\": false, \"inner_radius\": 0.5, \"interpolate\": null, \"interpolation_parameters\": {}, \"interpolation_precision\": 250, \"inverse_y_axis\": false, \"js\": [\"//kozea.github.io/pygal.js/2.0.x/pygal-tooltips.min.js\"], \"legend_at_bottom\": false, \"legend_at_bottom_columns\": null, \"legend_box_size\": 12, \"logarithmic\": false, \"margin\": 20, \"margin_bottom\": null, \"margin_left\": null, \"margin_right\": null, \"margin_top\": null, \"max_scale\": 16, \"min_scale\": 4, \"missing_value_fill_truncation\": \"x\", \"no_data_text\": \"No data\", \"no_prefix\": false, \"order_min\": null, \"pretty_print\": false, \"print_labels\": false, \"print_values\": false, \"print_values_position\": \"center\", \"print_zeroes\": true, \"range\": null, \"rounded_bars\": null, \"secondary_range\": null, \"show_dots\": true, \"show_legend\": true, \"show_minor_x_labels\": true, \"show_minor_y_labels\": true, \"show_only_major_dots\": false, \"show_x_guides\": false, \"show_x_labels\": true, \"show_y_guides\": true, \"show_y_labels\": true, \"spacing\": 10, \"stack_from_top\": false, \"strict\": false, \"stroke\": true, \"stroke_style\": null, \"style\": {\"background\": \"rgba(249, 249, 249, 1)\", \"ci_colors\": [], \"colors\": [\"#F44336\", \"#3F51B5\", \"#009688\", \"#FFC107\", \"#FF5722\", \"#9C27B0\", \"#03A9F4\", \"#8BC34A\", \"#FF9800\", \"#E91E63\", \"#2196F3\", \"#4CAF50\", \"#FFEB3B\", \"#673AB7\", \"#00BCD4\", \"#CDDC39\", \"#9E9E9E\", \"#607D8B\"], \"font_family\": \"Consolas, \\\"Liberation Mono\\\", Menlo, Courier, monospace\", \"foreground\": \"rgba(0, 0, 0, .87)\", \"foreground_strong\": \"rgba(0, 0, 0, 1)\", \"foreground_subtle\": \"rgba(0, 0, 0, .54)\", \"guide_stroke_dasharray\": \"4,4\", \"label_font_family\": \"Consolas, \\\"Liberation Mono\\\", Menlo, Courier, monospace\", \"label_font_size\": 10, \"legend_font_family\": \"Consolas, \\\"Liberation Mono\\\", Menlo, Courier, monospace\", \"legend_font_size\": 14, \"major_guide_stroke_dasharray\": \"6,6\", \"major_label_font_family\": \"Consolas, \\\"Liberation Mono\\\", Menlo, Courier, monospace\", \"major_label_font_size\": 10, \"no_data_font_family\": \"Consolas, \\\"Liberation Mono\\\", Menlo, Courier, monospace\", \"no_data_font_size\": 64, \"opacity\": \".7\", \"opacity_hover\": \".8\", \"plot_background\": \"rgba(255, 255, 255, 1)\", \"stroke_opacity\": \".8\", \"stroke_opacity_hover\": \".9\", \"title_font_family\": \"Consolas, \\\"Liberation Mono\\\", Menlo, Courier, monospace\", \"title_font_size\": 16, \"tooltip_font_family\": \"Consolas, \\\"Liberation Mono\\\", Menlo, Courier, monospace\", \"tooltip_font_size\": 14, \"transition\": \"150ms\", \"value_background\": \"rgba(229, 229, 229, 1)\", \"value_colors\": [], \"value_font_family\": \"Consolas, \\\"Liberation Mono\\\", Menlo, Courier, monospace\", \"value_font_size\": 16, \"value_label_font_family\": \"Consolas, \\\"Liberation Mono\\\", Menlo, Courier, monospace\", \"value_label_font_size\": 10}, \"title\": \"Wines by Quality\", \"tooltip_border_radius\": 0, \"tooltip_fancy_mode\": true, \"truncate_label\": null, \"truncate_legend\": null, \"width\": 640, \"x_label_rotation\": 0, \"x_labels\": null, \"x_labels_major\": null, \"x_labels_major_count\": null, \"x_labels_major_every\": null, \"x_title\": null, \"xrange\": null, \"y_label_rotation\": 0, \"y_labels\": null, \"y_labels_major\": null, \"y_labels_major_count\": null, \"y_labels_major_every\": null, \"y_title\": null, \"zero\": 0, \"legends\": [\"High Quality\", \"Medium Quality\", \"Low Quality\"]}</script><script type=\"text/javascript\" xlink:href=\"https://kozea.github.io/pygal.js/2.0.x/pygal-tooltips.min.js\"/></defs><title>Wines by Quality</title><g class=\"graph pie-graph vertical\"><rect class=\"background\" height=\"360\" width=\"640\" x=\"0\" y=\"0\"/><g class=\"plot\" transform=\"translate(159, 46)\"><rect class=\"background\" height=\"294\" width=\"460.4\" x=\"0\" y=\"0\"/><g class=\"series serie-0 color-0\"><g class=\"slices\"><g class=\"slice\"><path class=\"slice reactive tooltip-trigger\" d=\"M230.200000 14.700000 A132.300000 132.300000 0 0 1 329.828912 59.951910 L285.549395 98.639950 A73.500000 73.500000 0 0 0 230.200000 73.500000 z\"/><desc class=\"value\">217</desc><desc class=\"x centered\">272.75385536203316</desc><desc class=\"y centered\">53.311263249912685</desc></g></g></g><g class=\"series serie-1 color-1\"><g class=\"slices\"><g class=\"slice\"><path class=\"slice reactive tooltip-trigger\" d=\"M329.828912 59.951910 A132.300000 132.300000 0 1 1 197.781953 18.733246 L212.189974 75.740692 A73.500000 73.500000 0 1 0 285.549395 98.639950 z\"/><desc class=\"value\">1319</desc><desc class=\"x centered\">199.53868546560844</desc><desc class=\"y centered\">245.2257287630034</desc></g></g></g><g class=\"series serie-2 color-2\"><g class=\"slices\"><g class=\"slice\"><path class=\"slice reactive tooltip-trigger\" d=\"M197.781953 18.733246 A132.300000 132.300000 0 0 1 230.200000 14.700000 L230.200000 73.500000 A73.500000 73.500000 0 0 0 212.189974 75.740692 z\"/><desc class=\"value\">63</desc><desc class=\"x centered\">217.49578592043812</desc><desc class=\"y centered\">44.88725376026427</desc></g></g></g></g><g class=\"titles\"><text class=\"title plot_title\" x=\"320.0\" y=\"26\">Wines by Quality</text></g><g class=\"plot overlay\" transform=\"translate(159, 46)\"><g class=\"series serie-0 color-0\"/><g class=\"series serie-1 color-1\"/><g class=\"series serie-2 color-2\"/></g><g class=\"plot text-overlay\" transform=\"translate(159, 46)\"><g class=\"series serie-0 color-0\"/><g class=\"series serie-1 color-1\"/><g class=\"series serie-2 color-2\"/></g><g class=\"plot tooltip-overlay\" transform=\"translate(159, 46)\"><g class=\"tooltip\" style=\"opacity: 0\" transform=\"translate(0 0)\"><rect class=\"tooltip-box\" height=\"0\" rx=\"0\" ry=\"0\" width=\"0\"/><g class=\"text\"/></g></g><g class=\"legends\" transform=\"translate(10, 56)\"><g class=\"legend reactive activate-serie\" id=\"activate-serie-0\"><rect class=\"color-0 reactive\" height=\"12\" width=\"12\" x=\"0.0\" y=\"1.0\"/><text x=\"17.0\" y=\"11.2\">High Quality</text></g><g class=\"legend reactive activate-serie\" id=\"activate-serie-1\"><rect class=\"color-1 reactive\" height=\"12\" width=\"12\" x=\"0.0\" y=\"22.0\"/><text x=\"17.0\" y=\"32.2\">Medium Quality</text></g><g class=\"legend reactive activate-serie\" id=\"activate-serie-2\"><rect class=\"color-2 reactive\" height=\"12\" width=\"12\" x=\"0.0\" y=\"43.0\"/><text x=\"17.0\" y=\"53.2\">Low Quality</text></g></g><g class=\"legends\" transform=\"translate(630, 56)\"/></g></svg>\n",
       "            </figure>\n",
       "        </body>\n",
       "    </head>\n",
       "</html>\n"
      ],
      "text/plain": [
       "<IPython.core.display.HTML object>"
      ]
     },
     "metadata": {},
     "output_type": "display_data"
    }
   ],
   "source": [
    "pie_chart.title = 'Wines by Quality'\n",
    "pie_chart.add('High Quality', num_hi_qual)\n",
    "pie_chart.add('Medium Quality', num_med_qual)\n",
    "pie_chart.add('Low Quality', num_lo_qual)\n",
    "\n",
    "display_chart(pie_chart)"
   ]
  },
  {
   "cell_type": "code",
   "execution_count": 28,
   "metadata": {},
   "outputs": [],
   "source": [
    "# create half pie\n",
    "pie_chart = pygal.Pie(width=640, height=360, explict_size=True, style=DarkStyle, half_pie=True, inner_radius=0.5)"
   ]
  },
  {
   "cell_type": "code",
   "execution_count": 29,
   "metadata": {},
   "outputs": [
    {
     "data": {
      "text/html": [
       "\n",
       "<!DOCTYPE html>\n",
       "<html>\n",
       "    <head>\n",
       "    <script type=\"text/javascript\"\n",
       "            src=\"http://kozea.github.com/pygal.js/javascripts/svg.jquery.js\">\n",
       "    </script>\n",
       "    <script type=\"text/javascript\"\n",
       "            src=\"https://kozea.github.io/pygal.js/2.0.x/pygal-tooltips.min.js\">\n",
       "    </script>\n",
       "    <head>\n",
       "        <body>\n",
       "            <figure>\n",
       "                <?xml version='1.0' encoding='utf-8'?>\n",
       "<svg xmlns:xlink=\"http://www.w3.org/1999/xlink\" xmlns=\"http://www.w3.org/2000/svg\" id=\"chart-f46084de-db5d-4a2f-b6a1-649d982ef57a\" class=\"pygal-chart\" viewBox=\"0 0 640 360\"><!--Generated with pygal 2.4.0 (lxml) ©Kozea 2012-2016 on 2019-06-08--><!--http://pygal.org--><!--http://github.com/Kozea/pygal--><defs><style type=\"text/css\">#chart-f46084de-db5d-4a2f-b6a1-649d982ef57a{-webkit-user-select:none;-webkit-font-smoothing:antialiased;font-family:Consolas,\"Liberation Mono\",Menlo,Courier,monospace}#chart-f46084de-db5d-4a2f-b6a1-649d982ef57a .title{font-family:Consolas,\"Liberation Mono\",Menlo,Courier,monospace;font-size:16px}#chart-f46084de-db5d-4a2f-b6a1-649d982ef57a .legends .legend text{font-family:Consolas,\"Liberation Mono\",Menlo,Courier,monospace;font-size:14px}#chart-f46084de-db5d-4a2f-b6a1-649d982ef57a .axis text{font-family:Consolas,\"Liberation Mono\",Menlo,Courier,monospace;font-size:10px}#chart-f46084de-db5d-4a2f-b6a1-649d982ef57a .axis text.major{font-family:Consolas,\"Liberation Mono\",Menlo,Courier,monospace;font-size:10px}#chart-f46084de-db5d-4a2f-b6a1-649d982ef57a .text-overlay text.value{font-family:Consolas,\"Liberation Mono\",Menlo,Courier,monospace;font-size:16px}#chart-f46084de-db5d-4a2f-b6a1-649d982ef57a .text-overlay text.label{font-family:Consolas,\"Liberation Mono\",Menlo,Courier,monospace;font-size:10px}#chart-f46084de-db5d-4a2f-b6a1-649d982ef57a .tooltip{font-family:Consolas,\"Liberation Mono\",Menlo,Courier,monospace;font-size:14px}#chart-f46084de-db5d-4a2f-b6a1-649d982ef57a text.no_data{font-family:Consolas,\"Liberation Mono\",Menlo,Courier,monospace;font-size:64px}\n",
       "#chart-f46084de-db5d-4a2f-b6a1-649d982ef57a{background-color:black}#chart-f46084de-db5d-4a2f-b6a1-649d982ef57a path,#chart-f46084de-db5d-4a2f-b6a1-649d982ef57a line,#chart-f46084de-db5d-4a2f-b6a1-649d982ef57a rect,#chart-f46084de-db5d-4a2f-b6a1-649d982ef57a circle{-webkit-transition:250ms;-moz-transition:250ms;transition:250ms}#chart-f46084de-db5d-4a2f-b6a1-649d982ef57a .graph &gt; .background{fill:black}#chart-f46084de-db5d-4a2f-b6a1-649d982ef57a .plot &gt; .background{fill:#111}#chart-f46084de-db5d-4a2f-b6a1-649d982ef57a .graph{fill:#999}#chart-f46084de-db5d-4a2f-b6a1-649d982ef57a text.no_data{fill:#eee}#chart-f46084de-db5d-4a2f-b6a1-649d982ef57a .title{fill:#eee}#chart-f46084de-db5d-4a2f-b6a1-649d982ef57a .legends .legend text{fill:#999}#chart-f46084de-db5d-4a2f-b6a1-649d982ef57a .legends .legend:hover text{fill:#eee}#chart-f46084de-db5d-4a2f-b6a1-649d982ef57a .axis .line{stroke:#eee}#chart-f46084de-db5d-4a2f-b6a1-649d982ef57a .axis .guide.line{stroke:#555}#chart-f46084de-db5d-4a2f-b6a1-649d982ef57a .axis .major.line{stroke:#999}#chart-f46084de-db5d-4a2f-b6a1-649d982ef57a .axis text.major{fill:#eee}#chart-f46084de-db5d-4a2f-b6a1-649d982ef57a .axis.y .guides:hover .guide.line,#chart-f46084de-db5d-4a2f-b6a1-649d982ef57a .line-graph .axis.x .guides:hover .guide.line,#chart-f46084de-db5d-4a2f-b6a1-649d982ef57a .stackedline-graph .axis.x .guides:hover .guide.line,#chart-f46084de-db5d-4a2f-b6a1-649d982ef57a .xy-graph .axis.x .guides:hover .guide.line{stroke:#eee}#chart-f46084de-db5d-4a2f-b6a1-649d982ef57a .axis .guides:hover text{fill:#eee}#chart-f46084de-db5d-4a2f-b6a1-649d982ef57a .reactive{fill-opacity:.8;stroke-opacity:.8}#chart-f46084de-db5d-4a2f-b6a1-649d982ef57a .ci{stroke:#999}#chart-f46084de-db5d-4a2f-b6a1-649d982ef57a .reactive.active,#chart-f46084de-db5d-4a2f-b6a1-649d982ef57a .active .reactive{fill-opacity:.4;stroke-opacity:.9;stroke-width:4}#chart-f46084de-db5d-4a2f-b6a1-649d982ef57a .ci .reactive.active{stroke-width:1.5}#chart-f46084de-db5d-4a2f-b6a1-649d982ef57a .series text{fill:#eee}#chart-f46084de-db5d-4a2f-b6a1-649d982ef57a .tooltip rect{fill:#111;stroke:#eee;-webkit-transition:opacity 250ms;-moz-transition:opacity 250ms;transition:opacity 250ms}#chart-f46084de-db5d-4a2f-b6a1-649d982ef57a .tooltip .label{fill:#999}#chart-f46084de-db5d-4a2f-b6a1-649d982ef57a .tooltip .label{fill:#999}#chart-f46084de-db5d-4a2f-b6a1-649d982ef57a .tooltip .legend{font-size:.8em;fill:#555}#chart-f46084de-db5d-4a2f-b6a1-649d982ef57a .tooltip .x_label{font-size:.6em;fill:#eee}#chart-f46084de-db5d-4a2f-b6a1-649d982ef57a .tooltip .xlink{font-size:.5em;text-decoration:underline}#chart-f46084de-db5d-4a2f-b6a1-649d982ef57a .tooltip .value{font-size:1.5em}#chart-f46084de-db5d-4a2f-b6a1-649d982ef57a .bound{font-size:.5em}#chart-f46084de-db5d-4a2f-b6a1-649d982ef57a .max-value{font-size:.75em;fill:#555}#chart-f46084de-db5d-4a2f-b6a1-649d982ef57a .map-element{fill:#111;stroke:#555 !important}#chart-f46084de-db5d-4a2f-b6a1-649d982ef57a .map-element .reactive{fill-opacity:inherit;stroke-opacity:inherit}#chart-f46084de-db5d-4a2f-b6a1-649d982ef57a .color-0,#chart-f46084de-db5d-4a2f-b6a1-649d982ef57a .color-0 a:visited{stroke:#ff5995;fill:#ff5995}#chart-f46084de-db5d-4a2f-b6a1-649d982ef57a .color-1,#chart-f46084de-db5d-4a2f-b6a1-649d982ef57a .color-1 a:visited{stroke:#b6e354;fill:#b6e354}#chart-f46084de-db5d-4a2f-b6a1-649d982ef57a .color-2,#chart-f46084de-db5d-4a2f-b6a1-649d982ef57a .color-2 a:visited{stroke:#feed6c;fill:#feed6c}#chart-f46084de-db5d-4a2f-b6a1-649d982ef57a .text-overlay .color-0 text{fill:black}#chart-f46084de-db5d-4a2f-b6a1-649d982ef57a .text-overlay .color-1 text{fill:black}#chart-f46084de-db5d-4a2f-b6a1-649d982ef57a .text-overlay .color-2 text{fill:black}\n",
       "#chart-f46084de-db5d-4a2f-b6a1-649d982ef57a text.no_data{text-anchor:middle}#chart-f46084de-db5d-4a2f-b6a1-649d982ef57a .guide.line{fill:none}#chart-f46084de-db5d-4a2f-b6a1-649d982ef57a .centered{text-anchor:middle}#chart-f46084de-db5d-4a2f-b6a1-649d982ef57a .title{text-anchor:middle}#chart-f46084de-db5d-4a2f-b6a1-649d982ef57a .legends .legend text{fill-opacity:1}#chart-f46084de-db5d-4a2f-b6a1-649d982ef57a .axis.x text{text-anchor:middle}#chart-f46084de-db5d-4a2f-b6a1-649d982ef57a .axis.x:not(.web) text[transform]{text-anchor:start}#chart-f46084de-db5d-4a2f-b6a1-649d982ef57a .axis.x:not(.web) text[transform].backwards{text-anchor:end}#chart-f46084de-db5d-4a2f-b6a1-649d982ef57a .axis.y text{text-anchor:end}#chart-f46084de-db5d-4a2f-b6a1-649d982ef57a .axis.y text[transform].backwards{text-anchor:start}#chart-f46084de-db5d-4a2f-b6a1-649d982ef57a .axis.y2 text{text-anchor:start}#chart-f46084de-db5d-4a2f-b6a1-649d982ef57a .axis.y2 text[transform].backwards{text-anchor:end}#chart-f46084de-db5d-4a2f-b6a1-649d982ef57a .axis .guide.line{stroke-dasharray:4,4}#chart-f46084de-db5d-4a2f-b6a1-649d982ef57a .axis .major.guide.line{stroke-dasharray:6,6}#chart-f46084de-db5d-4a2f-b6a1-649d982ef57a .horizontal .axis.y .guide.line,#chart-f46084de-db5d-4a2f-b6a1-649d982ef57a .horizontal .axis.y2 .guide.line,#chart-f46084de-db5d-4a2f-b6a1-649d982ef57a .vertical .axis.x .guide.line{opacity:0}#chart-f46084de-db5d-4a2f-b6a1-649d982ef57a .horizontal .axis.always_show .guide.line,#chart-f46084de-db5d-4a2f-b6a1-649d982ef57a .vertical .axis.always_show .guide.line{opacity:1 !important}#chart-f46084de-db5d-4a2f-b6a1-649d982ef57a .axis.y .guides:hover .guide.line,#chart-f46084de-db5d-4a2f-b6a1-649d982ef57a .axis.y2 .guides:hover .guide.line,#chart-f46084de-db5d-4a2f-b6a1-649d982ef57a .axis.x .guides:hover .guide.line{opacity:1}#chart-f46084de-db5d-4a2f-b6a1-649d982ef57a .axis .guides:hover text{opacity:1}#chart-f46084de-db5d-4a2f-b6a1-649d982ef57a .nofill{fill:none}#chart-f46084de-db5d-4a2f-b6a1-649d982ef57a .subtle-fill{fill-opacity:.2}#chart-f46084de-db5d-4a2f-b6a1-649d982ef57a .dot{stroke-width:1px;fill-opacity:1}#chart-f46084de-db5d-4a2f-b6a1-649d982ef57a .dot.active{stroke-width:5px}#chart-f46084de-db5d-4a2f-b6a1-649d982ef57a .dot.negative{fill:transparent}#chart-f46084de-db5d-4a2f-b6a1-649d982ef57a text,#chart-f46084de-db5d-4a2f-b6a1-649d982ef57a tspan{stroke:none !important}#chart-f46084de-db5d-4a2f-b6a1-649d982ef57a .series text.active{opacity:1}#chart-f46084de-db5d-4a2f-b6a1-649d982ef57a .tooltip rect{fill-opacity:.95;stroke-width:.5}#chart-f46084de-db5d-4a2f-b6a1-649d982ef57a .tooltip text{fill-opacity:1}#chart-f46084de-db5d-4a2f-b6a1-649d982ef57a .showable{visibility:hidden}#chart-f46084de-db5d-4a2f-b6a1-649d982ef57a .showable.shown{visibility:visible}#chart-f46084de-db5d-4a2f-b6a1-649d982ef57a .gauge-background{fill:rgba(229,229,229,1);stroke:none}#chart-f46084de-db5d-4a2f-b6a1-649d982ef57a .bg-lines{stroke:black;stroke-width:2px}</style><script type=\"text/javascript\">window.pygal = window.pygal || {};window.pygal.config = window.pygal.config || {};window.pygal.config['f46084de-db5d-4a2f-b6a1-649d982ef57a'] = {\"allow_interruptions\": false, \"box_mode\": \"extremes\", \"classes\": [\"pygal-chart\"], \"css\": [\"file://style.css\", \"file://graph.css\"], \"defs\": [], \"disable_xml_declaration\": false, \"dots_size\": 2.5, \"dynamic_print_values\": false, \"explicit_size\": false, \"fill\": false, \"force_uri_protocol\": \"https\", \"formatter\": null, \"half_pie\": true, \"height\": 360, \"include_x_axis\": false, \"inner_radius\": 0.5, \"interpolate\": null, \"interpolation_parameters\": {}, \"interpolation_precision\": 250, \"inverse_y_axis\": false, \"js\": [\"//kozea.github.io/pygal.js/2.0.x/pygal-tooltips.min.js\"], \"legend_at_bottom\": false, \"legend_at_bottom_columns\": null, \"legend_box_size\": 12, \"logarithmic\": false, \"margin\": 20, \"margin_bottom\": null, \"margin_left\": null, \"margin_right\": null, \"margin_top\": null, \"max_scale\": 16, \"min_scale\": 4, \"missing_value_fill_truncation\": \"x\", \"no_data_text\": \"No data\", \"no_prefix\": false, \"order_min\": null, \"pretty_print\": false, \"print_labels\": false, \"print_values\": false, \"print_values_position\": \"center\", \"print_zeroes\": true, \"range\": null, \"rounded_bars\": null, \"secondary_range\": null, \"show_dots\": true, \"show_legend\": true, \"show_minor_x_labels\": true, \"show_minor_y_labels\": true, \"show_only_major_dots\": false, \"show_x_guides\": false, \"show_x_labels\": true, \"show_y_guides\": true, \"show_y_labels\": true, \"spacing\": 10, \"stack_from_top\": false, \"strict\": false, \"stroke\": true, \"stroke_style\": null, \"style\": {\"background\": \"black\", \"ci_colors\": [], \"colors\": [\"#ff5995\", \"#b6e354\", \"#feed6c\", \"#8cedff\", \"#9e6ffe\", \"#899ca1\", \"#f8f8f2\", \"#bf4646\", \"#516083\", \"#f92672\", \"#82b414\", \"#fd971f\", \"#56c2d6\", \"#808384\", \"#8c54fe\", \"#465457\"], \"font_family\": \"Consolas, \\\"Liberation Mono\\\", Menlo, Courier, monospace\", \"foreground\": \"#999\", \"foreground_strong\": \"#eee\", \"foreground_subtle\": \"#555\", \"guide_stroke_dasharray\": \"4,4\", \"label_font_family\": \"Consolas, \\\"Liberation Mono\\\", Menlo, Courier, monospace\", \"label_font_size\": 10, \"legend_font_family\": \"Consolas, \\\"Liberation Mono\\\", Menlo, Courier, monospace\", \"legend_font_size\": 14, \"major_guide_stroke_dasharray\": \"6,6\", \"major_label_font_family\": \"Consolas, \\\"Liberation Mono\\\", Menlo, Courier, monospace\", \"major_label_font_size\": 10, \"no_data_font_family\": \"Consolas, \\\"Liberation Mono\\\", Menlo, Courier, monospace\", \"no_data_font_size\": 64, \"opacity\": \".8\", \"opacity_hover\": \".4\", \"plot_background\": \"#111\", \"stroke_opacity\": \".8\", \"stroke_opacity_hover\": \".9\", \"title_font_family\": \"Consolas, \\\"Liberation Mono\\\", Menlo, Courier, monospace\", \"title_font_size\": 16, \"tooltip_font_family\": \"Consolas, \\\"Liberation Mono\\\", Menlo, Courier, monospace\", \"tooltip_font_size\": 14, \"transition\": \"250ms\", \"value_background\": \"rgba(229, 229, 229, 1)\", \"value_colors\": [], \"value_font_family\": \"Consolas, \\\"Liberation Mono\\\", Menlo, Courier, monospace\", \"value_font_size\": 16, \"value_label_font_family\": \"Consolas, \\\"Liberation Mono\\\", Menlo, Courier, monospace\", \"value_label_font_size\": 10}, \"title\": \"Wines by Quality\", \"tooltip_border_radius\": 0, \"tooltip_fancy_mode\": true, \"truncate_label\": null, \"truncate_legend\": null, \"width\": 640, \"x_label_rotation\": 0, \"x_labels\": null, \"x_labels_major\": null, \"x_labels_major_count\": null, \"x_labels_major_every\": null, \"x_title\": null, \"xrange\": null, \"y_label_rotation\": 0, \"y_labels\": null, \"y_labels_major\": null, \"y_labels_major_count\": null, \"y_labels_major_every\": null, \"y_title\": null, \"zero\": 0, \"legends\": [\"High Quality\", \"Medium Quality\", \"Low Quality\"]}</script><script type=\"text/javascript\" xlink:href=\"https://kozea.github.io/pygal.js/2.0.x/pygal-tooltips.min.js\"/></defs><title>Wines by Quality</title><g class=\"graph pie-graph vertical\"><rect class=\"background\" height=\"360\" width=\"640\" x=\"0\" y=\"0\"/><g class=\"plot\" transform=\"translate(159, 46)\"><rect class=\"background\" height=\"294\" width=\"460.4\" x=\"0\" y=\"0\"/><g class=\"series serie-0 color-0\"><g class=\"slices\"><g class=\"slice\"><path class=\"slice reactive tooltip-trigger\" d=\"M23.020000 235.200000 A207.180000 207.180000 0 0 1 41.566059 149.521596 L125.403366 187.600887 A115.100000 115.100000 0 0 0 115.100000 235.200000 z\"/><desc class=\"value\">217</desc><desc class=\"x centered\">72.70745897170923</desc><desc class=\"y centered\">201.1089583548383</desc></g></g></g><g class=\"series serie-1 color-1\"><g class=\"slices\"><g class=\"slice\"><path class=\"slice reactive tooltip-trigger\" d=\"M41.566059 149.521596 A207.180000 207.180000 0 0 1 435.794935 209.621195 L344.419408 220.989553 A115.100000 115.100000 0 0 0 125.403366 187.600887 z\"/><desc class=\"value\">1319</desc><desc class=\"x centered\">254.48497322771618</desc><desc class=\"y centered\">75.90047182954652</desc></g></g></g><g class=\"series serie-2 color-2\"><g class=\"slices\"><g class=\"slice\"><path class=\"slice reactive tooltip-trigger\" d=\"M435.794935 209.621195 A207.180000 207.180000 0 0 1 437.380000 235.200000 L345.300000 235.200000 A115.100000 115.100000 0 0 0 344.419408 220.989553 z\"/><desc class=\"value\">63</desc><desc class=\"x centered\">391.03149751663284</desc><desc class=\"y centered\">225.23360614076898</desc></g></g></g></g><g class=\"titles\"><text class=\"title plot_title\" x=\"320.0\" y=\"26\">Wines by Quality</text></g><g class=\"plot overlay\" transform=\"translate(159, 46)\"><g class=\"series serie-0 color-0\"/><g class=\"series serie-1 color-1\"/><g class=\"series serie-2 color-2\"/></g><g class=\"plot text-overlay\" transform=\"translate(159, 46)\"><g class=\"series serie-0 color-0\"/><g class=\"series serie-1 color-1\"/><g class=\"series serie-2 color-2\"/></g><g class=\"plot tooltip-overlay\" transform=\"translate(159, 46)\"><g class=\"tooltip\" style=\"opacity: 0\" transform=\"translate(0 0)\"><rect class=\"tooltip-box\" height=\"0\" rx=\"0\" ry=\"0\" width=\"0\"/><g class=\"text\"/></g></g><g class=\"legends\" transform=\"translate(10, 56)\"><g class=\"legend reactive activate-serie\" id=\"activate-serie-0\"><rect class=\"color-0 reactive\" height=\"12\" width=\"12\" x=\"0.0\" y=\"1.0\"/><text x=\"17.0\" y=\"11.2\">High Quality</text></g><g class=\"legend reactive activate-serie\" id=\"activate-serie-1\"><rect class=\"color-1 reactive\" height=\"12\" width=\"12\" x=\"0.0\" y=\"22.0\"/><text x=\"17.0\" y=\"32.2\">Medium Quality</text></g><g class=\"legend reactive activate-serie\" id=\"activate-serie-2\"><rect class=\"color-2 reactive\" height=\"12\" width=\"12\" x=\"0.0\" y=\"43.0\"/><text x=\"17.0\" y=\"53.2\">Low Quality</text></g></g><g class=\"legends\" transform=\"translate(630, 56)\"/></g></svg>\n",
       "            </figure>\n",
       "        </body>\n",
       "    </head>\n",
       "</html>\n"
      ],
      "text/plain": [
       "<IPython.core.display.HTML object>"
      ]
     },
     "metadata": {},
     "output_type": "display_data"
    }
   ],
   "source": [
    "pie_chart.title = \"Wines by Quality\"\n",
    "pie_chart.add('High Quality', num_hi_qual)\n",
    "pie_chart.add('Medium Quality', num_med_qual)\n",
    "pie_chart.add('Low Quality', num_lo_qual)\n",
    "\n",
    "display_chart(pie_chart)"
   ]
  },
  {
   "cell_type": "code",
   "execution_count": 30,
   "metadata": {},
   "outputs": [],
   "source": [
    "pie_chart2 = pygal.Pie(width=640, height= 360, explicit_size = True, style=DarkStyle)\n",
    "pie_chart2.title = \"Wines by Quality\""
   ]
  },
  {
   "cell_type": "code",
   "execution_count": 33,
   "metadata": {},
   "outputs": [
    {
     "data": {
      "text/html": [
       "\n",
       "<!DOCTYPE html>\n",
       "<html>\n",
       "    <head>\n",
       "    <script type=\"text/javascript\"\n",
       "            src=\"http://kozea.github.com/pygal.js/javascripts/svg.jquery.js\">\n",
       "    </script>\n",
       "    <script type=\"text/javascript\"\n",
       "            src=\"https://kozea.github.io/pygal.js/2.0.x/pygal-tooltips.min.js\">\n",
       "    </script>\n",
       "    <head>\n",
       "        <body>\n",
       "            <figure>\n",
       "                <?xml version='1.0' encoding='utf-8'?>\n",
       "<svg xmlns:xlink=\"http://www.w3.org/1999/xlink\" xmlns=\"http://www.w3.org/2000/svg\" id=\"chart-22a804ec-c5d2-420f-86b7-cf030614b06b\" class=\"pygal-chart\" viewBox=\"0 0 640 360\" width=\"640\" height=\"360\"><!--Generated with pygal 2.4.0 (lxml) ©Kozea 2012-2016 on 2019-06-08--><!--http://pygal.org--><!--http://github.com/Kozea/pygal--><defs><style type=\"text/css\">#chart-22a804ec-c5d2-420f-86b7-cf030614b06b{-webkit-user-select:none;-webkit-font-smoothing:antialiased;font-family:Consolas,\"Liberation Mono\",Menlo,Courier,monospace}#chart-22a804ec-c5d2-420f-86b7-cf030614b06b .title{font-family:Consolas,\"Liberation Mono\",Menlo,Courier,monospace;font-size:16px}#chart-22a804ec-c5d2-420f-86b7-cf030614b06b .legends .legend text{font-family:Consolas,\"Liberation Mono\",Menlo,Courier,monospace;font-size:14px}#chart-22a804ec-c5d2-420f-86b7-cf030614b06b .axis text{font-family:Consolas,\"Liberation Mono\",Menlo,Courier,monospace;font-size:10px}#chart-22a804ec-c5d2-420f-86b7-cf030614b06b .axis text.major{font-family:Consolas,\"Liberation Mono\",Menlo,Courier,monospace;font-size:10px}#chart-22a804ec-c5d2-420f-86b7-cf030614b06b .text-overlay text.value{font-family:Consolas,\"Liberation Mono\",Menlo,Courier,monospace;font-size:16px}#chart-22a804ec-c5d2-420f-86b7-cf030614b06b .text-overlay text.label{font-family:Consolas,\"Liberation Mono\",Menlo,Courier,monospace;font-size:10px}#chart-22a804ec-c5d2-420f-86b7-cf030614b06b .tooltip{font-family:Consolas,\"Liberation Mono\",Menlo,Courier,monospace;font-size:14px}#chart-22a804ec-c5d2-420f-86b7-cf030614b06b text.no_data{font-family:Consolas,\"Liberation Mono\",Menlo,Courier,monospace;font-size:64px}\n",
       "#chart-22a804ec-c5d2-420f-86b7-cf030614b06b{background-color:black}#chart-22a804ec-c5d2-420f-86b7-cf030614b06b path,#chart-22a804ec-c5d2-420f-86b7-cf030614b06b line,#chart-22a804ec-c5d2-420f-86b7-cf030614b06b rect,#chart-22a804ec-c5d2-420f-86b7-cf030614b06b circle{-webkit-transition:250ms;-moz-transition:250ms;transition:250ms}#chart-22a804ec-c5d2-420f-86b7-cf030614b06b .graph &gt; .background{fill:black}#chart-22a804ec-c5d2-420f-86b7-cf030614b06b .plot &gt; .background{fill:#111}#chart-22a804ec-c5d2-420f-86b7-cf030614b06b .graph{fill:#999}#chart-22a804ec-c5d2-420f-86b7-cf030614b06b text.no_data{fill:#eee}#chart-22a804ec-c5d2-420f-86b7-cf030614b06b .title{fill:#eee}#chart-22a804ec-c5d2-420f-86b7-cf030614b06b .legends .legend text{fill:#999}#chart-22a804ec-c5d2-420f-86b7-cf030614b06b .legends .legend:hover text{fill:#eee}#chart-22a804ec-c5d2-420f-86b7-cf030614b06b .axis .line{stroke:#eee}#chart-22a804ec-c5d2-420f-86b7-cf030614b06b .axis .guide.line{stroke:#555}#chart-22a804ec-c5d2-420f-86b7-cf030614b06b .axis .major.line{stroke:#999}#chart-22a804ec-c5d2-420f-86b7-cf030614b06b .axis text.major{fill:#eee}#chart-22a804ec-c5d2-420f-86b7-cf030614b06b .axis.y .guides:hover .guide.line,#chart-22a804ec-c5d2-420f-86b7-cf030614b06b .line-graph .axis.x .guides:hover .guide.line,#chart-22a804ec-c5d2-420f-86b7-cf030614b06b .stackedline-graph .axis.x .guides:hover .guide.line,#chart-22a804ec-c5d2-420f-86b7-cf030614b06b .xy-graph .axis.x .guides:hover .guide.line{stroke:#eee}#chart-22a804ec-c5d2-420f-86b7-cf030614b06b .axis .guides:hover text{fill:#eee}#chart-22a804ec-c5d2-420f-86b7-cf030614b06b .reactive{fill-opacity:.8;stroke-opacity:.8}#chart-22a804ec-c5d2-420f-86b7-cf030614b06b .ci{stroke:#999}#chart-22a804ec-c5d2-420f-86b7-cf030614b06b .reactive.active,#chart-22a804ec-c5d2-420f-86b7-cf030614b06b .active .reactive{fill-opacity:.4;stroke-opacity:.9;stroke-width:4}#chart-22a804ec-c5d2-420f-86b7-cf030614b06b .ci .reactive.active{stroke-width:1.5}#chart-22a804ec-c5d2-420f-86b7-cf030614b06b .series text{fill:#eee}#chart-22a804ec-c5d2-420f-86b7-cf030614b06b .tooltip rect{fill:#111;stroke:#eee;-webkit-transition:opacity 250ms;-moz-transition:opacity 250ms;transition:opacity 250ms}#chart-22a804ec-c5d2-420f-86b7-cf030614b06b .tooltip .label{fill:#999}#chart-22a804ec-c5d2-420f-86b7-cf030614b06b .tooltip .label{fill:#999}#chart-22a804ec-c5d2-420f-86b7-cf030614b06b .tooltip .legend{font-size:.8em;fill:#555}#chart-22a804ec-c5d2-420f-86b7-cf030614b06b .tooltip .x_label{font-size:.6em;fill:#eee}#chart-22a804ec-c5d2-420f-86b7-cf030614b06b .tooltip .xlink{font-size:.5em;text-decoration:underline}#chart-22a804ec-c5d2-420f-86b7-cf030614b06b .tooltip .value{font-size:1.5em}#chart-22a804ec-c5d2-420f-86b7-cf030614b06b .bound{font-size:.5em}#chart-22a804ec-c5d2-420f-86b7-cf030614b06b .max-value{font-size:.75em;fill:#555}#chart-22a804ec-c5d2-420f-86b7-cf030614b06b .map-element{fill:#111;stroke:#555 !important}#chart-22a804ec-c5d2-420f-86b7-cf030614b06b .map-element .reactive{fill-opacity:inherit;stroke-opacity:inherit}#chart-22a804ec-c5d2-420f-86b7-cf030614b06b .color-0,#chart-22a804ec-c5d2-420f-86b7-cf030614b06b .color-0 a:visited{stroke:#ff5995;fill:#ff5995}#chart-22a804ec-c5d2-420f-86b7-cf030614b06b .color-1,#chart-22a804ec-c5d2-420f-86b7-cf030614b06b .color-1 a:visited{stroke:#b6e354;fill:#b6e354}#chart-22a804ec-c5d2-420f-86b7-cf030614b06b .color-2,#chart-22a804ec-c5d2-420f-86b7-cf030614b06b .color-2 a:visited{stroke:#feed6c;fill:#feed6c}#chart-22a804ec-c5d2-420f-86b7-cf030614b06b .color-3,#chart-22a804ec-c5d2-420f-86b7-cf030614b06b .color-3 a:visited{stroke:#8cedff;fill:#8cedff}#chart-22a804ec-c5d2-420f-86b7-cf030614b06b .color-4,#chart-22a804ec-c5d2-420f-86b7-cf030614b06b .color-4 a:visited{stroke:#9e6ffe;fill:#9e6ffe}#chart-22a804ec-c5d2-420f-86b7-cf030614b06b .color-5,#chart-22a804ec-c5d2-420f-86b7-cf030614b06b .color-5 a:visited{stroke:#899ca1;fill:#899ca1}#chart-22a804ec-c5d2-420f-86b7-cf030614b06b .color-6,#chart-22a804ec-c5d2-420f-86b7-cf030614b06b .color-6 a:visited{stroke:#f8f8f2;fill:#f8f8f2}#chart-22a804ec-c5d2-420f-86b7-cf030614b06b .color-7,#chart-22a804ec-c5d2-420f-86b7-cf030614b06b .color-7 a:visited{stroke:#bf4646;fill:#bf4646}#chart-22a804ec-c5d2-420f-86b7-cf030614b06b .color-8,#chart-22a804ec-c5d2-420f-86b7-cf030614b06b .color-8 a:visited{stroke:#516083;fill:#516083}#chart-22a804ec-c5d2-420f-86b7-cf030614b06b .text-overlay .color-0 text{fill:black}#chart-22a804ec-c5d2-420f-86b7-cf030614b06b .text-overlay .color-1 text{fill:black}#chart-22a804ec-c5d2-420f-86b7-cf030614b06b .text-overlay .color-2 text{fill:black}#chart-22a804ec-c5d2-420f-86b7-cf030614b06b .text-overlay .color-3 text{fill:black}#chart-22a804ec-c5d2-420f-86b7-cf030614b06b .text-overlay .color-4 text{fill:black}#chart-22a804ec-c5d2-420f-86b7-cf030614b06b .text-overlay .color-5 text{fill:black}#chart-22a804ec-c5d2-420f-86b7-cf030614b06b .text-overlay .color-6 text{fill:black}#chart-22a804ec-c5d2-420f-86b7-cf030614b06b .text-overlay .color-7 text{fill:black}#chart-22a804ec-c5d2-420f-86b7-cf030614b06b .text-overlay .color-8 text{fill:black}\n",
       "#chart-22a804ec-c5d2-420f-86b7-cf030614b06b text.no_data{text-anchor:middle}#chart-22a804ec-c5d2-420f-86b7-cf030614b06b .guide.line{fill:none}#chart-22a804ec-c5d2-420f-86b7-cf030614b06b .centered{text-anchor:middle}#chart-22a804ec-c5d2-420f-86b7-cf030614b06b .title{text-anchor:middle}#chart-22a804ec-c5d2-420f-86b7-cf030614b06b .legends .legend text{fill-opacity:1}#chart-22a804ec-c5d2-420f-86b7-cf030614b06b .axis.x text{text-anchor:middle}#chart-22a804ec-c5d2-420f-86b7-cf030614b06b .axis.x:not(.web) text[transform]{text-anchor:start}#chart-22a804ec-c5d2-420f-86b7-cf030614b06b .axis.x:not(.web) text[transform].backwards{text-anchor:end}#chart-22a804ec-c5d2-420f-86b7-cf030614b06b .axis.y text{text-anchor:end}#chart-22a804ec-c5d2-420f-86b7-cf030614b06b .axis.y text[transform].backwards{text-anchor:start}#chart-22a804ec-c5d2-420f-86b7-cf030614b06b .axis.y2 text{text-anchor:start}#chart-22a804ec-c5d2-420f-86b7-cf030614b06b .axis.y2 text[transform].backwards{text-anchor:end}#chart-22a804ec-c5d2-420f-86b7-cf030614b06b .axis .guide.line{stroke-dasharray:4,4}#chart-22a804ec-c5d2-420f-86b7-cf030614b06b .axis .major.guide.line{stroke-dasharray:6,6}#chart-22a804ec-c5d2-420f-86b7-cf030614b06b .horizontal .axis.y .guide.line,#chart-22a804ec-c5d2-420f-86b7-cf030614b06b .horizontal .axis.y2 .guide.line,#chart-22a804ec-c5d2-420f-86b7-cf030614b06b .vertical .axis.x .guide.line{opacity:0}#chart-22a804ec-c5d2-420f-86b7-cf030614b06b .horizontal .axis.always_show .guide.line,#chart-22a804ec-c5d2-420f-86b7-cf030614b06b .vertical .axis.always_show .guide.line{opacity:1 !important}#chart-22a804ec-c5d2-420f-86b7-cf030614b06b .axis.y .guides:hover .guide.line,#chart-22a804ec-c5d2-420f-86b7-cf030614b06b .axis.y2 .guides:hover .guide.line,#chart-22a804ec-c5d2-420f-86b7-cf030614b06b .axis.x .guides:hover .guide.line{opacity:1}#chart-22a804ec-c5d2-420f-86b7-cf030614b06b .axis .guides:hover text{opacity:1}#chart-22a804ec-c5d2-420f-86b7-cf030614b06b .nofill{fill:none}#chart-22a804ec-c5d2-420f-86b7-cf030614b06b .subtle-fill{fill-opacity:.2}#chart-22a804ec-c5d2-420f-86b7-cf030614b06b .dot{stroke-width:1px;fill-opacity:1}#chart-22a804ec-c5d2-420f-86b7-cf030614b06b .dot.active{stroke-width:5px}#chart-22a804ec-c5d2-420f-86b7-cf030614b06b .dot.negative{fill:transparent}#chart-22a804ec-c5d2-420f-86b7-cf030614b06b text,#chart-22a804ec-c5d2-420f-86b7-cf030614b06b tspan{stroke:none !important}#chart-22a804ec-c5d2-420f-86b7-cf030614b06b .series text.active{opacity:1}#chart-22a804ec-c5d2-420f-86b7-cf030614b06b .tooltip rect{fill-opacity:.95;stroke-width:.5}#chart-22a804ec-c5d2-420f-86b7-cf030614b06b .tooltip text{fill-opacity:1}#chart-22a804ec-c5d2-420f-86b7-cf030614b06b .showable{visibility:hidden}#chart-22a804ec-c5d2-420f-86b7-cf030614b06b .showable.shown{visibility:visible}#chart-22a804ec-c5d2-420f-86b7-cf030614b06b .gauge-background{fill:rgba(229,229,229,1);stroke:none}#chart-22a804ec-c5d2-420f-86b7-cf030614b06b .bg-lines{stroke:black;stroke-width:2px}</style><script type=\"text/javascript\">window.pygal = window.pygal || {};window.pygal.config = window.pygal.config || {};window.pygal.config['22a804ec-c5d2-420f-86b7-cf030614b06b'] = {\"allow_interruptions\": false, \"box_mode\": \"extremes\", \"classes\": [\"pygal-chart\"], \"css\": [\"file://style.css\", \"file://graph.css\"], \"defs\": [], \"disable_xml_declaration\": false, \"dots_size\": 2.5, \"dynamic_print_values\": false, \"explicit_size\": true, \"fill\": false, \"force_uri_protocol\": \"https\", \"formatter\": null, \"half_pie\": false, \"height\": 360, \"include_x_axis\": false, \"inner_radius\": 0, \"interpolate\": null, \"interpolation_parameters\": {}, \"interpolation_precision\": 250, \"inverse_y_axis\": false, \"js\": [\"//kozea.github.io/pygal.js/2.0.x/pygal-tooltips.min.js\"], \"legend_at_bottom\": false, \"legend_at_bottom_columns\": null, \"legend_box_size\": 12, \"logarithmic\": false, \"margin\": 20, \"margin_bottom\": null, \"margin_left\": null, \"margin_right\": null, \"margin_top\": null, \"max_scale\": 16, \"min_scale\": 4, \"missing_value_fill_truncation\": \"x\", \"no_data_text\": \"No data\", \"no_prefix\": false, \"order_min\": null, \"pretty_print\": false, \"print_labels\": false, \"print_values\": false, \"print_values_position\": \"center\", \"print_zeroes\": true, \"range\": null, \"rounded_bars\": null, \"secondary_range\": null, \"show_dots\": true, \"show_legend\": true, \"show_minor_x_labels\": true, \"show_minor_y_labels\": true, \"show_only_major_dots\": false, \"show_x_guides\": false, \"show_x_labels\": true, \"show_y_guides\": true, \"show_y_labels\": true, \"spacing\": 10, \"stack_from_top\": false, \"strict\": false, \"stroke\": true, \"stroke_style\": null, \"style\": {\"background\": \"black\", \"ci_colors\": [], \"colors\": [\"#ff5995\", \"#b6e354\", \"#feed6c\", \"#8cedff\", \"#9e6ffe\", \"#899ca1\", \"#f8f8f2\", \"#bf4646\", \"#516083\", \"#f92672\", \"#82b414\", \"#fd971f\", \"#56c2d6\", \"#808384\", \"#8c54fe\", \"#465457\"], \"font_family\": \"Consolas, \\\"Liberation Mono\\\", Menlo, Courier, monospace\", \"foreground\": \"#999\", \"foreground_strong\": \"#eee\", \"foreground_subtle\": \"#555\", \"guide_stroke_dasharray\": \"4,4\", \"label_font_family\": \"Consolas, \\\"Liberation Mono\\\", Menlo, Courier, monospace\", \"label_font_size\": 10, \"legend_font_family\": \"Consolas, \\\"Liberation Mono\\\", Menlo, Courier, monospace\", \"legend_font_size\": 14, \"major_guide_stroke_dasharray\": \"6,6\", \"major_label_font_family\": \"Consolas, \\\"Liberation Mono\\\", Menlo, Courier, monospace\", \"major_label_font_size\": 10, \"no_data_font_family\": \"Consolas, \\\"Liberation Mono\\\", Menlo, Courier, monospace\", \"no_data_font_size\": 64, \"opacity\": \".8\", \"opacity_hover\": \".4\", \"plot_background\": \"#111\", \"stroke_opacity\": \".8\", \"stroke_opacity_hover\": \".9\", \"title_font_family\": \"Consolas, \\\"Liberation Mono\\\", Menlo, Courier, monospace\", \"title_font_size\": 16, \"tooltip_font_family\": \"Consolas, \\\"Liberation Mono\\\", Menlo, Courier, monospace\", \"tooltip_font_size\": 14, \"transition\": \"250ms\", \"value_background\": \"rgba(229, 229, 229, 1)\", \"value_colors\": [], \"value_font_family\": \"Consolas, \\\"Liberation Mono\\\", Menlo, Courier, monospace\", \"value_font_size\": 16, \"value_label_font_family\": \"Consolas, \\\"Liberation Mono\\\", Menlo, Courier, monospace\", \"value_label_font_size\": 10}, \"title\": \"Wines by Quality\", \"tooltip_border_radius\": 0, \"tooltip_fancy_mode\": true, \"truncate_label\": null, \"truncate_legend\": null, \"width\": 640, \"x_label_rotation\": 0, \"x_labels\": null, \"x_labels_major\": null, \"x_labels_major_count\": null, \"x_labels_major_every\": null, \"x_title\": null, \"xrange\": null, \"y_label_rotation\": 0, \"y_labels\": null, \"y_labels_major\": null, \"y_labels_major_count\": null, \"y_labels_major_every\": null, \"y_title\": null, \"zero\": 0, \"legends\": [\"Low Quality\", \"Medium Quality\", \"High Quality\", \"Low Quality\", \"Medium Quality\", \"High Quality\", \"Low Quality\", \"Medium Quality\", \"High Quality\"]}</script><script type=\"text/javascript\" xlink:href=\"https://kozea.github.io/pygal.js/2.0.x/pygal-tooltips.min.js\"/></defs><title>Wines by Quality</title><g class=\"graph pie-graph vertical\"><rect class=\"background\" height=\"360\" width=\"640\" x=\"0\" y=\"0\"/><g class=\"plot\" transform=\"translate(159, 46)\"><rect class=\"background\" height=\"294\" width=\"460.4\" x=\"0\" y=\"0\"/><g class=\"series serie-0 color-0\"><g class=\"slices\"><g class=\"slice\"><path class=\"slice reactive tooltip-trigger\" d=\"M230.200000 0.000000 A147.000000 147.000000 0 0 1 232.125374 0.012610 L231.932836 14.711349 A132.300000 132.300000 0 0 0 230.200000 14.700000 z\"/><desc class=\"value\">10</desc><desc class=\"x centered\">231.11457218659277</desc><desc class=\"y centered\">7.352994812937311</desc></g><g class=\"slice\"><path class=\"slice reactive tooltip-trigger\" d=\"M232.125374 0.012610 A147.000000 147.000000 0 0 1 242.316440 0.500198 L241.104796 15.150179 A132.300000 132.300000 0 0 0 231.932836 14.711349 z\"/><desc class=\"value\">53</desc><desc class=\"x centered\">236.87388167175519</desc><desc class=\"y centered\">7.509563756394357</desc></g><g class=\"big_slice\"><path class=\"slice reactive tooltip-trigger\" d=\"M230.200000 14.700000 A132.300000 132.300000 0 0 1 241.104796 15.150179 L230.200000 147.000000 A0.000000 0.000000 0 0 0 230.200000 147.000000 z\"/><desc class=\"value\">63</desc><desc class=\"x centered\">232.92852116620276</desc><desc class=\"y centered\">80.90629627380847</desc></g></g></g><g class=\"series serie-1 color-1\"><g class=\"slices\"><g class=\"slice\"><path class=\"slice reactive tooltip-trigger\" d=\"M242.316440 0.500198 A147.000000 147.000000 0 0 1 351.831147 64.447809 L339.668032 72.703028 A132.300000 132.300000 0 0 0 241.104796 15.150179 z\"/><desc class=\"value\">681</desc><desc class=\"x centered\">300.61819162573096</desc><desc class=\"y centered\">26.40397689740415</desc></g><g class=\"slice\"><path class=\"slice reactive tooltip-trigger\" d=\"M351.831147 64.447809 A147.000000 147.000000 0 0 1 373.008710 181.852152 L358.727839 178.366936 A132.300000 132.300000 0 0 0 339.668032 72.703028 z\"/><desc class=\"value\">638</desc><desc class=\"x centered\">367.6320522402546</desc><desc class=\"y centered\">122.20981006462591</desc></g><g class=\"big_slice\"><path class=\"slice reactive tooltip-trigger\" d=\"M241.104796 15.150179 A132.300000 132.300000 0 0 1 358.727839 178.366936 L230.200000 147.000000 A0.000000 0.000000 0 0 0 230.200000 147.000000 z\"/><desc class=\"value\">1319</desc><desc class=\"x centered\">283.8663126133813</desc><desc class=\"y centered\">108.32508060146954</desc></g></g></g><g class=\"series serie-2 color-2\"><g class=\"slices\"><g class=\"slice\"><path class=\"slice reactive tooltip-trigger\" d=\"M373.008710 181.852152 A147.000000 147.000000 0 0 1 359.203079 217.478405 L346.302771 210.430564 A132.300000 132.300000 0 0 0 358.727839 178.366936 z\"/><desc class=\"value\">199</desc><desc class=\"x centered\">360.41488764500605</desc><desc class=\"y centered\">197.4599399087876</desc></g><g class=\"slice\"><path class=\"slice reactive tooltip-trigger\" d=\"M359.203079 217.478405 A147.000000 147.000000 0 0 1 357.505734 220.500000 L344.775161 213.150000 A132.300000 132.300000 0 0 0 346.302771 210.430564 z\"/><desc class=\"value\">18</desc><desc class=\"x centered\">351.9551462812381</desc><desc class=\"y centered\">215.39449432545217</desc></g><g class=\"big_slice\"><path class=\"slice reactive tooltip-trigger\" d=\"M358.727839 178.366936 A132.300000 132.300000 0 0 1 344.775161 213.150000 L230.200000 147.000000 A0.000000 0.000000 0 0 0 230.200000 147.000000 z\"/><desc class=\"value\">217</desc><desc class=\"x centered\">291.59469128585016</desc><desc class=\"y centered\">171.6275127025681</desc></g></g></g><g class=\"series serie-3 color-3\"><g class=\"slices\"><g class=\"slice\"><path class=\"slice reactive tooltip-trigger\" d=\"M357.505734 220.500000 A147.000000 147.000000 0 0 1 356.532127 222.161118 L343.898914 214.645006 A132.300000 132.300000 0 0 0 344.775161 213.150000 z\"/><desc class=\"value\">10</desc><desc class=\"x centered\">350.68056796111716</desc><desc class=\"y centered\">217.61554534071536</desc></g><g class=\"slice\"><path class=\"slice reactive tooltip-trigger\" d=\"M356.532127 222.161118 A147.000000 147.000000 0 0 1 351.014330 230.743046 L338.932897 222.368741 A132.300000 132.300000 0 0 0 343.898914 214.645006 z\"/><desc class=\"value\">53</desc><desc class=\"x centered\">347.6653205360585</desc><desc class=\"y centered\">222.52496919139412</desc></g><g class=\"big_slice\"><path class=\"slice reactive tooltip-trigger\" d=\"M344.775161 213.150000 A132.300000 132.300000 0 0 1 338.932897 222.368741 L230.200000 147.000000 A0.000000 0.000000 0 0 0 230.200000 147.000000 z\"/><desc class=\"value\">63</desc><desc class=\"x centered\">286.0745658739827</desc><desc class=\"y centered\">182.4098205077909</desc></g></g></g><g class=\"series serie-4 color-4\"><g class=\"slices\"><g class=\"slice\"><path class=\"slice reactive tooltip-trigger\" d=\"M351.014330 230.743046 A147.000000 147.000000 0 0 1 240.876721 293.611758 L239.809049 278.950582 A132.300000 132.300000 0 0 0 338.932897 222.368741 z\"/><desc class=\"value\">681</desc><desc class=\"x centered\">299.43012378935765</desc><desc class=\"y centered\">268.2819543877415</desc></g><g class=\"slice\"><path class=\"slice reactive tooltip-trigger\" d=\"M240.876721 293.611758 A147.000000 147.000000 0 0 1 128.612797 253.249895 L138.771517 242.624905 A132.300000 132.300000 0 0 0 239.809049 278.950582 z\"/><desc class=\"value\">638</desc><desc class=\"x centered\">182.952908128548</desc><desc class=\"y centered\">278.4147435019777</desc></g><g class=\"big_slice\"><path class=\"slice reactive tooltip-trigger\" d=\"M338.932897 222.368741 A132.300000 132.300000 0 0 1 138.771517 242.624905 L230.200000 147.000000 A0.000000 0.000000 0 0 0 230.200000 147.000000 z\"/><desc class=\"value\">1319</desc><desc class=\"x centered\">236.8603063817523</desc><desc class=\"y centered\">212.81384974989072</desc></g></g></g><g class=\"series serie-5 color-5\"><g class=\"slices\"><g class=\"slice\"><path class=\"slice reactive tooltip-trigger\" d=\"M128.612797 253.249895 A147.000000 147.000000 0 0 1 104.662372 223.480742 L117.216134 215.832667 A132.300000 132.300000 0 0 0 138.771517 242.624905 z\"/><desc class=\"value\">199</desc><desc class=\"x centered\">121.39296634305072</desc><desc class=\"y centered\">234.53943069711792</desc></g><g class=\"slice\"><path class=\"slice reactive tooltip-trigger\" d=\"M104.662372 223.480742 A147.000000 147.000000 0 0 1 102.894266 220.500000 L115.624839 213.150000 A132.300000 132.300000 0 0 0 117.216134 215.832667 z\"/><desc class=\"value\">18</desc><desc class=\"x centered\">110.09105729454876</desc><desc class=\"y centered\">218.2458025583166</desc></g><g class=\"big_slice\"><path class=\"slice reactive tooltip-trigger\" d=\"M138.771517 242.624905 A132.300000 132.300000 0 0 1 115.624839 213.150000 L230.200000 147.000000 A0.000000 0.000000 0 0 0 230.200000 147.000000 z\"/><desc class=\"value\">217</desc><desc class=\"x centered\">178.174602724627</desc><desc class=\"y centered\">187.8556059597653</desc></g></g></g><g class=\"series serie-6 color-6\"><g class=\"slices\"><g class=\"slice\"><path class=\"slice reactive tooltip-trigger\" d=\"M102.894266 220.500000 A147.000000 147.000000 0 0 1 101.942499 218.826273 L114.768249 211.643645 A132.300000 132.300000 0 0 0 115.624839 213.150000 z\"/><desc class=\"value\">10</desc><desc class=\"x centered\">108.8048598522901</desc><desc class=\"y centered\">216.03145984634742</desc></g><g class=\"slice\"><path class=\"slice reactive tooltip-trigger\" d=\"M101.942499 218.826273 A147.000000 147.000000 0 0 1 97.269230 209.756756 L110.562307 203.481080 A132.300000 132.300000 0 0 0 114.768249 211.643645 z\"/><desc class=\"value\">53</desc><desc class=\"x centered\">106.06079779218634</desc><desc class=\"y centered\">210.9654670522115</desc></g><g class=\"big_slice\"><path class=\"slice reactive tooltip-trigger\" d=\"M115.624839 213.150000 A132.300000 132.300000 0 0 1 110.562307 203.481080 L230.200000 147.000000 A0.000000 0.000000 0 0 0 230.200000 147.000000 z\"/><desc class=\"value\">63</desc><desc class=\"x centered\">171.59691295981455</desc><desc class=\"y centered\">177.68388321840067</desc></g></g></g><g class=\"series serie-7 color-7\"><g class=\"slices\"><g class=\"slice\"><path class=\"slice reactive tooltip-trigger\" d=\"M97.269230 209.756756 A147.000000 147.000000 0 0 1 97.892132 82.940433 L111.122919 89.346389 A132.300000 132.300000 0 0 0 110.562307 203.481080 z\"/><desc class=\"value\">681</desc><desc class=\"x centered\">90.55168458491144</desc><desc class=\"y centered\">146.31406871485427</desc></g><g class=\"slice\"><path class=\"slice reactive tooltip-trigger\" d=\"M97.892132 82.940433 A147.000000 147.000000 0 0 1 188.978494 5.897954 L193.100645 20.008158 A132.300000 132.300000 0 0 0 111.122919 89.346389 z\"/><desc class=\"value\">638</desc><desc class=\"x centered\">140.01503963119734</desc><desc class=\"y centered\">40.37544643339652</desc></g><g class=\"big_slice\"><path class=\"slice reactive tooltip-trigger\" d=\"M110.562307 203.481080 A132.300000 132.300000 0 0 1 193.100645 20.008158 L230.200000 147.000000 A0.000000 0.000000 0 0 0 230.200000 147.000000 z\"/><desc class=\"value\">1319</desc><desc class=\"x centered\">169.87338100486636</desc><desc class=\"y centered\">119.86106964863974</desc></g></g></g><g class=\"series serie-8 color-8\"><g class=\"slices\"><g class=\"slice\"><path class=\"slice reactive tooltip-trigger\" d=\"M188.978494 5.897954 A147.000000 147.000000 0 0 1 226.734549 0.040854 L227.081094 14.736768 A132.300000 132.300000 0 0 0 193.100645 20.008158 z\"/><desc class=\"value\">199</desc><desc class=\"x centered\">208.79214601194323</desc><desc class=\"y centered\">9.000629394094545</desc></g><g class=\"slice\"><path class=\"slice reactive tooltip-trigger\" d=\"M226.734549 0.040854 A147.000000 147.000000 0 0 1 230.200000 0.000000 L230.200000 14.700000 A132.300000 132.300000 0 0 0 227.081094 14.736768 z\"/><desc class=\"value\">18</desc><desc class=\"x centered\">228.55379642421323</desc><desc class=\"y centered\">7.359703116231287</desc></g><g class=\"big_slice\"><path class=\"slice reactive tooltip-trigger\" d=\"M193.100645 20.008158 A132.300000 132.300000 0 0 1 230.200000 14.700000 L230.200000 147.000000 A0.000000 0.000000 0 0 0 230.200000 147.000000 z\"/><desc class=\"value\">217</desc><desc class=\"x centered\">220.83070598952284</desc><desc class=\"y centered\">81.51688133766659</desc></g></g></g></g><g class=\"titles\"><text class=\"title plot_title\" x=\"320.0\" y=\"26\">Wines by Quality</text></g><g class=\"plot overlay\" transform=\"translate(159, 46)\"><g class=\"series serie-0 color-0\"/><g class=\"series serie-1 color-1\"/><g class=\"series serie-2 color-2\"/><g class=\"series serie-3 color-3\"/><g class=\"series serie-4 color-4\"/><g class=\"series serie-5 color-5\"/><g class=\"series serie-6 color-6\"/><g class=\"series serie-7 color-7\"/><g class=\"series serie-8 color-8\"/></g><g class=\"plot text-overlay\" transform=\"translate(159, 46)\"><g class=\"series serie-0 color-0\"/><g class=\"series serie-1 color-1\"/><g class=\"series serie-2 color-2\"/><g class=\"series serie-3 color-3\"/><g class=\"series serie-4 color-4\"/><g class=\"series serie-5 color-5\"/><g class=\"series serie-6 color-6\"/><g class=\"series serie-7 color-7\"/><g class=\"series serie-8 color-8\"/></g><g class=\"plot tooltip-overlay\" transform=\"translate(159, 46)\"><g class=\"tooltip\" style=\"opacity: 0\" transform=\"translate(0 0)\"><rect class=\"tooltip-box\" height=\"0\" rx=\"0\" ry=\"0\" width=\"0\"/><g class=\"text\"/></g></g><g class=\"legends\" transform=\"translate(10, 56)\"><g class=\"legend reactive activate-serie\" id=\"activate-serie-0\"><rect class=\"color-0 reactive\" height=\"12\" width=\"12\" x=\"0.0\" y=\"1.0\"/><text x=\"17.0\" y=\"11.2\">Low Quality</text></g><g class=\"legend reactive activate-serie\" id=\"activate-serie-1\"><rect class=\"color-1 reactive\" height=\"12\" width=\"12\" x=\"0.0\" y=\"22.0\"/><text x=\"17.0\" y=\"32.2\">Medium Quality</text></g><g class=\"legend reactive activate-serie\" id=\"activate-serie-2\"><rect class=\"color-2 reactive\" height=\"12\" width=\"12\" x=\"0.0\" y=\"43.0\"/><text x=\"17.0\" y=\"53.2\">High Quality</text></g><g class=\"legend reactive activate-serie\" id=\"activate-serie-3\"><rect class=\"color-3 reactive\" height=\"12\" width=\"12\" x=\"0.0\" y=\"64.0\"/><text x=\"17.0\" y=\"74.2\">Low Quality</text></g><g class=\"legend reactive activate-serie\" id=\"activate-serie-4\"><rect class=\"color-4 reactive\" height=\"12\" width=\"12\" x=\"0.0\" y=\"85.0\"/><text x=\"17.0\" y=\"95.2\">Medium Quality</text></g><g class=\"legend reactive activate-serie\" id=\"activate-serie-5\"><rect class=\"color-5 reactive\" height=\"12\" width=\"12\" x=\"0.0\" y=\"106.0\"/><text x=\"17.0\" y=\"116.2\">High Quality</text></g><g class=\"legend reactive activate-serie\" id=\"activate-serie-6\"><rect class=\"color-6 reactive\" height=\"12\" width=\"12\" x=\"0.0\" y=\"127.0\"/><text x=\"17.0\" y=\"137.2\">Low Quality</text></g><g class=\"legend reactive activate-serie\" id=\"activate-serie-7\"><rect class=\"color-7 reactive\" height=\"12\" width=\"12\" x=\"0.0\" y=\"148.0\"/><text x=\"17.0\" y=\"158.2\">Medium Quality</text></g><g class=\"legend reactive activate-serie\" id=\"activate-serie-8\"><rect class=\"color-8 reactive\" height=\"12\" width=\"12\" x=\"0.0\" y=\"169.0\"/><text x=\"17.0\" y=\"179.2\">High Quality</text></g></g><g class=\"legends\" transform=\"translate(630, 56)\"/></g></svg>\n",
       "            </figure>\n",
       "        </body>\n",
       "    </head>\n",
       "</html>\n"
      ],
      "text/plain": [
       "<IPython.core.display.HTML object>"
      ]
     },
     "metadata": {},
     "output_type": "display_data"
    }
   ],
   "source": [
    "pie_chart2.add('Low Quality', [counts_df[3], counts_df[4]])\n",
    "pie_chart2.add('Medium Quality', [counts_df[5], counts_df[6]])\n",
    "pie_chart2.add('High Quality', [counts_df[7], counts_df[8]])\n",
    "display_chart(pie_chart2)"
   ]
  },
  {
   "cell_type": "code",
   "execution_count": 35,
   "metadata": {},
   "outputs": [
    {
     "data": {
      "text/html": [
       "\n",
       "<!DOCTYPE html>\n",
       "<html>\n",
       "    <head>\n",
       "    <script type=\"text/javascript\"\n",
       "            src=\"http://kozea.github.com/pygal.js/javascripts/svg.jquery.js\">\n",
       "    </script>\n",
       "    <script type=\"text/javascript\"\n",
       "            src=\"https://kozea.github.io/pygal.js/2.0.x/pygal-tooltips.min.js\">\n",
       "    </script>\n",
       "    <head>\n",
       "        <body>\n",
       "            <figure>\n",
       "                <?xml version='1.0' encoding='utf-8'?>\n",
       "<svg xmlns:xlink=\"http://www.w3.org/1999/xlink\" xmlns=\"http://www.w3.org/2000/svg\" id=\"chart-22a804ec-c5d2-420f-86b7-cf030614b06b\" class=\"pygal-chart\" viewBox=\"0 0 640 360\" width=\"640\" height=\"360\"><!--Generated with pygal 2.4.0 (lxml) ©Kozea 2012-2016 on 2019-06-08--><!--http://pygal.org--><!--http://github.com/Kozea/pygal--><defs><style type=\"text/css\">#chart-22a804ec-c5d2-420f-86b7-cf030614b06b{-webkit-user-select:none;-webkit-font-smoothing:antialiased;font-family:Consolas,\"Liberation Mono\",Menlo,Courier,monospace}#chart-22a804ec-c5d2-420f-86b7-cf030614b06b .title{font-family:Consolas,\"Liberation Mono\",Menlo,Courier,monospace;font-size:16px}#chart-22a804ec-c5d2-420f-86b7-cf030614b06b .legends .legend text{font-family:Consolas,\"Liberation Mono\",Menlo,Courier,monospace;font-size:14px}#chart-22a804ec-c5d2-420f-86b7-cf030614b06b .axis text{font-family:Consolas,\"Liberation Mono\",Menlo,Courier,monospace;font-size:10px}#chart-22a804ec-c5d2-420f-86b7-cf030614b06b .axis text.major{font-family:Consolas,\"Liberation Mono\",Menlo,Courier,monospace;font-size:10px}#chart-22a804ec-c5d2-420f-86b7-cf030614b06b .text-overlay text.value{font-family:Consolas,\"Liberation Mono\",Menlo,Courier,monospace;font-size:16px}#chart-22a804ec-c5d2-420f-86b7-cf030614b06b .text-overlay text.label{font-family:Consolas,\"Liberation Mono\",Menlo,Courier,monospace;font-size:10px}#chart-22a804ec-c5d2-420f-86b7-cf030614b06b .tooltip{font-family:Consolas,\"Liberation Mono\",Menlo,Courier,monospace;font-size:14px}#chart-22a804ec-c5d2-420f-86b7-cf030614b06b text.no_data{font-family:Consolas,\"Liberation Mono\",Menlo,Courier,monospace;font-size:64px}\n",
       "#chart-22a804ec-c5d2-420f-86b7-cf030614b06b{background-color:black}#chart-22a804ec-c5d2-420f-86b7-cf030614b06b path,#chart-22a804ec-c5d2-420f-86b7-cf030614b06b line,#chart-22a804ec-c5d2-420f-86b7-cf030614b06b rect,#chart-22a804ec-c5d2-420f-86b7-cf030614b06b circle{-webkit-transition:250ms;-moz-transition:250ms;transition:250ms}#chart-22a804ec-c5d2-420f-86b7-cf030614b06b .graph &gt; .background{fill:black}#chart-22a804ec-c5d2-420f-86b7-cf030614b06b .plot &gt; .background{fill:#111}#chart-22a804ec-c5d2-420f-86b7-cf030614b06b .graph{fill:#999}#chart-22a804ec-c5d2-420f-86b7-cf030614b06b text.no_data{fill:#eee}#chart-22a804ec-c5d2-420f-86b7-cf030614b06b .title{fill:#eee}#chart-22a804ec-c5d2-420f-86b7-cf030614b06b .legends .legend text{fill:#999}#chart-22a804ec-c5d2-420f-86b7-cf030614b06b .legends .legend:hover text{fill:#eee}#chart-22a804ec-c5d2-420f-86b7-cf030614b06b .axis .line{stroke:#eee}#chart-22a804ec-c5d2-420f-86b7-cf030614b06b .axis .guide.line{stroke:#555}#chart-22a804ec-c5d2-420f-86b7-cf030614b06b .axis .major.line{stroke:#999}#chart-22a804ec-c5d2-420f-86b7-cf030614b06b .axis text.major{fill:#eee}#chart-22a804ec-c5d2-420f-86b7-cf030614b06b .axis.y .guides:hover .guide.line,#chart-22a804ec-c5d2-420f-86b7-cf030614b06b .line-graph .axis.x .guides:hover .guide.line,#chart-22a804ec-c5d2-420f-86b7-cf030614b06b .stackedline-graph .axis.x .guides:hover .guide.line,#chart-22a804ec-c5d2-420f-86b7-cf030614b06b .xy-graph .axis.x .guides:hover .guide.line{stroke:#eee}#chart-22a804ec-c5d2-420f-86b7-cf030614b06b .axis .guides:hover text{fill:#eee}#chart-22a804ec-c5d2-420f-86b7-cf030614b06b .reactive{fill-opacity:.8;stroke-opacity:.8}#chart-22a804ec-c5d2-420f-86b7-cf030614b06b .ci{stroke:#999}#chart-22a804ec-c5d2-420f-86b7-cf030614b06b .reactive.active,#chart-22a804ec-c5d2-420f-86b7-cf030614b06b .active .reactive{fill-opacity:.4;stroke-opacity:.9;stroke-width:4}#chart-22a804ec-c5d2-420f-86b7-cf030614b06b .ci .reactive.active{stroke-width:1.5}#chart-22a804ec-c5d2-420f-86b7-cf030614b06b .series text{fill:#eee}#chart-22a804ec-c5d2-420f-86b7-cf030614b06b .tooltip rect{fill:#111;stroke:#eee;-webkit-transition:opacity 250ms;-moz-transition:opacity 250ms;transition:opacity 250ms}#chart-22a804ec-c5d2-420f-86b7-cf030614b06b .tooltip .label{fill:#999}#chart-22a804ec-c5d2-420f-86b7-cf030614b06b .tooltip .label{fill:#999}#chart-22a804ec-c5d2-420f-86b7-cf030614b06b .tooltip .legend{font-size:.8em;fill:#555}#chart-22a804ec-c5d2-420f-86b7-cf030614b06b .tooltip .x_label{font-size:.6em;fill:#eee}#chart-22a804ec-c5d2-420f-86b7-cf030614b06b .tooltip .xlink{font-size:.5em;text-decoration:underline}#chart-22a804ec-c5d2-420f-86b7-cf030614b06b .tooltip .value{font-size:1.5em}#chart-22a804ec-c5d2-420f-86b7-cf030614b06b .bound{font-size:.5em}#chart-22a804ec-c5d2-420f-86b7-cf030614b06b .max-value{font-size:.75em;fill:#555}#chart-22a804ec-c5d2-420f-86b7-cf030614b06b .map-element{fill:#111;stroke:#555 !important}#chart-22a804ec-c5d2-420f-86b7-cf030614b06b .map-element .reactive{fill-opacity:inherit;stroke-opacity:inherit}#chart-22a804ec-c5d2-420f-86b7-cf030614b06b .color-0,#chart-22a804ec-c5d2-420f-86b7-cf030614b06b .color-0 a:visited{stroke:#ff5995;fill:#ff5995}#chart-22a804ec-c5d2-420f-86b7-cf030614b06b .color-1,#chart-22a804ec-c5d2-420f-86b7-cf030614b06b .color-1 a:visited{stroke:#b6e354;fill:#b6e354}#chart-22a804ec-c5d2-420f-86b7-cf030614b06b .color-2,#chart-22a804ec-c5d2-420f-86b7-cf030614b06b .color-2 a:visited{stroke:#feed6c;fill:#feed6c}#chart-22a804ec-c5d2-420f-86b7-cf030614b06b .color-3,#chart-22a804ec-c5d2-420f-86b7-cf030614b06b .color-3 a:visited{stroke:#8cedff;fill:#8cedff}#chart-22a804ec-c5d2-420f-86b7-cf030614b06b .color-4,#chart-22a804ec-c5d2-420f-86b7-cf030614b06b .color-4 a:visited{stroke:#9e6ffe;fill:#9e6ffe}#chart-22a804ec-c5d2-420f-86b7-cf030614b06b .color-5,#chart-22a804ec-c5d2-420f-86b7-cf030614b06b .color-5 a:visited{stroke:#899ca1;fill:#899ca1}#chart-22a804ec-c5d2-420f-86b7-cf030614b06b .color-6,#chart-22a804ec-c5d2-420f-86b7-cf030614b06b .color-6 a:visited{stroke:#f8f8f2;fill:#f8f8f2}#chart-22a804ec-c5d2-420f-86b7-cf030614b06b .color-7,#chart-22a804ec-c5d2-420f-86b7-cf030614b06b .color-7 a:visited{stroke:#bf4646;fill:#bf4646}#chart-22a804ec-c5d2-420f-86b7-cf030614b06b .color-8,#chart-22a804ec-c5d2-420f-86b7-cf030614b06b .color-8 a:visited{stroke:#516083;fill:#516083}#chart-22a804ec-c5d2-420f-86b7-cf030614b06b .color-9,#chart-22a804ec-c5d2-420f-86b7-cf030614b06b .color-9 a:visited{stroke:#f92672;fill:#f92672}#chart-22a804ec-c5d2-420f-86b7-cf030614b06b .color-10,#chart-22a804ec-c5d2-420f-86b7-cf030614b06b .color-10 a:visited{stroke:#82b414;fill:#82b414}#chart-22a804ec-c5d2-420f-86b7-cf030614b06b .color-11,#chart-22a804ec-c5d2-420f-86b7-cf030614b06b .color-11 a:visited{stroke:#fd971f;fill:#fd971f}#chart-22a804ec-c5d2-420f-86b7-cf030614b06b .text-overlay .color-0 text{fill:black}#chart-22a804ec-c5d2-420f-86b7-cf030614b06b .text-overlay .color-1 text{fill:black}#chart-22a804ec-c5d2-420f-86b7-cf030614b06b .text-overlay .color-2 text{fill:black}#chart-22a804ec-c5d2-420f-86b7-cf030614b06b .text-overlay .color-3 text{fill:black}#chart-22a804ec-c5d2-420f-86b7-cf030614b06b .text-overlay .color-4 text{fill:black}#chart-22a804ec-c5d2-420f-86b7-cf030614b06b .text-overlay .color-5 text{fill:black}#chart-22a804ec-c5d2-420f-86b7-cf030614b06b .text-overlay .color-6 text{fill:black}#chart-22a804ec-c5d2-420f-86b7-cf030614b06b .text-overlay .color-7 text{fill:black}#chart-22a804ec-c5d2-420f-86b7-cf030614b06b .text-overlay .color-8 text{fill:black}#chart-22a804ec-c5d2-420f-86b7-cf030614b06b .text-overlay .color-9 text{fill:black}#chart-22a804ec-c5d2-420f-86b7-cf030614b06b .text-overlay .color-10 text{fill:black}#chart-22a804ec-c5d2-420f-86b7-cf030614b06b .text-overlay .color-11 text{fill:black}\n",
       "#chart-22a804ec-c5d2-420f-86b7-cf030614b06b text.no_data{text-anchor:middle}#chart-22a804ec-c5d2-420f-86b7-cf030614b06b .guide.line{fill:none}#chart-22a804ec-c5d2-420f-86b7-cf030614b06b .centered{text-anchor:middle}#chart-22a804ec-c5d2-420f-86b7-cf030614b06b .title{text-anchor:middle}#chart-22a804ec-c5d2-420f-86b7-cf030614b06b .legends .legend text{fill-opacity:1}#chart-22a804ec-c5d2-420f-86b7-cf030614b06b .axis.x text{text-anchor:middle}#chart-22a804ec-c5d2-420f-86b7-cf030614b06b .axis.x:not(.web) text[transform]{text-anchor:start}#chart-22a804ec-c5d2-420f-86b7-cf030614b06b .axis.x:not(.web) text[transform].backwards{text-anchor:end}#chart-22a804ec-c5d2-420f-86b7-cf030614b06b .axis.y text{text-anchor:end}#chart-22a804ec-c5d2-420f-86b7-cf030614b06b .axis.y text[transform].backwards{text-anchor:start}#chart-22a804ec-c5d2-420f-86b7-cf030614b06b .axis.y2 text{text-anchor:start}#chart-22a804ec-c5d2-420f-86b7-cf030614b06b .axis.y2 text[transform].backwards{text-anchor:end}#chart-22a804ec-c5d2-420f-86b7-cf030614b06b .axis .guide.line{stroke-dasharray:4,4}#chart-22a804ec-c5d2-420f-86b7-cf030614b06b .axis .major.guide.line{stroke-dasharray:6,6}#chart-22a804ec-c5d2-420f-86b7-cf030614b06b .horizontal .axis.y .guide.line,#chart-22a804ec-c5d2-420f-86b7-cf030614b06b .horizontal .axis.y2 .guide.line,#chart-22a804ec-c5d2-420f-86b7-cf030614b06b .vertical .axis.x .guide.line{opacity:0}#chart-22a804ec-c5d2-420f-86b7-cf030614b06b .horizontal .axis.always_show .guide.line,#chart-22a804ec-c5d2-420f-86b7-cf030614b06b .vertical .axis.always_show .guide.line{opacity:1 !important}#chart-22a804ec-c5d2-420f-86b7-cf030614b06b .axis.y .guides:hover .guide.line,#chart-22a804ec-c5d2-420f-86b7-cf030614b06b .axis.y2 .guides:hover .guide.line,#chart-22a804ec-c5d2-420f-86b7-cf030614b06b .axis.x .guides:hover .guide.line{opacity:1}#chart-22a804ec-c5d2-420f-86b7-cf030614b06b .axis .guides:hover text{opacity:1}#chart-22a804ec-c5d2-420f-86b7-cf030614b06b .nofill{fill:none}#chart-22a804ec-c5d2-420f-86b7-cf030614b06b .subtle-fill{fill-opacity:.2}#chart-22a804ec-c5d2-420f-86b7-cf030614b06b .dot{stroke-width:1px;fill-opacity:1}#chart-22a804ec-c5d2-420f-86b7-cf030614b06b .dot.active{stroke-width:5px}#chart-22a804ec-c5d2-420f-86b7-cf030614b06b .dot.negative{fill:transparent}#chart-22a804ec-c5d2-420f-86b7-cf030614b06b text,#chart-22a804ec-c5d2-420f-86b7-cf030614b06b tspan{stroke:none !important}#chart-22a804ec-c5d2-420f-86b7-cf030614b06b .series text.active{opacity:1}#chart-22a804ec-c5d2-420f-86b7-cf030614b06b .tooltip rect{fill-opacity:.95;stroke-width:.5}#chart-22a804ec-c5d2-420f-86b7-cf030614b06b .tooltip text{fill-opacity:1}#chart-22a804ec-c5d2-420f-86b7-cf030614b06b .showable{visibility:hidden}#chart-22a804ec-c5d2-420f-86b7-cf030614b06b .showable.shown{visibility:visible}#chart-22a804ec-c5d2-420f-86b7-cf030614b06b .gauge-background{fill:rgba(229,229,229,1);stroke:none}#chart-22a804ec-c5d2-420f-86b7-cf030614b06b .bg-lines{stroke:black;stroke-width:2px}</style><script type=\"text/javascript\">window.pygal = window.pygal || {};window.pygal.config = window.pygal.config || {};window.pygal.config['22a804ec-c5d2-420f-86b7-cf030614b06b'] = {\"allow_interruptions\": false, \"box_mode\": \"extremes\", \"classes\": [\"pygal-chart\"], \"css\": [\"file://style.css\", \"file://graph.css\"], \"defs\": [], \"disable_xml_declaration\": false, \"dots_size\": 2.5, \"dynamic_print_values\": false, \"explicit_size\": true, \"fill\": false, \"force_uri_protocol\": \"https\", \"formatter\": null, \"half_pie\": false, \"height\": 360, \"include_x_axis\": false, \"inner_radius\": 0, \"interpolate\": null, \"interpolation_parameters\": {}, \"interpolation_precision\": 250, \"inverse_y_axis\": false, \"js\": [\"//kozea.github.io/pygal.js/2.0.x/pygal-tooltips.min.js\"], \"legend_at_bottom\": false, \"legend_at_bottom_columns\": null, \"legend_box_size\": 12, \"logarithmic\": false, \"margin\": 20, \"margin_bottom\": null, \"margin_left\": null, \"margin_right\": null, \"margin_top\": null, \"max_scale\": 16, \"min_scale\": 4, \"missing_value_fill_truncation\": \"x\", \"no_data_text\": \"No data\", \"no_prefix\": false, \"order_min\": null, \"pretty_print\": false, \"print_labels\": false, \"print_values\": false, \"print_values_position\": \"center\", \"print_zeroes\": true, \"range\": null, \"rounded_bars\": null, \"secondary_range\": null, \"show_dots\": true, \"show_legend\": true, \"show_minor_x_labels\": true, \"show_minor_y_labels\": true, \"show_only_major_dots\": false, \"show_x_guides\": false, \"show_x_labels\": true, \"show_y_guides\": true, \"show_y_labels\": true, \"spacing\": 10, \"stack_from_top\": false, \"strict\": false, \"stroke\": true, \"stroke_style\": null, \"style\": {\"background\": \"black\", \"ci_colors\": [], \"colors\": [\"#ff5995\", \"#b6e354\", \"#feed6c\", \"#8cedff\", \"#9e6ffe\", \"#899ca1\", \"#f8f8f2\", \"#bf4646\", \"#516083\", \"#f92672\", \"#82b414\", \"#fd971f\", \"#56c2d6\", \"#808384\", \"#8c54fe\", \"#465457\"], \"font_family\": \"Consolas, \\\"Liberation Mono\\\", Menlo, Courier, monospace\", \"foreground\": \"#999\", \"foreground_strong\": \"#eee\", \"foreground_subtle\": \"#555\", \"guide_stroke_dasharray\": \"4,4\", \"label_font_family\": \"Consolas, \\\"Liberation Mono\\\", Menlo, Courier, monospace\", \"label_font_size\": 10, \"legend_font_family\": \"Consolas, \\\"Liberation Mono\\\", Menlo, Courier, monospace\", \"legend_font_size\": 14, \"major_guide_stroke_dasharray\": \"6,6\", \"major_label_font_family\": \"Consolas, \\\"Liberation Mono\\\", Menlo, Courier, monospace\", \"major_label_font_size\": 10, \"no_data_font_family\": \"Consolas, \\\"Liberation Mono\\\", Menlo, Courier, monospace\", \"no_data_font_size\": 64, \"opacity\": \".8\", \"opacity_hover\": \".4\", \"plot_background\": \"#111\", \"stroke_opacity\": \".8\", \"stroke_opacity_hover\": \".9\", \"title_font_family\": \"Consolas, \\\"Liberation Mono\\\", Menlo, Courier, monospace\", \"title_font_size\": 16, \"tooltip_font_family\": \"Consolas, \\\"Liberation Mono\\\", Menlo, Courier, monospace\", \"tooltip_font_size\": 14, \"transition\": \"250ms\", \"value_background\": \"rgba(229, 229, 229, 1)\", \"value_colors\": [], \"value_font_family\": \"Consolas, \\\"Liberation Mono\\\", Menlo, Courier, monospace\", \"value_font_size\": 16, \"value_label_font_family\": \"Consolas, \\\"Liberation Mono\\\", Menlo, Courier, monospace\", \"value_label_font_size\": 10}, \"title\": \"Wines by Quality\", \"tooltip_border_radius\": 0, \"tooltip_fancy_mode\": true, \"truncate_label\": null, \"truncate_legend\": null, \"width\": 640, \"x_label_rotation\": 0, \"x_labels\": null, \"x_labels_major\": null, \"x_labels_major_count\": null, \"x_labels_major_every\": null, \"x_title\": null, \"xrange\": null, \"y_label_rotation\": 0, \"y_labels\": null, \"y_labels_major\": null, \"y_labels_major_count\": null, \"y_labels_major_every\": null, \"y_title\": null, \"zero\": 0, \"legends\": [\"Low Quality\", \"Medium Quality\", \"High Quality\", \"Low Quality\", \"Medium Quality\", \"High Quality\", \"Low Quality\", \"Medium Quality\", \"High Quality\", \"Low Quality\", \"Medium Quality\", \"High Quality\"]}</script><script type=\"text/javascript\" xlink:href=\"https://kozea.github.io/pygal.js/2.0.x/pygal-tooltips.min.js\"/></defs><title>Wines by Quality</title><g class=\"graph pie-graph vertical\"><rect class=\"background\" height=\"360\" width=\"640\" x=\"0\" y=\"0\"/><g class=\"plot\" transform=\"translate(159, 46)\"><rect class=\"background\" height=\"294\" width=\"460.4\" x=\"0\" y=\"0\"/><g class=\"series serie-0 color-0\"><g class=\"slices\"><g class=\"slice\"><path class=\"slice reactive tooltip-trigger\" d=\"M230.200000 0.000000 A147.000000 147.000000 0 0 1 231.644048 0.007093 L231.499644 14.706384 A132.300000 132.300000 0 0 0 230.200000 14.700000 z\"/><desc class=\"value\">10</desc><desc class=\"x centered\">230.88593128514572</desc><desc class=\"y centered\">7.351684584911453</desc></g><g class=\"slice\"><path class=\"slice reactive tooltip-trigger\" d=\"M231.644048 0.007093 A147.000000 147.000000 0 0 1 239.291845 0.281431 L238.382660 14.953288 A132.300000 132.300000 0 0 0 231.499644 14.706384 z\"/><desc class=\"value\">53</desc><desc class=\"x centered\">235.20624562731555</desc><desc class=\"y centered\">7.4397620927830985</desc></g><g class=\"big_slice\"><path class=\"slice reactive tooltip-trigger\" d=\"M230.200000 14.700000 A132.300000 132.300000 0 0 1 238.382660 14.953288 L230.200000 147.000000 A0.000000 0.000000 0 0 0 230.200000 147.000000 z\"/><desc class=\"value\">63</desc><desc class=\"x centered\">232.24664492644862</desc><desc class=\"y centered\">80.88166861947404</desc></g></g></g><g class=\"series serie-1 color-1\"><g class=\"slices\"><g class=\"slice\"><path class=\"slice reactive tooltip-trigger\" d=\"M239.291845 0.281431 A147.000000 147.000000 0 0 1 328.325876 37.545386 L318.513288 48.490847 A132.300000 132.300000 0 0 0 238.382660 14.953288 z\"/><desc class=\"value\">681</desc><desc class=\"x centered\">284.1166679490867</desc><desc class=\"y centered\">18.177969984680317</desc></g><g class=\"slice\"><path class=\"slice reactive tooltip-trigger\" d=\"M328.325876 37.545386 A147.000000 147.000000 0 0 1 373.872605 115.900440 L359.505344 119.010396 A132.300000 132.300000 0 0 0 318.513288 48.490847 z\"/><desc class=\"value\">638</desc><desc class=\"x centered\">350.93414252112007</desc><desc class=\"y centered\">76.81888195753889</desc></g><g class=\"big_slice\"><path class=\"slice reactive tooltip-trigger\" d=\"M238.382660 14.953288 A132.300000 132.300000 0 0 1 359.505344 119.010396 L230.200000 147.000000 A0.000000 0.000000 0 0 0 230.200000 147.000000 z\"/><desc class=\"value\">1319</desc><desc class=\"x centered\">273.30657800998284</desc><desc class=\"y centered\">96.82385594458992</desc></g></g></g><g class=\"series serie-2 color-2\"><g class=\"slices\"><g class=\"slice\"><path class=\"slice reactive tooltip-trigger\" d=\"M373.872605 115.900440 A147.000000 147.000000 0 0 1 377.177019 144.400806 L362.479317 144.660726 A132.300000 132.300000 0 0 0 359.505344 119.010396 z\"/><desc class=\"value\">199</desc><desc class=\"x centered\">368.92071857395194</desc><desc class=\"y centered\">130.9163207465949</desc></g><g class=\"slice\"><path class=\"slice reactive tooltip-trigger\" d=\"M377.177019 144.400806 A147.000000 147.000000 0 0 1 377.200000 147.000000 L362.500000 147.000000 A132.300000 132.300000 0 0 0 362.479317 144.660726 z\"/><desc class=\"value\">18</desc><desc class=\"x centered\">369.8445419694672</desc><desc class=\"y centered\">145.76533480744072</desc></g><g class=\"big_slice\"><path class=\"slice reactive tooltip-trigger\" d=\"M359.505344 119.010396 A132.300000 132.300000 0 0 1 362.500000 147.000000 L230.200000 147.000000 A0.000000 0.000000 0 0 0 230.200000 147.000000 z\"/><desc class=\"value\">217</desc><desc class=\"x centered\">295.97460285785746</desc><desc class=\"y centered\">139.9626625140522</desc></g></g></g><g class=\"series serie-3 color-3\"><g class=\"slices\"><g class=\"slice\"><path class=\"slice reactive tooltip-trigger\" d=\"M377.200000 147.000000 A147.000000 147.000000 0 0 1 377.192907 148.444048 L362.493616 148.299644 A132.300000 132.300000 0 0 0 362.500000 147.000000 z\"/><desc class=\"value\">10</desc><desc class=\"x centered\">369.84831541508856</desc><desc class=\"y centered\">147.68593128514567</desc></g><g class=\"slice\"><path class=\"slice reactive tooltip-trigger\" d=\"M377.192907 148.444048 A147.000000 147.000000 0 0 1 376.918569 156.091845 L362.246712 155.182660 A132.300000 132.300000 0 0 0 362.493616 148.299644 z\"/><desc class=\"value\">53</desc><desc class=\"x centered\">369.7602379072169</desc><desc class=\"y centered\">152.0062456273155</desc></g><g class=\"big_slice\"><path class=\"slice reactive tooltip-trigger\" d=\"M362.500000 147.000000 A132.300000 132.300000 0 0 1 362.246712 155.182660 L230.200000 147.000000 A0.000000 0.000000 0 0 0 230.200000 147.000000 z\"/><desc class=\"value\">63</desc><desc class=\"x centered\">296.31833138052593</desc><desc class=\"y centered\">149.0466449264486</desc></g></g></g><g class=\"series serie-4 color-4\"><g class=\"slices\"><g class=\"slice\"><path class=\"slice reactive tooltip-trigger\" d=\"M376.918569 156.091845 A147.000000 147.000000 0 0 1 339.654614 245.125876 L328.709153 235.313288 A132.300000 132.300000 0 0 0 362.246712 155.182660 z\"/><desc class=\"value\">681</desc><desc class=\"x centered\">359.02203001531973</desc><desc class=\"y centered\">200.91666794908667</desc></g><g class=\"slice\"><path class=\"slice reactive tooltip-trigger\" d=\"M339.654614 245.125876 A147.000000 147.000000 0 0 1 261.299560 290.672605 L258.189604 276.305344 A132.300000 132.300000 0 0 0 328.709153 235.313288 z\"/><desc class=\"value\">638</desc><desc class=\"x centered\">300.3811180424611</desc><desc class=\"y centered\">267.73414252112013</desc></g><g class=\"big_slice\"><path class=\"slice reactive tooltip-trigger\" d=\"M362.246712 155.182660 A132.300000 132.300000 0 0 1 258.189604 276.305344 L230.200000 147.000000 A0.000000 0.000000 0 0 0 230.200000 147.000000 z\"/><desc class=\"value\">1319</desc><desc class=\"x centered\">280.37614405541007</desc><desc class=\"y centered\">190.10657800998285</desc></g></g></g><g class=\"series serie-5 color-5\"><g class=\"slices\"><g class=\"slice\"><path class=\"slice reactive tooltip-trigger\" d=\"M261.299560 290.672605 A147.000000 147.000000 0 0 1 232.799194 293.977019 L232.539274 279.279317 A132.300000 132.300000 0 0 0 258.189604 276.305344 z\"/><desc class=\"value\">199</desc><desc class=\"x centered\">246.28367925340513</desc><desc class=\"y centered\">285.720718573952</desc></g><g class=\"slice\"><path class=\"slice reactive tooltip-trigger\" d=\"M232.799194 293.977019 A147.000000 147.000000 0 0 1 230.200000 294.000000 L230.200000 279.300000 A132.300000 132.300000 0 0 0 232.539274 279.279317 z\"/><desc class=\"value\">18</desc><desc class=\"x centered\">231.43466519255927</desc><desc class=\"y centered\">286.6445419694672</desc></g><g class=\"big_slice\"><path class=\"slice reactive tooltip-trigger\" d=\"M258.189604 276.305344 A132.300000 132.300000 0 0 1 230.200000 279.300000 L230.200000 147.000000 A0.000000 0.000000 0 0 0 230.200000 147.000000 z\"/><desc class=\"value\">217</desc><desc class=\"x centered\">237.2373374859478</desc><desc class=\"y centered\">212.77460285785747</desc></g></g></g><g class=\"series serie-6 color-6\"><g class=\"slices\"><g class=\"slice\"><path class=\"slice reactive tooltip-trigger\" d=\"M230.200000 294.000000 A147.000000 147.000000 0 0 1 228.755952 293.992907 L228.900356 279.293616 A132.300000 132.300000 0 0 0 230.200000 279.300000 z\"/><desc class=\"value\">10</desc><desc class=\"x centered\">229.51406871485426</desc><desc class=\"y centered\">286.6483154150885</desc></g><g class=\"slice\"><path class=\"slice reactive tooltip-trigger\" d=\"M228.755952 293.992907 A147.000000 147.000000 0 0 1 221.108155 293.718569 L222.017340 279.046712 A132.300000 132.300000 0 0 0 228.900356 279.293616 z\"/><desc class=\"value\">53</desc><desc class=\"x centered\">225.19375437268445</desc><desc class=\"y centered\">286.5602379072169</desc></g><g class=\"big_slice\"><path class=\"slice reactive tooltip-trigger\" d=\"M230.200000 279.300000 A132.300000 132.300000 0 0 1 222.017340 279.046712 L230.200000 147.000000 A0.000000 0.000000 0 0 0 230.200000 147.000000 z\"/><desc class=\"value\">63</desc><desc class=\"x centered\">228.15335507355135</desc><desc class=\"y centered\">213.11833138052594</desc></g></g></g><g class=\"series serie-7 color-7\"><g class=\"slices\"><g class=\"slice\"><path class=\"slice reactive tooltip-trigger\" d=\"M221.108155 293.718569 A147.000000 147.000000 0 0 1 132.074124 256.454614 L141.886712 245.509153 A132.300000 132.300000 0 0 0 222.017340 279.046712 z\"/><desc class=\"value\">681</desc><desc class=\"x centered\">176.28333205091332</desc><desc class=\"y centered\">275.8220300153197</desc></g><g class=\"slice\"><path class=\"slice reactive tooltip-trigger\" d=\"M132.074124 256.454614 A147.000000 147.000000 0 0 1 86.527395 178.099560 L100.894656 174.989604 A132.300000 132.300000 0 0 0 141.886712 245.509153 z\"/><desc class=\"value\">638</desc><desc class=\"x centered\">109.46585747887988</desc><desc class=\"y centered\">217.18111804246112</desc></g><g class=\"big_slice\"><path class=\"slice reactive tooltip-trigger\" d=\"M222.017340 279.046712 A132.300000 132.300000 0 0 1 100.894656 174.989604 L230.200000 147.000000 A0.000000 0.000000 0 0 0 230.200000 147.000000 z\"/><desc class=\"value\">1319</desc><desc class=\"x centered\">187.09342199001713</desc><desc class=\"y centered\">197.17614405541008</desc></g></g></g><g class=\"series serie-8 color-8\"><g class=\"slices\"><g class=\"slice\"><path class=\"slice reactive tooltip-trigger\" d=\"M86.527395 178.099560 A147.000000 147.000000 0 0 1 83.222981 149.599194 L97.920683 149.339274 A132.300000 132.300000 0 0 0 100.894656 174.989604 z\"/><desc class=\"value\">199</desc><desc class=\"x centered\">91.479281426048</desc><desc class=\"y centered\">163.08367925340514</desc></g><g class=\"slice\"><path class=\"slice reactive tooltip-trigger\" d=\"M83.222981 149.599194 A147.000000 147.000000 0 0 1 83.200000 147.000000 L97.900000 147.000000 A132.300000 132.300000 0 0 0 97.920683 149.339274 z\"/><desc class=\"value\">18</desc><desc class=\"x centered\">90.5554580305328</desc><desc class=\"y centered\">148.23466519255933</desc></g><g class=\"big_slice\"><path class=\"slice reactive tooltip-trigger\" d=\"M100.894656 174.989604 A132.300000 132.300000 0 0 1 97.900000 147.000000 L230.200000 147.000000 A0.000000 0.000000 0 0 0 230.200000 147.000000 z\"/><desc class=\"value\">217</desc><desc class=\"x centered\">164.42539714214251</desc><desc class=\"y centered\">154.03733748594786</desc></g></g></g><g class=\"series serie-9 color-9\"><g class=\"slices\"><g class=\"slice\"><desc class=\"label\">3</desc><path class=\"slice reactive tooltip-trigger\" d=\"M83.200000 147.000000 A147.000000 147.000000 0 0 1 83.207093 145.555952 L97.906384 145.700356 A132.300000 132.300000 0 0 0 97.900000 147.000000 z\"/><desc class=\"value\">10</desc><desc class=\"x centered\">90.55168458491144</desc><desc class=\"y centered\">146.31406871485427</desc></g><g class=\"slice\"><desc class=\"label\">4</desc><path class=\"slice reactive tooltip-trigger\" d=\"M83.207093 145.555952 A147.000000 147.000000 0 0 1 83.481431 137.908155 L98.153288 138.817340 A132.300000 132.300000 0 0 0 97.906384 145.700356 z\"/><desc class=\"value\">53</desc><desc class=\"x centered\">90.63976209278309</desc><desc class=\"y centered\">141.9937543726844</desc></g><g class=\"big_slice\"><path class=\"slice reactive tooltip-trigger\" d=\"M97.900000 147.000000 A132.300000 132.300000 0 0 1 98.153288 138.817340 L230.200000 147.000000 A0.000000 0.000000 0 0 0 230.200000 147.000000 z\"/><desc class=\"value\">63</desc><desc class=\"x centered\">164.08166861947404</desc><desc class=\"y centered\">144.95335507355136</desc></g></g></g><g class=\"series serie-10 color-10\"><g class=\"slices\"><g class=\"slice\"><desc class=\"label\">5</desc><path class=\"slice reactive tooltip-trigger\" d=\"M83.481431 137.908155 A147.000000 147.000000 0 0 1 120.745386 48.874124 L131.690847 58.686712 A132.300000 132.300000 0 0 0 98.153288 138.817340 z\"/><desc class=\"value\">681</desc><desc class=\"x centered\">101.37796998468033</desc><desc class=\"y centered\">93.08333205091321</desc></g><g class=\"slice\"><desc class=\"label\">6</desc><path class=\"slice reactive tooltip-trigger\" d=\"M120.745386 48.874124 A147.000000 147.000000 0 0 1 199.100440 3.327395 L202.210396 17.694656 A132.300000 132.300000 0 0 0 131.690847 58.686712 z\"/><desc class=\"value\">638</desc><desc class=\"x centered\">160.01888195753887</desc><desc class=\"y centered\">26.265857478879894</desc></g><g class=\"big_slice\"><path class=\"slice reactive tooltip-trigger\" d=\"M98.153288 138.817340 A132.300000 132.300000 0 0 1 202.210396 17.694656 L230.200000 147.000000 A0.000000 0.000000 0 0 0 230.200000 147.000000 z\"/><desc class=\"value\">1319</desc><desc class=\"x centered\">180.02385594458994</desc><desc class=\"y centered\">103.89342199001712</desc></g></g></g><g class=\"series serie-11 color-11\"><g class=\"slices\"><g class=\"slice\"><desc class=\"label\">7</desc><path class=\"slice reactive tooltip-trigger\" d=\"M199.100440 3.327395 A147.000000 147.000000 0 0 1 227.600806 0.022981 L227.860726 14.720683 A132.300000 132.300000 0 0 0 202.210396 17.694656 z\"/><desc class=\"value\">199</desc><desc class=\"x centered\">214.11632074659497</desc><desc class=\"y centered\">8.279281426048016</desc></g><g class=\"slice\"><path class=\"slice reactive tooltip-trigger\" d=\"M227.600806 0.022981 A147.000000 147.000000 0 0 1 230.200000 0.000000 L230.200000 14.700000 A132.300000 132.300000 0 0 0 227.860726 14.720683 z\"/><desc class=\"value\">18</desc><desc class=\"x centered\">228.96533480744077</desc><desc class=\"y centered\">7.355458030532816</desc></g><g class=\"big_slice\"><path class=\"slice reactive tooltip-trigger\" d=\"M202.210396 17.694656 A132.300000 132.300000 0 0 1 230.200000 14.700000 L230.200000 147.000000 A0.000000 0.000000 0 0 0 230.200000 147.000000 z\"/><desc class=\"value\">217</desc><desc class=\"x centered\">223.1626625140522</desc><desc class=\"y centered\">81.22539714214251</desc></g></g></g></g><g class=\"titles\"><text class=\"title plot_title\" x=\"320.0\" y=\"26\">Wines by Quality</text></g><g class=\"plot overlay\" transform=\"translate(159, 46)\"><g class=\"series serie-0 color-0\"/><g class=\"series serie-1 color-1\"/><g class=\"series serie-2 color-2\"/><g class=\"series serie-3 color-3\"/><g class=\"series serie-4 color-4\"/><g class=\"series serie-5 color-5\"/><g class=\"series serie-6 color-6\"/><g class=\"series serie-7 color-7\"/><g class=\"series serie-8 color-8\"/><g class=\"series serie-9 color-9\"/><g class=\"series serie-10 color-10\"/><g class=\"series serie-11 color-11\"/></g><g class=\"plot text-overlay\" transform=\"translate(159, 46)\"><g class=\"series serie-0 color-0\"/><g class=\"series serie-1 color-1\"/><g class=\"series serie-2 color-2\"/><g class=\"series serie-3 color-3\"/><g class=\"series serie-4 color-4\"/><g class=\"series serie-5 color-5\"/><g class=\"series serie-6 color-6\"/><g class=\"series serie-7 color-7\"/><g class=\"series serie-8 color-8\"/><g class=\"series serie-9 color-9\"/><g class=\"series serie-10 color-10\"/><g class=\"series serie-11 color-11\"/></g><g class=\"plot tooltip-overlay\" transform=\"translate(159, 46)\"><g class=\"tooltip\" style=\"opacity: 0\" transform=\"translate(0 0)\"><rect class=\"tooltip-box\" height=\"0\" rx=\"0\" ry=\"0\" width=\"0\"/><g class=\"text\"/></g></g><g class=\"legends\" transform=\"translate(10, 56)\"><g class=\"legend reactive activate-serie\" id=\"activate-serie-0\"><rect class=\"color-0 reactive\" height=\"12\" width=\"12\" x=\"0.0\" y=\"1.0\"/><text x=\"17.0\" y=\"11.2\">Low Quality</text></g><g class=\"legend reactive activate-serie\" id=\"activate-serie-1\"><rect class=\"color-1 reactive\" height=\"12\" width=\"12\" x=\"0.0\" y=\"22.0\"/><text x=\"17.0\" y=\"32.2\">Medium Quality</text></g><g class=\"legend reactive activate-serie\" id=\"activate-serie-2\"><rect class=\"color-2 reactive\" height=\"12\" width=\"12\" x=\"0.0\" y=\"43.0\"/><text x=\"17.0\" y=\"53.2\">High Quality</text></g><g class=\"legend reactive activate-serie\" id=\"activate-serie-3\"><rect class=\"color-3 reactive\" height=\"12\" width=\"12\" x=\"0.0\" y=\"64.0\"/><text x=\"17.0\" y=\"74.2\">Low Quality</text></g><g class=\"legend reactive activate-serie\" id=\"activate-serie-4\"><rect class=\"color-4 reactive\" height=\"12\" width=\"12\" x=\"0.0\" y=\"85.0\"/><text x=\"17.0\" y=\"95.2\">Medium Quality</text></g><g class=\"legend reactive activate-serie\" id=\"activate-serie-5\"><rect class=\"color-5 reactive\" height=\"12\" width=\"12\" x=\"0.0\" y=\"106.0\"/><text x=\"17.0\" y=\"116.2\">High Quality</text></g><g class=\"legend reactive activate-serie\" id=\"activate-serie-6\"><rect class=\"color-6 reactive\" height=\"12\" width=\"12\" x=\"0.0\" y=\"127.0\"/><text x=\"17.0\" y=\"137.2\">Low Quality</text></g><g class=\"legend reactive activate-serie\" id=\"activate-serie-7\"><rect class=\"color-7 reactive\" height=\"12\" width=\"12\" x=\"0.0\" y=\"148.0\"/><text x=\"17.0\" y=\"158.2\">Medium Quality</text></g><g class=\"legend reactive activate-serie\" id=\"activate-serie-8\"><rect class=\"color-8 reactive\" height=\"12\" width=\"12\" x=\"0.0\" y=\"169.0\"/><text x=\"17.0\" y=\"179.2\">High Quality</text></g><g class=\"legend reactive activate-serie\" id=\"activate-serie-9\"><rect class=\"color-9 reactive\" height=\"12\" width=\"12\" x=\"0.0\" y=\"190.0\"/><text x=\"17.0\" y=\"200.2\">Low Quality</text></g><g class=\"legend reactive activate-serie\" id=\"activate-serie-10\"><rect class=\"color-10 reactive\" height=\"12\" width=\"12\" x=\"0.0\" y=\"211.0\"/><text x=\"17.0\" y=\"221.2\">Medium Quality</text></g><g class=\"legend reactive activate-serie\" id=\"activate-serie-11\"><rect class=\"color-11 reactive\" height=\"12\" width=\"12\" x=\"0.0\" y=\"232.0\"/><text x=\"17.0\" y=\"242.2\">High Quality</text></g></g><g class=\"legends\" transform=\"translate(630, 56)\"/></g></svg>\n",
       "            </figure>\n",
       "        </body>\n",
       "    </head>\n",
       "</html>\n"
      ],
      "text/plain": [
       "<IPython.core.display.HTML object>"
      ]
     },
     "metadata": {},
     "output_type": "display_data"
    }
   ],
   "source": [
    "pie_chart2.add('Low Quality', [{'value': counts_df[3], 'label': '3'}, {'value': counts_df[4], 'label':'4'}])\n",
    "pie_chart2.add('Medium Quality', [{'value': counts_df[5], 'label':'5'}, {'value':counts_df[6], 'label':'6'}])\n",
    "pie_chart2.add('High Quality', [{'value':counts_df[7], 'label': '7'}, {'value':counts_df[8], 'lable':'8'}])\n",
    "display_chart(pie_chart2)"
   ]
  },
  {
   "cell_type": "code",
   "execution_count": 36,
   "metadata": {},
   "outputs": [],
   "source": [
    "# question - how to clear the label and re-display"
   ]
  },
  {
   "cell_type": "code",
   "execution_count": null,
   "metadata": {},
   "outputs": [],
   "source": []
  }
 ],
 "metadata": {
  "kernelspec": {
   "display_name": "Python 3",
   "language": "python",
   "name": "python3"
  },
  "language_info": {
   "codemirror_mode": {
    "name": "ipython",
    "version": 3
   },
   "file_extension": ".py",
   "mimetype": "text/x-python",
   "name": "python",
   "nbconvert_exporter": "python",
   "pygments_lexer": "ipython3",
   "version": "3.7.1"
  }
 },
 "nbformat": 4,
 "nbformat_minor": 2
}
