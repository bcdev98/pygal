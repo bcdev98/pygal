{
 "cells": [
  {
   "cell_type": "code",
   "execution_count": 10,
   "metadata": {},
   "outputs": [],
   "source": [
    "import pygal\n",
    "import pandas as pd\n",
    "from math import cos, sin, radians\n",
    "from IPython.display import display, HTML"
   ]
  },
  {
   "cell_type": "code",
   "execution_count": 2,
   "metadata": {},
   "outputs": [],
   "source": [
    "html_skeleton = \"\"\"\n",
    "<!DOCTYPE html>\n",
    "<html>\n",
    "    <head>\n",
    "    <script type=\"text/javascript\"\n",
    "            src=\"http://kozea.github.com/pygal.js/javascripts/svg.jquery.js\">\n",
    "    </script>\n",
    "    <script type=\"text/javascript\"\n",
    "            src=\"https://kozea.github.io/pygal.js/2.0.x/pygal-tooltips.min.js\">\n",
    "    </script>\n",
    "    <head>\n",
    "        <body>\n",
    "            <figure>\n",
    "                {rendered_chart}\n",
    "            </figure>\n",
    "        </body>\n",
    "    </head>\n",
    "</html>\n",
    "\"\"\"\n",
    "\n",
    "def display_chart(chart):\n",
    "    rendered_chart = chart.render(is_unicode=True)\n",
    "    plot_html = html_skeleton.format(rendered_chart=rendered_chart)\n",
    "    display(HTML(plot_html))"
   ]
  },
  {
   "cell_type": "code",
   "execution_count": 5,
   "metadata": {},
   "outputs": [
    {
     "data": {
      "text/plain": [
       "[(-180, -1.2246467991473532e-16),\n",
       " (-150, -0.49999999999999994),\n",
       " (-120, -0.8660254037844388),\n",
       " (-90, -1.0),\n",
       " (-60, -0.8660254037844386),\n",
       " (-30, -0.49999999999999994),\n",
       " (0, 0.0),\n",
       " (30, 0.49999999999999994),\n",
       " (60, 0.8660254037844386),\n",
       " (90, 1.0),\n",
       " (120, 0.8660254037844388),\n",
       " (150, 0.49999999999999994),\n",
       " (180, 1.2246467991473532e-16)]"
      ]
     },
     "execution_count": 5,
     "metadata": {},
     "output_type": "execute_result"
    }
   ],
   "source": [
    "sine_points = [(x, sin(radians(x))) for x in range(-180, 181, 30)]\n",
    "sine_points"
   ]
  },
  {
   "cell_type": "code",
   "execution_count": 6,
   "metadata": {},
   "outputs": [
    {
     "data": {
      "text/plain": [
       "13"
      ]
     },
     "execution_count": 6,
     "metadata": {},
     "output_type": "execute_result"
    }
   ],
   "source": [
    "len(sine_points)"
   ]
  },
  {
   "cell_type": "code",
   "execution_count": 7,
   "metadata": {},
   "outputs": [],
   "source": [
    "xy_chart = pygal.XY(width=640, height=360, explicit_size=True)\n",
    "xy_chart.title = 'XY Plot'"
   ]
  },
  {
   "cell_type": "code",
   "execution_count": 8,
   "metadata": {},
   "outputs": [
    {
     "data": {
      "text/plain": [
       "tuple"
      ]
     },
     "execution_count": 8,
     "metadata": {},
     "output_type": "execute_result"
    }
   ],
   "source": [
    "type(sine_points[0])"
   ]
  },
  {
   "cell_type": "code",
   "execution_count": 11,
   "metadata": {},
   "outputs": [
    {
     "data": {
      "text/html": [
       "\n",
       "<!DOCTYPE html>\n",
       "<html>\n",
       "    <head>\n",
       "    <script type=\"text/javascript\"\n",
       "            src=\"http://kozea.github.com/pygal.js/javascripts/svg.jquery.js\">\n",
       "    </script>\n",
       "    <script type=\"text/javascript\"\n",
       "            src=\"https://kozea.github.io/pygal.js/2.0.x/pygal-tooltips.min.js\">\n",
       "    </script>\n",
       "    <head>\n",
       "        <body>\n",
       "            <figure>\n",
       "                <?xml version='1.0' encoding='utf-8'?>\n",
       "<svg xmlns:xlink=\"http://www.w3.org/1999/xlink\" xmlns=\"http://www.w3.org/2000/svg\" id=\"chart-c85fa77e-b8d6-4adf-8b75-899bc509607b\" class=\"pygal-chart\" viewBox=\"0 0 640 360\" width=\"640\" height=\"360\"><!--Generated with pygal 2.4.0 (lxml) ©Kozea 2012-2016 on 2019-06-09--><!--http://pygal.org--><!--http://github.com/Kozea/pygal--><defs><style type=\"text/css\">#chart-c85fa77e-b8d6-4adf-8b75-899bc509607b{-webkit-user-select:none;-webkit-font-smoothing:antialiased;font-family:Consolas,\"Liberation Mono\",Menlo,Courier,monospace}#chart-c85fa77e-b8d6-4adf-8b75-899bc509607b .title{font-family:Consolas,\"Liberation Mono\",Menlo,Courier,monospace;font-size:16px}#chart-c85fa77e-b8d6-4adf-8b75-899bc509607b .legends .legend text{font-family:Consolas,\"Liberation Mono\",Menlo,Courier,monospace;font-size:14px}#chart-c85fa77e-b8d6-4adf-8b75-899bc509607b .axis text{font-family:Consolas,\"Liberation Mono\",Menlo,Courier,monospace;font-size:10px}#chart-c85fa77e-b8d6-4adf-8b75-899bc509607b .axis text.major{font-family:Consolas,\"Liberation Mono\",Menlo,Courier,monospace;font-size:10px}#chart-c85fa77e-b8d6-4adf-8b75-899bc509607b .text-overlay text.value{font-family:Consolas,\"Liberation Mono\",Menlo,Courier,monospace;font-size:16px}#chart-c85fa77e-b8d6-4adf-8b75-899bc509607b .text-overlay text.label{font-family:Consolas,\"Liberation Mono\",Menlo,Courier,monospace;font-size:10px}#chart-c85fa77e-b8d6-4adf-8b75-899bc509607b .tooltip{font-family:Consolas,\"Liberation Mono\",Menlo,Courier,monospace;font-size:14px}#chart-c85fa77e-b8d6-4adf-8b75-899bc509607b text.no_data{font-family:Consolas,\"Liberation Mono\",Menlo,Courier,monospace;font-size:64px}\n",
       "#chart-c85fa77e-b8d6-4adf-8b75-899bc509607b{background-color:rgba(249,249,249,1)}#chart-c85fa77e-b8d6-4adf-8b75-899bc509607b path,#chart-c85fa77e-b8d6-4adf-8b75-899bc509607b line,#chart-c85fa77e-b8d6-4adf-8b75-899bc509607b rect,#chart-c85fa77e-b8d6-4adf-8b75-899bc509607b circle{-webkit-transition:150ms;-moz-transition:150ms;transition:150ms}#chart-c85fa77e-b8d6-4adf-8b75-899bc509607b .graph &gt; .background{fill:rgba(249,249,249,1)}#chart-c85fa77e-b8d6-4adf-8b75-899bc509607b .plot &gt; .background{fill:rgba(255,255,255,1)}#chart-c85fa77e-b8d6-4adf-8b75-899bc509607b .graph{fill:rgba(0,0,0,.87)}#chart-c85fa77e-b8d6-4adf-8b75-899bc509607b text.no_data{fill:rgba(0,0,0,1)}#chart-c85fa77e-b8d6-4adf-8b75-899bc509607b .title{fill:rgba(0,0,0,1)}#chart-c85fa77e-b8d6-4adf-8b75-899bc509607b .legends .legend text{fill:rgba(0,0,0,.87)}#chart-c85fa77e-b8d6-4adf-8b75-899bc509607b .legends .legend:hover text{fill:rgba(0,0,0,1)}#chart-c85fa77e-b8d6-4adf-8b75-899bc509607b .axis .line{stroke:rgba(0,0,0,1)}#chart-c85fa77e-b8d6-4adf-8b75-899bc509607b .axis .guide.line{stroke:rgba(0,0,0,.54)}#chart-c85fa77e-b8d6-4adf-8b75-899bc509607b .axis .major.line{stroke:rgba(0,0,0,.87)}#chart-c85fa77e-b8d6-4adf-8b75-899bc509607b .axis text.major{fill:rgba(0,0,0,1)}#chart-c85fa77e-b8d6-4adf-8b75-899bc509607b .axis.y .guides:hover .guide.line,#chart-c85fa77e-b8d6-4adf-8b75-899bc509607b .line-graph .axis.x .guides:hover .guide.line,#chart-c85fa77e-b8d6-4adf-8b75-899bc509607b .stackedline-graph .axis.x .guides:hover .guide.line,#chart-c85fa77e-b8d6-4adf-8b75-899bc509607b .xy-graph .axis.x .guides:hover .guide.line{stroke:rgba(0,0,0,1)}#chart-c85fa77e-b8d6-4adf-8b75-899bc509607b .axis .guides:hover text{fill:rgba(0,0,0,1)}#chart-c85fa77e-b8d6-4adf-8b75-899bc509607b .reactive{fill-opacity:.7;stroke-opacity:.8}#chart-c85fa77e-b8d6-4adf-8b75-899bc509607b .ci{stroke:rgba(0,0,0,.87)}#chart-c85fa77e-b8d6-4adf-8b75-899bc509607b .reactive.active,#chart-c85fa77e-b8d6-4adf-8b75-899bc509607b .active .reactive{fill-opacity:.8;stroke-opacity:.9;stroke-width:4}#chart-c85fa77e-b8d6-4adf-8b75-899bc509607b .ci .reactive.active{stroke-width:1.5}#chart-c85fa77e-b8d6-4adf-8b75-899bc509607b .series text{fill:rgba(0,0,0,1)}#chart-c85fa77e-b8d6-4adf-8b75-899bc509607b .tooltip rect{fill:rgba(255,255,255,1);stroke:rgba(0,0,0,1);-webkit-transition:opacity 150ms;-moz-transition:opacity 150ms;transition:opacity 150ms}#chart-c85fa77e-b8d6-4adf-8b75-899bc509607b .tooltip .label{fill:rgba(0,0,0,.87)}#chart-c85fa77e-b8d6-4adf-8b75-899bc509607b .tooltip .label{fill:rgba(0,0,0,.87)}#chart-c85fa77e-b8d6-4adf-8b75-899bc509607b .tooltip .legend{font-size:.8em;fill:rgba(0,0,0,.54)}#chart-c85fa77e-b8d6-4adf-8b75-899bc509607b .tooltip .x_label{font-size:.6em;fill:rgba(0,0,0,1)}#chart-c85fa77e-b8d6-4adf-8b75-899bc509607b .tooltip .xlink{font-size:.5em;text-decoration:underline}#chart-c85fa77e-b8d6-4adf-8b75-899bc509607b .tooltip .value{font-size:1.5em}#chart-c85fa77e-b8d6-4adf-8b75-899bc509607b .bound{font-size:.5em}#chart-c85fa77e-b8d6-4adf-8b75-899bc509607b .max-value{font-size:.75em;fill:rgba(0,0,0,.54)}#chart-c85fa77e-b8d6-4adf-8b75-899bc509607b .map-element{fill:rgba(255,255,255,1);stroke:rgba(0,0,0,.54) !important}#chart-c85fa77e-b8d6-4adf-8b75-899bc509607b .map-element .reactive{fill-opacity:inherit;stroke-opacity:inherit}#chart-c85fa77e-b8d6-4adf-8b75-899bc509607b .color-0,#chart-c85fa77e-b8d6-4adf-8b75-899bc509607b .color-0 a:visited{stroke:#F44336;fill:#F44336}#chart-c85fa77e-b8d6-4adf-8b75-899bc509607b .color-1,#chart-c85fa77e-b8d6-4adf-8b75-899bc509607b .color-1 a:visited{stroke:#3F51B5;fill:#3F51B5}#chart-c85fa77e-b8d6-4adf-8b75-899bc509607b .text-overlay .color-0 text{fill:black}#chart-c85fa77e-b8d6-4adf-8b75-899bc509607b .text-overlay .color-1 text{fill:black}\n",
       "#chart-c85fa77e-b8d6-4adf-8b75-899bc509607b text.no_data{text-anchor:middle}#chart-c85fa77e-b8d6-4adf-8b75-899bc509607b .guide.line{fill:none}#chart-c85fa77e-b8d6-4adf-8b75-899bc509607b .centered{text-anchor:middle}#chart-c85fa77e-b8d6-4adf-8b75-899bc509607b .title{text-anchor:middle}#chart-c85fa77e-b8d6-4adf-8b75-899bc509607b .legends .legend text{fill-opacity:1}#chart-c85fa77e-b8d6-4adf-8b75-899bc509607b .axis.x text{text-anchor:middle}#chart-c85fa77e-b8d6-4adf-8b75-899bc509607b .axis.x:not(.web) text[transform]{text-anchor:start}#chart-c85fa77e-b8d6-4adf-8b75-899bc509607b .axis.x:not(.web) text[transform].backwards{text-anchor:end}#chart-c85fa77e-b8d6-4adf-8b75-899bc509607b .axis.y text{text-anchor:end}#chart-c85fa77e-b8d6-4adf-8b75-899bc509607b .axis.y text[transform].backwards{text-anchor:start}#chart-c85fa77e-b8d6-4adf-8b75-899bc509607b .axis.y2 text{text-anchor:start}#chart-c85fa77e-b8d6-4adf-8b75-899bc509607b .axis.y2 text[transform].backwards{text-anchor:end}#chart-c85fa77e-b8d6-4adf-8b75-899bc509607b .axis .guide.line{stroke-dasharray:4,4}#chart-c85fa77e-b8d6-4adf-8b75-899bc509607b .axis .major.guide.line{stroke-dasharray:6,6}#chart-c85fa77e-b8d6-4adf-8b75-899bc509607b .horizontal .axis.y .guide.line,#chart-c85fa77e-b8d6-4adf-8b75-899bc509607b .horizontal .axis.y2 .guide.line,#chart-c85fa77e-b8d6-4adf-8b75-899bc509607b .vertical .axis.x .guide.line{opacity:0}#chart-c85fa77e-b8d6-4adf-8b75-899bc509607b .horizontal .axis.always_show .guide.line,#chart-c85fa77e-b8d6-4adf-8b75-899bc509607b .vertical .axis.always_show .guide.line{opacity:1 !important}#chart-c85fa77e-b8d6-4adf-8b75-899bc509607b .axis.y .guides:hover .guide.line,#chart-c85fa77e-b8d6-4adf-8b75-899bc509607b .axis.y2 .guides:hover .guide.line,#chart-c85fa77e-b8d6-4adf-8b75-899bc509607b .axis.x .guides:hover .guide.line{opacity:1}#chart-c85fa77e-b8d6-4adf-8b75-899bc509607b .axis .guides:hover text{opacity:1}#chart-c85fa77e-b8d6-4adf-8b75-899bc509607b .nofill{fill:none}#chart-c85fa77e-b8d6-4adf-8b75-899bc509607b .subtle-fill{fill-opacity:.2}#chart-c85fa77e-b8d6-4adf-8b75-899bc509607b .dot{stroke-width:1px;fill-opacity:1}#chart-c85fa77e-b8d6-4adf-8b75-899bc509607b .dot.active{stroke-width:5px}#chart-c85fa77e-b8d6-4adf-8b75-899bc509607b .dot.negative{fill:transparent}#chart-c85fa77e-b8d6-4adf-8b75-899bc509607b text,#chart-c85fa77e-b8d6-4adf-8b75-899bc509607b tspan{stroke:none !important}#chart-c85fa77e-b8d6-4adf-8b75-899bc509607b .series text.active{opacity:1}#chart-c85fa77e-b8d6-4adf-8b75-899bc509607b .tooltip rect{fill-opacity:.95;stroke-width:.5}#chart-c85fa77e-b8d6-4adf-8b75-899bc509607b .tooltip text{fill-opacity:1}#chart-c85fa77e-b8d6-4adf-8b75-899bc509607b .showable{visibility:hidden}#chart-c85fa77e-b8d6-4adf-8b75-899bc509607b .showable.shown{visibility:visible}#chart-c85fa77e-b8d6-4adf-8b75-899bc509607b .gauge-background{fill:rgba(229,229,229,1);stroke:none}#chart-c85fa77e-b8d6-4adf-8b75-899bc509607b .bg-lines{stroke:rgba(249,249,249,1);stroke-width:2px}</style><script type=\"text/javascript\">window.pygal = window.pygal || {};window.pygal.config = window.pygal.config || {};window.pygal.config['c85fa77e-b8d6-4adf-8b75-899bc509607b'] = {\"allow_interruptions\": false, \"box_mode\": \"extremes\", \"classes\": [\"pygal-chart\"], \"css\": [\"file://style.css\", \"file://graph.css\"], \"defs\": [], \"disable_xml_declaration\": false, \"dots_size\": 2.5, \"dynamic_print_values\": false, \"explicit_size\": true, \"fill\": false, \"force_uri_protocol\": \"https\", \"formatter\": null, \"half_pie\": false, \"height\": 360, \"include_x_axis\": false, \"inner_radius\": 0, \"interpolate\": null, \"interpolation_parameters\": {}, \"interpolation_precision\": 250, \"inverse_y_axis\": false, \"js\": [\"//kozea.github.io/pygal.js/2.0.x/pygal-tooltips.min.js\"], \"legend_at_bottom\": false, \"legend_at_bottom_columns\": null, \"legend_box_size\": 12, \"logarithmic\": false, \"margin\": 20, \"margin_bottom\": null, \"margin_left\": null, \"margin_right\": null, \"margin_top\": null, \"max_scale\": 16, \"min_scale\": 4, \"missing_value_fill_truncation\": \"x\", \"no_data_text\": \"No data\", \"no_prefix\": false, \"order_min\": null, \"pretty_print\": false, \"print_labels\": false, \"print_values\": false, \"print_values_position\": \"center\", \"print_zeroes\": true, \"range\": null, \"rounded_bars\": null, \"secondary_range\": null, \"show_dots\": true, \"show_legend\": true, \"show_minor_x_labels\": true, \"show_minor_y_labels\": true, \"show_only_major_dots\": false, \"show_x_guides\": false, \"show_x_labels\": true, \"show_y_guides\": true, \"show_y_labels\": true, \"spacing\": 10, \"stack_from_top\": false, \"strict\": false, \"stroke\": true, \"stroke_style\": null, \"style\": {\"background\": \"rgba(249, 249, 249, 1)\", \"ci_colors\": [], \"colors\": [\"#F44336\", \"#3F51B5\", \"#009688\", \"#FFC107\", \"#FF5722\", \"#9C27B0\", \"#03A9F4\", \"#8BC34A\", \"#FF9800\", \"#E91E63\", \"#2196F3\", \"#4CAF50\", \"#FFEB3B\", \"#673AB7\", \"#00BCD4\", \"#CDDC39\", \"#9E9E9E\", \"#607D8B\"], \"font_family\": \"Consolas, \\\"Liberation Mono\\\", Menlo, Courier, monospace\", \"foreground\": \"rgba(0, 0, 0, .87)\", \"foreground_strong\": \"rgba(0, 0, 0, 1)\", \"foreground_subtle\": \"rgba(0, 0, 0, .54)\", \"guide_stroke_dasharray\": \"4,4\", \"label_font_family\": \"Consolas, \\\"Liberation Mono\\\", Menlo, Courier, monospace\", \"label_font_size\": 10, \"legend_font_family\": \"Consolas, \\\"Liberation Mono\\\", Menlo, Courier, monospace\", \"legend_font_size\": 14, \"major_guide_stroke_dasharray\": \"6,6\", \"major_label_font_family\": \"Consolas, \\\"Liberation Mono\\\", Menlo, Courier, monospace\", \"major_label_font_size\": 10, \"no_data_font_family\": \"Consolas, \\\"Liberation Mono\\\", Menlo, Courier, monospace\", \"no_data_font_size\": 64, \"opacity\": \".7\", \"opacity_hover\": \".8\", \"plot_background\": \"rgba(255, 255, 255, 1)\", \"stroke_opacity\": \".8\", \"stroke_opacity_hover\": \".9\", \"title_font_family\": \"Consolas, \\\"Liberation Mono\\\", Menlo, Courier, monospace\", \"title_font_size\": 16, \"tooltip_font_family\": \"Consolas, \\\"Liberation Mono\\\", Menlo, Courier, monospace\", \"tooltip_font_size\": 14, \"transition\": \"150ms\", \"value_background\": \"rgba(229, 229, 229, 1)\", \"value_colors\": [], \"value_font_family\": \"Consolas, \\\"Liberation Mono\\\", Menlo, Courier, monospace\", \"value_font_size\": 16, \"value_label_font_family\": \"Consolas, \\\"Liberation Mono\\\", Menlo, Courier, monospace\", \"value_label_font_size\": 10}, \"title\": \"XY Plot\", \"tooltip_border_radius\": 0, \"tooltip_fancy_mode\": true, \"truncate_label\": null, \"truncate_legend\": null, \"width\": 640, \"x_label_rotation\": 0, \"x_labels\": null, \"x_labels_major\": null, \"x_labels_major_count\": null, \"x_labels_major_every\": null, \"x_title\": null, \"xrange\": null, \"y_label_rotation\": 0, \"y_labels\": null, \"y_labels_major\": null, \"y_labels_major_count\": null, \"y_labels_major_every\": null, \"y_title\": null, \"zero\": 0, \"legends\": [\"sin(x)\", \"sin(x)\"]}</script><script type=\"text/javascript\" xlink:href=\"https://kozea.github.io/pygal.js/2.0.x/pygal-tooltips.min.js\"/></defs><title>XY Plot</title><g class=\"graph xy-graph vertical\"><rect class=\"background\" height=\"360\" width=\"640\" x=\"0\" y=\"0\"/><g class=\"plot\" transform=\"translate(126, 46)\"><rect class=\"background\" height=\"274\" width=\"493.6\" x=\"0\" y=\"0\"/><g class=\"axis y always_show\"><g class=\"guides\"><path class=\"major guide line\" d=\"M0.000000 268.730769 h493.600000\"/><text class=\"major\" x=\"-5\" y=\"272.2307692307692\">-1</text><title>-1</title></g><g class=\"guides\"><path class=\"guide line\" d=\"M0.000000 242.384615 h493.600000\"/><text class=\"\" x=\"-5\" y=\"245.8846153846154\">-0.8</text><title>-0.8</title></g><g class=\"guides\"><path class=\"guide line\" d=\"M0.000000 216.038462 h493.600000\"/><text class=\"\" x=\"-5\" y=\"219.53846153846155\">-0.6</text><title>-0.6</title></g><g class=\"guides\"><path class=\"guide line\" d=\"M0.000000 189.692308 h493.600000\"/><text class=\"\" x=\"-5\" y=\"193.19230769230768\">-0.4</text><title>-0.4</title></g><g class=\"guides\"><path class=\"guide line\" d=\"M0.000000 163.346154 h493.600000\"/><text class=\"\" x=\"-5\" y=\"166.84615384615384\">-0.2</text><title>-0.2</title></g><g class=\"guides\"><path class=\"axis major line\" d=\"M0.000000 137.000000 h493.600000\"/><text class=\"major\" x=\"-5\" y=\"140.5\">0</text><title>0</title></g><g class=\"guides\"><path class=\"guide line\" d=\"M0.000000 110.653846 h493.600000\"/><text class=\"\" x=\"-5\" y=\"114.15384615384616\">0.2</text><title>0.2</title></g><g class=\"guides\"><path class=\"guide line\" d=\"M0.000000 84.307692 h493.600000\"/><text class=\"\" x=\"-5\" y=\"87.80769230769232\">0.4</text><title>0.4</title></g><g class=\"guides\"><path class=\"guide line\" d=\"M0.000000 57.961538 h493.600000\"/><text class=\"\" x=\"-5\" y=\"61.46153846153845\">0.6</text><title>0.6</title></g><g class=\"guides\"><path class=\"guide line\" d=\"M0.000000 31.615385 h493.600000\"/><text class=\"\" x=\"-5\" y=\"35.11538461538461\">0.8</text><title>0.8</title></g><g class=\"guides\"><path class=\"major guide line\" d=\"M0.000000 5.269231 h493.600000\"/><text class=\"major\" x=\"-5\" y=\"8.769230769230774\">1</text><title>1</title></g></g><g class=\"axis x\"><g class=\"guides\"><path class=\"guide line\" d=\"M35.859829 0.000000 v274.000000\"/><text class=\"\" x=\"35.859829059829046\" y=\"289.0\">-160</text><title>-160</title></g><g class=\"guides\"><path class=\"guide line\" d=\"M88.594872 0.000000 v274.000000\"/><text class=\"\" x=\"88.59487179487179\" y=\"289.0\">-120</text><title>-120</title></g><g class=\"guides\"><path class=\"guide line\" d=\"M141.329915 0.000000 v274.000000\"/><text class=\"\" x=\"141.32991452991453\" y=\"289.0\">-80</text><title>-80</title></g><g class=\"guides\"><path class=\"guide line\" d=\"M194.064957 0.000000 v274.000000\"/><text class=\"\" x=\"194.0649572649573\" y=\"289.0\">-40</text><title>-40</title></g><g class=\"guides\"><path class=\"axis line\" d=\"M246.800000 0.000000 v274.000000\"/><text class=\"\" x=\"246.8\" y=\"289.0\">0</text><title>0</title></g><g class=\"guides\"><path class=\"guide line\" d=\"M299.535043 0.000000 v274.000000\"/><text class=\"\" x=\"299.53504273504274\" y=\"289.0\">40</text><title>40</title></g><g class=\"guides\"><path class=\"guide line\" d=\"M352.270085 0.000000 v274.000000\"/><text class=\"\" x=\"352.2700854700855\" y=\"289.0\">80</text><title>80</title></g><g class=\"guides\"><path class=\"guide line\" d=\"M405.005128 0.000000 v274.000000\"/><text class=\"\" x=\"405.00512820512824\" y=\"289.0\">120</text><title>120</title></g><g class=\"guides\"><path class=\"guide line\" d=\"M457.740171 0.000000 v274.000000\"/><text class=\"\" x=\"457.740170940171\" y=\"289.0\">160</text><title>160</title></g></g><g class=\"series serie-0 color-0\"><path class=\"line reactive nofill\" d=\"M9.492308 137.000000 L49.043590 202.865385 88.594872 251.082193 128.146154 268.730769 167.697436 251.082193 207.248718 202.865385 246.800000 137.000000 286.351282 71.134615 325.902564 22.917807 365.453846 5.269231 405.005128 22.917807 444.556410 71.134615 484.107692 137.000000\"/></g><g class=\"series serie-1 color-1\"><path class=\"line reactive nofill\" d=\"M9.492308 137.000000 L49.043590 202.865385 88.594872 251.082193 128.146154 268.730769 167.697436 251.082193 207.248718 202.865385 246.800000 137.000000 286.351282 71.134615 325.902564 22.917807 365.453846 5.269231 405.005128 22.917807 444.556410 71.134615 484.107692 137.000000\"/></g></g><g class=\"titles\"><text class=\"title plot_title\" x=\"320.0\" y=\"26\">XY Plot</text></g><g class=\"plot overlay\" transform=\"translate(126, 46)\"><g class=\"series serie-0 color-0\"><g class=\"dots\"><circle class=\"dot reactive tooltip-trigger\" cx=\"9.492307692307678\" cy=\"137.00000000000003\" r=\"2.5\"/><desc class=\"value\">-180: -1.224646799e-16</desc><desc class=\"x top\">9.492307692307678</desc><desc class=\"y top\">137.00000000000003</desc></g><g class=\"dots\"><circle class=\"dot reactive tooltip-trigger\" cx=\"49.043589743589735\" cy=\"202.8653846153846\" r=\"2.5\"/><desc class=\"value\">-150: -0.5</desc><desc class=\"x top\">49.043589743589735</desc><desc class=\"y top\">202.8653846153846</desc></g><g class=\"dots\"><circle class=\"dot reactive tooltip-trigger\" cx=\"88.59487179487179\" cy=\"251.08219261391164\" r=\"2.5\"/><desc class=\"value\">-120: -0.8660254038</desc><desc class=\"x top\">88.59487179487179</desc><desc class=\"y top\">251.08219261391164</desc></g><g class=\"dots\"><circle class=\"dot reactive tooltip-trigger\" cx=\"128.14615384615385\" cy=\"268.7307692307692\" r=\"2.5\"/><desc class=\"value\">-90: -1</desc><desc class=\"x top\">128.14615384615385</desc><desc class=\"y top\">268.7307692307692</desc></g><g class=\"dots\"><circle class=\"dot reactive tooltip-trigger\" cx=\"167.6974358974359\" cy=\"251.08219261391162\" r=\"2.5\"/><desc class=\"value\">-60: -0.8660254038</desc><desc class=\"x top\">167.6974358974359</desc><desc class=\"y top\">251.08219261391162</desc></g><g class=\"dots\"><circle class=\"dot reactive tooltip-trigger\" cx=\"207.24871794871797\" cy=\"202.8653846153846\" r=\"2.5\"/><desc class=\"value\">-30: -0.5</desc><desc class=\"x top\">207.24871794871797</desc><desc class=\"y top\">202.8653846153846</desc></g><g class=\"dots\"><circle class=\"dot reactive tooltip-trigger\" cx=\"246.8\" cy=\"137.0\" r=\"2.5\"/><desc class=\"value\">0: 0</desc><desc class=\"x \">246.8</desc><desc class=\"y \">137.0</desc></g><g class=\"dots\"><circle class=\"dot reactive tooltip-trigger\" cx=\"286.35128205128206\" cy=\"71.13461538461539\" r=\"2.5\"/><desc class=\"value\">30: 0.5</desc><desc class=\"x left\">286.35128205128206</desc><desc class=\"y left\">71.13461538461539</desc></g><g class=\"dots\"><circle class=\"dot reactive tooltip-trigger\" cx=\"325.9025641025641\" cy=\"22.917807386088384\" r=\"2.5\"/><desc class=\"value\">60: 0.8660254038</desc><desc class=\"x left\">325.9025641025641</desc><desc class=\"y left\">22.917807386088384</desc></g><g class=\"dots\"><circle class=\"dot reactive tooltip-trigger\" cx=\"365.4538461538462\" cy=\"5.269230769230774\" r=\"2.5\"/><desc class=\"value\">90: 1</desc><desc class=\"x left\">365.4538461538462</desc><desc class=\"y left\">5.269230769230774</desc></g><g class=\"dots\"><circle class=\"dot reactive tooltip-trigger\" cx=\"405.00512820512824\" cy=\"22.917807386088327\" r=\"2.5\"/><desc class=\"value\">120: 0.8660254038</desc><desc class=\"x left\">405.00512820512824</desc><desc class=\"y left\">22.917807386088327</desc></g><g class=\"dots\"><circle class=\"dot reactive tooltip-trigger\" cx=\"444.55641025641035\" cy=\"71.13461538461539\" r=\"2.5\"/><desc class=\"value\">150: 0.5</desc><desc class=\"x left\">444.55641025641035</desc><desc class=\"y left\">71.13461538461539</desc></g><g class=\"dots\"><circle class=\"dot reactive tooltip-trigger\" cx=\"484.1076923076924\" cy=\"136.99999999999997\" r=\"2.5\"/><desc class=\"value\">180: 1.224646799e-16</desc><desc class=\"x left\">484.1076923076924</desc><desc class=\"y left\">136.99999999999997</desc></g></g><g class=\"series serie-1 color-1\"><g class=\"dots\"><circle class=\"dot reactive tooltip-trigger\" cx=\"9.492307692307678\" cy=\"137.00000000000003\" r=\"2.5\"/><desc class=\"value\">-180: -1.224646799e-16</desc><desc class=\"x top\">9.492307692307678</desc><desc class=\"y top\">137.00000000000003</desc></g><g class=\"dots\"><circle class=\"dot reactive tooltip-trigger\" cx=\"49.043589743589735\" cy=\"202.8653846153846\" r=\"2.5\"/><desc class=\"value\">-150: -0.5</desc><desc class=\"x top\">49.043589743589735</desc><desc class=\"y top\">202.8653846153846</desc></g><g class=\"dots\"><circle class=\"dot reactive tooltip-trigger\" cx=\"88.59487179487179\" cy=\"251.08219261391164\" r=\"2.5\"/><desc class=\"value\">-120: -0.8660254038</desc><desc class=\"x top\">88.59487179487179</desc><desc class=\"y top\">251.08219261391164</desc></g><g class=\"dots\"><circle class=\"dot reactive tooltip-trigger\" cx=\"128.14615384615385\" cy=\"268.7307692307692\" r=\"2.5\"/><desc class=\"value\">-90: -1</desc><desc class=\"x top\">128.14615384615385</desc><desc class=\"y top\">268.7307692307692</desc></g><g class=\"dots\"><circle class=\"dot reactive tooltip-trigger\" cx=\"167.6974358974359\" cy=\"251.08219261391162\" r=\"2.5\"/><desc class=\"value\">-60: -0.8660254038</desc><desc class=\"x top\">167.6974358974359</desc><desc class=\"y top\">251.08219261391162</desc></g><g class=\"dots\"><circle class=\"dot reactive tooltip-trigger\" cx=\"207.24871794871797\" cy=\"202.8653846153846\" r=\"2.5\"/><desc class=\"value\">-30: -0.5</desc><desc class=\"x top\">207.24871794871797</desc><desc class=\"y top\">202.8653846153846</desc></g><g class=\"dots\"><circle class=\"dot reactive tooltip-trigger\" cx=\"246.8\" cy=\"137.0\" r=\"2.5\"/><desc class=\"value\">0: 0</desc><desc class=\"x \">246.8</desc><desc class=\"y \">137.0</desc></g><g class=\"dots\"><circle class=\"dot reactive tooltip-trigger\" cx=\"286.35128205128206\" cy=\"71.13461538461539\" r=\"2.5\"/><desc class=\"value\">30: 0.5</desc><desc class=\"x left\">286.35128205128206</desc><desc class=\"y left\">71.13461538461539</desc></g><g class=\"dots\"><circle class=\"dot reactive tooltip-trigger\" cx=\"325.9025641025641\" cy=\"22.917807386088384\" r=\"2.5\"/><desc class=\"value\">60: 0.8660254038</desc><desc class=\"x left\">325.9025641025641</desc><desc class=\"y left\">22.917807386088384</desc></g><g class=\"dots\"><circle class=\"dot reactive tooltip-trigger\" cx=\"365.4538461538462\" cy=\"5.269230769230774\" r=\"2.5\"/><desc class=\"value\">90: 1</desc><desc class=\"x left\">365.4538461538462</desc><desc class=\"y left\">5.269230769230774</desc></g><g class=\"dots\"><circle class=\"dot reactive tooltip-trigger\" cx=\"405.00512820512824\" cy=\"22.917807386088327\" r=\"2.5\"/><desc class=\"value\">120: 0.8660254038</desc><desc class=\"x left\">405.00512820512824</desc><desc class=\"y left\">22.917807386088327</desc></g><g class=\"dots\"><circle class=\"dot reactive tooltip-trigger\" cx=\"444.55641025641035\" cy=\"71.13461538461539\" r=\"2.5\"/><desc class=\"value\">150: 0.5</desc><desc class=\"x left\">444.55641025641035</desc><desc class=\"y left\">71.13461538461539</desc></g><g class=\"dots\"><circle class=\"dot reactive tooltip-trigger\" cx=\"484.1076923076924\" cy=\"136.99999999999997\" r=\"2.5\"/><desc class=\"value\">180: 1.224646799e-16</desc><desc class=\"x left\">484.1076923076924</desc><desc class=\"y left\">136.99999999999997</desc></g></g></g><g class=\"plot text-overlay\" transform=\"translate(126, 46)\"><g class=\"series serie-0 color-0\"/><g class=\"series serie-1 color-1\"/></g><g class=\"plot tooltip-overlay\" transform=\"translate(126, 46)\"><g class=\"tooltip\" style=\"opacity: 0\" transform=\"translate(0 0)\"><rect class=\"tooltip-box\" height=\"0\" rx=\"0\" ry=\"0\" width=\"0\"/><g class=\"text\"/></g></g><g class=\"legends\" transform=\"translate(10, 56)\"><g class=\"legend reactive activate-serie\" id=\"activate-serie-0\"><rect class=\"color-0 reactive\" height=\"12\" width=\"12\" x=\"0.0\" y=\"1.0\"/><text x=\"17.0\" y=\"11.2\">sin(x)</text></g><g class=\"legend reactive activate-serie\" id=\"activate-serie-1\"><rect class=\"color-1 reactive\" height=\"12\" width=\"12\" x=\"0.0\" y=\"22.0\"/><text x=\"17.0\" y=\"32.2\">sin(x)</text></g></g><g class=\"legends\" transform=\"translate(630, 56)\"/></g></svg>\n",
       "            </figure>\n",
       "        </body>\n",
       "    </head>\n",
       "</html>\n"
      ],
      "text/plain": [
       "<IPython.core.display.HTML object>"
      ]
     },
     "metadata": {},
     "output_type": "display_data"
    }
   ],
   "source": [
    "xy_chart.add('sin(x)', sine_points)\n",
    "display_chart(xy_chart)"
   ]
  },
  {
   "cell_type": "code",
   "execution_count": 12,
   "metadata": {},
   "outputs": [],
   "source": [
    "# create smooth curve\n",
    "sine_points = [(x, sin(radians(x))) for x in range(-180, 181, 10)]\n",
    "cosine_points = [(x, cos(radians(x))) for x in range(-180, 181, 10)]"
   ]
  },
  {
   "cell_type": "code",
   "execution_count": 13,
   "metadata": {},
   "outputs": [],
   "source": [
    "xy_chart = pygal.XY(width=640, height=360, explicit_size=True)\n",
    "xy_chart.title = 'XY Plot'"
   ]
  },
  {
   "cell_type": "code",
   "execution_count": 14,
   "metadata": {},
   "outputs": [
    {
     "data": {
      "text/html": [
       "\n",
       "<!DOCTYPE html>\n",
       "<html>\n",
       "    <head>\n",
       "    <script type=\"text/javascript\"\n",
       "            src=\"http://kozea.github.com/pygal.js/javascripts/svg.jquery.js\">\n",
       "    </script>\n",
       "    <script type=\"text/javascript\"\n",
       "            src=\"https://kozea.github.io/pygal.js/2.0.x/pygal-tooltips.min.js\">\n",
       "    </script>\n",
       "    <head>\n",
       "        <body>\n",
       "            <figure>\n",
       "                <?xml version='1.0' encoding='utf-8'?>\n",
       "<svg xmlns:xlink=\"http://www.w3.org/1999/xlink\" xmlns=\"http://www.w3.org/2000/svg\" id=\"chart-82055cdc-7bbe-499f-a6d2-fa91b25e0858\" class=\"pygal-chart\" viewBox=\"0 0 640 360\" width=\"640\" height=\"360\"><!--Generated with pygal 2.4.0 (lxml) ©Kozea 2012-2016 on 2019-06-09--><!--http://pygal.org--><!--http://github.com/Kozea/pygal--><defs><style type=\"text/css\">#chart-82055cdc-7bbe-499f-a6d2-fa91b25e0858{-webkit-user-select:none;-webkit-font-smoothing:antialiased;font-family:Consolas,\"Liberation Mono\",Menlo,Courier,monospace}#chart-82055cdc-7bbe-499f-a6d2-fa91b25e0858 .title{font-family:Consolas,\"Liberation Mono\",Menlo,Courier,monospace;font-size:16px}#chart-82055cdc-7bbe-499f-a6d2-fa91b25e0858 .legends .legend text{font-family:Consolas,\"Liberation Mono\",Menlo,Courier,monospace;font-size:14px}#chart-82055cdc-7bbe-499f-a6d2-fa91b25e0858 .axis text{font-family:Consolas,\"Liberation Mono\",Menlo,Courier,monospace;font-size:10px}#chart-82055cdc-7bbe-499f-a6d2-fa91b25e0858 .axis text.major{font-family:Consolas,\"Liberation Mono\",Menlo,Courier,monospace;font-size:10px}#chart-82055cdc-7bbe-499f-a6d2-fa91b25e0858 .text-overlay text.value{font-family:Consolas,\"Liberation Mono\",Menlo,Courier,monospace;font-size:16px}#chart-82055cdc-7bbe-499f-a6d2-fa91b25e0858 .text-overlay text.label{font-family:Consolas,\"Liberation Mono\",Menlo,Courier,monospace;font-size:10px}#chart-82055cdc-7bbe-499f-a6d2-fa91b25e0858 .tooltip{font-family:Consolas,\"Liberation Mono\",Menlo,Courier,monospace;font-size:14px}#chart-82055cdc-7bbe-499f-a6d2-fa91b25e0858 text.no_data{font-family:Consolas,\"Liberation Mono\",Menlo,Courier,monospace;font-size:64px}\n",
       "#chart-82055cdc-7bbe-499f-a6d2-fa91b25e0858{background-color:rgba(249,249,249,1)}#chart-82055cdc-7bbe-499f-a6d2-fa91b25e0858 path,#chart-82055cdc-7bbe-499f-a6d2-fa91b25e0858 line,#chart-82055cdc-7bbe-499f-a6d2-fa91b25e0858 rect,#chart-82055cdc-7bbe-499f-a6d2-fa91b25e0858 circle{-webkit-transition:150ms;-moz-transition:150ms;transition:150ms}#chart-82055cdc-7bbe-499f-a6d2-fa91b25e0858 .graph &gt; .background{fill:rgba(249,249,249,1)}#chart-82055cdc-7bbe-499f-a6d2-fa91b25e0858 .plot &gt; .background{fill:rgba(255,255,255,1)}#chart-82055cdc-7bbe-499f-a6d2-fa91b25e0858 .graph{fill:rgba(0,0,0,.87)}#chart-82055cdc-7bbe-499f-a6d2-fa91b25e0858 text.no_data{fill:rgba(0,0,0,1)}#chart-82055cdc-7bbe-499f-a6d2-fa91b25e0858 .title{fill:rgba(0,0,0,1)}#chart-82055cdc-7bbe-499f-a6d2-fa91b25e0858 .legends .legend text{fill:rgba(0,0,0,.87)}#chart-82055cdc-7bbe-499f-a6d2-fa91b25e0858 .legends .legend:hover text{fill:rgba(0,0,0,1)}#chart-82055cdc-7bbe-499f-a6d2-fa91b25e0858 .axis .line{stroke:rgba(0,0,0,1)}#chart-82055cdc-7bbe-499f-a6d2-fa91b25e0858 .axis .guide.line{stroke:rgba(0,0,0,.54)}#chart-82055cdc-7bbe-499f-a6d2-fa91b25e0858 .axis .major.line{stroke:rgba(0,0,0,.87)}#chart-82055cdc-7bbe-499f-a6d2-fa91b25e0858 .axis text.major{fill:rgba(0,0,0,1)}#chart-82055cdc-7bbe-499f-a6d2-fa91b25e0858 .axis.y .guides:hover .guide.line,#chart-82055cdc-7bbe-499f-a6d2-fa91b25e0858 .line-graph .axis.x .guides:hover .guide.line,#chart-82055cdc-7bbe-499f-a6d2-fa91b25e0858 .stackedline-graph .axis.x .guides:hover .guide.line,#chart-82055cdc-7bbe-499f-a6d2-fa91b25e0858 .xy-graph .axis.x .guides:hover .guide.line{stroke:rgba(0,0,0,1)}#chart-82055cdc-7bbe-499f-a6d2-fa91b25e0858 .axis .guides:hover text{fill:rgba(0,0,0,1)}#chart-82055cdc-7bbe-499f-a6d2-fa91b25e0858 .reactive{fill-opacity:.7;stroke-opacity:.8}#chart-82055cdc-7bbe-499f-a6d2-fa91b25e0858 .ci{stroke:rgba(0,0,0,.87)}#chart-82055cdc-7bbe-499f-a6d2-fa91b25e0858 .reactive.active,#chart-82055cdc-7bbe-499f-a6d2-fa91b25e0858 .active .reactive{fill-opacity:.8;stroke-opacity:.9;stroke-width:4}#chart-82055cdc-7bbe-499f-a6d2-fa91b25e0858 .ci .reactive.active{stroke-width:1.5}#chart-82055cdc-7bbe-499f-a6d2-fa91b25e0858 .series text{fill:rgba(0,0,0,1)}#chart-82055cdc-7bbe-499f-a6d2-fa91b25e0858 .tooltip rect{fill:rgba(255,255,255,1);stroke:rgba(0,0,0,1);-webkit-transition:opacity 150ms;-moz-transition:opacity 150ms;transition:opacity 150ms}#chart-82055cdc-7bbe-499f-a6d2-fa91b25e0858 .tooltip .label{fill:rgba(0,0,0,.87)}#chart-82055cdc-7bbe-499f-a6d2-fa91b25e0858 .tooltip .label{fill:rgba(0,0,0,.87)}#chart-82055cdc-7bbe-499f-a6d2-fa91b25e0858 .tooltip .legend{font-size:.8em;fill:rgba(0,0,0,.54)}#chart-82055cdc-7bbe-499f-a6d2-fa91b25e0858 .tooltip .x_label{font-size:.6em;fill:rgba(0,0,0,1)}#chart-82055cdc-7bbe-499f-a6d2-fa91b25e0858 .tooltip .xlink{font-size:.5em;text-decoration:underline}#chart-82055cdc-7bbe-499f-a6d2-fa91b25e0858 .tooltip .value{font-size:1.5em}#chart-82055cdc-7bbe-499f-a6d2-fa91b25e0858 .bound{font-size:.5em}#chart-82055cdc-7bbe-499f-a6d2-fa91b25e0858 .max-value{font-size:.75em;fill:rgba(0,0,0,.54)}#chart-82055cdc-7bbe-499f-a6d2-fa91b25e0858 .map-element{fill:rgba(255,255,255,1);stroke:rgba(0,0,0,.54) !important}#chart-82055cdc-7bbe-499f-a6d2-fa91b25e0858 .map-element .reactive{fill-opacity:inherit;stroke-opacity:inherit}#chart-82055cdc-7bbe-499f-a6d2-fa91b25e0858 .color-0,#chart-82055cdc-7bbe-499f-a6d2-fa91b25e0858 .color-0 a:visited{stroke:#F44336;fill:#F44336}#chart-82055cdc-7bbe-499f-a6d2-fa91b25e0858 .color-1,#chart-82055cdc-7bbe-499f-a6d2-fa91b25e0858 .color-1 a:visited{stroke:#3F51B5;fill:#3F51B5}#chart-82055cdc-7bbe-499f-a6d2-fa91b25e0858 .text-overlay .color-0 text{fill:black}#chart-82055cdc-7bbe-499f-a6d2-fa91b25e0858 .text-overlay .color-1 text{fill:black}\n",
       "#chart-82055cdc-7bbe-499f-a6d2-fa91b25e0858 text.no_data{text-anchor:middle}#chart-82055cdc-7bbe-499f-a6d2-fa91b25e0858 .guide.line{fill:none}#chart-82055cdc-7bbe-499f-a6d2-fa91b25e0858 .centered{text-anchor:middle}#chart-82055cdc-7bbe-499f-a6d2-fa91b25e0858 .title{text-anchor:middle}#chart-82055cdc-7bbe-499f-a6d2-fa91b25e0858 .legends .legend text{fill-opacity:1}#chart-82055cdc-7bbe-499f-a6d2-fa91b25e0858 .axis.x text{text-anchor:middle}#chart-82055cdc-7bbe-499f-a6d2-fa91b25e0858 .axis.x:not(.web) text[transform]{text-anchor:start}#chart-82055cdc-7bbe-499f-a6d2-fa91b25e0858 .axis.x:not(.web) text[transform].backwards{text-anchor:end}#chart-82055cdc-7bbe-499f-a6d2-fa91b25e0858 .axis.y text{text-anchor:end}#chart-82055cdc-7bbe-499f-a6d2-fa91b25e0858 .axis.y text[transform].backwards{text-anchor:start}#chart-82055cdc-7bbe-499f-a6d2-fa91b25e0858 .axis.y2 text{text-anchor:start}#chart-82055cdc-7bbe-499f-a6d2-fa91b25e0858 .axis.y2 text[transform].backwards{text-anchor:end}#chart-82055cdc-7bbe-499f-a6d2-fa91b25e0858 .axis .guide.line{stroke-dasharray:4,4}#chart-82055cdc-7bbe-499f-a6d2-fa91b25e0858 .axis .major.guide.line{stroke-dasharray:6,6}#chart-82055cdc-7bbe-499f-a6d2-fa91b25e0858 .horizontal .axis.y .guide.line,#chart-82055cdc-7bbe-499f-a6d2-fa91b25e0858 .horizontal .axis.y2 .guide.line,#chart-82055cdc-7bbe-499f-a6d2-fa91b25e0858 .vertical .axis.x .guide.line{opacity:0}#chart-82055cdc-7bbe-499f-a6d2-fa91b25e0858 .horizontal .axis.always_show .guide.line,#chart-82055cdc-7bbe-499f-a6d2-fa91b25e0858 .vertical .axis.always_show .guide.line{opacity:1 !important}#chart-82055cdc-7bbe-499f-a6d2-fa91b25e0858 .axis.y .guides:hover .guide.line,#chart-82055cdc-7bbe-499f-a6d2-fa91b25e0858 .axis.y2 .guides:hover .guide.line,#chart-82055cdc-7bbe-499f-a6d2-fa91b25e0858 .axis.x .guides:hover .guide.line{opacity:1}#chart-82055cdc-7bbe-499f-a6d2-fa91b25e0858 .axis .guides:hover text{opacity:1}#chart-82055cdc-7bbe-499f-a6d2-fa91b25e0858 .nofill{fill:none}#chart-82055cdc-7bbe-499f-a6d2-fa91b25e0858 .subtle-fill{fill-opacity:.2}#chart-82055cdc-7bbe-499f-a6d2-fa91b25e0858 .dot{stroke-width:1px;fill-opacity:1}#chart-82055cdc-7bbe-499f-a6d2-fa91b25e0858 .dot.active{stroke-width:5px}#chart-82055cdc-7bbe-499f-a6d2-fa91b25e0858 .dot.negative{fill:transparent}#chart-82055cdc-7bbe-499f-a6d2-fa91b25e0858 text,#chart-82055cdc-7bbe-499f-a6d2-fa91b25e0858 tspan{stroke:none !important}#chart-82055cdc-7bbe-499f-a6d2-fa91b25e0858 .series text.active{opacity:1}#chart-82055cdc-7bbe-499f-a6d2-fa91b25e0858 .tooltip rect{fill-opacity:.95;stroke-width:.5}#chart-82055cdc-7bbe-499f-a6d2-fa91b25e0858 .tooltip text{fill-opacity:1}#chart-82055cdc-7bbe-499f-a6d2-fa91b25e0858 .showable{visibility:hidden}#chart-82055cdc-7bbe-499f-a6d2-fa91b25e0858 .showable.shown{visibility:visible}#chart-82055cdc-7bbe-499f-a6d2-fa91b25e0858 .gauge-background{fill:rgba(229,229,229,1);stroke:none}#chart-82055cdc-7bbe-499f-a6d2-fa91b25e0858 .bg-lines{stroke:rgba(249,249,249,1);stroke-width:2px}</style><script type=\"text/javascript\">window.pygal = window.pygal || {};window.pygal.config = window.pygal.config || {};window.pygal.config['82055cdc-7bbe-499f-a6d2-fa91b25e0858'] = {\"allow_interruptions\": false, \"box_mode\": \"extremes\", \"classes\": [\"pygal-chart\"], \"css\": [\"file://style.css\", \"file://graph.css\"], \"defs\": [], \"disable_xml_declaration\": false, \"dots_size\": 2.5, \"dynamic_print_values\": false, \"explicit_size\": true, \"fill\": false, \"force_uri_protocol\": \"https\", \"formatter\": null, \"half_pie\": false, \"height\": 360, \"include_x_axis\": false, \"inner_radius\": 0, \"interpolate\": null, \"interpolation_parameters\": {}, \"interpolation_precision\": 250, \"inverse_y_axis\": false, \"js\": [\"//kozea.github.io/pygal.js/2.0.x/pygal-tooltips.min.js\"], \"legend_at_bottom\": false, \"legend_at_bottom_columns\": null, \"legend_box_size\": 12, \"logarithmic\": false, \"margin\": 20, \"margin_bottom\": null, \"margin_left\": null, \"margin_right\": null, \"margin_top\": null, \"max_scale\": 16, \"min_scale\": 4, \"missing_value_fill_truncation\": \"x\", \"no_data_text\": \"No data\", \"no_prefix\": false, \"order_min\": null, \"pretty_print\": false, \"print_labels\": false, \"print_values\": false, \"print_values_position\": \"center\", \"print_zeroes\": true, \"range\": null, \"rounded_bars\": null, \"secondary_range\": null, \"show_dots\": true, \"show_legend\": true, \"show_minor_x_labels\": true, \"show_minor_y_labels\": true, \"show_only_major_dots\": false, \"show_x_guides\": false, \"show_x_labels\": true, \"show_y_guides\": true, \"show_y_labels\": true, \"spacing\": 10, \"stack_from_top\": false, \"strict\": false, \"stroke\": true, \"stroke_style\": null, \"style\": {\"background\": \"rgba(249, 249, 249, 1)\", \"ci_colors\": [], \"colors\": [\"#F44336\", \"#3F51B5\", \"#009688\", \"#FFC107\", \"#FF5722\", \"#9C27B0\", \"#03A9F4\", \"#8BC34A\", \"#FF9800\", \"#E91E63\", \"#2196F3\", \"#4CAF50\", \"#FFEB3B\", \"#673AB7\", \"#00BCD4\", \"#CDDC39\", \"#9E9E9E\", \"#607D8B\"], \"font_family\": \"Consolas, \\\"Liberation Mono\\\", Menlo, Courier, monospace\", \"foreground\": \"rgba(0, 0, 0, .87)\", \"foreground_strong\": \"rgba(0, 0, 0, 1)\", \"foreground_subtle\": \"rgba(0, 0, 0, .54)\", \"guide_stroke_dasharray\": \"4,4\", \"label_font_family\": \"Consolas, \\\"Liberation Mono\\\", Menlo, Courier, monospace\", \"label_font_size\": 10, \"legend_font_family\": \"Consolas, \\\"Liberation Mono\\\", Menlo, Courier, monospace\", \"legend_font_size\": 14, \"major_guide_stroke_dasharray\": \"6,6\", \"major_label_font_family\": \"Consolas, \\\"Liberation Mono\\\", Menlo, Courier, monospace\", \"major_label_font_size\": 10, \"no_data_font_family\": \"Consolas, \\\"Liberation Mono\\\", Menlo, Courier, monospace\", \"no_data_font_size\": 64, \"opacity\": \".7\", \"opacity_hover\": \".8\", \"plot_background\": \"rgba(255, 255, 255, 1)\", \"stroke_opacity\": \".8\", \"stroke_opacity_hover\": \".9\", \"title_font_family\": \"Consolas, \\\"Liberation Mono\\\", Menlo, Courier, monospace\", \"title_font_size\": 16, \"tooltip_font_family\": \"Consolas, \\\"Liberation Mono\\\", Menlo, Courier, monospace\", \"tooltip_font_size\": 14, \"transition\": \"150ms\", \"value_background\": \"rgba(229, 229, 229, 1)\", \"value_colors\": [], \"value_font_family\": \"Consolas, \\\"Liberation Mono\\\", Menlo, Courier, monospace\", \"value_font_size\": 16, \"value_label_font_family\": \"Consolas, \\\"Liberation Mono\\\", Menlo, Courier, monospace\", \"value_label_font_size\": 10}, \"title\": \"XY Plot\", \"tooltip_border_radius\": 0, \"tooltip_fancy_mode\": true, \"truncate_label\": null, \"truncate_legend\": null, \"width\": 640, \"x_label_rotation\": 0, \"x_labels\": null, \"x_labels_major\": null, \"x_labels_major_count\": null, \"x_labels_major_every\": null, \"x_title\": null, \"xrange\": null, \"y_label_rotation\": 0, \"y_labels\": null, \"y_labels_major\": null, \"y_labels_major_count\": null, \"y_labels_major_every\": null, \"y_title\": null, \"zero\": 0, \"legends\": [\"sin(x)\", \"cos(x)\"]}</script><script type=\"text/javascript\" xlink:href=\"https://kozea.github.io/pygal.js/2.0.x/pygal-tooltips.min.js\"/></defs><title>XY Plot</title><g class=\"graph xy-graph vertical\"><rect class=\"background\" height=\"360\" width=\"640\" x=\"0\" y=\"0\"/><g class=\"plot\" transform=\"translate(126, 46)\"><rect class=\"background\" height=\"274\" width=\"493.6\" x=\"0\" y=\"0\"/><g class=\"axis y always_show\"><g class=\"guides\"><path class=\"major guide line\" d=\"M0.000000 268.730769 h493.600000\"/><text class=\"major\" x=\"-5\" y=\"272.2307692307692\">-1</text><title>-1</title></g><g class=\"guides\"><path class=\"guide line\" d=\"M0.000000 242.384615 h493.600000\"/><text class=\"\" x=\"-5\" y=\"245.8846153846154\">-0.8</text><title>-0.8</title></g><g class=\"guides\"><path class=\"guide line\" d=\"M0.000000 216.038462 h493.600000\"/><text class=\"\" x=\"-5\" y=\"219.53846153846155\">-0.6</text><title>-0.6</title></g><g class=\"guides\"><path class=\"guide line\" d=\"M0.000000 189.692308 h493.600000\"/><text class=\"\" x=\"-5\" y=\"193.19230769230768\">-0.4</text><title>-0.4</title></g><g class=\"guides\"><path class=\"guide line\" d=\"M0.000000 163.346154 h493.600000\"/><text class=\"\" x=\"-5\" y=\"166.84615384615384\">-0.2</text><title>-0.2</title></g><g class=\"guides\"><path class=\"axis major line\" d=\"M0.000000 137.000000 h493.600000\"/><text class=\"major\" x=\"-5\" y=\"140.5\">0</text><title>0</title></g><g class=\"guides\"><path class=\"guide line\" d=\"M0.000000 110.653846 h493.600000\"/><text class=\"\" x=\"-5\" y=\"114.15384615384616\">0.2</text><title>0.2</title></g><g class=\"guides\"><path class=\"guide line\" d=\"M0.000000 84.307692 h493.600000\"/><text class=\"\" x=\"-5\" y=\"87.80769230769232\">0.4</text><title>0.4</title></g><g class=\"guides\"><path class=\"guide line\" d=\"M0.000000 57.961538 h493.600000\"/><text class=\"\" x=\"-5\" y=\"61.46153846153845\">0.6</text><title>0.6</title></g><g class=\"guides\"><path class=\"guide line\" d=\"M0.000000 31.615385 h493.600000\"/><text class=\"\" x=\"-5\" y=\"35.11538461538461\">0.8</text><title>0.8</title></g><g class=\"guides\"><path class=\"major guide line\" d=\"M0.000000 5.269231 h493.600000\"/><text class=\"major\" x=\"-5\" y=\"8.769230769230774\">1</text><title>1</title></g></g><g class=\"axis x\"><g class=\"guides\"><path class=\"guide line\" d=\"M35.859829 0.000000 v274.000000\"/><text class=\"\" x=\"35.859829059829046\" y=\"289.0\">-160</text><title>-160</title></g><g class=\"guides\"><path class=\"guide line\" d=\"M88.594872 0.000000 v274.000000\"/><text class=\"\" x=\"88.59487179487179\" y=\"289.0\">-120</text><title>-120</title></g><g class=\"guides\"><path class=\"guide line\" d=\"M141.329915 0.000000 v274.000000\"/><text class=\"\" x=\"141.32991452991453\" y=\"289.0\">-80</text><title>-80</title></g><g class=\"guides\"><path class=\"guide line\" d=\"M194.064957 0.000000 v274.000000\"/><text class=\"\" x=\"194.0649572649573\" y=\"289.0\">-40</text><title>-40</title></g><g class=\"guides\"><path class=\"axis line\" d=\"M246.800000 0.000000 v274.000000\"/><text class=\"\" x=\"246.8\" y=\"289.0\">0</text><title>0</title></g><g class=\"guides\"><path class=\"guide line\" d=\"M299.535043 0.000000 v274.000000\"/><text class=\"\" x=\"299.53504273504274\" y=\"289.0\">40</text><title>40</title></g><g class=\"guides\"><path class=\"guide line\" d=\"M352.270085 0.000000 v274.000000\"/><text class=\"\" x=\"352.2700854700855\" y=\"289.0\">80</text><title>80</title></g><g class=\"guides\"><path class=\"guide line\" d=\"M405.005128 0.000000 v274.000000\"/><text class=\"\" x=\"405.00512820512824\" y=\"289.0\">120</text><title>120</title></g><g class=\"guides\"><path class=\"guide line\" d=\"M457.740171 0.000000 v274.000000\"/><text class=\"\" x=\"457.740170940171\" y=\"289.0\">160</text><title>160</title></g></g><g class=\"series serie-0 color-0\"><path class=\"line reactive nofill\" d=\"M9.492308 137.000000 L22.676068 159.874808 35.859829 182.054577 49.043590 202.865385 62.227350 221.674906 75.411111 237.911624 88.594872 251.082193 101.778632 260.786432 114.962393 266.729483 128.146154 268.730769 141.329915 266.729483 154.513675 260.786432 167.697436 251.082193 180.881197 237.911624 194.064957 221.674906 207.248718 202.865385 220.432479 182.054577 233.616239 159.874808 246.800000 137.000000 259.983761 114.125192 273.167521 91.945423 286.351282 71.134615 299.535043 52.325094 312.718803 36.088376 325.902564 22.917807 339.086325 13.213568 352.270085 7.270517 365.453846 5.269231 378.637607 7.270517 391.821368 13.213568 405.005128 22.917807 418.188889 36.088376 431.372650 52.325094 444.556410 71.134615 457.740171 91.945423 470.923932 114.125192 484.107692 137.000000\"/></g><g class=\"series serie-1 color-1\"><path class=\"line reactive nofill\" d=\"M9.492308 268.730769 L22.676068 266.729483 35.859829 260.786432 49.043590 251.082193 62.227350 237.911624 75.411111 221.674906 88.594872 202.865385 101.778632 182.054577 114.962393 159.874808 128.146154 137.000000 141.329915 114.125192 154.513675 91.945423 167.697436 71.134615 180.881197 52.325094 194.064957 36.088376 207.248718 22.917807 220.432479 13.213568 233.616239 7.270517 246.800000 5.269231 259.983761 7.270517 273.167521 13.213568 286.351282 22.917807 299.535043 36.088376 312.718803 52.325094 325.902564 71.134615 339.086325 91.945423 352.270085 114.125192 365.453846 137.000000 378.637607 159.874808 391.821368 182.054577 405.005128 202.865385 418.188889 221.674906 431.372650 237.911624 444.556410 251.082193 457.740171 260.786432 470.923932 266.729483 484.107692 268.730769\"/></g></g><g class=\"titles\"><text class=\"title plot_title\" x=\"320.0\" y=\"26\">XY Plot</text></g><g class=\"plot overlay\" transform=\"translate(126, 46)\"><g class=\"series serie-0 color-0\"/><g class=\"series serie-1 color-1\"/></g><g class=\"plot text-overlay\" transform=\"translate(126, 46)\"><g class=\"series serie-0 color-0\"/><g class=\"series serie-1 color-1\"/></g><g class=\"plot tooltip-overlay\" transform=\"translate(126, 46)\"><g class=\"tooltip\" style=\"opacity: 0\" transform=\"translate(0 0)\"><rect class=\"tooltip-box\" height=\"0\" rx=\"0\" ry=\"0\" width=\"0\"/><g class=\"text\"/></g></g><g class=\"legends\" transform=\"translate(10, 56)\"><g class=\"legend reactive activate-serie\" id=\"activate-serie-0\"><rect class=\"color-0 reactive\" height=\"12\" width=\"12\" x=\"0.0\" y=\"1.0\"/><text x=\"17.0\" y=\"11.2\">sin(x)</text></g><g class=\"legend reactive activate-serie\" id=\"activate-serie-1\"><rect class=\"color-1 reactive\" height=\"12\" width=\"12\" x=\"0.0\" y=\"22.0\"/><text x=\"17.0\" y=\"32.2\">cos(x)</text></g></g><g class=\"legends\" transform=\"translate(630, 56)\"/></g></svg>\n",
       "            </figure>\n",
       "        </body>\n",
       "    </head>\n",
       "</html>\n"
      ],
      "text/plain": [
       "<IPython.core.display.HTML object>"
      ]
     },
     "metadata": {},
     "output_type": "display_data"
    }
   ],
   "source": [
    "xy_chart.add('sin(x)', sine_points, show_dots=False)\n",
    "xy_chart.add('cos(x)', cosine_points, show_dots=False)\n",
    "display_chart(xy_chart)"
   ]
  },
  {
   "cell_type": "code",
   "execution_count": 15,
   "metadata": {},
   "outputs": [],
   "source": [
    "xy_chart = pygal.XY(width=640, height=360, explicit_size=True, stroke=False)\n",
    "xy_chart.title = 'XY Plot'"
   ]
  },
  {
   "cell_type": "code",
   "execution_count": 16,
   "metadata": {},
   "outputs": [
    {
     "data": {
      "text/html": [
       "\n",
       "<!DOCTYPE html>\n",
       "<html>\n",
       "    <head>\n",
       "    <script type=\"text/javascript\"\n",
       "            src=\"http://kozea.github.com/pygal.js/javascripts/svg.jquery.js\">\n",
       "    </script>\n",
       "    <script type=\"text/javascript\"\n",
       "            src=\"https://kozea.github.io/pygal.js/2.0.x/pygal-tooltips.min.js\">\n",
       "    </script>\n",
       "    <head>\n",
       "        <body>\n",
       "            <figure>\n",
       "                <?xml version='1.0' encoding='utf-8'?>\n",
       "<svg xmlns:xlink=\"http://www.w3.org/1999/xlink\" xmlns=\"http://www.w3.org/2000/svg\" id=\"chart-e224f880-f964-4296-a6b0-1bd2a59880fb\" class=\"pygal-chart\" viewBox=\"0 0 640 360\" width=\"640\" height=\"360\"><!--Generated with pygal 2.4.0 (lxml) ©Kozea 2012-2016 on 2019-06-09--><!--http://pygal.org--><!--http://github.com/Kozea/pygal--><defs><style type=\"text/css\">#chart-e224f880-f964-4296-a6b0-1bd2a59880fb{-webkit-user-select:none;-webkit-font-smoothing:antialiased;font-family:Consolas,\"Liberation Mono\",Menlo,Courier,monospace}#chart-e224f880-f964-4296-a6b0-1bd2a59880fb .title{font-family:Consolas,\"Liberation Mono\",Menlo,Courier,monospace;font-size:16px}#chart-e224f880-f964-4296-a6b0-1bd2a59880fb .legends .legend text{font-family:Consolas,\"Liberation Mono\",Menlo,Courier,monospace;font-size:14px}#chart-e224f880-f964-4296-a6b0-1bd2a59880fb .axis text{font-family:Consolas,\"Liberation Mono\",Menlo,Courier,monospace;font-size:10px}#chart-e224f880-f964-4296-a6b0-1bd2a59880fb .axis text.major{font-family:Consolas,\"Liberation Mono\",Menlo,Courier,monospace;font-size:10px}#chart-e224f880-f964-4296-a6b0-1bd2a59880fb .text-overlay text.value{font-family:Consolas,\"Liberation Mono\",Menlo,Courier,monospace;font-size:16px}#chart-e224f880-f964-4296-a6b0-1bd2a59880fb .text-overlay text.label{font-family:Consolas,\"Liberation Mono\",Menlo,Courier,monospace;font-size:10px}#chart-e224f880-f964-4296-a6b0-1bd2a59880fb .tooltip{font-family:Consolas,\"Liberation Mono\",Menlo,Courier,monospace;font-size:14px}#chart-e224f880-f964-4296-a6b0-1bd2a59880fb text.no_data{font-family:Consolas,\"Liberation Mono\",Menlo,Courier,monospace;font-size:64px}\n",
       "#chart-e224f880-f964-4296-a6b0-1bd2a59880fb{background-color:rgba(249,249,249,1)}#chart-e224f880-f964-4296-a6b0-1bd2a59880fb path,#chart-e224f880-f964-4296-a6b0-1bd2a59880fb line,#chart-e224f880-f964-4296-a6b0-1bd2a59880fb rect,#chart-e224f880-f964-4296-a6b0-1bd2a59880fb circle{-webkit-transition:150ms;-moz-transition:150ms;transition:150ms}#chart-e224f880-f964-4296-a6b0-1bd2a59880fb .graph &gt; .background{fill:rgba(249,249,249,1)}#chart-e224f880-f964-4296-a6b0-1bd2a59880fb .plot &gt; .background{fill:rgba(255,255,255,1)}#chart-e224f880-f964-4296-a6b0-1bd2a59880fb .graph{fill:rgba(0,0,0,.87)}#chart-e224f880-f964-4296-a6b0-1bd2a59880fb text.no_data{fill:rgba(0,0,0,1)}#chart-e224f880-f964-4296-a6b0-1bd2a59880fb .title{fill:rgba(0,0,0,1)}#chart-e224f880-f964-4296-a6b0-1bd2a59880fb .legends .legend text{fill:rgba(0,0,0,.87)}#chart-e224f880-f964-4296-a6b0-1bd2a59880fb .legends .legend:hover text{fill:rgba(0,0,0,1)}#chart-e224f880-f964-4296-a6b0-1bd2a59880fb .axis .line{stroke:rgba(0,0,0,1)}#chart-e224f880-f964-4296-a6b0-1bd2a59880fb .axis .guide.line{stroke:rgba(0,0,0,.54)}#chart-e224f880-f964-4296-a6b0-1bd2a59880fb .axis .major.line{stroke:rgba(0,0,0,.87)}#chart-e224f880-f964-4296-a6b0-1bd2a59880fb .axis text.major{fill:rgba(0,0,0,1)}#chart-e224f880-f964-4296-a6b0-1bd2a59880fb .axis.y .guides:hover .guide.line,#chart-e224f880-f964-4296-a6b0-1bd2a59880fb .line-graph .axis.x .guides:hover .guide.line,#chart-e224f880-f964-4296-a6b0-1bd2a59880fb .stackedline-graph .axis.x .guides:hover .guide.line,#chart-e224f880-f964-4296-a6b0-1bd2a59880fb .xy-graph .axis.x .guides:hover .guide.line{stroke:rgba(0,0,0,1)}#chart-e224f880-f964-4296-a6b0-1bd2a59880fb .axis .guides:hover text{fill:rgba(0,0,0,1)}#chart-e224f880-f964-4296-a6b0-1bd2a59880fb .reactive{fill-opacity:.7;stroke-opacity:.8}#chart-e224f880-f964-4296-a6b0-1bd2a59880fb .ci{stroke:rgba(0,0,0,.87)}#chart-e224f880-f964-4296-a6b0-1bd2a59880fb .reactive.active,#chart-e224f880-f964-4296-a6b0-1bd2a59880fb .active .reactive{fill-opacity:.8;stroke-opacity:.9;stroke-width:4}#chart-e224f880-f964-4296-a6b0-1bd2a59880fb .ci .reactive.active{stroke-width:1.5}#chart-e224f880-f964-4296-a6b0-1bd2a59880fb .series text{fill:rgba(0,0,0,1)}#chart-e224f880-f964-4296-a6b0-1bd2a59880fb .tooltip rect{fill:rgba(255,255,255,1);stroke:rgba(0,0,0,1);-webkit-transition:opacity 150ms;-moz-transition:opacity 150ms;transition:opacity 150ms}#chart-e224f880-f964-4296-a6b0-1bd2a59880fb .tooltip .label{fill:rgba(0,0,0,.87)}#chart-e224f880-f964-4296-a6b0-1bd2a59880fb .tooltip .label{fill:rgba(0,0,0,.87)}#chart-e224f880-f964-4296-a6b0-1bd2a59880fb .tooltip .legend{font-size:.8em;fill:rgba(0,0,0,.54)}#chart-e224f880-f964-4296-a6b0-1bd2a59880fb .tooltip .x_label{font-size:.6em;fill:rgba(0,0,0,1)}#chart-e224f880-f964-4296-a6b0-1bd2a59880fb .tooltip .xlink{font-size:.5em;text-decoration:underline}#chart-e224f880-f964-4296-a6b0-1bd2a59880fb .tooltip .value{font-size:1.5em}#chart-e224f880-f964-4296-a6b0-1bd2a59880fb .bound{font-size:.5em}#chart-e224f880-f964-4296-a6b0-1bd2a59880fb .max-value{font-size:.75em;fill:rgba(0,0,0,.54)}#chart-e224f880-f964-4296-a6b0-1bd2a59880fb .map-element{fill:rgba(255,255,255,1);stroke:rgba(0,0,0,.54) !important}#chart-e224f880-f964-4296-a6b0-1bd2a59880fb .map-element .reactive{fill-opacity:inherit;stroke-opacity:inherit}#chart-e224f880-f964-4296-a6b0-1bd2a59880fb .color-0,#chart-e224f880-f964-4296-a6b0-1bd2a59880fb .color-0 a:visited{stroke:#F44336;fill:#F44336}#chart-e224f880-f964-4296-a6b0-1bd2a59880fb .color-1,#chart-e224f880-f964-4296-a6b0-1bd2a59880fb .color-1 a:visited{stroke:#3F51B5;fill:#3F51B5}#chart-e224f880-f964-4296-a6b0-1bd2a59880fb .text-overlay .color-0 text{fill:black}#chart-e224f880-f964-4296-a6b0-1bd2a59880fb .text-overlay .color-1 text{fill:black}\n",
       "#chart-e224f880-f964-4296-a6b0-1bd2a59880fb text.no_data{text-anchor:middle}#chart-e224f880-f964-4296-a6b0-1bd2a59880fb .guide.line{fill:none}#chart-e224f880-f964-4296-a6b0-1bd2a59880fb .centered{text-anchor:middle}#chart-e224f880-f964-4296-a6b0-1bd2a59880fb .title{text-anchor:middle}#chart-e224f880-f964-4296-a6b0-1bd2a59880fb .legends .legend text{fill-opacity:1}#chart-e224f880-f964-4296-a6b0-1bd2a59880fb .axis.x text{text-anchor:middle}#chart-e224f880-f964-4296-a6b0-1bd2a59880fb .axis.x:not(.web) text[transform]{text-anchor:start}#chart-e224f880-f964-4296-a6b0-1bd2a59880fb .axis.x:not(.web) text[transform].backwards{text-anchor:end}#chart-e224f880-f964-4296-a6b0-1bd2a59880fb .axis.y text{text-anchor:end}#chart-e224f880-f964-4296-a6b0-1bd2a59880fb .axis.y text[transform].backwards{text-anchor:start}#chart-e224f880-f964-4296-a6b0-1bd2a59880fb .axis.y2 text{text-anchor:start}#chart-e224f880-f964-4296-a6b0-1bd2a59880fb .axis.y2 text[transform].backwards{text-anchor:end}#chart-e224f880-f964-4296-a6b0-1bd2a59880fb .axis .guide.line{stroke-dasharray:4,4}#chart-e224f880-f964-4296-a6b0-1bd2a59880fb .axis .major.guide.line{stroke-dasharray:6,6}#chart-e224f880-f964-4296-a6b0-1bd2a59880fb .horizontal .axis.y .guide.line,#chart-e224f880-f964-4296-a6b0-1bd2a59880fb .horizontal .axis.y2 .guide.line,#chart-e224f880-f964-4296-a6b0-1bd2a59880fb .vertical .axis.x .guide.line{opacity:0}#chart-e224f880-f964-4296-a6b0-1bd2a59880fb .horizontal .axis.always_show .guide.line,#chart-e224f880-f964-4296-a6b0-1bd2a59880fb .vertical .axis.always_show .guide.line{opacity:1 !important}#chart-e224f880-f964-4296-a6b0-1bd2a59880fb .axis.y .guides:hover .guide.line,#chart-e224f880-f964-4296-a6b0-1bd2a59880fb .axis.y2 .guides:hover .guide.line,#chart-e224f880-f964-4296-a6b0-1bd2a59880fb .axis.x .guides:hover .guide.line{opacity:1}#chart-e224f880-f964-4296-a6b0-1bd2a59880fb .axis .guides:hover text{opacity:1}#chart-e224f880-f964-4296-a6b0-1bd2a59880fb .nofill{fill:none}#chart-e224f880-f964-4296-a6b0-1bd2a59880fb .subtle-fill{fill-opacity:.2}#chart-e224f880-f964-4296-a6b0-1bd2a59880fb .dot{stroke-width:1px;fill-opacity:1}#chart-e224f880-f964-4296-a6b0-1bd2a59880fb .dot.active{stroke-width:5px}#chart-e224f880-f964-4296-a6b0-1bd2a59880fb .dot.negative{fill:transparent}#chart-e224f880-f964-4296-a6b0-1bd2a59880fb text,#chart-e224f880-f964-4296-a6b0-1bd2a59880fb tspan{stroke:none !important}#chart-e224f880-f964-4296-a6b0-1bd2a59880fb .series text.active{opacity:1}#chart-e224f880-f964-4296-a6b0-1bd2a59880fb .tooltip rect{fill-opacity:.95;stroke-width:.5}#chart-e224f880-f964-4296-a6b0-1bd2a59880fb .tooltip text{fill-opacity:1}#chart-e224f880-f964-4296-a6b0-1bd2a59880fb .showable{visibility:hidden}#chart-e224f880-f964-4296-a6b0-1bd2a59880fb .showable.shown{visibility:visible}#chart-e224f880-f964-4296-a6b0-1bd2a59880fb .gauge-background{fill:rgba(229,229,229,1);stroke:none}#chart-e224f880-f964-4296-a6b0-1bd2a59880fb .bg-lines{stroke:rgba(249,249,249,1);stroke-width:2px}</style><script type=\"text/javascript\">window.pygal = window.pygal || {};window.pygal.config = window.pygal.config || {};window.pygal.config['e224f880-f964-4296-a6b0-1bd2a59880fb'] = {\"allow_interruptions\": false, \"box_mode\": \"extremes\", \"classes\": [\"pygal-chart\"], \"css\": [\"file://style.css\", \"file://graph.css\"], \"defs\": [], \"disable_xml_declaration\": false, \"dots_size\": 2.5, \"dynamic_print_values\": false, \"explicit_size\": true, \"fill\": false, \"force_uri_protocol\": \"https\", \"formatter\": null, \"half_pie\": false, \"height\": 360, \"include_x_axis\": false, \"inner_radius\": 0, \"interpolate\": null, \"interpolation_parameters\": {}, \"interpolation_precision\": 250, \"inverse_y_axis\": false, \"js\": [\"//kozea.github.io/pygal.js/2.0.x/pygal-tooltips.min.js\"], \"legend_at_bottom\": false, \"legend_at_bottom_columns\": null, \"legend_box_size\": 12, \"logarithmic\": false, \"margin\": 20, \"margin_bottom\": null, \"margin_left\": null, \"margin_right\": null, \"margin_top\": null, \"max_scale\": 16, \"min_scale\": 4, \"missing_value_fill_truncation\": \"x\", \"no_data_text\": \"No data\", \"no_prefix\": false, \"order_min\": null, \"pretty_print\": false, \"print_labels\": false, \"print_values\": false, \"print_values_position\": \"center\", \"print_zeroes\": true, \"range\": null, \"rounded_bars\": null, \"secondary_range\": null, \"show_dots\": true, \"show_legend\": true, \"show_minor_x_labels\": true, \"show_minor_y_labels\": true, \"show_only_major_dots\": false, \"show_x_guides\": false, \"show_x_labels\": true, \"show_y_guides\": true, \"show_y_labels\": true, \"spacing\": 10, \"stack_from_top\": false, \"strict\": false, \"stroke\": false, \"stroke_style\": null, \"style\": {\"background\": \"rgba(249, 249, 249, 1)\", \"ci_colors\": [], \"colors\": [\"#F44336\", \"#3F51B5\", \"#009688\", \"#FFC107\", \"#FF5722\", \"#9C27B0\", \"#03A9F4\", \"#8BC34A\", \"#FF9800\", \"#E91E63\", \"#2196F3\", \"#4CAF50\", \"#FFEB3B\", \"#673AB7\", \"#00BCD4\", \"#CDDC39\", \"#9E9E9E\", \"#607D8B\"], \"font_family\": \"Consolas, \\\"Liberation Mono\\\", Menlo, Courier, monospace\", \"foreground\": \"rgba(0, 0, 0, .87)\", \"foreground_strong\": \"rgba(0, 0, 0, 1)\", \"foreground_subtle\": \"rgba(0, 0, 0, .54)\", \"guide_stroke_dasharray\": \"4,4\", \"label_font_family\": \"Consolas, \\\"Liberation Mono\\\", Menlo, Courier, monospace\", \"label_font_size\": 10, \"legend_font_family\": \"Consolas, \\\"Liberation Mono\\\", Menlo, Courier, monospace\", \"legend_font_size\": 14, \"major_guide_stroke_dasharray\": \"6,6\", \"major_label_font_family\": \"Consolas, \\\"Liberation Mono\\\", Menlo, Courier, monospace\", \"major_label_font_size\": 10, \"no_data_font_family\": \"Consolas, \\\"Liberation Mono\\\", Menlo, Courier, monospace\", \"no_data_font_size\": 64, \"opacity\": \".7\", \"opacity_hover\": \".8\", \"plot_background\": \"rgba(255, 255, 255, 1)\", \"stroke_opacity\": \".8\", \"stroke_opacity_hover\": \".9\", \"title_font_family\": \"Consolas, \\\"Liberation Mono\\\", Menlo, Courier, monospace\", \"title_font_size\": 16, \"tooltip_font_family\": \"Consolas, \\\"Liberation Mono\\\", Menlo, Courier, monospace\", \"tooltip_font_size\": 14, \"transition\": \"150ms\", \"value_background\": \"rgba(229, 229, 229, 1)\", \"value_colors\": [], \"value_font_family\": \"Consolas, \\\"Liberation Mono\\\", Menlo, Courier, monospace\", \"value_font_size\": 16, \"value_label_font_family\": \"Consolas, \\\"Liberation Mono\\\", Menlo, Courier, monospace\", \"value_label_font_size\": 10}, \"title\": \"XY Plot\", \"tooltip_border_radius\": 0, \"tooltip_fancy_mode\": true, \"truncate_label\": null, \"truncate_legend\": null, \"width\": 640, \"x_label_rotation\": 0, \"x_labels\": null, \"x_labels_major\": null, \"x_labels_major_count\": null, \"x_labels_major_every\": null, \"x_title\": null, \"xrange\": null, \"y_label_rotation\": 0, \"y_labels\": null, \"y_labels_major\": null, \"y_labels_major_count\": null, \"y_labels_major_every\": null, \"y_title\": null, \"zero\": 0, \"legends\": [\"sin(x)\", \"cos(x)\"]}</script><script type=\"text/javascript\" xlink:href=\"https://kozea.github.io/pygal.js/2.0.x/pygal-tooltips.min.js\"/></defs><title>XY Plot</title><g class=\"graph xy-graph vertical\"><rect class=\"background\" height=\"360\" width=\"640\" x=\"0\" y=\"0\"/><g class=\"plot\" transform=\"translate(126, 46)\"><rect class=\"background\" height=\"274\" width=\"493.6\" x=\"0\" y=\"0\"/><g class=\"axis y always_show\"><g class=\"guides\"><path class=\"major guide line\" d=\"M0.000000 268.730769 h493.600000\"/><text class=\"major\" x=\"-5\" y=\"272.2307692307692\">-1</text><title>-1</title></g><g class=\"guides\"><path class=\"guide line\" d=\"M0.000000 242.384615 h493.600000\"/><text class=\"\" x=\"-5\" y=\"245.8846153846154\">-0.8</text><title>-0.8</title></g><g class=\"guides\"><path class=\"guide line\" d=\"M0.000000 216.038462 h493.600000\"/><text class=\"\" x=\"-5\" y=\"219.53846153846155\">-0.6</text><title>-0.6</title></g><g class=\"guides\"><path class=\"guide line\" d=\"M0.000000 189.692308 h493.600000\"/><text class=\"\" x=\"-5\" y=\"193.19230769230768\">-0.4</text><title>-0.4</title></g><g class=\"guides\"><path class=\"guide line\" d=\"M0.000000 163.346154 h493.600000\"/><text class=\"\" x=\"-5\" y=\"166.84615384615384\">-0.2</text><title>-0.2</title></g><g class=\"guides\"><path class=\"axis major line\" d=\"M0.000000 137.000000 h493.600000\"/><text class=\"major\" x=\"-5\" y=\"140.5\">0</text><title>0</title></g><g class=\"guides\"><path class=\"guide line\" d=\"M0.000000 110.653846 h493.600000\"/><text class=\"\" x=\"-5\" y=\"114.15384615384616\">0.2</text><title>0.2</title></g><g class=\"guides\"><path class=\"guide line\" d=\"M0.000000 84.307692 h493.600000\"/><text class=\"\" x=\"-5\" y=\"87.80769230769232\">0.4</text><title>0.4</title></g><g class=\"guides\"><path class=\"guide line\" d=\"M0.000000 57.961538 h493.600000\"/><text class=\"\" x=\"-5\" y=\"61.46153846153845\">0.6</text><title>0.6</title></g><g class=\"guides\"><path class=\"guide line\" d=\"M0.000000 31.615385 h493.600000\"/><text class=\"\" x=\"-5\" y=\"35.11538461538461\">0.8</text><title>0.8</title></g><g class=\"guides\"><path class=\"major guide line\" d=\"M0.000000 5.269231 h493.600000\"/><text class=\"major\" x=\"-5\" y=\"8.769230769230774\">1</text><title>1</title></g></g><g class=\"axis x\"><g class=\"guides\"><path class=\"guide line\" d=\"M35.859829 0.000000 v274.000000\"/><text class=\"\" x=\"35.859829059829046\" y=\"289.0\">-160</text><title>-160</title></g><g class=\"guides\"><path class=\"guide line\" d=\"M88.594872 0.000000 v274.000000\"/><text class=\"\" x=\"88.59487179487179\" y=\"289.0\">-120</text><title>-120</title></g><g class=\"guides\"><path class=\"guide line\" d=\"M141.329915 0.000000 v274.000000\"/><text class=\"\" x=\"141.32991452991453\" y=\"289.0\">-80</text><title>-80</title></g><g class=\"guides\"><path class=\"guide line\" d=\"M194.064957 0.000000 v274.000000\"/><text class=\"\" x=\"194.0649572649573\" y=\"289.0\">-40</text><title>-40</title></g><g class=\"guides\"><path class=\"axis line\" d=\"M246.800000 0.000000 v274.000000\"/><text class=\"\" x=\"246.8\" y=\"289.0\">0</text><title>0</title></g><g class=\"guides\"><path class=\"guide line\" d=\"M299.535043 0.000000 v274.000000\"/><text class=\"\" x=\"299.53504273504274\" y=\"289.0\">40</text><title>40</title></g><g class=\"guides\"><path class=\"guide line\" d=\"M352.270085 0.000000 v274.000000\"/><text class=\"\" x=\"352.2700854700855\" y=\"289.0\">80</text><title>80</title></g><g class=\"guides\"><path class=\"guide line\" d=\"M405.005128 0.000000 v274.000000\"/><text class=\"\" x=\"405.00512820512824\" y=\"289.0\">120</text><title>120</title></g><g class=\"guides\"><path class=\"guide line\" d=\"M457.740171 0.000000 v274.000000\"/><text class=\"\" x=\"457.740170940171\" y=\"289.0\">160</text><title>160</title></g></g><g class=\"series serie-0 color-0\"/><g class=\"series serie-1 color-1\"/></g><g class=\"titles\"><text class=\"title plot_title\" x=\"320.0\" y=\"26\">XY Plot</text></g><g class=\"plot overlay\" transform=\"translate(126, 46)\"><g class=\"series serie-0 color-0\"><g class=\"dots\"><circle class=\"dot reactive tooltip-trigger\" cx=\"9.492307692307678\" cy=\"137.00000000000003\" r=\"2.5\"/><desc class=\"value\">-180: -1.224646799e-16</desc><desc class=\"x top\">9.492307692307678</desc><desc class=\"y top\">137.00000000000003</desc></g><g class=\"dots\"><circle class=\"dot reactive tooltip-trigger\" cx=\"22.676068376068365\" cy=\"159.874808019586\" r=\"2.5\"/><desc class=\"value\">-170: -0.1736481777</desc><desc class=\"x top\">22.676068376068365</desc><desc class=\"y top\">159.874808019586</desc></g><g class=\"dots\"><circle class=\"dot reactive tooltip-trigger\" cx=\"35.859829059829046\" cy=\"182.0545765727083\" r=\"2.5\"/><desc class=\"value\">-160: -0.3420201433</desc><desc class=\"x top\">35.859829059829046</desc><desc class=\"y top\">182.0545765727083</desc></g><g class=\"dots\"><circle class=\"dot reactive tooltip-trigger\" cx=\"49.043589743589735\" cy=\"202.8653846153846\" r=\"2.5\"/><desc class=\"value\">-150: -0.5</desc><desc class=\"x top\">49.043589743589735</desc><desc class=\"y top\">202.8653846153846</desc></g><g class=\"dots\"><circle class=\"dot reactive tooltip-trigger\" cx=\"62.227350427350416\" cy=\"221.6749062760153\" r=\"2.5\"/><desc class=\"value\">-140: -0.6427876097</desc><desc class=\"x top\">62.227350427350416</desc><desc class=\"y top\">221.6749062760153</desc></g><g class=\"dots\"><circle class=\"dot reactive tooltip-trigger\" cx=\"75.4111111111111\" cy=\"237.91162375701924\" r=\"2.5\"/><desc class=\"value\">-130: -0.7660444431</desc><desc class=\"x top\">75.4111111111111</desc><desc class=\"y top\">237.91162375701924</desc></g><g class=\"dots\"><circle class=\"dot reactive tooltip-trigger\" cx=\"88.59487179487179\" cy=\"251.08219261391164\" r=\"2.5\"/><desc class=\"value\">-120: -0.8660254038</desc><desc class=\"x top\">88.59487179487179</desc><desc class=\"y top\">251.08219261391164</desc></g><g class=\"dots\"><circle class=\"dot reactive tooltip-trigger\" cx=\"101.77863247863247\" cy=\"260.78643177660524\" r=\"2.5\"/><desc class=\"value\">-110: -0.9396926208</desc><desc class=\"x top\">101.77863247863247</desc><desc class=\"y top\">260.78643177660524</desc></g><g class=\"dots\"><circle class=\"dot reactive tooltip-trigger\" cx=\"114.96239316239317\" cy=\"266.72948284872353\" r=\"2.5\"/><desc class=\"value\">-100: -0.984807753</desc><desc class=\"x top\">114.96239316239317</desc><desc class=\"y top\">266.72948284872353</desc></g><g class=\"dots\"><circle class=\"dot reactive tooltip-trigger\" cx=\"128.14615384615385\" cy=\"268.7307692307692\" r=\"2.5\"/><desc class=\"value\">-90: -1</desc><desc class=\"x top\">128.14615384615385</desc><desc class=\"y top\">268.7307692307692</desc></g><g class=\"dots\"><circle class=\"dot reactive tooltip-trigger\" cx=\"141.32991452991453\" cy=\"266.72948284872353\" r=\"2.5\"/><desc class=\"value\">-80: -0.984807753</desc><desc class=\"x top\">141.32991452991453</desc><desc class=\"y top\">266.72948284872353</desc></g><g class=\"dots\"><circle class=\"dot reactive tooltip-trigger\" cx=\"154.5136752136752\" cy=\"260.78643177660524\" r=\"2.5\"/><desc class=\"value\">-70: -0.9396926208</desc><desc class=\"x top\">154.5136752136752</desc><desc class=\"y top\">260.78643177660524</desc></g><g class=\"dots\"><circle class=\"dot reactive tooltip-trigger\" cx=\"167.6974358974359\" cy=\"251.08219261391162\" r=\"2.5\"/><desc class=\"value\">-60: -0.8660254038</desc><desc class=\"x top\">167.6974358974359</desc><desc class=\"y top\">251.08219261391162</desc></g><g class=\"dots\"><circle class=\"dot reactive tooltip-trigger\" cx=\"180.88119658119658\" cy=\"237.9116237570192\" r=\"2.5\"/><desc class=\"value\">-50: -0.7660444431</desc><desc class=\"x top\">180.88119658119658</desc><desc class=\"y top\">237.9116237570192</desc></g><g class=\"dots\"><circle class=\"dot reactive tooltip-trigger\" cx=\"194.0649572649573\" cy=\"221.67490627601526\" r=\"2.5\"/><desc class=\"value\">-40: -0.6427876097</desc><desc class=\"x top\">194.0649572649573</desc><desc class=\"y top\">221.67490627601526</desc></g><g class=\"dots\"><circle class=\"dot reactive tooltip-trigger\" cx=\"207.24871794871797\" cy=\"202.8653846153846\" r=\"2.5\"/><desc class=\"value\">-30: -0.5</desc><desc class=\"x top\">207.24871794871797</desc><desc class=\"y top\">202.8653846153846</desc></g><g class=\"dots\"><circle class=\"dot reactive tooltip-trigger\" cx=\"220.43247863247865\" cy=\"182.0545765727083\" r=\"2.5\"/><desc class=\"value\">-20: -0.3420201433</desc><desc class=\"x top\">220.43247863247865</desc><desc class=\"y top\">182.0545765727083</desc></g><g class=\"dots\"><circle class=\"dot reactive tooltip-trigger\" cx=\"233.61623931623933\" cy=\"159.874808019586\" r=\"2.5\"/><desc class=\"value\">-10: -0.1736481777</desc><desc class=\"x top\">233.61623931623933</desc><desc class=\"y top\">159.874808019586</desc></g><g class=\"dots\"><circle class=\"dot reactive tooltip-trigger\" cx=\"246.8\" cy=\"137.0\" r=\"2.5\"/><desc class=\"value\">0: 0</desc><desc class=\"x \">246.8</desc><desc class=\"y \">137.0</desc></g><g class=\"dots\"><circle class=\"dot reactive tooltip-trigger\" cx=\"259.9837606837607\" cy=\"114.125191980414\" r=\"2.5\"/><desc class=\"value\">10: 0.1736481777</desc><desc class=\"x left\">259.9837606837607</desc><desc class=\"y left\">114.125191980414</desc></g><g class=\"dots\"><circle class=\"dot reactive tooltip-trigger\" cx=\"273.1675213675214\" cy=\"91.94542342729173\" r=\"2.5\"/><desc class=\"value\">20: 0.3420201433</desc><desc class=\"x left\">273.1675213675214</desc><desc class=\"y left\">91.94542342729173</desc></g><g class=\"dots\"><circle class=\"dot reactive tooltip-trigger\" cx=\"286.35128205128206\" cy=\"71.13461538461539\" r=\"2.5\"/><desc class=\"value\">30: 0.5</desc><desc class=\"x left\">286.35128205128206</desc><desc class=\"y left\">71.13461538461539</desc></g><g class=\"dots\"><circle class=\"dot reactive tooltip-trigger\" cx=\"299.53504273504274\" cy=\"52.325093723984736\" r=\"2.5\"/><desc class=\"value\">40: 0.6427876097</desc><desc class=\"x left\">299.53504273504274</desc><desc class=\"y left\">52.325093723984736</desc></g><g class=\"dots\"><circle class=\"dot reactive tooltip-trigger\" cx=\"312.7188034188034\" cy=\"36.088376242980786\" r=\"2.5\"/><desc class=\"value\">50: 0.7660444431</desc><desc class=\"x left\">312.7188034188034</desc><desc class=\"y left\">36.088376242980786</desc></g><g class=\"dots\"><circle class=\"dot reactive tooltip-trigger\" cx=\"325.9025641025641\" cy=\"22.917807386088384\" r=\"2.5\"/><desc class=\"value\">60: 0.8660254038</desc><desc class=\"x left\">325.9025641025641</desc><desc class=\"y left\">22.917807386088384</desc></g><g class=\"dots\"><circle class=\"dot reactive tooltip-trigger\" cx=\"339.0863247863248\" cy=\"13.21356822339476\" r=\"2.5\"/><desc class=\"value\">70: 0.9396926208</desc><desc class=\"x left\">339.0863247863248</desc><desc class=\"y left\">13.21356822339476</desc></g><g class=\"dots\"><circle class=\"dot reactive tooltip-trigger\" cx=\"352.2700854700855\" cy=\"7.270517151276465\" r=\"2.5\"/><desc class=\"value\">80: 0.984807753</desc><desc class=\"x left\">352.2700854700855</desc><desc class=\"y left\">7.270517151276465</desc></g><g class=\"dots\"><circle class=\"dot reactive tooltip-trigger\" cx=\"365.4538461538462\" cy=\"5.269230769230774\" r=\"2.5\"/><desc class=\"value\">90: 1</desc><desc class=\"x left\">365.4538461538462</desc><desc class=\"y left\">5.269230769230774</desc></g><g class=\"dots\"><circle class=\"dot reactive tooltip-trigger\" cx=\"378.6376068376069\" cy=\"7.270517151276465\" r=\"2.5\"/><desc class=\"value\">100: 0.984807753</desc><desc class=\"x left\">378.6376068376069</desc><desc class=\"y left\">7.270517151276465</desc></g><g class=\"dots\"><circle class=\"dot reactive tooltip-trigger\" cx=\"391.82136752136756\" cy=\"13.21356822339476\" r=\"2.5\"/><desc class=\"value\">110: 0.9396926208</desc><desc class=\"x left\">391.82136752136756</desc><desc class=\"y left\">13.21356822339476</desc></g><g class=\"dots\"><circle class=\"dot reactive tooltip-trigger\" cx=\"405.00512820512824\" cy=\"22.917807386088327\" r=\"2.5\"/><desc class=\"value\">120: 0.8660254038</desc><desc class=\"x left\">405.00512820512824</desc><desc class=\"y left\">22.917807386088327</desc></g><g class=\"dots\"><circle class=\"dot reactive tooltip-trigger\" cx=\"418.1888888888889\" cy=\"36.08837624298076\" r=\"2.5\"/><desc class=\"value\">130: 0.7660444431</desc><desc class=\"x left\">418.1888888888889</desc><desc class=\"y left\">36.08837624298076</desc></g><g class=\"dots\"><circle class=\"dot reactive tooltip-trigger\" cx=\"431.3726495726496\" cy=\"52.32509372398471\" r=\"2.5\"/><desc class=\"value\">140: 0.6427876097</desc><desc class=\"x left\">431.3726495726496</desc><desc class=\"y left\">52.32509372398471</desc></g><g class=\"dots\"><circle class=\"dot reactive tooltip-trigger\" cx=\"444.55641025641035\" cy=\"71.13461538461539\" r=\"2.5\"/><desc class=\"value\">150: 0.5</desc><desc class=\"x left\">444.55641025641035</desc><desc class=\"y left\">71.13461538461539</desc></g><g class=\"dots\"><circle class=\"dot reactive tooltip-trigger\" cx=\"457.740170940171\" cy=\"91.9454234272917\" r=\"2.5\"/><desc class=\"value\">160: 0.3420201433</desc><desc class=\"x left\">457.740170940171</desc><desc class=\"y left\">91.9454234272917</desc></g><g class=\"dots\"><circle class=\"dot reactive tooltip-trigger\" cx=\"470.9239316239317\" cy=\"114.125191980414\" r=\"2.5\"/><desc class=\"value\">170: 0.1736481777</desc><desc class=\"x left\">470.9239316239317</desc><desc class=\"y left\">114.125191980414</desc></g><g class=\"dots\"><circle class=\"dot reactive tooltip-trigger\" cx=\"484.1076923076924\" cy=\"136.99999999999997\" r=\"2.5\"/><desc class=\"value\">180: 1.224646799e-16</desc><desc class=\"x left\">484.1076923076924</desc><desc class=\"y left\">136.99999999999997</desc></g></g><g class=\"series serie-1 color-1\"><g class=\"dots\"><circle class=\"dot reactive tooltip-trigger\" cx=\"9.492307692307678\" cy=\"268.7307692307692\" r=\"2.5\"/><desc class=\"value\">-180: -1</desc><desc class=\"x top\">9.492307692307678</desc><desc class=\"y top\">268.7307692307692</desc></g><g class=\"dots\"><circle class=\"dot reactive tooltip-trigger\" cx=\"22.676068376068365\" cy=\"266.7294828487236\" r=\"2.5\"/><desc class=\"value\">-170: -0.984807753</desc><desc class=\"x top\">22.676068376068365</desc><desc class=\"y top\">266.7294828487236</desc></g><g class=\"dots\"><circle class=\"dot reactive tooltip-trigger\" cx=\"35.859829059829046\" cy=\"260.78643177660524\" r=\"2.5\"/><desc class=\"value\">-160: -0.9396926208</desc><desc class=\"x top\">35.859829059829046</desc><desc class=\"y top\">260.78643177660524</desc></g><g class=\"dots\"><circle class=\"dot reactive tooltip-trigger\" cx=\"49.043589743589735\" cy=\"251.08219261391164\" r=\"2.5\"/><desc class=\"value\">-150: -0.8660254038</desc><desc class=\"x top\">49.043589743589735</desc><desc class=\"y top\">251.08219261391164</desc></g><g class=\"dots\"><circle class=\"dot reactive tooltip-trigger\" cx=\"62.227350427350416\" cy=\"237.91162375701919\" r=\"2.5\"/><desc class=\"value\">-140: -0.7660444431</desc><desc class=\"x top\">62.227350427350416</desc><desc class=\"y top\">237.91162375701919</desc></g><g class=\"dots\"><circle class=\"dot reactive tooltip-trigger\" cx=\"75.4111111111111\" cy=\"221.67490627601526\" r=\"2.5\"/><desc class=\"value\">-130: -0.6427876097</desc><desc class=\"x top\">75.4111111111111</desc><desc class=\"y top\">221.67490627601526</desc></g><g class=\"dots\"><circle class=\"dot reactive tooltip-trigger\" cx=\"88.59487179487179\" cy=\"202.86538461538458\" r=\"2.5\"/><desc class=\"value\">-120: -0.5</desc><desc class=\"x top\">88.59487179487179</desc><desc class=\"y top\">202.86538461538458</desc></g><g class=\"dots\"><circle class=\"dot reactive tooltip-trigger\" cx=\"101.77863247863247\" cy=\"182.0545765727083\" r=\"2.5\"/><desc class=\"value\">-110: -0.3420201433</desc><desc class=\"x top\">101.77863247863247</desc><desc class=\"y top\">182.0545765727083</desc></g><g class=\"dots\"><circle class=\"dot reactive tooltip-trigger\" cx=\"114.96239316239317\" cy=\"159.874808019586\" r=\"2.5\"/><desc class=\"value\">-100: -0.1736481777</desc><desc class=\"x top\">114.96239316239317</desc><desc class=\"y top\">159.874808019586</desc></g><g class=\"dots\"><circle class=\"dot reactive tooltip-trigger\" cx=\"128.14615384615385\" cy=\"137.0\" r=\"2.5\"/><desc class=\"value\">-90: 6.123233996e-17</desc><desc class=\"x \">128.14615384615385</desc><desc class=\"y \">137.0</desc></g><g class=\"dots\"><circle class=\"dot reactive tooltip-trigger\" cx=\"141.32991452991453\" cy=\"114.12519198041394\" r=\"2.5\"/><desc class=\"value\">-80: 0.1736481777</desc><desc class=\"x \">141.32991452991453</desc><desc class=\"y \">114.12519198041394</desc></g><g class=\"dots\"><circle class=\"dot reactive tooltip-trigger\" cx=\"154.5136752136752\" cy=\"91.9454234272917\" r=\"2.5\"/><desc class=\"value\">-70: 0.3420201433</desc><desc class=\"x \">154.5136752136752</desc><desc class=\"y \">91.9454234272917</desc></g><g class=\"dots\"><circle class=\"dot reactive tooltip-trigger\" cx=\"167.6974358974359\" cy=\"71.13461538461539\" r=\"2.5\"/><desc class=\"value\">-60: 0.5</desc><desc class=\"x \">167.6974358974359</desc><desc class=\"y \">71.13461538461539</desc></g><g class=\"dots\"><circle class=\"dot reactive tooltip-trigger\" cx=\"180.88119658119658\" cy=\"52.325093723984736\" r=\"2.5\"/><desc class=\"value\">-50: 0.6427876097</desc><desc class=\"x \">180.88119658119658</desc><desc class=\"y \">52.325093723984736</desc></g><g class=\"dots\"><circle class=\"dot reactive tooltip-trigger\" cx=\"194.0649572649573\" cy=\"36.08837624298076\" r=\"2.5\"/><desc class=\"value\">-40: 0.7660444431</desc><desc class=\"x \">194.0649572649573</desc><desc class=\"y \">36.08837624298076</desc></g><g class=\"dots\"><circle class=\"dot reactive tooltip-trigger\" cx=\"207.24871794871797\" cy=\"22.917807386088327\" r=\"2.5\"/><desc class=\"value\">-30: 0.8660254038</desc><desc class=\"x \">207.24871794871797</desc><desc class=\"y \">22.917807386088327</desc></g><g class=\"dots\"><circle class=\"dot reactive tooltip-trigger\" cx=\"220.43247863247865\" cy=\"13.21356822339476\" r=\"2.5\"/><desc class=\"value\">-20: 0.9396926208</desc><desc class=\"x \">220.43247863247865</desc><desc class=\"y \">13.21356822339476</desc></g><g class=\"dots\"><circle class=\"dot reactive tooltip-trigger\" cx=\"233.61623931623933\" cy=\"7.270517151276465\" r=\"2.5\"/><desc class=\"value\">-10: 0.984807753</desc><desc class=\"x \">233.61623931623933</desc><desc class=\"y \">7.270517151276465</desc></g><g class=\"dots\"><circle class=\"dot reactive tooltip-trigger\" cx=\"246.8\" cy=\"5.269230769230774\" r=\"2.5\"/><desc class=\"value\">0: 1</desc><desc class=\"x \">246.8</desc><desc class=\"y \">5.269230769230774</desc></g><g class=\"dots\"><circle class=\"dot reactive tooltip-trigger\" cx=\"259.9837606837607\" cy=\"7.270517151276465\" r=\"2.5\"/><desc class=\"value\">10: 0.984807753</desc><desc class=\"x left\">259.9837606837607</desc><desc class=\"y left\">7.270517151276465</desc></g><g class=\"dots\"><circle class=\"dot reactive tooltip-trigger\" cx=\"273.1675213675214\" cy=\"13.21356822339476\" r=\"2.5\"/><desc class=\"value\">20: 0.9396926208</desc><desc class=\"x left\">273.1675213675214</desc><desc class=\"y left\">13.21356822339476</desc></g><g class=\"dots\"><circle class=\"dot reactive tooltip-trigger\" cx=\"286.35128205128206\" cy=\"22.917807386088327\" r=\"2.5\"/><desc class=\"value\">30: 0.8660254038</desc><desc class=\"x left\">286.35128205128206</desc><desc class=\"y left\">22.917807386088327</desc></g><g class=\"dots\"><circle class=\"dot reactive tooltip-trigger\" cx=\"299.53504273504274\" cy=\"36.08837624298076\" r=\"2.5\"/><desc class=\"value\">40: 0.7660444431</desc><desc class=\"x left\">299.53504273504274</desc><desc class=\"y left\">36.08837624298076</desc></g><g class=\"dots\"><circle class=\"dot reactive tooltip-trigger\" cx=\"312.7188034188034\" cy=\"52.325093723984736\" r=\"2.5\"/><desc class=\"value\">50: 0.6427876097</desc><desc class=\"x left\">312.7188034188034</desc><desc class=\"y left\">52.325093723984736</desc></g><g class=\"dots\"><circle class=\"dot reactive tooltip-trigger\" cx=\"325.9025641025641\" cy=\"71.13461538461539\" r=\"2.5\"/><desc class=\"value\">60: 0.5</desc><desc class=\"x left\">325.9025641025641</desc><desc class=\"y left\">71.13461538461539</desc></g><g class=\"dots\"><circle class=\"dot reactive tooltip-trigger\" cx=\"339.0863247863248\" cy=\"91.9454234272917\" r=\"2.5\"/><desc class=\"value\">70: 0.3420201433</desc><desc class=\"x left\">339.0863247863248</desc><desc class=\"y left\">91.9454234272917</desc></g><g class=\"dots\"><circle class=\"dot reactive tooltip-trigger\" cx=\"352.2700854700855\" cy=\"114.12519198041394\" r=\"2.5\"/><desc class=\"value\">80: 0.1736481777</desc><desc class=\"x left\">352.2700854700855</desc><desc class=\"y left\">114.12519198041394</desc></g><g class=\"dots\"><circle class=\"dot reactive tooltip-trigger\" cx=\"365.4538461538462\" cy=\"137.0\" r=\"2.5\"/><desc class=\"value\">90: 6.123233996e-17</desc><desc class=\"x left\">365.4538461538462</desc><desc class=\"y left\">137.0</desc></g><g class=\"dots\"><circle class=\"dot reactive tooltip-trigger\" cx=\"378.6376068376069\" cy=\"159.874808019586\" r=\"2.5\"/><desc class=\"value\">100: -0.1736481777</desc><desc class=\"x left top\">378.6376068376069</desc><desc class=\"y left top\">159.874808019586</desc></g><g class=\"dots\"><circle class=\"dot reactive tooltip-trigger\" cx=\"391.82136752136756\" cy=\"182.0545765727083\" r=\"2.5\"/><desc class=\"value\">110: -0.3420201433</desc><desc class=\"x left top\">391.82136752136756</desc><desc class=\"y left top\">182.0545765727083</desc></g><g class=\"dots\"><circle class=\"dot reactive tooltip-trigger\" cx=\"405.00512820512824\" cy=\"202.86538461538458\" r=\"2.5\"/><desc class=\"value\">120: -0.5</desc><desc class=\"x left top\">405.00512820512824</desc><desc class=\"y left top\">202.86538461538458</desc></g><g class=\"dots\"><circle class=\"dot reactive tooltip-trigger\" cx=\"418.1888888888889\" cy=\"221.67490627601526\" r=\"2.5\"/><desc class=\"value\">130: -0.6427876097</desc><desc class=\"x left top\">418.1888888888889</desc><desc class=\"y left top\">221.67490627601526</desc></g><g class=\"dots\"><circle class=\"dot reactive tooltip-trigger\" cx=\"431.3726495726496\" cy=\"237.91162375701919\" r=\"2.5\"/><desc class=\"value\">140: -0.7660444431</desc><desc class=\"x left top\">431.3726495726496</desc><desc class=\"y left top\">237.91162375701919</desc></g><g class=\"dots\"><circle class=\"dot reactive tooltip-trigger\" cx=\"444.55641025641035\" cy=\"251.08219261391164\" r=\"2.5\"/><desc class=\"value\">150: -0.8660254038</desc><desc class=\"x left top\">444.55641025641035</desc><desc class=\"y left top\">251.08219261391164</desc></g><g class=\"dots\"><circle class=\"dot reactive tooltip-trigger\" cx=\"457.740170940171\" cy=\"260.78643177660524\" r=\"2.5\"/><desc class=\"value\">160: -0.9396926208</desc><desc class=\"x left top\">457.740170940171</desc><desc class=\"y left top\">260.78643177660524</desc></g><g class=\"dots\"><circle class=\"dot reactive tooltip-trigger\" cx=\"470.9239316239317\" cy=\"266.7294828487236\" r=\"2.5\"/><desc class=\"value\">170: -0.984807753</desc><desc class=\"x left top\">470.9239316239317</desc><desc class=\"y left top\">266.7294828487236</desc></g><g class=\"dots\"><circle class=\"dot reactive tooltip-trigger\" cx=\"484.1076923076924\" cy=\"268.7307692307692\" r=\"2.5\"/><desc class=\"value\">180: -1</desc><desc class=\"x left top\">484.1076923076924</desc><desc class=\"y left top\">268.7307692307692</desc></g></g></g><g class=\"plot text-overlay\" transform=\"translate(126, 46)\"><g class=\"series serie-0 color-0\"/><g class=\"series serie-1 color-1\"/></g><g class=\"plot tooltip-overlay\" transform=\"translate(126, 46)\"><g class=\"tooltip\" style=\"opacity: 0\" transform=\"translate(0 0)\"><rect class=\"tooltip-box\" height=\"0\" rx=\"0\" ry=\"0\" width=\"0\"/><g class=\"text\"/></g></g><g class=\"legends\" transform=\"translate(10, 56)\"><g class=\"legend reactive activate-serie\" id=\"activate-serie-0\"><rect class=\"color-0 reactive\" height=\"12\" width=\"12\" x=\"0.0\" y=\"1.0\"/><text x=\"17.0\" y=\"11.2\">sin(x)</text></g><g class=\"legend reactive activate-serie\" id=\"activate-serie-1\"><rect class=\"color-1 reactive\" height=\"12\" width=\"12\" x=\"0.0\" y=\"22.0\"/><text x=\"17.0\" y=\"32.2\">cos(x)</text></g></g><g class=\"legends\" transform=\"translate(630, 56)\"/></g></svg>\n",
       "            </figure>\n",
       "        </body>\n",
       "    </head>\n",
       "</html>\n"
      ],
      "text/plain": [
       "<IPython.core.display.HTML object>"
      ]
     },
     "metadata": {},
     "output_type": "display_data"
    }
   ],
   "source": [
    "xy_chart.add('sin(x)', sine_points)\n",
    "xy_chart.add('cos(x)', cosine_points)\n",
    "display_chart(xy_chart)"
   ]
  },
  {
   "cell_type": "code",
   "execution_count": 17,
   "metadata": {},
   "outputs": [],
   "source": [
    "# source the data set\n",
    "weather_df = pd.read_csv('./datasets/weatherHistory.csv')"
   ]
  },
  {
   "cell_type": "code",
   "execution_count": 18,
   "metadata": {},
   "outputs": [
    {
     "data": {
      "text/html": [
       "<div>\n",
       "<style scoped>\n",
       "    .dataframe tbody tr th:only-of-type {\n",
       "        vertical-align: middle;\n",
       "    }\n",
       "\n",
       "    .dataframe tbody tr th {\n",
       "        vertical-align: top;\n",
       "    }\n",
       "\n",
       "    .dataframe thead th {\n",
       "        text-align: right;\n",
       "    }\n",
       "</style>\n",
       "<table border=\"1\" class=\"dataframe\">\n",
       "  <thead>\n",
       "    <tr style=\"text-align: right;\">\n",
       "      <th></th>\n",
       "      <th>Formatted Date</th>\n",
       "      <th>Summary</th>\n",
       "      <th>Precip Type</th>\n",
       "      <th>Temperature (C)</th>\n",
       "      <th>Apparent Temperature (C)</th>\n",
       "      <th>Humidity</th>\n",
       "      <th>Wind Speed (km/h)</th>\n",
       "      <th>Wind Bearing (degrees)</th>\n",
       "      <th>Visibility (km)</th>\n",
       "      <th>Loud Cover</th>\n",
       "      <th>Pressure (millibars)</th>\n",
       "      <th>Daily Summary</th>\n",
       "    </tr>\n",
       "  </thead>\n",
       "  <tbody>\n",
       "    <tr>\n",
       "      <th>0</th>\n",
       "      <td>2006-04-01 00:00:00.000 +0200</td>\n",
       "      <td>Partly Cloudy</td>\n",
       "      <td>rain</td>\n",
       "      <td>9.472222</td>\n",
       "      <td>7.388889</td>\n",
       "      <td>0.89</td>\n",
       "      <td>14.1197</td>\n",
       "      <td>251.0</td>\n",
       "      <td>15.8263</td>\n",
       "      <td>0.0</td>\n",
       "      <td>1015.13</td>\n",
       "      <td>Partly cloudy throughout the day.</td>\n",
       "    </tr>\n",
       "    <tr>\n",
       "      <th>1</th>\n",
       "      <td>2006-04-01 01:00:00.000 +0200</td>\n",
       "      <td>Partly Cloudy</td>\n",
       "      <td>rain</td>\n",
       "      <td>9.355556</td>\n",
       "      <td>7.227778</td>\n",
       "      <td>0.86</td>\n",
       "      <td>14.2646</td>\n",
       "      <td>259.0</td>\n",
       "      <td>15.8263</td>\n",
       "      <td>0.0</td>\n",
       "      <td>1015.63</td>\n",
       "      <td>Partly cloudy throughout the day.</td>\n",
       "    </tr>\n",
       "    <tr>\n",
       "      <th>2</th>\n",
       "      <td>2006-04-01 02:00:00.000 +0200</td>\n",
       "      <td>Mostly Cloudy</td>\n",
       "      <td>rain</td>\n",
       "      <td>9.377778</td>\n",
       "      <td>9.377778</td>\n",
       "      <td>0.89</td>\n",
       "      <td>3.9284</td>\n",
       "      <td>204.0</td>\n",
       "      <td>14.9569</td>\n",
       "      <td>0.0</td>\n",
       "      <td>1015.94</td>\n",
       "      <td>Partly cloudy throughout the day.</td>\n",
       "    </tr>\n",
       "    <tr>\n",
       "      <th>3</th>\n",
       "      <td>2006-04-01 03:00:00.000 +0200</td>\n",
       "      <td>Partly Cloudy</td>\n",
       "      <td>rain</td>\n",
       "      <td>8.288889</td>\n",
       "      <td>5.944444</td>\n",
       "      <td>0.83</td>\n",
       "      <td>14.1036</td>\n",
       "      <td>269.0</td>\n",
       "      <td>15.8263</td>\n",
       "      <td>0.0</td>\n",
       "      <td>1016.41</td>\n",
       "      <td>Partly cloudy throughout the day.</td>\n",
       "    </tr>\n",
       "    <tr>\n",
       "      <th>4</th>\n",
       "      <td>2006-04-01 04:00:00.000 +0200</td>\n",
       "      <td>Mostly Cloudy</td>\n",
       "      <td>rain</td>\n",
       "      <td>8.755556</td>\n",
       "      <td>6.977778</td>\n",
       "      <td>0.83</td>\n",
       "      <td>11.0446</td>\n",
       "      <td>259.0</td>\n",
       "      <td>15.8263</td>\n",
       "      <td>0.0</td>\n",
       "      <td>1016.51</td>\n",
       "      <td>Partly cloudy throughout the day.</td>\n",
       "    </tr>\n",
       "  </tbody>\n",
       "</table>\n",
       "</div>"
      ],
      "text/plain": [
       "                  Formatted Date        Summary Precip Type  Temperature (C)  \\\n",
       "0  2006-04-01 00:00:00.000 +0200  Partly Cloudy        rain         9.472222   \n",
       "1  2006-04-01 01:00:00.000 +0200  Partly Cloudy        rain         9.355556   \n",
       "2  2006-04-01 02:00:00.000 +0200  Mostly Cloudy        rain         9.377778   \n",
       "3  2006-04-01 03:00:00.000 +0200  Partly Cloudy        rain         8.288889   \n",
       "4  2006-04-01 04:00:00.000 +0200  Mostly Cloudy        rain         8.755556   \n",
       "\n",
       "   Apparent Temperature (C)  Humidity  Wind Speed (km/h)  \\\n",
       "0                  7.388889      0.89            14.1197   \n",
       "1                  7.227778      0.86            14.2646   \n",
       "2                  9.377778      0.89             3.9284   \n",
       "3                  5.944444      0.83            14.1036   \n",
       "4                  6.977778      0.83            11.0446   \n",
       "\n",
       "   Wind Bearing (degrees)  Visibility (km)  Loud Cover  Pressure (millibars)  \\\n",
       "0                   251.0          15.8263         0.0               1015.13   \n",
       "1                   259.0          15.8263         0.0               1015.63   \n",
       "2                   204.0          14.9569         0.0               1015.94   \n",
       "3                   269.0          15.8263         0.0               1016.41   \n",
       "4                   259.0          15.8263         0.0               1016.51   \n",
       "\n",
       "                       Daily Summary  \n",
       "0  Partly cloudy throughout the day.  \n",
       "1  Partly cloudy throughout the day.  \n",
       "2  Partly cloudy throughout the day.  \n",
       "3  Partly cloudy throughout the day.  \n",
       "4  Partly cloudy throughout the day.  "
      ]
     },
     "execution_count": 18,
     "metadata": {},
     "output_type": "execute_result"
    }
   ],
   "source": [
    "weather_df.head()"
   ]
  },
  {
   "cell_type": "code",
   "execution_count": 19,
   "metadata": {},
   "outputs": [],
   "source": [
    "weather_df = weather_df.dropna()"
   ]
  },
  {
   "cell_type": "code",
   "execution_count": 20,
   "metadata": {},
   "outputs": [
    {
     "data": {
      "text/plain": [
       "(95936, 12)"
      ]
     },
     "execution_count": 20,
     "metadata": {},
     "output_type": "execute_result"
    }
   ],
   "source": [
    "weather_df.shape"
   ]
  },
  {
   "cell_type": "code",
   "execution_count": 21,
   "metadata": {},
   "outputs": [],
   "source": [
    "data = weather_df.head(24)"
   ]
  },
  {
   "cell_type": "code",
   "execution_count": 22,
   "metadata": {},
   "outputs": [
    {
     "data": {
      "text/html": [
       "<div>\n",
       "<style scoped>\n",
       "    .dataframe tbody tr th:only-of-type {\n",
       "        vertical-align: middle;\n",
       "    }\n",
       "\n",
       "    .dataframe tbody tr th {\n",
       "        vertical-align: top;\n",
       "    }\n",
       "\n",
       "    .dataframe thead th {\n",
       "        text-align: right;\n",
       "    }\n",
       "</style>\n",
       "<table border=\"1\" class=\"dataframe\">\n",
       "  <thead>\n",
       "    <tr style=\"text-align: right;\">\n",
       "      <th></th>\n",
       "      <th>Temperature (C)</th>\n",
       "      <th>Apparent Temperature (C)</th>\n",
       "      <th>Humidity</th>\n",
       "      <th>Wind Speed (km/h)</th>\n",
       "      <th>Wind Bearing (degrees)</th>\n",
       "      <th>Visibility (km)</th>\n",
       "      <th>Loud Cover</th>\n",
       "      <th>Pressure (millibars)</th>\n",
       "    </tr>\n",
       "  </thead>\n",
       "  <tbody>\n",
       "    <tr>\n",
       "      <th>count</th>\n",
       "      <td>24.000000</td>\n",
       "      <td>24.000000</td>\n",
       "      <td>24.000000</td>\n",
       "      <td>24.000000</td>\n",
       "      <td>24.000000</td>\n",
       "      <td>24.000000</td>\n",
       "      <td>24.0</td>\n",
       "      <td>24.000000</td>\n",
       "    </tr>\n",
       "    <tr>\n",
       "      <th>mean</th>\n",
       "      <td>12.626852</td>\n",
       "      <td>12.006019</td>\n",
       "      <td>0.726667</td>\n",
       "      <td>12.172942</td>\n",
       "      <td>237.000000</td>\n",
       "      <td>12.415783</td>\n",
       "      <td>0.0</td>\n",
       "      <td>1016.450000</td>\n",
       "    </tr>\n",
       "    <tr>\n",
       "      <th>std</th>\n",
       "      <td>3.694210</td>\n",
       "      <td>4.428325</td>\n",
       "      <td>0.144844</td>\n",
       "      <td>4.984630</td>\n",
       "      <td>53.548028</td>\n",
       "      <td>2.298685</td>\n",
       "      <td>0.0</td>\n",
       "      <td>0.769839</td>\n",
       "    </tr>\n",
       "    <tr>\n",
       "      <th>min</th>\n",
       "      <td>7.733333</td>\n",
       "      <td>5.522222</td>\n",
       "      <td>0.460000</td>\n",
       "      <td>3.928400</td>\n",
       "      <td>139.000000</td>\n",
       "      <td>9.982000</td>\n",
       "      <td>0.0</td>\n",
       "      <td>1015.130000</td>\n",
       "    </tr>\n",
       "    <tr>\n",
       "      <th>25%</th>\n",
       "      <td>9.372222</td>\n",
       "      <td>7.348611</td>\n",
       "      <td>0.622500</td>\n",
       "      <td>8.295525</td>\n",
       "      <td>193.750000</td>\n",
       "      <td>11.161325</td>\n",
       "      <td>0.0</td>\n",
       "      <td>1015.827500</td>\n",
       "    </tr>\n",
       "    <tr>\n",
       "      <th>50%</th>\n",
       "      <td>11.366667</td>\n",
       "      <td>11.366667</td>\n",
       "      <td>0.765000</td>\n",
       "      <td>12.445300</td>\n",
       "      <td>259.000000</td>\n",
       "      <td>11.270000</td>\n",
       "      <td>0.0</td>\n",
       "      <td>1016.440000</td>\n",
       "    </tr>\n",
       "    <tr>\n",
       "      <th>75%</th>\n",
       "      <td>15.666667</td>\n",
       "      <td>15.666667</td>\n",
       "      <td>0.835000</td>\n",
       "      <td>14.300825</td>\n",
       "      <td>271.500000</td>\n",
       "      <td>14.956900</td>\n",
       "      <td>0.0</td>\n",
       "      <td>1017.182500</td>\n",
       "    </tr>\n",
       "    <tr>\n",
       "      <th>max</th>\n",
       "      <td>18.911111</td>\n",
       "      <td>18.911111</td>\n",
       "      <td>0.950000</td>\n",
       "      <td>21.944300</td>\n",
       "      <td>316.000000</td>\n",
       "      <td>15.826300</td>\n",
       "      <td>0.0</td>\n",
       "      <td>1017.740000</td>\n",
       "    </tr>\n",
       "  </tbody>\n",
       "</table>\n",
       "</div>"
      ],
      "text/plain": [
       "       Temperature (C)  Apparent Temperature (C)   Humidity  \\\n",
       "count        24.000000                 24.000000  24.000000   \n",
       "mean         12.626852                 12.006019   0.726667   \n",
       "std           3.694210                  4.428325   0.144844   \n",
       "min           7.733333                  5.522222   0.460000   \n",
       "25%           9.372222                  7.348611   0.622500   \n",
       "50%          11.366667                 11.366667   0.765000   \n",
       "75%          15.666667                 15.666667   0.835000   \n",
       "max          18.911111                 18.911111   0.950000   \n",
       "\n",
       "       Wind Speed (km/h)  Wind Bearing (degrees)  Visibility (km)  Loud Cover  \\\n",
       "count          24.000000               24.000000        24.000000        24.0   \n",
       "mean           12.172942              237.000000        12.415783         0.0   \n",
       "std             4.984630               53.548028         2.298685         0.0   \n",
       "min             3.928400              139.000000         9.982000         0.0   \n",
       "25%             8.295525              193.750000        11.161325         0.0   \n",
       "50%            12.445300              259.000000        11.270000         0.0   \n",
       "75%            14.300825              271.500000        14.956900         0.0   \n",
       "max            21.944300              316.000000        15.826300         0.0   \n",
       "\n",
       "       Pressure (millibars)  \n",
       "count             24.000000  \n",
       "mean            1016.450000  \n",
       "std                0.769839  \n",
       "min             1015.130000  \n",
       "25%             1015.827500  \n",
       "50%             1016.440000  \n",
       "75%             1017.182500  \n",
       "max             1017.740000  "
      ]
     },
     "execution_count": 22,
     "metadata": {},
     "output_type": "execute_result"
    }
   ],
   "source": [
    "data.describe()"
   ]
  },
  {
   "cell_type": "code",
   "execution_count": 23,
   "metadata": {},
   "outputs": [
    {
     "data": {
      "text/plain": [
       "Int64Index([ 0,  1,  2,  3,  4,  5,  6,  7,  8,  9, 10, 11, 12, 13, 14, 15, 16,\n",
       "            17, 18, 19, 20, 21, 22, 23],\n",
       "           dtype='int64')"
      ]
     },
     "execution_count": 23,
     "metadata": {},
     "output_type": "execute_result"
    }
   ],
   "source": [
    "data.index"
   ]
  },
  {
   "cell_type": "code",
   "execution_count": 24,
   "metadata": {},
   "outputs": [],
   "source": [
    "points = []\n",
    "for hour, temp in zip(data.index, data['Temperature (C)']):\n",
    "    points.append((hour, temp))"
   ]
  },
  {
   "cell_type": "code",
   "execution_count": 25,
   "metadata": {},
   "outputs": [
    {
     "data": {
      "text/plain": [
       "[(0, 9.472222222222221),\n",
       " (1, 9.355555555555558),\n",
       " (2, 9.377777777777778),\n",
       " (3, 8.28888888888889),\n",
       " (4, 8.755555555555553)]"
      ]
     },
     "execution_count": 25,
     "metadata": {},
     "output_type": "execute_result"
    }
   ],
   "source": [
    "points[:5]"
   ]
  },
  {
   "cell_type": "code",
   "execution_count": 26,
   "metadata": {},
   "outputs": [],
   "source": [
    "xy_temperature = pygal.XY(width=640, height=360, explict_size=True)\n",
    "xy_temperature.title = 'Hourly Temperature'\n",
    "xy_temperature.x_title = 'Hour of Day'\n",
    "xy_temperature.y_title = 'Temperature(C)'"
   ]
  },
  {
   "cell_type": "code",
   "execution_count": 27,
   "metadata": {},
   "outputs": [
    {
     "data": {
      "text/html": [
       "\n",
       "<!DOCTYPE html>\n",
       "<html>\n",
       "    <head>\n",
       "    <script type=\"text/javascript\"\n",
       "            src=\"http://kozea.github.com/pygal.js/javascripts/svg.jquery.js\">\n",
       "    </script>\n",
       "    <script type=\"text/javascript\"\n",
       "            src=\"https://kozea.github.io/pygal.js/2.0.x/pygal-tooltips.min.js\">\n",
       "    </script>\n",
       "    <head>\n",
       "        <body>\n",
       "            <figure>\n",
       "                <?xml version='1.0' encoding='utf-8'?>\n",
       "<svg xmlns:xlink=\"http://www.w3.org/1999/xlink\" xmlns=\"http://www.w3.org/2000/svg\" id=\"chart-41701f4a-e809-4de7-a810-c56da8b825de\" class=\"pygal-chart\" viewBox=\"0 0 640 360\"><!--Generated with pygal 2.4.0 (lxml) ©Kozea 2012-2016 on 2019-06-09--><!--http://pygal.org--><!--http://github.com/Kozea/pygal--><defs><style type=\"text/css\">#chart-41701f4a-e809-4de7-a810-c56da8b825de{-webkit-user-select:none;-webkit-font-smoothing:antialiased;font-family:Consolas,\"Liberation Mono\",Menlo,Courier,monospace}#chart-41701f4a-e809-4de7-a810-c56da8b825de .title{font-family:Consolas,\"Liberation Mono\",Menlo,Courier,monospace;font-size:16px}#chart-41701f4a-e809-4de7-a810-c56da8b825de .legends .legend text{font-family:Consolas,\"Liberation Mono\",Menlo,Courier,monospace;font-size:14px}#chart-41701f4a-e809-4de7-a810-c56da8b825de .axis text{font-family:Consolas,\"Liberation Mono\",Menlo,Courier,monospace;font-size:10px}#chart-41701f4a-e809-4de7-a810-c56da8b825de .axis text.major{font-family:Consolas,\"Liberation Mono\",Menlo,Courier,monospace;font-size:10px}#chart-41701f4a-e809-4de7-a810-c56da8b825de .text-overlay text.value{font-family:Consolas,\"Liberation Mono\",Menlo,Courier,monospace;font-size:16px}#chart-41701f4a-e809-4de7-a810-c56da8b825de .text-overlay text.label{font-family:Consolas,\"Liberation Mono\",Menlo,Courier,monospace;font-size:10px}#chart-41701f4a-e809-4de7-a810-c56da8b825de .tooltip{font-family:Consolas,\"Liberation Mono\",Menlo,Courier,monospace;font-size:14px}#chart-41701f4a-e809-4de7-a810-c56da8b825de text.no_data{font-family:Consolas,\"Liberation Mono\",Menlo,Courier,monospace;font-size:64px}\n",
       "#chart-41701f4a-e809-4de7-a810-c56da8b825de{background-color:rgba(249,249,249,1)}#chart-41701f4a-e809-4de7-a810-c56da8b825de path,#chart-41701f4a-e809-4de7-a810-c56da8b825de line,#chart-41701f4a-e809-4de7-a810-c56da8b825de rect,#chart-41701f4a-e809-4de7-a810-c56da8b825de circle{-webkit-transition:150ms;-moz-transition:150ms;transition:150ms}#chart-41701f4a-e809-4de7-a810-c56da8b825de .graph &gt; .background{fill:rgba(249,249,249,1)}#chart-41701f4a-e809-4de7-a810-c56da8b825de .plot &gt; .background{fill:rgba(255,255,255,1)}#chart-41701f4a-e809-4de7-a810-c56da8b825de .graph{fill:rgba(0,0,0,.87)}#chart-41701f4a-e809-4de7-a810-c56da8b825de text.no_data{fill:rgba(0,0,0,1)}#chart-41701f4a-e809-4de7-a810-c56da8b825de .title{fill:rgba(0,0,0,1)}#chart-41701f4a-e809-4de7-a810-c56da8b825de .legends .legend text{fill:rgba(0,0,0,.87)}#chart-41701f4a-e809-4de7-a810-c56da8b825de .legends .legend:hover text{fill:rgba(0,0,0,1)}#chart-41701f4a-e809-4de7-a810-c56da8b825de .axis .line{stroke:rgba(0,0,0,1)}#chart-41701f4a-e809-4de7-a810-c56da8b825de .axis .guide.line{stroke:rgba(0,0,0,.54)}#chart-41701f4a-e809-4de7-a810-c56da8b825de .axis .major.line{stroke:rgba(0,0,0,.87)}#chart-41701f4a-e809-4de7-a810-c56da8b825de .axis text.major{fill:rgba(0,0,0,1)}#chart-41701f4a-e809-4de7-a810-c56da8b825de .axis.y .guides:hover .guide.line,#chart-41701f4a-e809-4de7-a810-c56da8b825de .line-graph .axis.x .guides:hover .guide.line,#chart-41701f4a-e809-4de7-a810-c56da8b825de .stackedline-graph .axis.x .guides:hover .guide.line,#chart-41701f4a-e809-4de7-a810-c56da8b825de .xy-graph .axis.x .guides:hover .guide.line{stroke:rgba(0,0,0,1)}#chart-41701f4a-e809-4de7-a810-c56da8b825de .axis .guides:hover text{fill:rgba(0,0,0,1)}#chart-41701f4a-e809-4de7-a810-c56da8b825de .reactive{fill-opacity:.7;stroke-opacity:.8}#chart-41701f4a-e809-4de7-a810-c56da8b825de .ci{stroke:rgba(0,0,0,.87)}#chart-41701f4a-e809-4de7-a810-c56da8b825de .reactive.active,#chart-41701f4a-e809-4de7-a810-c56da8b825de .active .reactive{fill-opacity:.8;stroke-opacity:.9;stroke-width:4}#chart-41701f4a-e809-4de7-a810-c56da8b825de .ci .reactive.active{stroke-width:1.5}#chart-41701f4a-e809-4de7-a810-c56da8b825de .series text{fill:rgba(0,0,0,1)}#chart-41701f4a-e809-4de7-a810-c56da8b825de .tooltip rect{fill:rgba(255,255,255,1);stroke:rgba(0,0,0,1);-webkit-transition:opacity 150ms;-moz-transition:opacity 150ms;transition:opacity 150ms}#chart-41701f4a-e809-4de7-a810-c56da8b825de .tooltip .label{fill:rgba(0,0,0,.87)}#chart-41701f4a-e809-4de7-a810-c56da8b825de .tooltip .label{fill:rgba(0,0,0,.87)}#chart-41701f4a-e809-4de7-a810-c56da8b825de .tooltip .legend{font-size:.8em;fill:rgba(0,0,0,.54)}#chart-41701f4a-e809-4de7-a810-c56da8b825de .tooltip .x_label{font-size:.6em;fill:rgba(0,0,0,1)}#chart-41701f4a-e809-4de7-a810-c56da8b825de .tooltip .xlink{font-size:.5em;text-decoration:underline}#chart-41701f4a-e809-4de7-a810-c56da8b825de .tooltip .value{font-size:1.5em}#chart-41701f4a-e809-4de7-a810-c56da8b825de .bound{font-size:.5em}#chart-41701f4a-e809-4de7-a810-c56da8b825de .max-value{font-size:.75em;fill:rgba(0,0,0,.54)}#chart-41701f4a-e809-4de7-a810-c56da8b825de .map-element{fill:rgba(255,255,255,1);stroke:rgba(0,0,0,.54) !important}#chart-41701f4a-e809-4de7-a810-c56da8b825de .map-element .reactive{fill-opacity:inherit;stroke-opacity:inherit}#chart-41701f4a-e809-4de7-a810-c56da8b825de .color-0,#chart-41701f4a-e809-4de7-a810-c56da8b825de .color-0 a:visited{stroke:#F44336;fill:#F44336}#chart-41701f4a-e809-4de7-a810-c56da8b825de .text-overlay .color-0 text{fill:black}\n",
       "#chart-41701f4a-e809-4de7-a810-c56da8b825de text.no_data{text-anchor:middle}#chart-41701f4a-e809-4de7-a810-c56da8b825de .guide.line{fill:none}#chart-41701f4a-e809-4de7-a810-c56da8b825de .centered{text-anchor:middle}#chart-41701f4a-e809-4de7-a810-c56da8b825de .title{text-anchor:middle}#chart-41701f4a-e809-4de7-a810-c56da8b825de .legends .legend text{fill-opacity:1}#chart-41701f4a-e809-4de7-a810-c56da8b825de .axis.x text{text-anchor:middle}#chart-41701f4a-e809-4de7-a810-c56da8b825de .axis.x:not(.web) text[transform]{text-anchor:start}#chart-41701f4a-e809-4de7-a810-c56da8b825de .axis.x:not(.web) text[transform].backwards{text-anchor:end}#chart-41701f4a-e809-4de7-a810-c56da8b825de .axis.y text{text-anchor:end}#chart-41701f4a-e809-4de7-a810-c56da8b825de .axis.y text[transform].backwards{text-anchor:start}#chart-41701f4a-e809-4de7-a810-c56da8b825de .axis.y2 text{text-anchor:start}#chart-41701f4a-e809-4de7-a810-c56da8b825de .axis.y2 text[transform].backwards{text-anchor:end}#chart-41701f4a-e809-4de7-a810-c56da8b825de .axis .guide.line{stroke-dasharray:4,4}#chart-41701f4a-e809-4de7-a810-c56da8b825de .axis .major.guide.line{stroke-dasharray:6,6}#chart-41701f4a-e809-4de7-a810-c56da8b825de .horizontal .axis.y .guide.line,#chart-41701f4a-e809-4de7-a810-c56da8b825de .horizontal .axis.y2 .guide.line,#chart-41701f4a-e809-4de7-a810-c56da8b825de .vertical .axis.x .guide.line{opacity:0}#chart-41701f4a-e809-4de7-a810-c56da8b825de .horizontal .axis.always_show .guide.line,#chart-41701f4a-e809-4de7-a810-c56da8b825de .vertical .axis.always_show .guide.line{opacity:1 !important}#chart-41701f4a-e809-4de7-a810-c56da8b825de .axis.y .guides:hover .guide.line,#chart-41701f4a-e809-4de7-a810-c56da8b825de .axis.y2 .guides:hover .guide.line,#chart-41701f4a-e809-4de7-a810-c56da8b825de .axis.x .guides:hover .guide.line{opacity:1}#chart-41701f4a-e809-4de7-a810-c56da8b825de .axis .guides:hover text{opacity:1}#chart-41701f4a-e809-4de7-a810-c56da8b825de .nofill{fill:none}#chart-41701f4a-e809-4de7-a810-c56da8b825de .subtle-fill{fill-opacity:.2}#chart-41701f4a-e809-4de7-a810-c56da8b825de .dot{stroke-width:1px;fill-opacity:1}#chart-41701f4a-e809-4de7-a810-c56da8b825de .dot.active{stroke-width:5px}#chart-41701f4a-e809-4de7-a810-c56da8b825de .dot.negative{fill:transparent}#chart-41701f4a-e809-4de7-a810-c56da8b825de text,#chart-41701f4a-e809-4de7-a810-c56da8b825de tspan{stroke:none !important}#chart-41701f4a-e809-4de7-a810-c56da8b825de .series text.active{opacity:1}#chart-41701f4a-e809-4de7-a810-c56da8b825de .tooltip rect{fill-opacity:.95;stroke-width:.5}#chart-41701f4a-e809-4de7-a810-c56da8b825de .tooltip text{fill-opacity:1}#chart-41701f4a-e809-4de7-a810-c56da8b825de .showable{visibility:hidden}#chart-41701f4a-e809-4de7-a810-c56da8b825de .showable.shown{visibility:visible}#chart-41701f4a-e809-4de7-a810-c56da8b825de .gauge-background{fill:rgba(229,229,229,1);stroke:none}#chart-41701f4a-e809-4de7-a810-c56da8b825de .bg-lines{stroke:rgba(249,249,249,1);stroke-width:2px}</style><script type=\"text/javascript\">window.pygal = window.pygal || {};window.pygal.config = window.pygal.config || {};window.pygal.config['41701f4a-e809-4de7-a810-c56da8b825de'] = {\"allow_interruptions\": false, \"box_mode\": \"extremes\", \"classes\": [\"pygal-chart\"], \"css\": [\"file://style.css\", \"file://graph.css\"], \"defs\": [], \"disable_xml_declaration\": false, \"dots_size\": 2.5, \"dynamic_print_values\": false, \"explicit_size\": false, \"fill\": false, \"force_uri_protocol\": \"https\", \"formatter\": null, \"half_pie\": false, \"height\": 360, \"include_x_axis\": false, \"inner_radius\": 0, \"interpolate\": null, \"interpolation_parameters\": {}, \"interpolation_precision\": 250, \"inverse_y_axis\": false, \"js\": [\"//kozea.github.io/pygal.js/2.0.x/pygal-tooltips.min.js\"], \"legend_at_bottom\": false, \"legend_at_bottom_columns\": null, \"legend_box_size\": 12, \"logarithmic\": false, \"margin\": 20, \"margin_bottom\": null, \"margin_left\": null, \"margin_right\": null, \"margin_top\": null, \"max_scale\": 16, \"min_scale\": 4, \"missing_value_fill_truncation\": \"x\", \"no_data_text\": \"No data\", \"no_prefix\": false, \"order_min\": null, \"pretty_print\": false, \"print_labels\": false, \"print_values\": false, \"print_values_position\": \"center\", \"print_zeroes\": true, \"range\": null, \"rounded_bars\": null, \"secondary_range\": null, \"show_dots\": true, \"show_legend\": true, \"show_minor_x_labels\": true, \"show_minor_y_labels\": true, \"show_only_major_dots\": false, \"show_x_guides\": false, \"show_x_labels\": true, \"show_y_guides\": true, \"show_y_labels\": true, \"spacing\": 10, \"stack_from_top\": false, \"strict\": false, \"stroke\": true, \"stroke_style\": null, \"style\": {\"background\": \"rgba(249, 249, 249, 1)\", \"ci_colors\": [], \"colors\": [\"#F44336\", \"#3F51B5\", \"#009688\", \"#FFC107\", \"#FF5722\", \"#9C27B0\", \"#03A9F4\", \"#8BC34A\", \"#FF9800\", \"#E91E63\", \"#2196F3\", \"#4CAF50\", \"#FFEB3B\", \"#673AB7\", \"#00BCD4\", \"#CDDC39\", \"#9E9E9E\", \"#607D8B\"], \"font_family\": \"Consolas, \\\"Liberation Mono\\\", Menlo, Courier, monospace\", \"foreground\": \"rgba(0, 0, 0, .87)\", \"foreground_strong\": \"rgba(0, 0, 0, 1)\", \"foreground_subtle\": \"rgba(0, 0, 0, .54)\", \"guide_stroke_dasharray\": \"4,4\", \"label_font_family\": \"Consolas, \\\"Liberation Mono\\\", Menlo, Courier, monospace\", \"label_font_size\": 10, \"legend_font_family\": \"Consolas, \\\"Liberation Mono\\\", Menlo, Courier, monospace\", \"legend_font_size\": 14, \"major_guide_stroke_dasharray\": \"6,6\", \"major_label_font_family\": \"Consolas, \\\"Liberation Mono\\\", Menlo, Courier, monospace\", \"major_label_font_size\": 10, \"no_data_font_family\": \"Consolas, \\\"Liberation Mono\\\", Menlo, Courier, monospace\", \"no_data_font_size\": 64, \"opacity\": \".7\", \"opacity_hover\": \".8\", \"plot_background\": \"rgba(255, 255, 255, 1)\", \"stroke_opacity\": \".8\", \"stroke_opacity_hover\": \".9\", \"title_font_family\": \"Consolas, \\\"Liberation Mono\\\", Menlo, Courier, monospace\", \"title_font_size\": 16, \"tooltip_font_family\": \"Consolas, \\\"Liberation Mono\\\", Menlo, Courier, monospace\", \"tooltip_font_size\": 14, \"transition\": \"150ms\", \"value_background\": \"rgba(229, 229, 229, 1)\", \"value_colors\": [], \"value_font_family\": \"Consolas, \\\"Liberation Mono\\\", Menlo, Courier, monospace\", \"value_font_size\": 16, \"value_label_font_family\": \"Consolas, \\\"Liberation Mono\\\", Menlo, Courier, monospace\", \"value_label_font_size\": 10}, \"title\": \"Hourly Temperature\", \"tooltip_border_radius\": 0, \"tooltip_fancy_mode\": true, \"truncate_label\": null, \"truncate_legend\": null, \"width\": 640, \"x_label_rotation\": 0, \"x_labels\": null, \"x_labels_major\": null, \"x_labels_major_count\": null, \"x_labels_major_every\": null, \"x_title\": \"Hour of Day\", \"xrange\": null, \"y_label_rotation\": 0, \"y_labels\": null, \"y_labels_major\": null, \"y_labels_major_count\": null, \"y_labels_major_every\": null, \"y_title\": \"Temperature(C)\", \"zero\": 0, \"legends\": [\"Day 1\"]}</script><script type=\"text/javascript\" xlink:href=\"https://kozea.github.io/pygal.js/2.0.x/pygal-tooltips.min.js\"/></defs><title>Hourly Temperature</title><g class=\"graph xy-graph vertical\"><rect class=\"background\" height=\"360\" width=\"640\" x=\"0\" y=\"0\"/><g class=\"plot\" transform=\"translate(132, 46)\"><rect class=\"background\" height=\"248\" width=\"488.0\" x=\"0\" y=\"0\"/><g class=\"axis y always_show\"><path class=\"line\" d=\"M0.000000 248.000000 h488.000000\"/><g class=\"guides\"><path class=\"guide line\" d=\"M0.000000 237.541826 h488.000000\"/><text class=\"\" x=\"-5\" y=\"241.0418259672733\">8</text><title>8</title></g><g class=\"guides\"><path class=\"guide line\" d=\"M0.000000 216.208289 h488.000000\"/><text class=\"\" x=\"-5\" y=\"219.70828872916348\">9</text><title>9</title></g><g class=\"guides\"><path class=\"major guide line\" d=\"M0.000000 194.874751 h488.000000\"/><text class=\"major\" x=\"-5\" y=\"198.3747514910537\">10</text><title>10</title></g><g class=\"guides\"><path class=\"guide line\" d=\"M0.000000 173.541214 h488.000000\"/><text class=\"\" x=\"-5\" y=\"177.04121425294392\">11</text><title>11</title></g><g class=\"guides\"><path class=\"guide line\" d=\"M0.000000 152.207677 h488.000000\"/><text class=\"\" x=\"-5\" y=\"155.70767701483413\">12</text><title>12</title></g><g class=\"guides\"><path class=\"guide line\" d=\"M0.000000 130.874140 h488.000000\"/><text class=\"\" x=\"-5\" y=\"134.37413977672432\">13</text><title>13</title></g><g class=\"guides\"><path class=\"guide line\" d=\"M0.000000 109.540603 h488.000000\"/><text class=\"\" x=\"-5\" y=\"113.04060253861454\">14</text><title>14</title></g><g class=\"guides\"><path class=\"major guide line\" d=\"M0.000000 88.207065 h488.000000\"/><text class=\"major\" x=\"-5\" y=\"91.70706530050472\">15</text><title>15</title></g><g class=\"guides\"><path class=\"guide line\" d=\"M0.000000 66.873528 h488.000000\"/><text class=\"\" x=\"-5\" y=\"70.37352806239491\">16</text><title>16</title></g><g class=\"guides\"><path class=\"guide line\" d=\"M0.000000 45.539991 h488.000000\"/><text class=\"\" x=\"-5\" y=\"49.03999082428513\">17</text><title>17</title></g><g class=\"guides\"><path class=\"guide line\" d=\"M0.000000 24.206454 h488.000000\"/><text class=\"\" x=\"-5\" y=\"27.706453586175343\">18</text><title>18</title></g></g><g class=\"axis x\"><g class=\"guides\"><path class=\"axis line\" d=\"M9.384615 0.000000 v248.000000\"/><text class=\"\" x=\"9.384615384615385\" y=\"263.0\">0</text><title>0</title></g><g class=\"guides\"><path class=\"guide line\" d=\"M50.187291 0.000000 v248.000000\"/><text class=\"\" x=\"50.187290969899664\" y=\"263.0\">2</text><title>2</title></g><g class=\"guides\"><path class=\"guide line\" d=\"M90.989967 0.000000 v248.000000\"/><text class=\"\" x=\"90.98996655518394\" y=\"263.0\">4</text><title>4</title></g><g class=\"guides\"><path class=\"guide line\" d=\"M131.792642 0.000000 v248.000000\"/><text class=\"\" x=\"131.79264214046822\" y=\"263.0\">6</text><title>6</title></g><g class=\"guides\"><path class=\"guide line\" d=\"M172.595318 0.000000 v248.000000\"/><text class=\"\" x=\"172.59531772575252\" y=\"263.0\">8</text><title>8</title></g><g class=\"guides\"><path class=\"guide line\" d=\"M213.397993 0.000000 v248.000000\"/><text class=\"\" x=\"213.3979933110368\" y=\"263.0\">10</text><title>10</title></g><g class=\"guides\"><path class=\"guide line\" d=\"M254.200669 0.000000 v248.000000\"/><text class=\"\" x=\"254.20066889632108\" y=\"263.0\">12</text><title>12</title></g><g class=\"guides\"><path class=\"guide line\" d=\"M295.003344 0.000000 v248.000000\"/><text class=\"\" x=\"295.0033444816053\" y=\"263.0\">14</text><title>14</title></g><g class=\"guides\"><path class=\"guide line\" d=\"M335.806020 0.000000 v248.000000\"/><text class=\"\" x=\"335.80602006688963\" y=\"263.0\">16</text><title>16</title></g><g class=\"guides\"><path class=\"guide line\" d=\"M376.608696 0.000000 v248.000000\"/><text class=\"\" x=\"376.6086956521739\" y=\"263.0\">18</text><title>18</title></g><g class=\"guides\"><path class=\"guide line\" d=\"M417.411371 0.000000 v248.000000\"/><text class=\"\" x=\"417.4113712374581\" y=\"263.0\">20</text><title>20</title></g><g class=\"guides\"><path class=\"guide line\" d=\"M458.214047 0.000000 v248.000000\"/><text class=\"\" x=\"458.21404682274243\" y=\"263.0\">22</text><title>22</title></g></g><g class=\"series serie-0 color-0\"><path class=\"line reactive nofill\" d=\"M9.384615 206.134118 L29.785953 208.623031 50.187291 208.148952 70.588629 231.378804 90.989967 221.423153 111.391304 211.467503 131.792642 243.230769 152.193980 221.067594 172.595318 177.333843 192.996656 114.399908 213.397993 66.517969 233.799331 42.458480 254.200669 28.473161 274.602007 38.428812 295.003344 5.480349 315.404682 4.769231 335.806020 79.910690 356.207358 76.473620 376.608696 104.088699 397.010033 127.792629 417.411371 161.807769 437.812709 169.630066 458.214047 192.385839 478.615385 190.608044\"/></g></g><g class=\"titles\"><text class=\"title plot_title\" x=\"320.0\" y=\"26\">Hourly Temperature</text><text class=\"title\" x=\"376.0\" y=\"340\">Hour of Day</text><text class=\"title\" x=\"64.0\" y=\"196.0\" transform=\"rotate(-90 64.000000 170.000000)\">Temperature(C)</text></g><g class=\"plot overlay\" transform=\"translate(132, 46)\"><g class=\"series serie-0 color-0\"><g class=\"dots\"><circle class=\"dot reactive tooltip-trigger\" cx=\"9.384615384615385\" cy=\"206.13411836672276\" r=\"2.5\"/><desc class=\"value\">0: 9.472222222</desc><desc class=\"x top\">9.384615384615385</desc><desc class=\"y top\">206.13411836672276</desc></g><g class=\"dots\"><circle class=\"dot reactive tooltip-trigger\" cx=\"29.785953177257525\" cy=\"208.6230310445022\" r=\"2.5\"/><desc class=\"value\">1: 9.355555556</desc><desc class=\"x top\">29.785953177257525</desc><desc class=\"y top\">208.6230310445022</desc></g><g class=\"dots\"><circle class=\"dot reactive tooltip-trigger\" cx=\"50.187290969899664\" cy=\"208.14895243921092\" r=\"2.5\"/><desc class=\"value\">2: 9.377777778</desc><desc class=\"x top\">50.187290969899664</desc><desc class=\"y top\">208.14895243921092</desc></g><g class=\"dots\"><circle class=\"dot reactive tooltip-trigger\" cx=\"70.5886287625418\" cy=\"231.378804098486\" r=\"2.5\"/><desc class=\"value\">3: 8.288888889</desc><desc class=\"x top\">70.5886287625418</desc><desc class=\"y top\">231.378804098486</desc></g><g class=\"dots\"><circle class=\"dot reactive tooltip-trigger\" cx=\"90.98996655518394\" cy=\"221.42315338736816\" r=\"2.5\"/><desc class=\"value\">4: 8.755555556</desc><desc class=\"x top\">90.98996655518394</desc><desc class=\"y top\">221.42315338736816</desc></g><g class=\"dots\"><circle class=\"dot reactive tooltip-trigger\" cx=\"111.39130434782608\" cy=\"211.46750267625023\" r=\"2.5\"/><desc class=\"value\">5: 9.222222222</desc><desc class=\"x top\">111.39130434782608</desc><desc class=\"y top\">211.46750267625023</desc></g><g class=\"dots\"><circle class=\"dot reactive tooltip-trigger\" cx=\"131.79264214046822\" cy=\"243.23076923076923\" r=\"2.5\"/><desc class=\"value\">6: 7.733333333</desc><desc class=\"x top\">131.79264214046822</desc><desc class=\"y top\">243.23076923076923</desc></g><g class=\"dots\"><circle class=\"dot reactive tooltip-trigger\" cx=\"152.19397993311037\" cy=\"221.06759443339965\" r=\"2.5\"/><desc class=\"value\">7: 8.772222222</desc><desc class=\"x top\">152.19397993311037</desc><desc class=\"y top\">221.06759443339965</desc></g><g class=\"dots\"><circle class=\"dot reactive tooltip-trigger\" cx=\"172.59531772575252\" cy=\"177.33384309527457\" r=\"2.5\"/><desc class=\"value\">8: 10.82222222</desc><desc class=\"x top\">172.59531772575252</desc><desc class=\"y top\">177.33384309527457</desc></g><g class=\"dots\"><circle class=\"dot reactive tooltip-trigger\" cx=\"192.99665551839465\" cy=\"114.39990824285067\" r=\"2.5\"/><desc class=\"value\">9: 13.77222222</desc><desc class=\"x \">192.99665551839465</desc><desc class=\"y \">114.39990824285067</desc></g><g class=\"dots\"><circle class=\"dot reactive tooltip-trigger\" cx=\"213.3979933110368\" cy=\"66.51796910842648\" r=\"2.5\"/><desc class=\"value\">10: 16.01666667</desc><desc class=\"x \">213.3979933110368</desc><desc class=\"y \">66.51796910842648</desc></g><g class=\"dots\"><circle class=\"dot reactive tooltip-trigger\" cx=\"233.79933110367892\" cy=\"42.458479889891464\" r=\"2.5\"/><desc class=\"value\">11: 17.14444444</desc><desc class=\"x \">233.79933110367892</desc><desc class=\"y \">42.458479889891464</desc></g><g class=\"dots\"><circle class=\"dot reactive tooltip-trigger\" cx=\"254.20066889632108\" cy=\"28.473161033797197\" r=\"2.5\"/><desc class=\"value\">12: 17.8</desc><desc class=\"x left\">254.20066889632108</desc><desc class=\"y left\">28.473161033797197</desc></g><g class=\"dots\"><circle class=\"dot reactive tooltip-trigger\" cx=\"274.60200668896323\" cy=\"38.42881174491524\" r=\"2.5\"/><desc class=\"value\">13: 17.33333333</desc><desc class=\"x left\">274.60200668896323</desc><desc class=\"y left\">38.42881174491524</desc></g><g class=\"dots\"><circle class=\"dot reactive tooltip-trigger\" cx=\"295.0033444816053\" cy=\"5.480348677167797\" r=\"2.5\"/><desc class=\"value\">14: 18.87777778</desc><desc class=\"x left\">295.0033444816053</desc><desc class=\"y left\">5.480348677167797</desc></g><g class=\"dots\"><circle class=\"dot reactive tooltip-trigger\" cx=\"315.4046822742475\" cy=\"4.769230769230802\" r=\"2.5\"/><desc class=\"value\">15: 18.91111111</desc><desc class=\"x left\">315.4046822742475</desc><desc class=\"y left\">4.769230769230802</desc></g><g class=\"dots\"><circle class=\"dot reactive tooltip-trigger\" cx=\"335.80602006688963\" cy=\"79.91068970790644\" r=\"2.5\"/><desc class=\"value\">16: 15.38888889</desc><desc class=\"x left\">335.80602006688963</desc><desc class=\"y left\">79.91068970790644</desc></g><g class=\"dots\"><circle class=\"dot reactive tooltip-trigger\" cx=\"356.2073578595317\" cy=\"76.47361981954427\" r=\"2.5\"/><desc class=\"value\">17: 15.55</desc><desc class=\"x left\">356.2073578595317</desc><desc class=\"y left\">76.47361981954427</desc></g><g class=\"dots\"><circle class=\"dot reactive tooltip-trigger\" cx=\"376.6086956521739\" cy=\"104.08869857776432\" r=\"2.5\"/><desc class=\"value\">18: 14.25555556</desc><desc class=\"x left\">376.6086956521739</desc><desc class=\"y left\">104.08869857776432</desc></g><g class=\"dots\"><circle class=\"dot reactive tooltip-trigger\" cx=\"397.01003344481603\" cy=\"127.7926288423307\" r=\"2.5\"/><desc class=\"value\">19: 13.14444444</desc><desc class=\"x left top\">397.01003344481603</desc><desc class=\"y left top\">127.7926288423307</desc></g><g class=\"dots\"><circle class=\"dot reactive tooltip-trigger\" cx=\"417.4113712374581\" cy=\"161.8077687719835\" r=\"2.5\"/><desc class=\"value\">20: 11.55</desc><desc class=\"x left top\">417.4113712374581</desc><desc class=\"y left top\">161.8077687719835</desc></g><g class=\"dots\"><circle class=\"dot reactive tooltip-trigger\" cx=\"437.8127090301003\" cy=\"169.6300657592904\" r=\"2.5\"/><desc class=\"value\">21: 11.18333333</desc><desc class=\"x left top\">437.8127090301003</desc><desc class=\"y left top\">169.6300657592904</desc></g><g class=\"dots\"><circle class=\"dot reactive tooltip-trigger\" cx=\"458.21404682274243\" cy=\"192.3858388132742\" r=\"2.5\"/><desc class=\"value\">22: 10.11666667</desc><desc class=\"x left top\">458.21404682274243</desc><desc class=\"y left top\">192.3858388132742</desc></g><g class=\"dots\"><circle class=\"dot reactive tooltip-trigger\" cx=\"478.6153846153846\" cy=\"190.60804404343176\" r=\"2.5\"/><desc class=\"value\">23: 10.2</desc><desc class=\"x left top\">478.6153846153846</desc><desc class=\"y left top\">190.60804404343176</desc></g></g></g><g class=\"plot text-overlay\" transform=\"translate(132, 46)\"><g class=\"series serie-0 color-0\"/></g><g class=\"plot tooltip-overlay\" transform=\"translate(132, 46)\"><g class=\"tooltip\" style=\"opacity: 0\" transform=\"translate(0 0)\"><rect class=\"tooltip-box\" height=\"0\" rx=\"0\" ry=\"0\" width=\"0\"/><g class=\"text\"/></g></g><g class=\"legends\" transform=\"translate(10, 56)\"><g class=\"legend reactive activate-serie\" id=\"activate-serie-0\"><rect class=\"color-0 reactive\" height=\"12\" width=\"12\" x=\"0.0\" y=\"1.0\"/><text x=\"17.0\" y=\"11.2\">Day 1</text></g></g><g class=\"legends\" transform=\"translate(630, 56)\"/></g></svg>\n",
       "            </figure>\n",
       "        </body>\n",
       "    </head>\n",
       "</html>\n"
      ],
      "text/plain": [
       "<IPython.core.display.HTML object>"
      ]
     },
     "metadata": {},
     "output_type": "display_data"
    }
   ],
   "source": [
    "xy_temperature.add('Day 1', points)\n",
    "display_chart(xy_temperature)"
   ]
  },
  {
   "cell_type": "code",
   "execution_count": 28,
   "metadata": {},
   "outputs": [],
   "source": [
    "# find trends\n",
    "xy_weather_chart = pygal.XY(width=640, height=360, explicit_size=True, stroke=False)\n",
    "# show_legend=False"
   ]
  },
  {
   "cell_type": "code",
   "execution_count": 29,
   "metadata": {},
   "outputs": [],
   "source": [
    "xy_weather_chart.title = 'Humidity vs Temperature'\n",
    "xy_weather_chart.x_title = 'Temperature(C)'\n",
    "xy_weather_chart.y_title = 'Humidity'"
   ]
  },
  {
   "cell_type": "code",
   "execution_count": 30,
   "metadata": {},
   "outputs": [
    {
     "data": {
      "text/html": [
       "\n",
       "<!DOCTYPE html>\n",
       "<html>\n",
       "    <head>\n",
       "    <script type=\"text/javascript\"\n",
       "            src=\"http://kozea.github.com/pygal.js/javascripts/svg.jquery.js\">\n",
       "    </script>\n",
       "    <script type=\"text/javascript\"\n",
       "            src=\"https://kozea.github.io/pygal.js/2.0.x/pygal-tooltips.min.js\">\n",
       "    </script>\n",
       "    <head>\n",
       "        <body>\n",
       "            <figure>\n",
       "                <?xml version='1.0' encoding='utf-8'?>\n",
       "<svg xmlns:xlink=\"http://www.w3.org/1999/xlink\" xmlns=\"http://www.w3.org/2000/svg\" id=\"chart-873d58d6-dd90-485f-a2d0-d27be878bb99\" class=\"pygal-chart\" viewBox=\"0 0 640 360\" width=\"640\" height=\"360\"><!--Generated with pygal 2.4.0 (lxml) ©Kozea 2012-2016 on 2019-06-09--><!--http://pygal.org--><!--http://github.com/Kozea/pygal--><defs><style type=\"text/css\">#chart-873d58d6-dd90-485f-a2d0-d27be878bb99{-webkit-user-select:none;-webkit-font-smoothing:antialiased;font-family:Consolas,\"Liberation Mono\",Menlo,Courier,monospace}#chart-873d58d6-dd90-485f-a2d0-d27be878bb99 .title{font-family:Consolas,\"Liberation Mono\",Menlo,Courier,monospace;font-size:16px}#chart-873d58d6-dd90-485f-a2d0-d27be878bb99 .legends .legend text{font-family:Consolas,\"Liberation Mono\",Menlo,Courier,monospace;font-size:14px}#chart-873d58d6-dd90-485f-a2d0-d27be878bb99 .axis text{font-family:Consolas,\"Liberation Mono\",Menlo,Courier,monospace;font-size:10px}#chart-873d58d6-dd90-485f-a2d0-d27be878bb99 .axis text.major{font-family:Consolas,\"Liberation Mono\",Menlo,Courier,monospace;font-size:10px}#chart-873d58d6-dd90-485f-a2d0-d27be878bb99 .text-overlay text.value{font-family:Consolas,\"Liberation Mono\",Menlo,Courier,monospace;font-size:16px}#chart-873d58d6-dd90-485f-a2d0-d27be878bb99 .text-overlay text.label{font-family:Consolas,\"Liberation Mono\",Menlo,Courier,monospace;font-size:10px}#chart-873d58d6-dd90-485f-a2d0-d27be878bb99 .tooltip{font-family:Consolas,\"Liberation Mono\",Menlo,Courier,monospace;font-size:14px}#chart-873d58d6-dd90-485f-a2d0-d27be878bb99 text.no_data{font-family:Consolas,\"Liberation Mono\",Menlo,Courier,monospace;font-size:64px}\n",
       "#chart-873d58d6-dd90-485f-a2d0-d27be878bb99{background-color:rgba(249,249,249,1)}#chart-873d58d6-dd90-485f-a2d0-d27be878bb99 path,#chart-873d58d6-dd90-485f-a2d0-d27be878bb99 line,#chart-873d58d6-dd90-485f-a2d0-d27be878bb99 rect,#chart-873d58d6-dd90-485f-a2d0-d27be878bb99 circle{-webkit-transition:150ms;-moz-transition:150ms;transition:150ms}#chart-873d58d6-dd90-485f-a2d0-d27be878bb99 .graph &gt; .background{fill:rgba(249,249,249,1)}#chart-873d58d6-dd90-485f-a2d0-d27be878bb99 .plot &gt; .background{fill:rgba(255,255,255,1)}#chart-873d58d6-dd90-485f-a2d0-d27be878bb99 .graph{fill:rgba(0,0,0,.87)}#chart-873d58d6-dd90-485f-a2d0-d27be878bb99 text.no_data{fill:rgba(0,0,0,1)}#chart-873d58d6-dd90-485f-a2d0-d27be878bb99 .title{fill:rgba(0,0,0,1)}#chart-873d58d6-dd90-485f-a2d0-d27be878bb99 .legends .legend text{fill:rgba(0,0,0,.87)}#chart-873d58d6-dd90-485f-a2d0-d27be878bb99 .legends .legend:hover text{fill:rgba(0,0,0,1)}#chart-873d58d6-dd90-485f-a2d0-d27be878bb99 .axis .line{stroke:rgba(0,0,0,1)}#chart-873d58d6-dd90-485f-a2d0-d27be878bb99 .axis .guide.line{stroke:rgba(0,0,0,.54)}#chart-873d58d6-dd90-485f-a2d0-d27be878bb99 .axis .major.line{stroke:rgba(0,0,0,.87)}#chart-873d58d6-dd90-485f-a2d0-d27be878bb99 .axis text.major{fill:rgba(0,0,0,1)}#chart-873d58d6-dd90-485f-a2d0-d27be878bb99 .axis.y .guides:hover .guide.line,#chart-873d58d6-dd90-485f-a2d0-d27be878bb99 .line-graph .axis.x .guides:hover .guide.line,#chart-873d58d6-dd90-485f-a2d0-d27be878bb99 .stackedline-graph .axis.x .guides:hover .guide.line,#chart-873d58d6-dd90-485f-a2d0-d27be878bb99 .xy-graph .axis.x .guides:hover .guide.line{stroke:rgba(0,0,0,1)}#chart-873d58d6-dd90-485f-a2d0-d27be878bb99 .axis .guides:hover text{fill:rgba(0,0,0,1)}#chart-873d58d6-dd90-485f-a2d0-d27be878bb99 .reactive{fill-opacity:.7;stroke-opacity:.8}#chart-873d58d6-dd90-485f-a2d0-d27be878bb99 .ci{stroke:rgba(0,0,0,.87)}#chart-873d58d6-dd90-485f-a2d0-d27be878bb99 .reactive.active,#chart-873d58d6-dd90-485f-a2d0-d27be878bb99 .active .reactive{fill-opacity:.8;stroke-opacity:.9;stroke-width:4}#chart-873d58d6-dd90-485f-a2d0-d27be878bb99 .ci .reactive.active{stroke-width:1.5}#chart-873d58d6-dd90-485f-a2d0-d27be878bb99 .series text{fill:rgba(0,0,0,1)}#chart-873d58d6-dd90-485f-a2d0-d27be878bb99 .tooltip rect{fill:rgba(255,255,255,1);stroke:rgba(0,0,0,1);-webkit-transition:opacity 150ms;-moz-transition:opacity 150ms;transition:opacity 150ms}#chart-873d58d6-dd90-485f-a2d0-d27be878bb99 .tooltip .label{fill:rgba(0,0,0,.87)}#chart-873d58d6-dd90-485f-a2d0-d27be878bb99 .tooltip .label{fill:rgba(0,0,0,.87)}#chart-873d58d6-dd90-485f-a2d0-d27be878bb99 .tooltip .legend{font-size:.8em;fill:rgba(0,0,0,.54)}#chart-873d58d6-dd90-485f-a2d0-d27be878bb99 .tooltip .x_label{font-size:.6em;fill:rgba(0,0,0,1)}#chart-873d58d6-dd90-485f-a2d0-d27be878bb99 .tooltip .xlink{font-size:.5em;text-decoration:underline}#chart-873d58d6-dd90-485f-a2d0-d27be878bb99 .tooltip .value{font-size:1.5em}#chart-873d58d6-dd90-485f-a2d0-d27be878bb99 .bound{font-size:.5em}#chart-873d58d6-dd90-485f-a2d0-d27be878bb99 .max-value{font-size:.75em;fill:rgba(0,0,0,.54)}#chart-873d58d6-dd90-485f-a2d0-d27be878bb99 .map-element{fill:rgba(255,255,255,1);stroke:rgba(0,0,0,.54) !important}#chart-873d58d6-dd90-485f-a2d0-d27be878bb99 .map-element .reactive{fill-opacity:inherit;stroke-opacity:inherit}#chart-873d58d6-dd90-485f-a2d0-d27be878bb99 .color-0,#chart-873d58d6-dd90-485f-a2d0-d27be878bb99 .color-0 a:visited{stroke:#F44336;fill:#F44336}#chart-873d58d6-dd90-485f-a2d0-d27be878bb99 .text-overlay .color-0 text{fill:black}\n",
       "#chart-873d58d6-dd90-485f-a2d0-d27be878bb99 text.no_data{text-anchor:middle}#chart-873d58d6-dd90-485f-a2d0-d27be878bb99 .guide.line{fill:none}#chart-873d58d6-dd90-485f-a2d0-d27be878bb99 .centered{text-anchor:middle}#chart-873d58d6-dd90-485f-a2d0-d27be878bb99 .title{text-anchor:middle}#chart-873d58d6-dd90-485f-a2d0-d27be878bb99 .legends .legend text{fill-opacity:1}#chart-873d58d6-dd90-485f-a2d0-d27be878bb99 .axis.x text{text-anchor:middle}#chart-873d58d6-dd90-485f-a2d0-d27be878bb99 .axis.x:not(.web) text[transform]{text-anchor:start}#chart-873d58d6-dd90-485f-a2d0-d27be878bb99 .axis.x:not(.web) text[transform].backwards{text-anchor:end}#chart-873d58d6-dd90-485f-a2d0-d27be878bb99 .axis.y text{text-anchor:end}#chart-873d58d6-dd90-485f-a2d0-d27be878bb99 .axis.y text[transform].backwards{text-anchor:start}#chart-873d58d6-dd90-485f-a2d0-d27be878bb99 .axis.y2 text{text-anchor:start}#chart-873d58d6-dd90-485f-a2d0-d27be878bb99 .axis.y2 text[transform].backwards{text-anchor:end}#chart-873d58d6-dd90-485f-a2d0-d27be878bb99 .axis .guide.line{stroke-dasharray:4,4}#chart-873d58d6-dd90-485f-a2d0-d27be878bb99 .axis .major.guide.line{stroke-dasharray:6,6}#chart-873d58d6-dd90-485f-a2d0-d27be878bb99 .horizontal .axis.y .guide.line,#chart-873d58d6-dd90-485f-a2d0-d27be878bb99 .horizontal .axis.y2 .guide.line,#chart-873d58d6-dd90-485f-a2d0-d27be878bb99 .vertical .axis.x .guide.line{opacity:0}#chart-873d58d6-dd90-485f-a2d0-d27be878bb99 .horizontal .axis.always_show .guide.line,#chart-873d58d6-dd90-485f-a2d0-d27be878bb99 .vertical .axis.always_show .guide.line{opacity:1 !important}#chart-873d58d6-dd90-485f-a2d0-d27be878bb99 .axis.y .guides:hover .guide.line,#chart-873d58d6-dd90-485f-a2d0-d27be878bb99 .axis.y2 .guides:hover .guide.line,#chart-873d58d6-dd90-485f-a2d0-d27be878bb99 .axis.x .guides:hover .guide.line{opacity:1}#chart-873d58d6-dd90-485f-a2d0-d27be878bb99 .axis .guides:hover text{opacity:1}#chart-873d58d6-dd90-485f-a2d0-d27be878bb99 .nofill{fill:none}#chart-873d58d6-dd90-485f-a2d0-d27be878bb99 .subtle-fill{fill-opacity:.2}#chart-873d58d6-dd90-485f-a2d0-d27be878bb99 .dot{stroke-width:1px;fill-opacity:1}#chart-873d58d6-dd90-485f-a2d0-d27be878bb99 .dot.active{stroke-width:5px}#chart-873d58d6-dd90-485f-a2d0-d27be878bb99 .dot.negative{fill:transparent}#chart-873d58d6-dd90-485f-a2d0-d27be878bb99 text,#chart-873d58d6-dd90-485f-a2d0-d27be878bb99 tspan{stroke:none !important}#chart-873d58d6-dd90-485f-a2d0-d27be878bb99 .series text.active{opacity:1}#chart-873d58d6-dd90-485f-a2d0-d27be878bb99 .tooltip rect{fill-opacity:.95;stroke-width:.5}#chart-873d58d6-dd90-485f-a2d0-d27be878bb99 .tooltip text{fill-opacity:1}#chart-873d58d6-dd90-485f-a2d0-d27be878bb99 .showable{visibility:hidden}#chart-873d58d6-dd90-485f-a2d0-d27be878bb99 .showable.shown{visibility:visible}#chart-873d58d6-dd90-485f-a2d0-d27be878bb99 .gauge-background{fill:rgba(229,229,229,1);stroke:none}#chart-873d58d6-dd90-485f-a2d0-d27be878bb99 .bg-lines{stroke:rgba(249,249,249,1);stroke-width:2px}</style><script type=\"text/javascript\">window.pygal = window.pygal || {};window.pygal.config = window.pygal.config || {};window.pygal.config['873d58d6-dd90-485f-a2d0-d27be878bb99'] = {\"allow_interruptions\": false, \"box_mode\": \"extremes\", \"classes\": [\"pygal-chart\"], \"css\": [\"file://style.css\", \"file://graph.css\"], \"defs\": [], \"disable_xml_declaration\": false, \"dots_size\": 2.5, \"dynamic_print_values\": false, \"explicit_size\": true, \"fill\": false, \"force_uri_protocol\": \"https\", \"formatter\": null, \"half_pie\": false, \"height\": 360, \"include_x_axis\": false, \"inner_radius\": 0, \"interpolate\": null, \"interpolation_parameters\": {}, \"interpolation_precision\": 250, \"inverse_y_axis\": false, \"js\": [\"//kozea.github.io/pygal.js/2.0.x/pygal-tooltips.min.js\"], \"legend_at_bottom\": false, \"legend_at_bottom_columns\": null, \"legend_box_size\": 12, \"logarithmic\": false, \"margin\": 20, \"margin_bottom\": null, \"margin_left\": null, \"margin_right\": null, \"margin_top\": null, \"max_scale\": 16, \"min_scale\": 4, \"missing_value_fill_truncation\": \"x\", \"no_data_text\": \"No data\", \"no_prefix\": false, \"order_min\": null, \"pretty_print\": false, \"print_labels\": false, \"print_values\": false, \"print_values_position\": \"center\", \"print_zeroes\": true, \"range\": null, \"rounded_bars\": null, \"secondary_range\": null, \"show_dots\": true, \"show_legend\": true, \"show_minor_x_labels\": true, \"show_minor_y_labels\": true, \"show_only_major_dots\": false, \"show_x_guides\": false, \"show_x_labels\": true, \"show_y_guides\": true, \"show_y_labels\": true, \"spacing\": 10, \"stack_from_top\": false, \"strict\": false, \"stroke\": false, \"stroke_style\": null, \"style\": {\"background\": \"rgba(249, 249, 249, 1)\", \"ci_colors\": [], \"colors\": [\"#F44336\", \"#3F51B5\", \"#009688\", \"#FFC107\", \"#FF5722\", \"#9C27B0\", \"#03A9F4\", \"#8BC34A\", \"#FF9800\", \"#E91E63\", \"#2196F3\", \"#4CAF50\", \"#FFEB3B\", \"#673AB7\", \"#00BCD4\", \"#CDDC39\", \"#9E9E9E\", \"#607D8B\"], \"font_family\": \"Consolas, \\\"Liberation Mono\\\", Menlo, Courier, monospace\", \"foreground\": \"rgba(0, 0, 0, .87)\", \"foreground_strong\": \"rgba(0, 0, 0, 1)\", \"foreground_subtle\": \"rgba(0, 0, 0, .54)\", \"guide_stroke_dasharray\": \"4,4\", \"label_font_family\": \"Consolas, \\\"Liberation Mono\\\", Menlo, Courier, monospace\", \"label_font_size\": 10, \"legend_font_family\": \"Consolas, \\\"Liberation Mono\\\", Menlo, Courier, monospace\", \"legend_font_size\": 14, \"major_guide_stroke_dasharray\": \"6,6\", \"major_label_font_family\": \"Consolas, \\\"Liberation Mono\\\", Menlo, Courier, monospace\", \"major_label_font_size\": 10, \"no_data_font_family\": \"Consolas, \\\"Liberation Mono\\\", Menlo, Courier, monospace\", \"no_data_font_size\": 64, \"opacity\": \".7\", \"opacity_hover\": \".8\", \"plot_background\": \"rgba(255, 255, 255, 1)\", \"stroke_opacity\": \".8\", \"stroke_opacity_hover\": \".9\", \"title_font_family\": \"Consolas, \\\"Liberation Mono\\\", Menlo, Courier, monospace\", \"title_font_size\": 16, \"tooltip_font_family\": \"Consolas, \\\"Liberation Mono\\\", Menlo, Courier, monospace\", \"tooltip_font_size\": 14, \"transition\": \"150ms\", \"value_background\": \"rgba(229, 229, 229, 1)\", \"value_colors\": [], \"value_font_family\": \"Consolas, \\\"Liberation Mono\\\", Menlo, Courier, monospace\", \"value_font_size\": 16, \"value_label_font_family\": \"Consolas, \\\"Liberation Mono\\\", Menlo, Courier, monospace\", \"value_label_font_size\": 10}, \"title\": \"Humidity vs Temperature\", \"tooltip_border_radius\": 0, \"tooltip_fancy_mode\": true, \"truncate_label\": null, \"truncate_legend\": null, \"width\": 640, \"x_label_rotation\": 0, \"x_labels\": null, \"x_labels_major\": null, \"x_labels_major_count\": null, \"x_labels_major_every\": null, \"x_title\": \"Temperature(C)\", \"xrange\": null, \"y_label_rotation\": 0, \"y_labels\": null, \"y_labels_major\": null, \"y_labels_major_count\": null, \"y_labels_major_every\": null, \"y_title\": \"Humidity\", \"zero\": 0, \"legends\": [\"Days 1-10\"]}</script><script type=\"text/javascript\" xlink:href=\"https://kozea.github.io/pygal.js/2.0.x/pygal-tooltips.min.js\"/></defs><title>Humidity vs Temperature</title><g class=\"graph xy-graph vertical\"><rect class=\"background\" height=\"360\" width=\"640\" x=\"0\" y=\"0\"/><g class=\"plot\" transform=\"translate(165, 46)\"><rect class=\"background\" height=\"248\" width=\"454.4\" x=\"0\" y=\"0\"/><g class=\"axis y always_show\"><path class=\"line\" d=\"M0.000000 248.000000 h454.400000\"/><g class=\"guides\"><path class=\"guide line\" d=\"M0.000000 237.541826 h454.400000\"/><text class=\"\" x=\"-5\" y=\"241.0418259672733\">8</text><title>8</title></g><g class=\"guides\"><path class=\"guide line\" d=\"M0.000000 216.208289 h454.400000\"/><text class=\"\" x=\"-5\" y=\"219.70828872916348\">9</text><title>9</title></g><g class=\"guides\"><path class=\"major guide line\" d=\"M0.000000 194.874751 h454.400000\"/><text class=\"major\" x=\"-5\" y=\"198.3747514910537\">10</text><title>10</title></g><g class=\"guides\"><path class=\"guide line\" d=\"M0.000000 173.541214 h454.400000\"/><text class=\"\" x=\"-5\" y=\"177.04121425294392\">11</text><title>11</title></g><g class=\"guides\"><path class=\"guide line\" d=\"M0.000000 152.207677 h454.400000\"/><text class=\"\" x=\"-5\" y=\"155.70767701483413\">12</text><title>12</title></g><g class=\"guides\"><path class=\"guide line\" d=\"M0.000000 130.874140 h454.400000\"/><text class=\"\" x=\"-5\" y=\"134.37413977672432\">13</text><title>13</title></g><g class=\"guides\"><path class=\"guide line\" d=\"M0.000000 109.540603 h454.400000\"/><text class=\"\" x=\"-5\" y=\"113.04060253861454\">14</text><title>14</title></g><g class=\"guides\"><path class=\"major guide line\" d=\"M0.000000 88.207065 h454.400000\"/><text class=\"major\" x=\"-5\" y=\"91.70706530050472\">15</text><title>15</title></g><g class=\"guides\"><path class=\"guide line\" d=\"M0.000000 66.873528 h454.400000\"/><text class=\"\" x=\"-5\" y=\"70.37352806239491\">16</text><title>16</title></g><g class=\"guides\"><path class=\"guide line\" d=\"M0.000000 45.539991 h454.400000\"/><text class=\"\" x=\"-5\" y=\"49.03999082428513\">17</text><title>17</title></g><g class=\"guides\"><path class=\"guide line\" d=\"M0.000000 24.206454 h454.400000\"/><text class=\"\" x=\"-5\" y=\"27.706453586175343\">18</text><title>18</title></g></g><g class=\"axis x\"><g class=\"guides\"><path class=\"axis line\" d=\"M8.738462 0.000000 v248.000000\"/><text class=\"\" x=\"8.738461538461538\" y=\"263.0\">0</text><title>0</title></g><g class=\"guides\"><path class=\"guide line\" d=\"M46.731773 0.000000 v248.000000\"/><text class=\"\" x=\"46.73177257525083\" y=\"263.0\">2</text><title>2</title></g><g class=\"guides\"><path class=\"guide line\" d=\"M84.725084 0.000000 v248.000000\"/><text class=\"\" x=\"84.72508361204012\" y=\"263.0\">4</text><title>4</title></g><g class=\"guides\"><path class=\"guide line\" d=\"M122.718395 0.000000 v248.000000\"/><text class=\"\" x=\"122.71839464882942\" y=\"263.0\">6</text><title>6</title></g><g class=\"guides\"><path class=\"guide line\" d=\"M160.711706 0.000000 v248.000000\"/><text class=\"\" x=\"160.7117056856187\" y=\"263.0\">8</text><title>8</title></g><g class=\"guides\"><path class=\"guide line\" d=\"M198.705017 0.000000 v248.000000\"/><text class=\"\" x=\"198.70501672240803\" y=\"263.0\">10</text><title>10</title></g><g class=\"guides\"><path class=\"guide line\" d=\"M236.698328 0.000000 v248.000000\"/><text class=\"\" x=\"236.69832775919733\" y=\"263.0\">12</text><title>12</title></g><g class=\"guides\"><path class=\"guide line\" d=\"M274.691639 0.000000 v248.000000\"/><text class=\"\" x=\"274.6916387959866\" y=\"263.0\">14</text><title>14</title></g><g class=\"guides\"><path class=\"guide line\" d=\"M312.684950 0.000000 v248.000000\"/><text class=\"\" x=\"312.6849498327759\" y=\"263.0\">16</text><title>16</title></g><g class=\"guides\"><path class=\"guide line\" d=\"M350.678261 0.000000 v248.000000\"/><text class=\"\" x=\"350.6782608695652\" y=\"263.0\">18</text><title>18</title></g><g class=\"guides\"><path class=\"guide line\" d=\"M388.671572 0.000000 v248.000000\"/><text class=\"\" x=\"388.6715719063545\" y=\"263.0\">20</text><title>20</title></g><g class=\"guides\"><path class=\"guide line\" d=\"M426.664883 0.000000 v248.000000\"/><text class=\"\" x=\"426.6648829431438\" y=\"263.0\">22</text><title>22</title></g></g><g class=\"series serie-0 color-0\"/></g><g class=\"titles\"><text class=\"title plot_title\" x=\"320.0\" y=\"26\">Humidity vs Temperature</text><text class=\"title\" x=\"392.79999999999995\" y=\"340\">Temperature(C)</text><text class=\"title\" x=\"97.6\" y=\"196.0\" transform=\"rotate(-90 97.600000 170.000000)\">Humidity</text></g><g class=\"plot overlay\" transform=\"translate(165, 46)\"><g class=\"series serie-0 color-0\"><g class=\"dots\"><circle class=\"dot reactive tooltip-trigger\" cx=\"8.738461538461538\" cy=\"206.13411836672276\" r=\"2.5\"/><desc class=\"value\">0: 9.472222222</desc><desc class=\"x top\">8.738461538461538</desc><desc class=\"y top\">206.13411836672276</desc></g><g class=\"dots\"><circle class=\"dot reactive tooltip-trigger\" cx=\"27.735117056856183\" cy=\"208.6230310445022\" r=\"2.5\"/><desc class=\"value\">1: 9.355555556</desc><desc class=\"x top\">27.735117056856183</desc><desc class=\"y top\">208.6230310445022</desc></g><g class=\"dots\"><circle class=\"dot reactive tooltip-trigger\" cx=\"46.73177257525083\" cy=\"208.14895243921092\" r=\"2.5\"/><desc class=\"value\">2: 9.377777778</desc><desc class=\"x top\">46.73177257525083</desc><desc class=\"y top\">208.14895243921092</desc></g><g class=\"dots\"><circle class=\"dot reactive tooltip-trigger\" cx=\"65.72842809364548\" cy=\"231.378804098486\" r=\"2.5\"/><desc class=\"value\">3: 8.288888889</desc><desc class=\"x top\">65.72842809364548</desc><desc class=\"y top\">231.378804098486</desc></g><g class=\"dots\"><circle class=\"dot reactive tooltip-trigger\" cx=\"84.72508361204012\" cy=\"221.42315338736816\" r=\"2.5\"/><desc class=\"value\">4: 8.755555556</desc><desc class=\"x top\">84.72508361204012</desc><desc class=\"y top\">221.42315338736816</desc></g><g class=\"dots\"><circle class=\"dot reactive tooltip-trigger\" cx=\"103.72173913043477\" cy=\"211.46750267625023\" r=\"2.5\"/><desc class=\"value\">5: 9.222222222</desc><desc class=\"x top\">103.72173913043477</desc><desc class=\"y top\">211.46750267625023</desc></g><g class=\"dots\"><circle class=\"dot reactive tooltip-trigger\" cx=\"122.71839464882942\" cy=\"243.23076923076923\" r=\"2.5\"/><desc class=\"value\">6: 7.733333333</desc><desc class=\"x top\">122.71839464882942</desc><desc class=\"y top\">243.23076923076923</desc></g><g class=\"dots\"><circle class=\"dot reactive tooltip-trigger\" cx=\"141.71505016722406\" cy=\"221.06759443339965\" r=\"2.5\"/><desc class=\"value\">7: 8.772222222</desc><desc class=\"x top\">141.71505016722406</desc><desc class=\"y top\">221.06759443339965</desc></g><g class=\"dots\"><circle class=\"dot reactive tooltip-trigger\" cx=\"160.7117056856187\" cy=\"177.33384309527457\" r=\"2.5\"/><desc class=\"value\">8: 10.82222222</desc><desc class=\"x top\">160.7117056856187</desc><desc class=\"y top\">177.33384309527457</desc></g><g class=\"dots\"><circle class=\"dot reactive tooltip-trigger\" cx=\"179.70836120401336\" cy=\"114.39990824285067\" r=\"2.5\"/><desc class=\"value\">9: 13.77222222</desc><desc class=\"x \">179.70836120401336</desc><desc class=\"y \">114.39990824285067</desc></g><g class=\"dots\"><circle class=\"dot reactive tooltip-trigger\" cx=\"198.70501672240803\" cy=\"66.51796910842648\" r=\"2.5\"/><desc class=\"value\">10: 16.01666667</desc><desc class=\"x \">198.70501672240803</desc><desc class=\"y \">66.51796910842648</desc></g><g class=\"dots\"><circle class=\"dot reactive tooltip-trigger\" cx=\"217.70167224080265\" cy=\"42.458479889891464\" r=\"2.5\"/><desc class=\"value\">11: 17.14444444</desc><desc class=\"x \">217.70167224080265</desc><desc class=\"y \">42.458479889891464</desc></g><g class=\"dots\"><circle class=\"dot reactive tooltip-trigger\" cx=\"236.69832775919733\" cy=\"28.473161033797197\" r=\"2.5\"/><desc class=\"value\">12: 17.8</desc><desc class=\"x left\">236.69832775919733</desc><desc class=\"y left\">28.473161033797197</desc></g><g class=\"dots\"><circle class=\"dot reactive tooltip-trigger\" cx=\"255.69498327759197\" cy=\"38.42881174491524\" r=\"2.5\"/><desc class=\"value\">13: 17.33333333</desc><desc class=\"x left\">255.69498327759197</desc><desc class=\"y left\">38.42881174491524</desc></g><g class=\"dots\"><circle class=\"dot reactive tooltip-trigger\" cx=\"274.6916387959866\" cy=\"5.480348677167797\" r=\"2.5\"/><desc class=\"value\">14: 18.87777778</desc><desc class=\"x left\">274.6916387959866</desc><desc class=\"y left\">5.480348677167797</desc></g><g class=\"dots\"><circle class=\"dot reactive tooltip-trigger\" cx=\"293.68829431438127\" cy=\"4.769230769230802\" r=\"2.5\"/><desc class=\"value\">15: 18.91111111</desc><desc class=\"x left\">293.68829431438127</desc><desc class=\"y left\">4.769230769230802</desc></g><g class=\"dots\"><circle class=\"dot reactive tooltip-trigger\" cx=\"312.6849498327759\" cy=\"79.91068970790644\" r=\"2.5\"/><desc class=\"value\">16: 15.38888889</desc><desc class=\"x left\">312.6849498327759</desc><desc class=\"y left\">79.91068970790644</desc></g><g class=\"dots\"><circle class=\"dot reactive tooltip-trigger\" cx=\"331.6816053511705\" cy=\"76.47361981954427\" r=\"2.5\"/><desc class=\"value\">17: 15.55</desc><desc class=\"x left\">331.6816053511705</desc><desc class=\"y left\">76.47361981954427</desc></g><g class=\"dots\"><circle class=\"dot reactive tooltip-trigger\" cx=\"350.6782608695652\" cy=\"104.08869857776432\" r=\"2.5\"/><desc class=\"value\">18: 14.25555556</desc><desc class=\"x left\">350.6782608695652</desc><desc class=\"y left\">104.08869857776432</desc></g><g class=\"dots\"><circle class=\"dot reactive tooltip-trigger\" cx=\"369.67491638795985\" cy=\"127.7926288423307\" r=\"2.5\"/><desc class=\"value\">19: 13.14444444</desc><desc class=\"x left top\">369.67491638795985</desc><desc class=\"y left top\">127.7926288423307</desc></g><g class=\"dots\"><circle class=\"dot reactive tooltip-trigger\" cx=\"388.6715719063545\" cy=\"161.8077687719835\" r=\"2.5\"/><desc class=\"value\">20: 11.55</desc><desc class=\"x left top\">388.6715719063545</desc><desc class=\"y left top\">161.8077687719835</desc></g><g class=\"dots\"><circle class=\"dot reactive tooltip-trigger\" cx=\"407.6682274247491\" cy=\"169.6300657592904\" r=\"2.5\"/><desc class=\"value\">21: 11.18333333</desc><desc class=\"x left top\">407.6682274247491</desc><desc class=\"y left top\">169.6300657592904</desc></g><g class=\"dots\"><circle class=\"dot reactive tooltip-trigger\" cx=\"426.6648829431438\" cy=\"192.3858388132742\" r=\"2.5\"/><desc class=\"value\">22: 10.11666667</desc><desc class=\"x left top\">426.6648829431438</desc><desc class=\"y left top\">192.3858388132742</desc></g><g class=\"dots\"><circle class=\"dot reactive tooltip-trigger\" cx=\"445.66153846153844\" cy=\"190.60804404343176\" r=\"2.5\"/><desc class=\"value\">23: 10.2</desc><desc class=\"x left top\">445.66153846153844</desc><desc class=\"y left top\">190.60804404343176</desc></g></g></g><g class=\"plot text-overlay\" transform=\"translate(165, 46)\"><g class=\"series serie-0 color-0\"/></g><g class=\"plot tooltip-overlay\" transform=\"translate(165, 46)\"><g class=\"tooltip\" style=\"opacity: 0\" transform=\"translate(0 0)\"><rect class=\"tooltip-box\" height=\"0\" rx=\"0\" ry=\"0\" width=\"0\"/><g class=\"text\"/></g></g><g class=\"legends\" transform=\"translate(10, 56)\"><g class=\"legend reactive activate-serie\" id=\"activate-serie-0\"><rect class=\"color-0 reactive\" height=\"12\" width=\"12\" x=\"0.0\" y=\"1.0\"/><text x=\"17.0\" y=\"11.2\">Days 1-10</text></g></g><g class=\"legends\" transform=\"translate(630, 56)\"/></g></svg>\n",
       "            </figure>\n",
       "        </body>\n",
       "    </head>\n",
       "</html>\n"
      ],
      "text/plain": [
       "<IPython.core.display.HTML object>"
      ]
     },
     "metadata": {},
     "output_type": "display_data"
    }
   ],
   "source": [
    "xy_weather_chart.add('Days 1-10', points)\n",
    "display_chart(xy_weather_chart)"
   ]
  },
  {
   "cell_type": "code",
   "execution_count": 31,
   "metadata": {},
   "outputs": [],
   "source": [
    "xy_weather_chart.value_formatter = lambda y: '%.1f' % y"
   ]
  },
  {
   "cell_type": "code",
   "execution_count": 34,
   "metadata": {},
   "outputs": [],
   "source": [
    "xy_weather_chart.x_value_formatter = lambda x: '%.1f' % x"
   ]
  },
  {
   "cell_type": "code",
   "execution_count": 35,
   "metadata": {},
   "outputs": [
    {
     "data": {
      "text/html": [
       "\n",
       "<!DOCTYPE html>\n",
       "<html>\n",
       "    <head>\n",
       "    <script type=\"text/javascript\"\n",
       "            src=\"http://kozea.github.com/pygal.js/javascripts/svg.jquery.js\">\n",
       "    </script>\n",
       "    <script type=\"text/javascript\"\n",
       "            src=\"https://kozea.github.io/pygal.js/2.0.x/pygal-tooltips.min.js\">\n",
       "    </script>\n",
       "    <head>\n",
       "        <body>\n",
       "            <figure>\n",
       "                <?xml version='1.0' encoding='utf-8'?>\n",
       "<svg xmlns:xlink=\"http://www.w3.org/1999/xlink\" xmlns=\"http://www.w3.org/2000/svg\" id=\"chart-873d58d6-dd90-485f-a2d0-d27be878bb99\" class=\"pygal-chart\" viewBox=\"0 0 640 360\" width=\"640\" height=\"360\"><!--Generated with pygal 2.4.0 (lxml) ©Kozea 2012-2016 on 2019-06-09--><!--http://pygal.org--><!--http://github.com/Kozea/pygal--><defs><style type=\"text/css\">#chart-873d58d6-dd90-485f-a2d0-d27be878bb99{-webkit-user-select:none;-webkit-font-smoothing:antialiased;font-family:Consolas,\"Liberation Mono\",Menlo,Courier,monospace}#chart-873d58d6-dd90-485f-a2d0-d27be878bb99 .title{font-family:Consolas,\"Liberation Mono\",Menlo,Courier,monospace;font-size:16px}#chart-873d58d6-dd90-485f-a2d0-d27be878bb99 .legends .legend text{font-family:Consolas,\"Liberation Mono\",Menlo,Courier,monospace;font-size:14px}#chart-873d58d6-dd90-485f-a2d0-d27be878bb99 .axis text{font-family:Consolas,\"Liberation Mono\",Menlo,Courier,monospace;font-size:10px}#chart-873d58d6-dd90-485f-a2d0-d27be878bb99 .axis text.major{font-family:Consolas,\"Liberation Mono\",Menlo,Courier,monospace;font-size:10px}#chart-873d58d6-dd90-485f-a2d0-d27be878bb99 .text-overlay text.value{font-family:Consolas,\"Liberation Mono\",Menlo,Courier,monospace;font-size:16px}#chart-873d58d6-dd90-485f-a2d0-d27be878bb99 .text-overlay text.label{font-family:Consolas,\"Liberation Mono\",Menlo,Courier,monospace;font-size:10px}#chart-873d58d6-dd90-485f-a2d0-d27be878bb99 .tooltip{font-family:Consolas,\"Liberation Mono\",Menlo,Courier,monospace;font-size:14px}#chart-873d58d6-dd90-485f-a2d0-d27be878bb99 text.no_data{font-family:Consolas,\"Liberation Mono\",Menlo,Courier,monospace;font-size:64px}\n",
       "#chart-873d58d6-dd90-485f-a2d0-d27be878bb99{background-color:rgba(249,249,249,1)}#chart-873d58d6-dd90-485f-a2d0-d27be878bb99 path,#chart-873d58d6-dd90-485f-a2d0-d27be878bb99 line,#chart-873d58d6-dd90-485f-a2d0-d27be878bb99 rect,#chart-873d58d6-dd90-485f-a2d0-d27be878bb99 circle{-webkit-transition:150ms;-moz-transition:150ms;transition:150ms}#chart-873d58d6-dd90-485f-a2d0-d27be878bb99 .graph &gt; .background{fill:rgba(249,249,249,1)}#chart-873d58d6-dd90-485f-a2d0-d27be878bb99 .plot &gt; .background{fill:rgba(255,255,255,1)}#chart-873d58d6-dd90-485f-a2d0-d27be878bb99 .graph{fill:rgba(0,0,0,.87)}#chart-873d58d6-dd90-485f-a2d0-d27be878bb99 text.no_data{fill:rgba(0,0,0,1)}#chart-873d58d6-dd90-485f-a2d0-d27be878bb99 .title{fill:rgba(0,0,0,1)}#chart-873d58d6-dd90-485f-a2d0-d27be878bb99 .legends .legend text{fill:rgba(0,0,0,.87)}#chart-873d58d6-dd90-485f-a2d0-d27be878bb99 .legends .legend:hover text{fill:rgba(0,0,0,1)}#chart-873d58d6-dd90-485f-a2d0-d27be878bb99 .axis .line{stroke:rgba(0,0,0,1)}#chart-873d58d6-dd90-485f-a2d0-d27be878bb99 .axis .guide.line{stroke:rgba(0,0,0,.54)}#chart-873d58d6-dd90-485f-a2d0-d27be878bb99 .axis .major.line{stroke:rgba(0,0,0,.87)}#chart-873d58d6-dd90-485f-a2d0-d27be878bb99 .axis text.major{fill:rgba(0,0,0,1)}#chart-873d58d6-dd90-485f-a2d0-d27be878bb99 .axis.y .guides:hover .guide.line,#chart-873d58d6-dd90-485f-a2d0-d27be878bb99 .line-graph .axis.x .guides:hover .guide.line,#chart-873d58d6-dd90-485f-a2d0-d27be878bb99 .stackedline-graph .axis.x .guides:hover .guide.line,#chart-873d58d6-dd90-485f-a2d0-d27be878bb99 .xy-graph .axis.x .guides:hover .guide.line{stroke:rgba(0,0,0,1)}#chart-873d58d6-dd90-485f-a2d0-d27be878bb99 .axis .guides:hover text{fill:rgba(0,0,0,1)}#chart-873d58d6-dd90-485f-a2d0-d27be878bb99 .reactive{fill-opacity:.7;stroke-opacity:.8}#chart-873d58d6-dd90-485f-a2d0-d27be878bb99 .ci{stroke:rgba(0,0,0,.87)}#chart-873d58d6-dd90-485f-a2d0-d27be878bb99 .reactive.active,#chart-873d58d6-dd90-485f-a2d0-d27be878bb99 .active .reactive{fill-opacity:.8;stroke-opacity:.9;stroke-width:4}#chart-873d58d6-dd90-485f-a2d0-d27be878bb99 .ci .reactive.active{stroke-width:1.5}#chart-873d58d6-dd90-485f-a2d0-d27be878bb99 .series text{fill:rgba(0,0,0,1)}#chart-873d58d6-dd90-485f-a2d0-d27be878bb99 .tooltip rect{fill:rgba(255,255,255,1);stroke:rgba(0,0,0,1);-webkit-transition:opacity 150ms;-moz-transition:opacity 150ms;transition:opacity 150ms}#chart-873d58d6-dd90-485f-a2d0-d27be878bb99 .tooltip .label{fill:rgba(0,0,0,.87)}#chart-873d58d6-dd90-485f-a2d0-d27be878bb99 .tooltip .label{fill:rgba(0,0,0,.87)}#chart-873d58d6-dd90-485f-a2d0-d27be878bb99 .tooltip .legend{font-size:.8em;fill:rgba(0,0,0,.54)}#chart-873d58d6-dd90-485f-a2d0-d27be878bb99 .tooltip .x_label{font-size:.6em;fill:rgba(0,0,0,1)}#chart-873d58d6-dd90-485f-a2d0-d27be878bb99 .tooltip .xlink{font-size:.5em;text-decoration:underline}#chart-873d58d6-dd90-485f-a2d0-d27be878bb99 .tooltip .value{font-size:1.5em}#chart-873d58d6-dd90-485f-a2d0-d27be878bb99 .bound{font-size:.5em}#chart-873d58d6-dd90-485f-a2d0-d27be878bb99 .max-value{font-size:.75em;fill:rgba(0,0,0,.54)}#chart-873d58d6-dd90-485f-a2d0-d27be878bb99 .map-element{fill:rgba(255,255,255,1);stroke:rgba(0,0,0,.54) !important}#chart-873d58d6-dd90-485f-a2d0-d27be878bb99 .map-element .reactive{fill-opacity:inherit;stroke-opacity:inherit}#chart-873d58d6-dd90-485f-a2d0-d27be878bb99 .color-0,#chart-873d58d6-dd90-485f-a2d0-d27be878bb99 .color-0 a:visited{stroke:#F44336;fill:#F44336}#chart-873d58d6-dd90-485f-a2d0-d27be878bb99 .text-overlay .color-0 text{fill:black}\n",
       "#chart-873d58d6-dd90-485f-a2d0-d27be878bb99 text.no_data{text-anchor:middle}#chart-873d58d6-dd90-485f-a2d0-d27be878bb99 .guide.line{fill:none}#chart-873d58d6-dd90-485f-a2d0-d27be878bb99 .centered{text-anchor:middle}#chart-873d58d6-dd90-485f-a2d0-d27be878bb99 .title{text-anchor:middle}#chart-873d58d6-dd90-485f-a2d0-d27be878bb99 .legends .legend text{fill-opacity:1}#chart-873d58d6-dd90-485f-a2d0-d27be878bb99 .axis.x text{text-anchor:middle}#chart-873d58d6-dd90-485f-a2d0-d27be878bb99 .axis.x:not(.web) text[transform]{text-anchor:start}#chart-873d58d6-dd90-485f-a2d0-d27be878bb99 .axis.x:not(.web) text[transform].backwards{text-anchor:end}#chart-873d58d6-dd90-485f-a2d0-d27be878bb99 .axis.y text{text-anchor:end}#chart-873d58d6-dd90-485f-a2d0-d27be878bb99 .axis.y text[transform].backwards{text-anchor:start}#chart-873d58d6-dd90-485f-a2d0-d27be878bb99 .axis.y2 text{text-anchor:start}#chart-873d58d6-dd90-485f-a2d0-d27be878bb99 .axis.y2 text[transform].backwards{text-anchor:end}#chart-873d58d6-dd90-485f-a2d0-d27be878bb99 .axis .guide.line{stroke-dasharray:4,4}#chart-873d58d6-dd90-485f-a2d0-d27be878bb99 .axis .major.guide.line{stroke-dasharray:6,6}#chart-873d58d6-dd90-485f-a2d0-d27be878bb99 .horizontal .axis.y .guide.line,#chart-873d58d6-dd90-485f-a2d0-d27be878bb99 .horizontal .axis.y2 .guide.line,#chart-873d58d6-dd90-485f-a2d0-d27be878bb99 .vertical .axis.x .guide.line{opacity:0}#chart-873d58d6-dd90-485f-a2d0-d27be878bb99 .horizontal .axis.always_show .guide.line,#chart-873d58d6-dd90-485f-a2d0-d27be878bb99 .vertical .axis.always_show .guide.line{opacity:1 !important}#chart-873d58d6-dd90-485f-a2d0-d27be878bb99 .axis.y .guides:hover .guide.line,#chart-873d58d6-dd90-485f-a2d0-d27be878bb99 .axis.y2 .guides:hover .guide.line,#chart-873d58d6-dd90-485f-a2d0-d27be878bb99 .axis.x .guides:hover .guide.line{opacity:1}#chart-873d58d6-dd90-485f-a2d0-d27be878bb99 .axis .guides:hover text{opacity:1}#chart-873d58d6-dd90-485f-a2d0-d27be878bb99 .nofill{fill:none}#chart-873d58d6-dd90-485f-a2d0-d27be878bb99 .subtle-fill{fill-opacity:.2}#chart-873d58d6-dd90-485f-a2d0-d27be878bb99 .dot{stroke-width:1px;fill-opacity:1}#chart-873d58d6-dd90-485f-a2d0-d27be878bb99 .dot.active{stroke-width:5px}#chart-873d58d6-dd90-485f-a2d0-d27be878bb99 .dot.negative{fill:transparent}#chart-873d58d6-dd90-485f-a2d0-d27be878bb99 text,#chart-873d58d6-dd90-485f-a2d0-d27be878bb99 tspan{stroke:none !important}#chart-873d58d6-dd90-485f-a2d0-d27be878bb99 .series text.active{opacity:1}#chart-873d58d6-dd90-485f-a2d0-d27be878bb99 .tooltip rect{fill-opacity:.95;stroke-width:.5}#chart-873d58d6-dd90-485f-a2d0-d27be878bb99 .tooltip text{fill-opacity:1}#chart-873d58d6-dd90-485f-a2d0-d27be878bb99 .showable{visibility:hidden}#chart-873d58d6-dd90-485f-a2d0-d27be878bb99 .showable.shown{visibility:visible}#chart-873d58d6-dd90-485f-a2d0-d27be878bb99 .gauge-background{fill:rgba(229,229,229,1);stroke:none}#chart-873d58d6-dd90-485f-a2d0-d27be878bb99 .bg-lines{stroke:rgba(249,249,249,1);stroke-width:2px}</style><script type=\"text/javascript\">window.pygal = window.pygal || {};window.pygal.config = window.pygal.config || {};window.pygal.config['873d58d6-dd90-485f-a2d0-d27be878bb99'] = {\"allow_interruptions\": false, \"box_mode\": \"extremes\", \"classes\": [\"pygal-chart\"], \"css\": [\"file://style.css\", \"file://graph.css\"], \"defs\": [], \"disable_xml_declaration\": false, \"dots_size\": 2.5, \"dynamic_print_values\": false, \"explicit_size\": true, \"fill\": false, \"force_uri_protocol\": \"https\", \"formatter\": null, \"half_pie\": false, \"height\": 360, \"include_x_axis\": false, \"inner_radius\": 0, \"interpolate\": null, \"interpolation_parameters\": {}, \"interpolation_precision\": 250, \"inverse_y_axis\": false, \"js\": [\"//kozea.github.io/pygal.js/2.0.x/pygal-tooltips.min.js\"], \"legend_at_bottom\": false, \"legend_at_bottom_columns\": null, \"legend_box_size\": 12, \"logarithmic\": false, \"margin\": 20, \"margin_bottom\": null, \"margin_left\": null, \"margin_right\": null, \"margin_top\": null, \"max_scale\": 16, \"min_scale\": 4, \"missing_value_fill_truncation\": \"x\", \"no_data_text\": \"No data\", \"no_prefix\": false, \"order_min\": null, \"pretty_print\": false, \"print_labels\": false, \"print_values\": false, \"print_values_position\": \"center\", \"print_zeroes\": true, \"range\": null, \"rounded_bars\": null, \"secondary_range\": null, \"show_dots\": true, \"show_legend\": true, \"show_minor_x_labels\": true, \"show_minor_y_labels\": true, \"show_only_major_dots\": false, \"show_x_guides\": false, \"show_x_labels\": true, \"show_y_guides\": true, \"show_y_labels\": true, \"spacing\": 10, \"stack_from_top\": false, \"strict\": false, \"stroke\": false, \"stroke_style\": null, \"style\": {\"background\": \"rgba(249, 249, 249, 1)\", \"ci_colors\": [], \"colors\": [\"#F44336\", \"#3F51B5\", \"#009688\", \"#FFC107\", \"#FF5722\", \"#9C27B0\", \"#03A9F4\", \"#8BC34A\", \"#FF9800\", \"#E91E63\", \"#2196F3\", \"#4CAF50\", \"#FFEB3B\", \"#673AB7\", \"#00BCD4\", \"#CDDC39\", \"#9E9E9E\", \"#607D8B\"], \"font_family\": \"Consolas, \\\"Liberation Mono\\\", Menlo, Courier, monospace\", \"foreground\": \"rgba(0, 0, 0, .87)\", \"foreground_strong\": \"rgba(0, 0, 0, 1)\", \"foreground_subtle\": \"rgba(0, 0, 0, .54)\", \"guide_stroke_dasharray\": \"4,4\", \"label_font_family\": \"Consolas, \\\"Liberation Mono\\\", Menlo, Courier, monospace\", \"label_font_size\": 10, \"legend_font_family\": \"Consolas, \\\"Liberation Mono\\\", Menlo, Courier, monospace\", \"legend_font_size\": 14, \"major_guide_stroke_dasharray\": \"6,6\", \"major_label_font_family\": \"Consolas, \\\"Liberation Mono\\\", Menlo, Courier, monospace\", \"major_label_font_size\": 10, \"no_data_font_family\": \"Consolas, \\\"Liberation Mono\\\", Menlo, Courier, monospace\", \"no_data_font_size\": 64, \"opacity\": \".7\", \"opacity_hover\": \".8\", \"plot_background\": \"rgba(255, 255, 255, 1)\", \"stroke_opacity\": \".8\", \"stroke_opacity_hover\": \".9\", \"title_font_family\": \"Consolas, \\\"Liberation Mono\\\", Menlo, Courier, monospace\", \"title_font_size\": 16, \"tooltip_font_family\": \"Consolas, \\\"Liberation Mono\\\", Menlo, Courier, monospace\", \"tooltip_font_size\": 14, \"transition\": \"150ms\", \"value_background\": \"rgba(229, 229, 229, 1)\", \"value_colors\": [], \"value_font_family\": \"Consolas, \\\"Liberation Mono\\\", Menlo, Courier, monospace\", \"value_font_size\": 16, \"value_label_font_family\": \"Consolas, \\\"Liberation Mono\\\", Menlo, Courier, monospace\", \"value_label_font_size\": 10}, \"title\": \"Humidity vs Temperature\", \"tooltip_border_radius\": 0, \"tooltip_fancy_mode\": true, \"truncate_label\": null, \"truncate_legend\": null, \"width\": 640, \"x_label_rotation\": 0, \"x_labels\": null, \"x_labels_major\": null, \"x_labels_major_count\": null, \"x_labels_major_every\": null, \"x_title\": \"Temperature(C)\", \"xrange\": null, \"y_label_rotation\": 0, \"y_labels\": null, \"y_labels_major\": null, \"y_labels_major_count\": null, \"y_labels_major_every\": null, \"y_title\": \"Humidity\", \"zero\": 0, \"legends\": [\"Days 1-10\"]}</script><script type=\"text/javascript\" xlink:href=\"https://kozea.github.io/pygal.js/2.0.x/pygal-tooltips.min.js\"/></defs><title>Humidity vs Temperature</title><g class=\"graph xy-graph vertical\"><rect class=\"background\" height=\"360\" width=\"640\" x=\"0\" y=\"0\"/><g class=\"plot\" transform=\"translate(177, 46)\"><rect class=\"background\" height=\"248\" width=\"442.4\" x=\"0\" y=\"0\"/><g class=\"axis y always_show\"><path class=\"line\" d=\"M0.000000 248.000000 h442.400000\"/><g class=\"guides\"><path class=\"guide line\" d=\"M0.000000 237.541826 h442.400000\"/><text class=\"\" x=\"-5\" y=\"241.0418259672733\">8.0</text><title>8.0</title></g><g class=\"guides\"><path class=\"guide line\" d=\"M0.000000 216.208289 h442.400000\"/><text class=\"\" x=\"-5\" y=\"219.70828872916348\">9.0</text><title>9.0</title></g><g class=\"guides\"><path class=\"major guide line\" d=\"M0.000000 194.874751 h442.400000\"/><text class=\"major\" x=\"-5\" y=\"198.3747514910537\">10.0</text><title>10.0</title></g><g class=\"guides\"><path class=\"guide line\" d=\"M0.000000 173.541214 h442.400000\"/><text class=\"\" x=\"-5\" y=\"177.04121425294392\">11.0</text><title>11.0</title></g><g class=\"guides\"><path class=\"guide line\" d=\"M0.000000 152.207677 h442.400000\"/><text class=\"\" x=\"-5\" y=\"155.70767701483413\">12.0</text><title>12.0</title></g><g class=\"guides\"><path class=\"guide line\" d=\"M0.000000 130.874140 h442.400000\"/><text class=\"\" x=\"-5\" y=\"134.37413977672432\">13.0</text><title>13.0</title></g><g class=\"guides\"><path class=\"guide line\" d=\"M0.000000 109.540603 h442.400000\"/><text class=\"\" x=\"-5\" y=\"113.04060253861454\">14.0</text><title>14.0</title></g><g class=\"guides\"><path class=\"major guide line\" d=\"M0.000000 88.207065 h442.400000\"/><text class=\"major\" x=\"-5\" y=\"91.70706530050472\">15.0</text><title>15.0</title></g><g class=\"guides\"><path class=\"guide line\" d=\"M0.000000 66.873528 h442.400000\"/><text class=\"\" x=\"-5\" y=\"70.37352806239491\">16.0</text><title>16.0</title></g><g class=\"guides\"><path class=\"guide line\" d=\"M0.000000 45.539991 h442.400000\"/><text class=\"\" x=\"-5\" y=\"49.03999082428513\">17.0</text><title>17.0</title></g><g class=\"guides\"><path class=\"guide line\" d=\"M0.000000 24.206454 h442.400000\"/><text class=\"\" x=\"-5\" y=\"27.706453586175343\">18.0</text><title>18.0</title></g></g><g class=\"axis x\"><g class=\"guides\"><path class=\"line\" d=\"M8.507692 0.000000 v248.000000\"/><text class=\"\" x=\"8.507692307692306\" y=\"263.0\">0.0</text><title>0.0</title></g><g class=\"guides\"><path class=\"guide line\" d=\"M45.497659 0.000000 v248.000000\"/><text class=\"\" x=\"45.49765886287624\" y=\"263.0\">2.0</text><title>2.0</title></g><g class=\"guides\"><path class=\"guide line\" d=\"M82.487625 0.000000 v248.000000\"/><text class=\"\" x=\"82.48762541806019\" y=\"263.0\">4.0</text><title>4.0</title></g><g class=\"guides\"><path class=\"guide line\" d=\"M119.477592 0.000000 v248.000000\"/><text class=\"\" x=\"119.47759197324415\" y=\"263.0\">6.0</text><title>6.0</title></g><g class=\"guides\"><path class=\"guide line\" d=\"M156.467559 0.000000 v248.000000\"/><text class=\"\" x=\"156.4675585284281\" y=\"263.0\">8.0</text><title>8.0</title></g><g class=\"guides\"><path class=\"guide line\" d=\"M193.457525 0.000000 v248.000000\"/><text class=\"\" x=\"193.457525083612\" y=\"263.0\">10.0</text><title>10.0</title></g><g class=\"guides\"><path class=\"guide line\" d=\"M230.447492 0.000000 v248.000000\"/><text class=\"\" x=\"230.44749163879598\" y=\"263.0\">12.0</text><title>12.0</title></g><g class=\"guides\"><path class=\"guide line\" d=\"M267.437458 0.000000 v248.000000\"/><text class=\"\" x=\"267.4374581939799\" y=\"263.0\">14.0</text><title>14.0</title></g><g class=\"guides\"><path class=\"guide line\" d=\"M304.427425 0.000000 v248.000000\"/><text class=\"\" x=\"304.4274247491639\" y=\"263.0\">16.0</text><title>16.0</title></g><g class=\"guides\"><path class=\"guide line\" d=\"M341.417391 0.000000 v248.000000\"/><text class=\"\" x=\"341.4173913043478\" y=\"263.0\">18.0</text><title>18.0</title></g><g class=\"guides\"><path class=\"guide line\" d=\"M378.407358 0.000000 v248.000000\"/><text class=\"\" x=\"378.40735785953177\" y=\"263.0\">20.0</text><title>20.0</title></g><g class=\"guides\"><path class=\"guide line\" d=\"M415.397324 0.000000 v248.000000\"/><text class=\"\" x=\"415.3973244147157\" y=\"263.0\">22.0</text><title>22.0</title></g></g><g class=\"series serie-0 color-0\"/></g><g class=\"titles\"><text class=\"title plot_title\" x=\"320.0\" y=\"26\">Humidity vs Temperature</text><text class=\"title\" x=\"398.79999999999995\" y=\"340\">Temperature(C)</text><text class=\"title\" x=\"97.6\" y=\"196.0\" transform=\"rotate(-90 97.600000 170.000000)\">Humidity</text></g><g class=\"plot overlay\" transform=\"translate(177, 46)\"><g class=\"series serie-0 color-0\"><g class=\"dots\"><circle class=\"dot reactive tooltip-trigger\" cx=\"8.507692307692306\" cy=\"206.13411836672276\" r=\"2.5\"/><desc class=\"value\">0.0: 9.5</desc><desc class=\"x top\">8.507692307692306</desc><desc class=\"y top\">206.13411836672276</desc></g><g class=\"dots\"><circle class=\"dot reactive tooltip-trigger\" cx=\"27.00267558528428\" cy=\"208.6230310445022\" r=\"2.5\"/><desc class=\"value\">1.0: 9.4</desc><desc class=\"x top\">27.00267558528428</desc><desc class=\"y top\">208.6230310445022</desc></g><g class=\"dots\"><circle class=\"dot reactive tooltip-trigger\" cx=\"45.49765886287624\" cy=\"208.14895243921092\" r=\"2.5\"/><desc class=\"value\">2.0: 9.4</desc><desc class=\"x top\">45.49765886287624</desc><desc class=\"y top\">208.14895243921092</desc></g><g class=\"dots\"><circle class=\"dot reactive tooltip-trigger\" cx=\"63.99264214046822\" cy=\"231.378804098486\" r=\"2.5\"/><desc class=\"value\">3.0: 8.3</desc><desc class=\"x top\">63.99264214046822</desc><desc class=\"y top\">231.378804098486</desc></g><g class=\"dots\"><circle class=\"dot reactive tooltip-trigger\" cx=\"82.48762541806019\" cy=\"221.42315338736816\" r=\"2.5\"/><desc class=\"value\">4.0: 8.8</desc><desc class=\"x top\">82.48762541806019</desc><desc class=\"y top\">221.42315338736816</desc></g><g class=\"dots\"><circle class=\"dot reactive tooltip-trigger\" cx=\"100.98260869565216\" cy=\"211.46750267625023\" r=\"2.5\"/><desc class=\"value\">5.0: 9.2</desc><desc class=\"x top\">100.98260869565216</desc><desc class=\"y top\">211.46750267625023</desc></g><g class=\"dots\"><circle class=\"dot reactive tooltip-trigger\" cx=\"119.47759197324415\" cy=\"243.23076923076923\" r=\"2.5\"/><desc class=\"value\">6.0: 7.7</desc><desc class=\"x top\">119.47759197324415</desc><desc class=\"y top\">243.23076923076923</desc></g><g class=\"dots\"><circle class=\"dot reactive tooltip-trigger\" cx=\"137.9725752508361\" cy=\"221.06759443339965\" r=\"2.5\"/><desc class=\"value\">7.0: 8.8</desc><desc class=\"x top\">137.9725752508361</desc><desc class=\"y top\">221.06759443339965</desc></g><g class=\"dots\"><circle class=\"dot reactive tooltip-trigger\" cx=\"156.4675585284281\" cy=\"177.33384309527457\" r=\"2.5\"/><desc class=\"value\">8.0: 10.8</desc><desc class=\"x top\">156.4675585284281</desc><desc class=\"y top\">177.33384309527457</desc></g><g class=\"dots\"><circle class=\"dot reactive tooltip-trigger\" cx=\"174.96254180602006\" cy=\"114.39990824285067\" r=\"2.5\"/><desc class=\"value\">9.0: 13.8</desc><desc class=\"x \">174.96254180602006</desc><desc class=\"y \">114.39990824285067</desc></g><g class=\"dots\"><circle class=\"dot reactive tooltip-trigger\" cx=\"193.457525083612\" cy=\"66.51796910842648\" r=\"2.5\"/><desc class=\"value\">10.0: 16.0</desc><desc class=\"x \">193.457525083612</desc><desc class=\"y \">66.51796910842648</desc></g><g class=\"dots\"><circle class=\"dot reactive tooltip-trigger\" cx=\"211.95250836120402\" cy=\"42.458479889891464\" r=\"2.5\"/><desc class=\"value\">11.0: 17.1</desc><desc class=\"x \">211.95250836120402</desc><desc class=\"y \">42.458479889891464</desc></g><g class=\"dots\"><circle class=\"dot reactive tooltip-trigger\" cx=\"230.44749163879598\" cy=\"28.473161033797197\" r=\"2.5\"/><desc class=\"value\">12.0: 17.8</desc><desc class=\"x left\">230.44749163879598</desc><desc class=\"y left\">28.473161033797197</desc></g><g class=\"dots\"><circle class=\"dot reactive tooltip-trigger\" cx=\"248.94247491638794\" cy=\"38.42881174491524\" r=\"2.5\"/><desc class=\"value\">13.0: 17.3</desc><desc class=\"x left\">248.94247491638794</desc><desc class=\"y left\">38.42881174491524</desc></g><g class=\"dots\"><circle class=\"dot reactive tooltip-trigger\" cx=\"267.4374581939799\" cy=\"5.480348677167797\" r=\"2.5\"/><desc class=\"value\">14.0: 18.9</desc><desc class=\"x left\">267.4374581939799</desc><desc class=\"y left\">5.480348677167797</desc></g><g class=\"dots\"><circle class=\"dot reactive tooltip-trigger\" cx=\"285.9324414715719\" cy=\"4.769230769230802\" r=\"2.5\"/><desc class=\"value\">15.0: 18.9</desc><desc class=\"x left\">285.9324414715719</desc><desc class=\"y left\">4.769230769230802</desc></g><g class=\"dots\"><circle class=\"dot reactive tooltip-trigger\" cx=\"304.4274247491639\" cy=\"79.91068970790644\" r=\"2.5\"/><desc class=\"value\">16.0: 15.4</desc><desc class=\"x left\">304.4274247491639</desc><desc class=\"y left\">79.91068970790644</desc></g><g class=\"dots\"><circle class=\"dot reactive tooltip-trigger\" cx=\"322.9224080267558\" cy=\"76.47361981954427\" r=\"2.5\"/><desc class=\"value\">17.0: 15.6</desc><desc class=\"x left\">322.9224080267558</desc><desc class=\"y left\">76.47361981954427</desc></g><g class=\"dots\"><circle class=\"dot reactive tooltip-trigger\" cx=\"341.4173913043478\" cy=\"104.08869857776432\" r=\"2.5\"/><desc class=\"value\">18.0: 14.3</desc><desc class=\"x left\">341.4173913043478</desc><desc class=\"y left\">104.08869857776432</desc></g><g class=\"dots\"><circle class=\"dot reactive tooltip-trigger\" cx=\"359.91237458193973\" cy=\"127.7926288423307\" r=\"2.5\"/><desc class=\"value\">19.0: 13.1</desc><desc class=\"x left top\">359.91237458193973</desc><desc class=\"y left top\">127.7926288423307</desc></g><g class=\"dots\"><circle class=\"dot reactive tooltip-trigger\" cx=\"378.40735785953177\" cy=\"161.8077687719835\" r=\"2.5\"/><desc class=\"value\">20.0: 11.6</desc><desc class=\"x left top\">378.40735785953177</desc><desc class=\"y left top\">161.8077687719835</desc></g><g class=\"dots\"><circle class=\"dot reactive tooltip-trigger\" cx=\"396.90234113712376\" cy=\"169.6300657592904\" r=\"2.5\"/><desc class=\"value\">21.0: 11.2</desc><desc class=\"x left top\">396.90234113712376</desc><desc class=\"y left top\">169.6300657592904</desc></g><g class=\"dots\"><circle class=\"dot reactive tooltip-trigger\" cx=\"415.3973244147157\" cy=\"192.3858388132742\" r=\"2.5\"/><desc class=\"value\">22.0: 10.1</desc><desc class=\"x left top\">415.3973244147157</desc><desc class=\"y left top\">192.3858388132742</desc></g><g class=\"dots\"><circle class=\"dot reactive tooltip-trigger\" cx=\"433.89230769230767\" cy=\"190.60804404343176\" r=\"2.5\"/><desc class=\"value\">23.0: 10.2</desc><desc class=\"x left top\">433.89230769230767</desc><desc class=\"y left top\">190.60804404343176</desc></g></g></g><g class=\"plot text-overlay\" transform=\"translate(177, 46)\"><g class=\"series serie-0 color-0\"/></g><g class=\"plot tooltip-overlay\" transform=\"translate(177, 46)\"><g class=\"tooltip\" style=\"opacity: 0\" transform=\"translate(0 0)\"><rect class=\"tooltip-box\" height=\"0\" rx=\"0\" ry=\"0\" width=\"0\"/><g class=\"text\"/></g></g><g class=\"legends\" transform=\"translate(10, 56)\"><g class=\"legend reactive activate-serie\" id=\"activate-serie-0\"><rect class=\"color-0 reactive\" height=\"12\" width=\"12\" x=\"0.0\" y=\"1.0\"/><text x=\"17.0\" y=\"11.2\">Days 1-10</text></g></g><g class=\"legends\" transform=\"translate(630, 56)\"/></g></svg>\n",
       "            </figure>\n",
       "        </body>\n",
       "    </head>\n",
       "</html>\n"
      ],
      "text/plain": [
       "<IPython.core.display.HTML object>"
      ]
     },
     "metadata": {},
     "output_type": "display_data"
    }
   ],
   "source": [
    "display_chart(xy_weather_chart)"
   ]
  },
  {
   "cell_type": "code",
   "execution_count": null,
   "metadata": {},
   "outputs": [],
   "source": []
  }
 ],
 "metadata": {
  "kernelspec": {
   "display_name": "Python 3",
   "language": "python",
   "name": "python3"
  },
  "language_info": {
   "codemirror_mode": {
    "name": "ipython",
    "version": 3
   },
   "file_extension": ".py",
   "mimetype": "text/x-python",
   "name": "python",
   "nbconvert_exporter": "python",
   "pygments_lexer": "ipython3",
   "version": "3.7.1"
  }
 },
 "nbformat": 4,
 "nbformat_minor": 2
}
